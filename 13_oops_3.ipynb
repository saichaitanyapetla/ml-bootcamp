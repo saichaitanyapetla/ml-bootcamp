{
 "cells": [
  {
   "cell_type": "markdown",
   "id": "25eda35a-1736-4d1c-ac9a-4a7092ddca76",
   "metadata": {},
   "source": [
    "## encapsulation"
   ]
  },
  {
   "cell_type": "code",
   "execution_count": 2,
   "id": "2f4bf32e-6335-414f-bc4d-5bf78a17ca28",
   "metadata": {},
   "outputs": [],
   "source": [
    "## data wrapping or data binnding"
   ]
  },
  {
   "cell_type": "code",
   "execution_count": 3,
   "id": "c9e2b13b-8960-41fc-b363-941a756cfa34",
   "metadata": {},
   "outputs": [],
   "source": [
    "## in python we can make variables as private and protected using the following syntax"
   ]
  },
  {
   "cell_type": "code",
   "execution_count": 4,
   "id": "7a0b61ed-081a-4eac-9f49-b63013464e4a",
   "metadata": {},
   "outputs": [],
   "source": [
    "## private --> __varname\n",
    "## protected --> _varname"
   ]
  },
  {
   "cell_type": "code",
   "execution_count": 5,
   "id": "d35811e4-54bd-4c4f-9b40-af5642276a92",
   "metadata": {},
   "outputs": [],
   "source": [
    "## protected --> accessbile to derived classes and within the class\n",
    "## private --> accessbile within the class"
   ]
  },
  {
   "cell_type": "code",
   "execution_count": 6,
   "id": "88366f88-cd79-42a2-a246-28d407c5401e",
   "metadata": {},
   "outputs": [],
   "source": [
    "## the above two are access modifiers"
   ]
  },
  {
   "cell_type": "code",
   "execution_count": 7,
   "id": "da6e37e2-1141-4430-8b8f-b210a3f43ea2",
   "metadata": {},
   "outputs": [],
   "source": [
    "class emp:\n",
    "    def __init__(self):\n",
    "        self.name='chay'\n",
    "        self.age=27\n",
    "        print('obj created')"
   ]
  },
  {
   "cell_type": "code",
   "execution_count": 8,
   "id": "8da7f717-c07d-442e-8024-d68fda6915da",
   "metadata": {},
   "outputs": [
    {
     "name": "stdout",
     "output_type": "stream",
     "text": [
      "obj created\n"
     ]
    }
   ],
   "source": [
    "e=emp()"
   ]
  },
  {
   "cell_type": "code",
   "execution_count": 9,
   "id": "98532860-13a5-40c9-9c9a-2752e2d39499",
   "metadata": {},
   "outputs": [
    {
     "data": {
      "text/plain": [
       "'chay'"
      ]
     },
     "execution_count": 9,
     "metadata": {},
     "output_type": "execute_result"
    }
   ],
   "source": [
    "e.name"
   ]
  },
  {
   "cell_type": "code",
   "execution_count": 10,
   "id": "51872dc4-bf8b-493f-bcdc-1fafa24c0c75",
   "metadata": {},
   "outputs": [],
   "source": [
    "class emp:\n",
    "    def __init__(self):\n",
    "        self.__name='chay'\n",
    "        self.age=27\n",
    "        print('obj created')"
   ]
  },
  {
   "cell_type": "code",
   "execution_count": 11,
   "id": "caa7674b-284c-483a-aea2-4d9dab01532c",
   "metadata": {},
   "outputs": [
    {
     "name": "stdout",
     "output_type": "stream",
     "text": [
      "obj created\n"
     ]
    }
   ],
   "source": [
    "e1=emp()"
   ]
  },
  {
   "cell_type": "code",
   "execution_count": 12,
   "id": "17f1bc9e-2e79-4062-becd-cf7ff88c2d99",
   "metadata": {},
   "outputs": [
    {
     "ename": "AttributeError",
     "evalue": "'emp' object has no attribute 'name'",
     "output_type": "error",
     "traceback": [
      "\u001b[0;31m---------------------------------------------------------------------------\u001b[0m",
      "\u001b[0;31mAttributeError\u001b[0m                            Traceback (most recent call last)",
      "Cell \u001b[0;32mIn [12], line 1\u001b[0m\n\u001b[0;32m----> 1\u001b[0m \u001b[43me1\u001b[49m\u001b[38;5;241;43m.\u001b[39;49m\u001b[43mname\u001b[49m\n",
      "\u001b[0;31mAttributeError\u001b[0m: 'emp' object has no attribute 'name'"
     ]
    }
   ],
   "source": [
    "e1.name"
   ]
  },
  {
   "cell_type": "code",
   "execution_count": 20,
   "id": "946adda3-d67c-4ab1-81e3-1db8b3607d2e",
   "metadata": {},
   "outputs": [],
   "source": [
    "class emp:\n",
    "    def __init__(self):\n",
    "        self.__name='chay'\n",
    "        self.age=27\n",
    "        print('obj created')\n",
    "    def getattr(self):\n",
    "        return self.__name"
   ]
  },
  {
   "cell_type": "code",
   "execution_count": 14,
   "id": "87a84ae4-7fef-4ed8-ae12-97166aacd179",
   "metadata": {},
   "outputs": [
    {
     "data": {
      "text/plain": [
       "27"
      ]
     },
     "execution_count": 14,
     "metadata": {},
     "output_type": "execute_result"
    }
   ],
   "source": [
    "e1.age"
   ]
  },
  {
   "cell_type": "code",
   "execution_count": 15,
   "id": "9920ce04-2135-4d46-972f-d0b2d516fb38",
   "metadata": {},
   "outputs": [
    {
     "ename": "NameError",
     "evalue": "name 'el' is not defined",
     "output_type": "error",
     "traceback": [
      "\u001b[0;31m---------------------------------------------------------------------------\u001b[0m",
      "\u001b[0;31mNameError\u001b[0m                                 Traceback (most recent call last)",
      "Cell \u001b[0;32mIn [15], line 1\u001b[0m\n\u001b[0;32m----> 1\u001b[0m \u001b[43mel\u001b[49m\u001b[38;5;241m.\u001b[39mname\n",
      "\u001b[0;31mNameError\u001b[0m: name 'el' is not defined"
     ]
    }
   ],
   "source": [
    "el.name"
   ]
  },
  {
   "cell_type": "code",
   "execution_count": 16,
   "id": "3748db80-d8b6-4861-87cf-c300fd139ba9",
   "metadata": {},
   "outputs": [
    {
     "ename": "AttributeError",
     "evalue": "'emp' object has no attribute 'getattr'",
     "output_type": "error",
     "traceback": [
      "\u001b[0;31m---------------------------------------------------------------------------\u001b[0m",
      "\u001b[0;31mAttributeError\u001b[0m                            Traceback (most recent call last)",
      "Cell \u001b[0;32mIn [16], line 1\u001b[0m\n\u001b[0;32m----> 1\u001b[0m \u001b[43me1\u001b[49m\u001b[38;5;241;43m.\u001b[39;49m\u001b[43mgetattr\u001b[49m()\n",
      "\u001b[0;31mAttributeError\u001b[0m: 'emp' object has no attribute 'getattr'"
     ]
    }
   ],
   "source": [
    "e1.getattr()"
   ]
  },
  {
   "cell_type": "code",
   "execution_count": 18,
   "id": "1d4af361-0f5c-4115-b48f-d07ba7150f80",
   "metadata": {},
   "outputs": [
    {
     "name": "stdout",
     "output_type": "stream",
     "text": [
      "obj created\n"
     ]
    },
    {
     "data": {
      "text/plain": [
       "27"
      ]
     },
     "execution_count": 18,
     "metadata": {},
     "output_type": "execute_result"
    }
   ],
   "source": [
    "e2=emp()\n",
    "e2.age"
   ]
  },
  {
   "cell_type": "code",
   "execution_count": 19,
   "id": "0d947ea0-1c24-40d9-b340-a03e5fe679c2",
   "metadata": {},
   "outputs": [
    {
     "ename": "AttributeError",
     "evalue": "'emp' object has no attribute 'name'",
     "output_type": "error",
     "traceback": [
      "\u001b[0;31m---------------------------------------------------------------------------\u001b[0m",
      "\u001b[0;31mAttributeError\u001b[0m                            Traceback (most recent call last)",
      "Cell \u001b[0;32mIn [19], line 1\u001b[0m\n\u001b[0;32m----> 1\u001b[0m \u001b[43me2\u001b[49m\u001b[38;5;241;43m.\u001b[39;49m\u001b[43mgetattr\u001b[49m\u001b[43m(\u001b[49m\u001b[43m)\u001b[49m\n",
      "Cell \u001b[0;32mIn [17], line 7\u001b[0m, in \u001b[0;36memp.getattr\u001b[0;34m(self)\u001b[0m\n\u001b[1;32m      6\u001b[0m \u001b[38;5;28;01mdef\u001b[39;00m \u001b[38;5;21mgetattr\u001b[39m(\u001b[38;5;28mself\u001b[39m):\n\u001b[0;32m----> 7\u001b[0m     \u001b[38;5;28;01mreturn\u001b[39;00m \u001b[38;5;28;43mself\u001b[39;49m\u001b[38;5;241;43m.\u001b[39;49m\u001b[43mname\u001b[49m\n",
      "\u001b[0;31mAttributeError\u001b[0m: 'emp' object has no attribute 'name'"
     ]
    }
   ],
   "source": [
    "e2.getattr()"
   ]
  },
  {
   "cell_type": "code",
   "execution_count": 21,
   "id": "295a8d53-bb87-43e3-ad90-267611121418",
   "metadata": {},
   "outputs": [
    {
     "name": "stdout",
     "output_type": "stream",
     "text": [
      "obj created\n"
     ]
    },
    {
     "data": {
      "text/plain": [
       "'chay'"
      ]
     },
     "execution_count": 21,
     "metadata": {},
     "output_type": "execute_result"
    }
   ],
   "source": [
    "e3=emp()\n",
    "e3.getattr()"
   ]
  },
  {
   "cell_type": "markdown",
   "id": "d81ff4d0-dfcb-4949-a887-e931e0994df7",
   "metadata": {},
   "source": [
    "## Inheritance"
   ]
  },
  {
   "cell_type": "code",
   "execution_count": 1,
   "id": "9e5835ef-76c4-4891-9722-433cee5dc1d5",
   "metadata": {},
   "outputs": [],
   "source": [
    "## 1 - simple inheritance"
   ]
  },
  {
   "cell_type": "code",
   "execution_count": 2,
   "id": "ed5c5504-b7c1-471a-84d1-1bae53dfe25c",
   "metadata": {},
   "outputs": [],
   "source": [
    "class A:\n",
    "    pass\n",
    "class B(A):## syntax for inheritance\n",
    "    pass"
   ]
  },
  {
   "cell_type": "code",
   "execution_count": 3,
   "id": "7db66745-d2be-4ce3-9081-cea55802b0b6",
   "metadata": {},
   "outputs": [],
   "source": [
    "## 2 - mutli_level inheritance"
   ]
  },
  {
   "cell_type": "code",
   "execution_count": 4,
   "id": "8b54619e-cf29-4995-b22d-7caee2cf7e91",
   "metadata": {},
   "outputs": [],
   "source": [
    "class A:\n",
    "    pass\n",
    "class B(A):\n",
    "    pass\n",
    "class C(B):\n",
    "    pass"
   ]
  },
  {
   "cell_type": "code",
   "execution_count": 5,
   "id": "c15306ee-b474-4048-bbda-bd3a1375cabc",
   "metadata": {},
   "outputs": [],
   "source": [
    "## 3 - multiple inheritance"
   ]
  },
  {
   "cell_type": "code",
   "execution_count": 6,
   "id": "ca8c3ade-e813-45eb-9929-66ae2757554a",
   "metadata": {},
   "outputs": [],
   "source": [
    "\n",
    "class A:\n",
    "    pass\n",
    "class B:\n",
    "    pass\n",
    "class C(A,B):\n",
    "    pass"
   ]
  },
  {
   "cell_type": "code",
   "execution_count": 7,
   "id": "90ab6e13-0658-4d0e-9928-5fb2db55106d",
   "metadata": {},
   "outputs": [],
   "source": [
    "## 4 - hierarchial inheritance"
   ]
  },
  {
   "cell_type": "code",
   "execution_count": 8,
   "id": "59325aca-d924-4b3a-aca2-f8c1f40994d0",
   "metadata": {},
   "outputs": [],
   "source": [
    "class A:\n",
    "    pass\n",
    "class B(A):\n",
    "    pass\n",
    "class C(A):\n",
    "    pass"
   ]
  },
  {
   "cell_type": "code",
   "execution_count": 12,
   "id": "2699dc50-2682-4d6e-9927-987d0fae1569",
   "metadata": {},
   "outputs": [],
   "source": [
    "## 5 - hybrid inheritance (multiple+hierarchial)"
   ]
  },
  {
   "cell_type": "code",
   "execution_count": 11,
   "id": "2a3dc561-996e-42e5-996e-cb8a7c47ada9",
   "metadata": {},
   "outputs": [],
   "source": [
    "class A:\n",
    "    pass\n",
    "class B(A):\n",
    "    pass\n",
    "class C(A):\n",
    "    pass\n",
    "class D(B,C):\n",
    "    pass"
   ]
  },
  {
   "cell_type": "code",
   "execution_count": 13,
   "id": "86886d5b-5584-417d-813f-bdf4410c5faa",
   "metadata": {},
   "outputs": [],
   "source": [
    "## object class - parent of all classes"
   ]
  },
  {
   "cell_type": "code",
   "execution_count": 14,
   "id": "f840c456-4f94-4223-9217-720eb2f7c860",
   "metadata": {},
   "outputs": [],
   "source": [
    "a=object()"
   ]
  },
  {
   "cell_type": "code",
   "execution_count": 15,
   "id": "ab9e4bee-6ea5-4e56-ae25-9e1587ee569e",
   "metadata": {},
   "outputs": [
    {
     "data": {
      "text/plain": [
       "object"
      ]
     },
     "execution_count": 15,
     "metadata": {},
     "output_type": "execute_result"
    }
   ],
   "source": [
    "type(a)"
   ]
  },
  {
   "cell_type": "code",
   "execution_count": 33,
   "id": "2b4e924d-87b2-4a2b-a880-a7f5f43dd49e",
   "metadata": {},
   "outputs": [
    {
     "name": "stdout",
     "output_type": "stream",
     "text": [
      "<object object at 0x7f14b697fae0>\n"
     ]
    }
   ],
   "source": [
    "print(a)"
   ]
  },
  {
   "cell_type": "code",
   "execution_count": 17,
   "id": "e852134c-03e8-4657-947b-82024dd4db8c",
   "metadata": {},
   "outputs": [
    {
     "data": {
      "text/plain": [
       "<object at 0x7f14b697fae0>"
      ]
     },
     "execution_count": 17,
     "metadata": {},
     "output_type": "execute_result"
    }
   ],
   "source": [
    "a ## whenevr we run reference it calls __repr__()"
   ]
  },
  {
   "cell_type": "code",
   "execution_count": 24,
   "id": "1d7fdd77-c4cf-4c01-a336-290758fd531f",
   "metadata": {},
   "outputs": [],
   "source": [
    "class A:\n",
    "    def __repr__(self): ## this method has return type but not None\n",
    "        print('hey')"
   ]
  },
  {
   "cell_type": "code",
   "execution_count": 19,
   "id": "2a3e162c-f7fd-4685-a1ec-5dab65781c59",
   "metadata": {},
   "outputs": [],
   "source": [
    "obj=A()"
   ]
  },
  {
   "cell_type": "code",
   "execution_count": 20,
   "id": "8693513f-f252-4cb0-b0b4-79ee47387663",
   "metadata": {},
   "outputs": [
    {
     "name": "stdout",
     "output_type": "stream",
     "text": [
      "hey\n"
     ]
    },
    {
     "ename": "TypeError",
     "evalue": "__repr__ returned non-string (type NoneType)",
     "output_type": "error",
     "traceback": [
      "\u001b[0;31m---------------------------------------------------------------------------\u001b[0m",
      "\u001b[0;31mTypeError\u001b[0m                                 Traceback (most recent call last)",
      "File \u001b[0;32m/opt/conda/lib/python3.10/site-packages/IPython/core/formatters.py:707\u001b[0m, in \u001b[0;36mPlainTextFormatter.__call__\u001b[0;34m(self, obj)\u001b[0m\n\u001b[1;32m    700\u001b[0m stream \u001b[38;5;241m=\u001b[39m StringIO()\n\u001b[1;32m    701\u001b[0m printer \u001b[38;5;241m=\u001b[39m pretty\u001b[38;5;241m.\u001b[39mRepresentationPrinter(stream, \u001b[38;5;28mself\u001b[39m\u001b[38;5;241m.\u001b[39mverbose,\n\u001b[1;32m    702\u001b[0m     \u001b[38;5;28mself\u001b[39m\u001b[38;5;241m.\u001b[39mmax_width, \u001b[38;5;28mself\u001b[39m\u001b[38;5;241m.\u001b[39mnewline,\n\u001b[1;32m    703\u001b[0m     max_seq_length\u001b[38;5;241m=\u001b[39m\u001b[38;5;28mself\u001b[39m\u001b[38;5;241m.\u001b[39mmax_seq_length,\n\u001b[1;32m    704\u001b[0m     singleton_pprinters\u001b[38;5;241m=\u001b[39m\u001b[38;5;28mself\u001b[39m\u001b[38;5;241m.\u001b[39msingleton_printers,\n\u001b[1;32m    705\u001b[0m     type_pprinters\u001b[38;5;241m=\u001b[39m\u001b[38;5;28mself\u001b[39m\u001b[38;5;241m.\u001b[39mtype_printers,\n\u001b[1;32m    706\u001b[0m     deferred_pprinters\u001b[38;5;241m=\u001b[39m\u001b[38;5;28mself\u001b[39m\u001b[38;5;241m.\u001b[39mdeferred_printers)\n\u001b[0;32m--> 707\u001b[0m \u001b[43mprinter\u001b[49m\u001b[38;5;241;43m.\u001b[39;49m\u001b[43mpretty\u001b[49m\u001b[43m(\u001b[49m\u001b[43mobj\u001b[49m\u001b[43m)\u001b[49m\n\u001b[1;32m    708\u001b[0m printer\u001b[38;5;241m.\u001b[39mflush()\n\u001b[1;32m    709\u001b[0m \u001b[38;5;28;01mreturn\u001b[39;00m stream\u001b[38;5;241m.\u001b[39mgetvalue()\n",
      "File \u001b[0;32m/opt/conda/lib/python3.10/site-packages/IPython/lib/pretty.py:410\u001b[0m, in \u001b[0;36mRepresentationPrinter.pretty\u001b[0;34m(self, obj)\u001b[0m\n\u001b[1;32m    407\u001b[0m                         \u001b[38;5;28;01mreturn\u001b[39;00m meth(obj, \u001b[38;5;28mself\u001b[39m, cycle)\n\u001b[1;32m    408\u001b[0m                 \u001b[38;5;28;01mif\u001b[39;00m \u001b[38;5;28mcls\u001b[39m \u001b[38;5;129;01mis\u001b[39;00m \u001b[38;5;129;01mnot\u001b[39;00m \u001b[38;5;28mobject\u001b[39m \\\n\u001b[1;32m    409\u001b[0m                         \u001b[38;5;129;01mand\u001b[39;00m callable(\u001b[38;5;28mcls\u001b[39m\u001b[38;5;241m.\u001b[39m\u001b[38;5;18m__dict__\u001b[39m\u001b[38;5;241m.\u001b[39mget(\u001b[38;5;124m'\u001b[39m\u001b[38;5;124m__repr__\u001b[39m\u001b[38;5;124m'\u001b[39m)):\n\u001b[0;32m--> 410\u001b[0m                     \u001b[38;5;28;01mreturn\u001b[39;00m \u001b[43m_repr_pprint\u001b[49m\u001b[43m(\u001b[49m\u001b[43mobj\u001b[49m\u001b[43m,\u001b[49m\u001b[43m \u001b[49m\u001b[38;5;28;43mself\u001b[39;49m\u001b[43m,\u001b[49m\u001b[43m \u001b[49m\u001b[43mcycle\u001b[49m\u001b[43m)\u001b[49m\n\u001b[1;32m    412\u001b[0m     \u001b[38;5;28;01mreturn\u001b[39;00m _default_pprint(obj, \u001b[38;5;28mself\u001b[39m, cycle)\n\u001b[1;32m    413\u001b[0m \u001b[38;5;28;01mfinally\u001b[39;00m:\n",
      "File \u001b[0;32m/opt/conda/lib/python3.10/site-packages/IPython/lib/pretty.py:778\u001b[0m, in \u001b[0;36m_repr_pprint\u001b[0;34m(obj, p, cycle)\u001b[0m\n\u001b[1;32m    776\u001b[0m \u001b[38;5;124;03m\"\"\"A pprint that just redirects to the normal repr function.\"\"\"\u001b[39;00m\n\u001b[1;32m    777\u001b[0m \u001b[38;5;66;03m# Find newlines and replace them with p.break_()\u001b[39;00m\n\u001b[0;32m--> 778\u001b[0m output \u001b[38;5;241m=\u001b[39m \u001b[38;5;28;43mrepr\u001b[39;49m\u001b[43m(\u001b[49m\u001b[43mobj\u001b[49m\u001b[43m)\u001b[49m\n\u001b[1;32m    779\u001b[0m lines \u001b[38;5;241m=\u001b[39m output\u001b[38;5;241m.\u001b[39msplitlines()\n\u001b[1;32m    780\u001b[0m \u001b[38;5;28;01mwith\u001b[39;00m p\u001b[38;5;241m.\u001b[39mgroup():\n",
      "\u001b[0;31mTypeError\u001b[0m: __repr__ returned non-string (type NoneType)"
     ]
    }
   ],
   "source": [
    "obj"
   ]
  },
  {
   "cell_type": "code",
   "execution_count": 25,
   "id": "f7583291-7140-4942-9ad6-7f07aef0dea8",
   "metadata": {},
   "outputs": [],
   "source": [
    "class A:\n",
    "    def __repr__(self): ## method over_riding\n",
    "        return 'hyyy'"
   ]
  },
  {
   "cell_type": "code",
   "execution_count": 22,
   "id": "3cbc0e87-9b1f-4f94-b7c2-b0bcc7afb9ec",
   "metadata": {},
   "outputs": [],
   "source": [
    "obj1=A()"
   ]
  },
  {
   "cell_type": "code",
   "execution_count": 23,
   "id": "aff54d62-fc79-4e97-8031-ce1cf75ad83d",
   "metadata": {},
   "outputs": [
    {
     "data": {
      "text/plain": [
       "hyyy"
      ]
     },
     "execution_count": 23,
     "metadata": {},
     "output_type": "execute_result"
    }
   ],
   "source": [
    "obj1"
   ]
  },
  {
   "cell_type": "code",
   "execution_count": 26,
   "id": "37914271-c0ed-4882-a6b0-94a65696c62b",
   "metadata": {},
   "outputs": [
    {
     "name": "stdout",
     "output_type": "stream",
     "text": [
      "hyyy\n"
     ]
    }
   ],
   "source": [
    "print(obj1)"
   ]
  },
  {
   "cell_type": "code",
   "execution_count": 27,
   "id": "aeb3a876-72f8-4fac-9c8b-a3bebb766464",
   "metadata": {},
   "outputs": [],
   "source": [
    "class B:\n",
    "    def __str__(self):\n",
    "        return 'string'"
   ]
  },
  {
   "cell_type": "code",
   "execution_count": 28,
   "id": "c783a3d9-4d9e-4038-8778-0e1a2d0fa4c2",
   "metadata": {},
   "outputs": [],
   "source": [
    "b=B()"
   ]
  },
  {
   "cell_type": "code",
   "execution_count": 29,
   "id": "696cf292-56df-4585-843a-07997d8d00c8",
   "metadata": {},
   "outputs": [
    {
     "data": {
      "text/plain": [
       "<__main__.B at 0x7f14933ecee0>"
      ]
     },
     "execution_count": 29,
     "metadata": {},
     "output_type": "execute_result"
    }
   ],
   "source": [
    "b"
   ]
  },
  {
   "cell_type": "code",
   "execution_count": 30,
   "id": "37b20f21-24b9-477b-98f8-096f6c98445f",
   "metadata": {},
   "outputs": [
    {
     "name": "stdout",
     "output_type": "stream",
     "text": [
      "string\n"
     ]
    }
   ],
   "source": [
    "print(b)"
   ]
  },
  {
   "cell_type": "code",
   "execution_count": 32,
   "id": "8555a05c-a728-4b16-a984-6f41dc839924",
   "metadata": {},
   "outputs": [
    {
     "data": {
      "text/plain": [
       "['__class__',\n",
       " '__delattr__',\n",
       " '__dict__',\n",
       " '__dir__',\n",
       " '__doc__',\n",
       " '__eq__',\n",
       " '__format__',\n",
       " '__ge__',\n",
       " '__getattribute__',\n",
       " '__gt__',\n",
       " '__hash__',\n",
       " '__init__',\n",
       " '__init_subclass__',\n",
       " '__le__',\n",
       " '__lt__',\n",
       " '__module__',\n",
       " '__ne__',\n",
       " '__new__',\n",
       " '__reduce__',\n",
       " '__reduce_ex__',\n",
       " '__repr__',\n",
       " '__setattr__',\n",
       " '__sizeof__',\n",
       " '__str__',\n",
       " '__subclasshook__',\n",
       " '__weakref__']"
      ]
     },
     "execution_count": 32,
     "metadata": {},
     "output_type": "execute_result"
    }
   ],
   "source": [
    "dir(b) ## returns all properties and methods of the object"
   ]
  },
  {
   "cell_type": "code",
   "execution_count": 34,
   "id": "4f36486c-8cdd-41e4-9c89-c5573130b6af",
   "metadata": {},
   "outputs": [],
   "source": [
    "## inheritance --> code reusability"
   ]
  },
  {
   "cell_type": "markdown",
   "id": "3b0817b2-11e7-4760-b1dc-d721c0926958",
   "metadata": {},
   "source": [
    "## super()"
   ]
  },
  {
   "cell_type": "code",
   "execution_count": 67,
   "id": "894fd794-9d83-4495-9824-5f681ad3411d",
   "metadata": {},
   "outputs": [],
   "source": [
    "class person:\n",
    "    def __init__(self,name):\n",
    "       \n",
    "        print('person constructor is called')\n",
    "class employee(person):\n",
    "    def __init__(self,name,company):\n",
    "        self.company=company\n",
    "        print('employee constructor is called')\n",
    "class manager(employee):\n",
    "    def __init__(self,name,company,work):\n",
    "        self.work=work\n",
    "        print('manager constructor is called')"
   ]
  },
  {
   "cell_type": "code",
   "execution_count": 50,
   "id": "4b87fda8-259d-49bf-b43d-a515bf5af924",
   "metadata": {},
   "outputs": [
    {
     "name": "stdout",
     "output_type": "stream",
     "text": [
      "manager constructor is called\n"
     ]
    }
   ],
   "source": [
    "m=manager('chay','tcs','python')"
   ]
  },
  {
   "cell_type": "code",
   "execution_count": 66,
   "id": "f5bd279b-e702-4f38-a7e3-21a140353d18",
   "metadata": {},
   "outputs": [
    {
     "name": "stdout",
     "output_type": "stream",
     "text": [
      "person constructor is called\n"
     ]
    }
   ],
   "source": []
  },
  {
   "cell_type": "code",
   "execution_count": 51,
   "id": "088b8701-2624-4e15-841d-fdcf9ec805c0",
   "metadata": {
    "jupyter": {
     "source_hidden": true
    },
    "tags": []
   },
   "outputs": [
    {
     "ename": "AttributeError",
     "evalue": "'manager' object has no attribute 'name'",
     "output_type": "error",
     "traceback": [
      "\u001b[0;31m---------------------------------------------------------------------------\u001b[0m",
      "\u001b[0;31mAttributeError\u001b[0m                            Traceback (most recent call last)",
      "Cell \u001b[0;32mIn [51], line 1\u001b[0m\n\u001b[0;32m----> 1\u001b[0m \u001b[43mm\u001b[49m\u001b[38;5;241;43m.\u001b[39;49m\u001b[43mname\u001b[49m\n",
      "\u001b[0;31mAttributeError\u001b[0m: 'manager' object has no attribute 'name'"
     ]
    }
   ],
   "source": [
    "m.name"
   ]
  },
  {
   "cell_type": "code",
   "execution_count": 52,
   "id": "da6148e1-53bd-427f-ac51-683407c36274",
   "metadata": {},
   "outputs": [],
   "source": [
    "## in python parent constructors are not called automatically"
   ]
  },
  {
   "cell_type": "code",
   "execution_count": 53,
   "id": "077fb86d-a873-44ed-8d2f-a5f358514428",
   "metadata": {},
   "outputs": [],
   "source": [
    "## we need to call explicitly "
   ]
  },
  {
   "cell_type": "code",
   "execution_count": 54,
   "id": "b7a4f67e-4d21-4ac4-a961-4b83fe086abc",
   "metadata": {},
   "outputs": [],
   "source": [
    "## 1 -- using parent class\n",
    "## 2 -- using super method"
   ]
  },
  {
   "cell_type": "code",
   "execution_count": 56,
   "id": "f568fd1a-f71a-44be-b775-cd71e583469f",
   "metadata": {},
   "outputs": [],
   "source": [
    "class person:\n",
    "    def __init__(self,name):\n",
    "        self.name=name\n",
    "        print('person constructor is called')\n",
    "class employee(person):\n",
    "    def __init__(self,name,company):\n",
    "        person.__init__(self,name)\n",
    "        self.company=company\n",
    "        print('employee constructor is called')\n",
    "class manager(employee):\n",
    "    def __init__(self,name,company,work):\n",
    "        employee.__init__(self,name,company)\n",
    "        self.work=work\n",
    "        print('manager constructor is called')"
   ]
  },
  {
   "cell_type": "code",
   "execution_count": 58,
   "id": "d9359677-0844-4732-98be-502a1191425f",
   "metadata": {},
   "outputs": [
    {
     "name": "stdout",
     "output_type": "stream",
     "text": [
      "person constructor is called\n",
      "employee constructor is called\n",
      "manager constructor is called\n"
     ]
    }
   ],
   "source": [
    "m1=manager('sai','infosys','java')"
   ]
  },
  {
   "cell_type": "code",
   "execution_count": 59,
   "id": "9af82bdc-5e83-42f6-9c2b-052544360209",
   "metadata": {},
   "outputs": [],
   "source": [
    "## here 3 constructors are called using parent class reference"
   ]
  },
  {
   "cell_type": "code",
   "execution_count": 60,
   "id": "d1c0865e-f772-46d6-9626-46a8594d046d",
   "metadata": {},
   "outputs": [],
   "source": [
    "class person:\n",
    "    def __init__(self,name):\n",
    "        self.name=name\n",
    "        print('person constructor is called')\n",
    "class employee(person):\n",
    "    def __init__(self,name,company):\n",
    "        super().__init__(name)\n",
    "        self.company=company\n",
    "        print('employee constructor is called')\n",
    "class manager(employee):\n",
    "    def __init__(self,name,company,work):\n",
    "        super().__init__(name,company)\n",
    "        self.work=work\n",
    "        print('manager constructor is called')"
   ]
  },
  {
   "cell_type": "code",
   "execution_count": 61,
   "id": "3296339c-67c5-43f6-b9ba-9fc7322d9e04",
   "metadata": {},
   "outputs": [
    {
     "name": "stdout",
     "output_type": "stream",
     "text": [
      "person constructor is called\n",
      "employee constructor is called\n",
      "manager constructor is called\n"
     ]
    }
   ],
   "source": [
    "m2=manager('jag','cognizant','java')"
   ]
  },
  {
   "cell_type": "code",
   "execution_count": 62,
   "id": "580560fa-dbd2-4376-9bf8-4219465554cb",
   "metadata": {},
   "outputs": [
    {
     "data": {
      "text/plain": [
       "'cognizant'"
      ]
     },
     "execution_count": 62,
     "metadata": {},
     "output_type": "execute_result"
    }
   ],
   "source": [
    "m2.company"
   ]
  },
  {
   "cell_type": "code",
   "execution_count": null,
   "id": "b397401c-6e90-431d-9a7e-fed9ee850e96",
   "metadata": {},
   "outputs": [],
   "source": []
  },
  {
   "cell_type": "code",
   "execution_count": 63,
   "id": "f6e44bf8-da09-49a1-be90-4e9e54d9737e",
   "metadata": {},
   "outputs": [],
   "source": [
    "## here super() is used which doesnt take self arguement"
   ]
  },
  {
   "cell_type": "code",
   "execution_count": null,
   "id": "7f1ebc9b-72f9-47b8-bca4-5ac6efaac96f",
   "metadata": {},
   "outputs": [],
   "source": []
  }
 ],
 "metadata": {
  "kernelspec": {
   "display_name": "Python 3 (ipykernel)",
   "language": "python",
   "name": "python3"
  },
  "language_info": {
   "codemirror_mode": {
    "name": "ipython",
    "version": 3
   },
   "file_extension": ".py",
   "mimetype": "text/x-python",
   "name": "python",
   "nbconvert_exporter": "python",
   "pygments_lexer": "ipython3",
   "version": "3.10.6"
  }
 },
 "nbformat": 4,
 "nbformat_minor": 5
}
