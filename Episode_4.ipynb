{
 "cells": [
  {
   "cell_type": "markdown",
   "id": "4da34eac-863e-469d-aa86-71b9847e000e",
   "metadata": {},
   "source": [
    "## format specifier"
   ]
  },
  {
   "cell_type": "code",
   "execution_count": 1,
   "id": "d166c96a-3a1e-4105-a793-363a2d80fcc4",
   "metadata": {},
   "outputs": [],
   "source": [
    "name= \"chay\""
   ]
  },
  {
   "cell_type": "code",
   "execution_count": 2,
   "id": "ed50ef8c-8679-46c0-b27a-140ad4345549",
   "metadata": {},
   "outputs": [
    {
     "name": "stdout",
     "output_type": "stream",
     "text": [
      "my name is chay\n"
     ]
    }
   ],
   "source": [
    "print(\"my name is\",name) ## simple pythonic print"
   ]
  },
  {
   "cell_type": "code",
   "execution_count": 6,
   "id": "c6ce3f5b-f44b-4845-a6db-60f8a174995e",
   "metadata": {},
   "outputs": [
    {
     "name": "stdout",
     "output_type": "stream",
     "text": [
      "my name is chay\n"
     ]
    }
   ],
   "source": [
    "print(\"my name is %s\" %(name))"
   ]
  },
  {
   "cell_type": "code",
   "execution_count": 7,
   "id": "35c669e4-3f84-495c-9e44-c9dd500aca87",
   "metadata": {},
   "outputs": [],
   "source": [
    "a=10"
   ]
  },
  {
   "cell_type": "code",
   "execution_count": 8,
   "id": "296b2a1b-b5a0-4a7d-9a1a-f6508d325cba",
   "metadata": {},
   "outputs": [
    {
     "name": "stdout",
     "output_type": "stream",
     "text": [
      "my age is 10\n"
     ]
    }
   ],
   "source": [
    "print(\"my age is %d\"%a)"
   ]
  },
  {
   "cell_type": "code",
   "execution_count": 12,
   "id": "17481abe-30ab-4a3c-b815-c567da69e106",
   "metadata": {},
   "outputs": [
    {
     "name": "stdout",
     "output_type": "stream",
     "text": [
      "my name and age is chay , 10\n"
     ]
    }
   ],
   "source": [
    "print(\"my name and age is %s , %d\"%(name,a))"
   ]
  },
  {
   "cell_type": "markdown",
   "id": "c061ddf2-f2cd-453f-9cff-498c606748ff",
   "metadata": {},
   "source": [
    "## format function"
   ]
  },
  {
   "cell_type": "code",
   "execution_count": 13,
   "id": "b5b1377e-521d-4990-a6ec-ca7899e1a7d2",
   "metadata": {},
   "outputs": [
    {
     "name": "stdout",
     "output_type": "stream",
     "text": [
      "my name is chay\n"
     ]
    }
   ],
   "source": [
    "print(\"my name is {}\".format(name))"
   ]
  },
  {
   "cell_type": "code",
   "execution_count": 15,
   "id": "4a4ed4b3-6035-42bf-92a9-03a3c095503f",
   "metadata": {},
   "outputs": [
    {
     "name": "stdout",
     "output_type": "stream",
     "text": [
      "ma age is 10\n"
     ]
    }
   ],
   "source": [
    "print(\"ma age is {}\".format(a))"
   ]
  },
  {
   "cell_type": "code",
   "execution_count": 16,
   "id": "58ac9669-c497-415f-8748-2b948cad00ba",
   "metadata": {},
   "outputs": [
    {
     "name": "stdout",
     "output_type": "stream",
     "text": [
      "my name and age is chay , 10\n"
     ]
    }
   ],
   "source": [
    "print(\"my name and age is {} , {}\".format(name,a))"
   ]
  },
  {
   "cell_type": "code",
   "execution_count": 17,
   "id": "9562778a-6c86-4285-8c06-fdfe876405d9",
   "metadata": {},
   "outputs": [],
   "source": [
    "a,b,c=1,2,3"
   ]
  },
  {
   "cell_type": "code",
   "execution_count": 18,
   "id": "11a00ac0-36c6-4a31-a240-12c6ef4521fb",
   "metadata": {},
   "outputs": [
    {
     "data": {
      "text/plain": [
       "(1, 2, 3)"
      ]
     },
     "execution_count": 18,
     "metadata": {},
     "output_type": "execute_result"
    }
   ],
   "source": [
    "a,b,c"
   ]
  },
  {
   "cell_type": "code",
   "execution_count": 19,
   "id": "e10dbcb8-c752-438e-9ad5-bfb05fbff1ca",
   "metadata": {},
   "outputs": [
    {
     "name": "stdout",
     "output_type": "stream",
     "text": [
      "hi\n",
      "hi\n",
      "hi\n"
     ]
    }
   ],
   "source": [
    "print(\"hi\")\n",
    "print(\"hi\")\n",
    "print(\"hi\")"
   ]
  },
  {
   "cell_type": "markdown",
   "id": "9c146bb0-5075-4f42-bf20-4d6269b7c7f2",
   "metadata": {},
   "source": [
    "## conditional statements"
   ]
  },
  {
   "cell_type": "code",
   "execution_count": 21,
   "id": "fe5e4df0-62ea-46d2-b76f-ed67ddc8c903",
   "metadata": {},
   "outputs": [],
   "source": [
    "a=10"
   ]
  },
  {
   "cell_type": "code",
   "execution_count": 24,
   "id": "68e0e684-1e1e-4d7b-ab05-ef23ddddb013",
   "metadata": {},
   "outputs": [
    {
     "name": "stdout",
     "output_type": "stream",
     "text": [
      "15\n"
     ]
    }
   ],
   "source": [
    "if a<5:\n",
    "    print(a>5)\n",
    "elif a==5:\n",
    "    print(a)\n",
    "else:\n",
    "    print(a+5)\n",
    "\n",
    "        \n",
    "    "
   ]
  },
  {
   "cell_type": "code",
   "execution_count": 25,
   "id": "7e62ace7-8b12-4532-b983-81efe2af28c5",
   "metadata": {},
   "outputs": [],
   "source": [
    "## wap to  accept integer from user and check whether it is even or odd"
   ]
  },
  {
   "cell_type": "code",
   "execution_count": 32,
   "id": "0b13d549-018c-4033-88d5-4851b09f321b",
   "metadata": {},
   "outputs": [
    {
     "name": "stdin",
     "output_type": "stream",
     "text": [
      " 44\n"
     ]
    },
    {
     "name": "stdout",
     "output_type": "stream",
     "text": [
      "even\n"
     ]
    }
   ],
   "source": [
    "a=int(input())\n",
    "if a%2==0:\n",
    "    print(\"even\")\n",
    "else:\n",
    "    print(\"odd\")"
   ]
  },
  {
   "cell_type": "code",
   "execution_count": 33,
   "id": "8787eca1-59c0-4c1c-b141-e8cd3fd0540f",
   "metadata": {},
   "outputs": [],
   "source": [
    "## wap to accept character from user and check whether it is capital or small case alphabet"
   ]
  },
  {
   "cell_type": "code",
   "execution_count": null,
   "id": "4c126fc0-1f76-47ac-b6cb-e18e3c7564b0",
   "metadata": {},
   "outputs": [],
   "source": []
  },
  {
   "cell_type": "code",
   "execution_count": 39,
   "id": "36b63eff-7ac4-4fed-b7ff-4f32dacf5758",
   "metadata": {},
   "outputs": [
    {
     "name": "stdin",
     "output_type": "stream",
     "text": [
      "enter any alphabet R\n"
     ]
    },
    {
     "name": "stdout",
     "output_type": "stream",
     "text": [
      "upper case R\n"
     ]
    }
   ],
   "source": [
    "a=input(\"enter any alphabet\")\n",
    "if ord(a)>=65 and ord(a)<=90:\n",
    "    print(\"upper case\",a)\n",
    "else:\n",
    "    print(\"lower case\",a)\n"
   ]
  },
  {
   "cell_type": "code",
   "execution_count": 36,
   "id": "cb57c5f8-73c7-40d7-8b18-f4631bc1c766",
   "metadata": {},
   "outputs": [
    {
     "data": {
      "text/plain": [
       "'w'"
      ]
     },
     "execution_count": 36,
     "metadata": {},
     "output_type": "execute_result"
    }
   ],
   "source": [
    "a"
   ]
  },
  {
   "cell_type": "code",
   "execution_count": 41,
   "id": "c85d0e48-0fb9-417d-a5e5-b0f9e0aa32a8",
   "metadata": {},
   "outputs": [
    {
     "name": "stdin",
     "output_type": "stream",
     "text": [
      "enter any alphabet Y\n"
     ]
    },
    {
     "name": "stdout",
     "output_type": "stream",
     "text": [
      "upper case Y\n"
     ]
    }
   ],
   "source": [
    "a=input(\"enter any alphabet\")\n",
    "if \"A\"<=a<=\"Z\":\n",
    "    print(\"upper case\",a)\n",
    "else:\n",
    "    print(\"small case\",a)"
   ]
  },
  {
   "cell_type": "markdown",
   "id": "c6c9d727-df9f-4d5d-a5fd-fd7eb207345a",
   "metadata": {},
   "source": [
    "## indentation"
   ]
  },
  {
   "cell_type": "code",
   "execution_count": 43,
   "id": "73c27a7d-e01e-4fcb-a126-4294222edc12",
   "metadata": {},
   "outputs": [
    {
     "name": "stdout",
     "output_type": "stream",
     "text": [
      "hy\n",
      "hello\n",
      "ji\n"
     ]
    }
   ],
   "source": [
    "a,b=1,2\n",
    "if a<b:\n",
    "    print(\"hy\")\n",
    "    print(\"hello\")\n",
    "print(\"ji\")"
   ]
  },
  {
   "cell_type": "code",
   "execution_count": 45,
   "id": "893af02f-9cb9-4b02-b553-3bdae82b3ef3",
   "metadata": {},
   "outputs": [],
   "source": [
    "## wap to write greatest of 3 numbers without using logical and cascading relational operators"
   ]
  },
  {
   "cell_type": "code",
   "execution_count": 50,
   "id": "2ea4a813-5c37-484b-9fec-565258afb138",
   "metadata": {},
   "outputs": [
    {
     "name": "stdout",
     "output_type": "stream",
     "text": [
      "c is greatest 3678\n"
     ]
    }
   ],
   "source": [
    "a,b,c=100,20,3678\n",
    "if a>b:\n",
    "    if a>c:\n",
    "        print(\"a is greatest\",a)\n",
    "    else:\n",
    "        print(\"c is greatest\",c)\n",
    "else:\n",
    "    if b>c:\n",
    "        print(\"b is greatest\",b)\n",
    "    else:\n",
    "        print(\"c is greatest\",c)\n"
   ]
  },
  {
   "cell_type": "code",
   "execution_count": 122,
   "id": "c2efbcc2-c5f8-438b-a39e-fc90a0e14833",
   "metadata": {},
   "outputs": [],
   "source": [
    "def maxi(a,b,c):\n",
    "    if a>b:\n",
    "        if a>c:\n",
    "            return a\n",
    "        else:\n",
    "            return c\n",
    "    \n",
    "    else:\n",
    "        if b>c:\n",
    "            return b\n",
    "        else:\n",
    "            return c\n",
    "    "
   ]
  },
  {
   "cell_type": "code",
   "execution_count": 125,
   "id": "e6ce3a32-a692-4bdf-a4fa-d37e67b7431b",
   "metadata": {},
   "outputs": [
    {
     "data": {
      "text/plain": [
       "1276879"
      ]
     },
     "execution_count": 125,
     "metadata": {},
     "output_type": "execute_result"
    }
   ],
   "source": [
    "maxi(1276879,922,3780)"
   ]
  },
  {
   "cell_type": "markdown",
   "id": "50f8b3df-0f2e-449f-b8a2-2a83f361dc4d",
   "metadata": {},
   "source": [
    "## iterative statements"
   ]
  },
  {
   "cell_type": "code",
   "execution_count": 1,
   "id": "6f01e6e0-4677-4495-931e-f7acdf25b631",
   "metadata": {},
   "outputs": [],
   "source": [
    "## while loop"
   ]
  },
  {
   "cell_type": "code",
   "execution_count": 2,
   "id": "39f52dae-33d9-4214-9457-c42d3ba892f5",
   "metadata": {},
   "outputs": [],
   "source": [
    "## wap to print 10 natural numbers"
   ]
  },
  {
   "cell_type": "code",
   "execution_count": 3,
   "id": "d851ba90-4b1b-4b8b-84dc-c7ec6caf2238",
   "metadata": {},
   "outputs": [],
   "source": [
    " def naturalNO(a):\n",
    "        while(a>0):\n",
    "            print(a)\n",
    "            a=a-1\n",
    "        "
   ]
  },
  {
   "cell_type": "code",
   "execution_count": 4,
   "id": "c266152a-560a-44ef-ac39-bbb285defd6a",
   "metadata": {},
   "outputs": [
    {
     "name": "stdout",
     "output_type": "stream",
     "text": [
      "6\n",
      "5\n",
      "4\n",
      "3\n",
      "2\n",
      "1\n"
     ]
    }
   ],
   "source": [
    "naturalNO(6)"
   ]
  },
  {
   "cell_type": "code",
   "execution_count": 5,
   "id": "1ecd312b-0613-492d-a3ba-b24ecbdd6324",
   "metadata": {},
   "outputs": [
    {
     "name": "stdout",
     "output_type": "stream",
     "text": [
      "4\n",
      "3\n",
      "2\n",
      "1\n"
     ]
    }
   ],
   "source": [
    "naturalNO(4)"
   ]
  },
  {
   "cell_type": "code",
   "execution_count": 6,
   "id": "2095b4f4-6105-4a7f-8eba-7a060684be21",
   "metadata": {},
   "outputs": [],
   "source": [
    "## wap to take string from user and display vertically omitting vowels"
   ]
  },
  {
   "cell_type": "code",
   "execution_count": 22,
   "id": "60ab39df-172a-41e9-8723-e5ebf2b2483e",
   "metadata": {},
   "outputs": [],
   "source": [
    "def printvertically(a):\n",
    "    i=0\n",
    "    while i< len(a)  :\n",
    "        if a[i] not in \"aeiou\" :\n",
    "            print(a[i])\n",
    "        i=i+1"
   ]
  },
  {
   "cell_type": "code",
   "execution_count": 25,
   "id": "20c08c9d-681e-45d6-bf2e-ff98ce4f9ddf",
   "metadata": {},
   "outputs": [
    {
     "name": "stdin",
     "output_type": "stream",
     "text": [
      "enter any string chay petla\n"
     ]
    },
    {
     "name": "stdout",
     "output_type": "stream",
     "text": [
      "c\n",
      "h\n",
      "y\n",
      " \n",
      "p\n",
      "t\n",
      "l\n"
     ]
    }
   ],
   "source": [
    "a=input(\"enter any string\")\n",
    "printvertically(a)"
   ]
  },
  {
   "cell_type": "code",
   "execution_count": 2,
   "id": "77f82840-de00-42af-83b7-2b4744d003dd",
   "metadata": {},
   "outputs": [
    {
     "data": {
      "text/plain": [
       "False"
      ]
     },
     "execution_count": 2,
     "metadata": {},
     "output_type": "execute_result"
    }
   ],
   "source": [
    "bool(0b000)"
   ]
  },
  {
   "cell_type": "code",
   "execution_count": 3,
   "id": "97dfeb0f-e289-4723-ac7f-4446791e2cae",
   "metadata": {},
   "outputs": [
    {
     "name": "stdout",
     "output_type": "stream",
     "text": [
      "12 hy 34\n"
     ]
    }
   ],
   "source": [
    "a=12\n",
    "b=34\n",
    "print(a,\"hy\",b)"
   ]
  },
  {
   "cell_type": "code",
   "execution_count": null,
   "id": "bdb03016-e7b4-4729-a2fc-13e7236c89f7",
   "metadata": {},
   "outputs": [],
   "source": []
  }
 ],
 "metadata": {
  "kernelspec": {
   "display_name": "Python 3 (ipykernel)",
   "language": "python",
   "name": "python3"
  },
  "language_info": {
   "codemirror_mode": {
    "name": "ipython",
    "version": 3
   },
   "file_extension": ".py",
   "mimetype": "text/x-python",
   "name": "python",
   "nbconvert_exporter": "python",
   "pygments_lexer": "ipython3",
   "version": "3.10.6"
  }
 },
 "nbformat": 4,
 "nbformat_minor": 5
}
