{
 "cells": [
  {
   "cell_type": "markdown",
   "id": "290531fc-5acf-46fd-a220-147f2fd020bc",
   "metadata": {},
   "source": [
    "#data types"
   ]
  },
  {
   "cell_type": "code",
   "execution_count": 1,
   "id": "dd61c9bf-54bb-4549-8afb-04d173d45756",
   "metadata": {},
   "outputs": [
    {
     "data": {
      "text/plain": [
       "int"
      ]
     },
     "execution_count": 1,
     "metadata": {},
     "output_type": "execute_result"
    }
   ],
   "source": [
    "a=10\n",
    "type(a)"
   ]
  },
  {
   "cell_type": "code",
   "execution_count": 2,
   "id": "02bd4853-88d3-4fce-b109-81897684e291",
   "metadata": {},
   "outputs": [
    {
     "data": {
      "text/plain": [
       "float"
      ]
     },
     "execution_count": 2,
     "metadata": {},
     "output_type": "execute_result"
    }
   ],
   "source": [
    "b=10.5\n",
    "type(b)"
   ]
  },
  {
   "cell_type": "code",
   "execution_count": 3,
   "id": "e5e001ee-2a5c-4d23-83cb-bbe982c655f0",
   "metadata": {},
   "outputs": [
    {
     "data": {
      "text/plain": [
       "str"
      ]
     },
     "execution_count": 3,
     "metadata": {},
     "output_type": "execute_result"
    }
   ],
   "source": [
    "c=\"fdghfs\"\n",
    "type(c)"
   ]
  },
  {
   "cell_type": "code",
   "execution_count": 1,
   "id": "48404e25-0063-4285-9630-a47eade010c7",
   "metadata": {},
   "outputs": [
    {
     "data": {
      "text/plain": [
       "str"
      ]
     },
     "execution_count": 1,
     "metadata": {},
     "output_type": "execute_result"
    }
   ],
   "source": [
    "d=\"d\"\n",
    "type(d)"
   ]
  },
  {
   "cell_type": "markdown",
   "id": "58c5aa47-609a-4627-bc01-ec8d50aa9a7c",
   "metadata": {},
   "source": [
    "#no char dataType in phython"
   ]
  },
  {
   "cell_type": "code",
   "execution_count": 5,
   "id": "0ed86497-bc9d-4189-a1ea-574daf5ef93c",
   "metadata": {},
   "outputs": [
    {
     "data": {
      "text/plain": [
       "int"
      ]
     },
     "execution_count": 5,
     "metadata": {},
     "output_type": "execute_result"
    }
   ],
   "source": [
    "a=783456789\n",
    "type(a)"
   ]
  },
  {
   "cell_type": "code",
   "execution_count": 6,
   "id": "56a32597-988a-4ccd-b559-6c816134aa37",
   "metadata": {},
   "outputs": [
    {
     "data": {
      "text/plain": [
       "str"
      ]
     },
     "execution_count": 6,
     "metadata": {},
     "output_type": "execute_result"
    }
   ],
   "source": [
    "a=\"dfkjl\"\n",
    "type(a)"
   ]
  },
  {
   "cell_type": "markdown",
   "id": "be6f4e03-0731-460a-a1b9-f4511c4baae4",
   "metadata": {},
   "source": [
    "#dataTypes in python are dynamic"
   ]
  },
  {
   "cell_type": "code",
   "execution_count": 8,
   "id": "1727c4d6-8d33-4cbf-a0cf-d4af18776d33",
   "metadata": {},
   "outputs": [
    {
     "data": {
      "text/plain": [
       "28"
      ]
     },
     "execution_count": 8,
     "metadata": {},
     "output_type": "execute_result"
    }
   ],
   "source": [
    " a=8\n",
    "import sys\n",
    "sys.getsizeof(a)"
   ]
  },
  {
   "cell_type": "code",
   "execution_count": 9,
   "id": "d8b1b8e3-dab7-4e64-af6a-167024f07476",
   "metadata": {},
   "outputs": [
    {
     "data": {
      "text/plain": [
       "36"
      ]
     },
     "execution_count": 9,
     "metadata": {},
     "output_type": "execute_result"
    }
   ],
   "source": [
    "a=1324879087342145678\n",
    "sys.getsizeof(a)"
   ]
  },
  {
   "cell_type": "markdown",
   "id": "0e192a3e-9f56-4563-8588-2a1a7e58288a",
   "metadata": {},
   "source": [
    "#size of the variables are given dynamically"
   ]
  },
  {
   "cell_type": "code",
   "execution_count": 10,
   "id": "ebcf05e1-181d-4aa7-b97c-182600f833a8",
   "metadata": {},
   "outputs": [
    {
     "ename": "AttributeError",
     "evalue": "module 'sys' has no attribute 'getSizeOf'",
     "output_type": "error",
     "traceback": [
      "\u001b[0;31m---------------------------------------------------------------------------\u001b[0m",
      "\u001b[0;31mAttributeError\u001b[0m                            Traceback (most recent call last)",
      "Cell \u001b[0;32mIn [10], line 1\u001b[0m\n\u001b[0;32m----> 1\u001b[0m \u001b[43msys\u001b[49m\u001b[38;5;241;43m.\u001b[39;49m\u001b[43mgetSizeOf\u001b[49m(a)\n",
      "\u001b[0;31mAttributeError\u001b[0m: module 'sys' has no attribute 'getSizeOf'"
     ]
    }
   ],
   "source": [
    "sys.getSizeOf(a)"
   ]
  },
  {
   "cell_type": "code",
   "execution_count": 12,
   "id": "dd00d751-8df9-4a9e-9878-2fb831c52901",
   "metadata": {},
   "outputs": [
    {
     "data": {
      "text/plain": [
       "72"
      ]
     },
     "execution_count": 12,
     "metadata": {},
     "output_type": "execute_result"
    }
   ],
   "source": [
    "a=123456789012222222222222222222222222222222222222222222222222222222222222222222222222222222222222222222222222\n",
    "sys.getsizeof(a)"
   ]
  },
  {
   "cell_type": "markdown",
   "id": "7a675bc1-4a5b-4f43-8f5a-fbf1ec79a4a1",
   "metadata": {},
   "source": [
    "#datatypes are unbounded"
   ]
  },
  {
   "cell_type": "code",
   "execution_count": 13,
   "id": "ab64ef61-d12a-46ff-b78f-8e5e8bc44fe2",
   "metadata": {},
   "outputs": [
    {
     "data": {
      "text/plain": [
       "bool"
      ]
     },
     "execution_count": 13,
     "metadata": {},
     "output_type": "execute_result"
    }
   ],
   "source": [
    "a=True\n",
    "type(a)"
   ]
  },
  {
   "cell_type": "markdown",
   "id": "4061570a-67cf-4438-a402-b82b6ca5f48e",
   "metadata": {},
   "source": [
    "# True=1 and False=0\n"
   ]
  },
  {
   "cell_type": "code",
   "execution_count": 14,
   "id": "b4eb5683-87f8-443d-a370-2f107140953f",
   "metadata": {},
   "outputs": [
    {
     "data": {
      "text/plain": [
       "2"
      ]
     },
     "execution_count": 14,
     "metadata": {},
     "output_type": "execute_result"
    }
   ],
   "source": [
    "True+True"
   ]
  },
  {
   "cell_type": "code",
   "execution_count": 15,
   "id": "d1631d8c-e70d-4a03-8737-cafb857cd956",
   "metadata": {},
   "outputs": [
    {
     "data": {
      "text/plain": [
       "2"
      ]
     },
     "execution_count": 15,
     "metadata": {},
     "output_type": "execute_result"
    }
   ],
   "source": [
    "1+1"
   ]
  },
  {
   "cell_type": "code",
   "execution_count": 17,
   "id": "e9c724b6-9935-4f8a-864d-60c92dab63f4",
   "metadata": {},
   "outputs": [
    {
     "data": {
      "text/plain": [
       "bool"
      ]
     },
     "execution_count": 17,
     "metadata": {},
     "output_type": "execute_result"
    }
   ],
   "source": [
    "sys.getsizeof(a)\n",
    "type(a)"
   ]
  },
  {
   "cell_type": "code",
   "execution_count": 19,
   "id": "dd45da15-68aa-4af4-9880-c18cfc47dccb",
   "metadata": {},
   "outputs": [
    {
     "data": {
      "text/plain": [
       "28"
      ]
     },
     "execution_count": 19,
     "metadata": {},
     "output_type": "execute_result"
    }
   ],
   "source": [
    "a=True\n",
    "type(a)\n",
    "sys.getsizeof(a)"
   ]
  },
  {
   "cell_type": "code",
   "execution_count": 20,
   "id": "929962bc-21a9-4e13-9177-1199e76f3bc7",
   "metadata": {},
   "outputs": [
    {
     "data": {
      "text/plain": [
       "28"
      ]
     },
     "execution_count": 20,
     "metadata": {},
     "output_type": "execute_result"
    }
   ],
   "source": [
    "a=True\n",
    "type(a)\n",
    "sys.getsizeof(a)"
   ]
  },
  {
   "cell_type": "code",
   "execution_count": 21,
   "id": "3bc70a98-3ce9-407d-a821-dd1bf39abfaa",
   "metadata": {},
   "outputs": [],
   "source": [
    "a=False\n"
   ]
  },
  {
   "cell_type": "code",
   "execution_count": 22,
   "id": "78fb2531-17d6-4411-acc2-eda72d7a8008",
   "metadata": {},
   "outputs": [
    {
     "data": {
      "text/plain": [
       "bool"
      ]
     },
     "execution_count": 22,
     "metadata": {},
     "output_type": "execute_result"
    }
   ],
   "source": [
    "type(a)"
   ]
  },
  {
   "cell_type": "code",
   "execution_count": 23,
   "id": "dfbadf97-3e11-4029-bec2-8c47252b83e8",
   "metadata": {},
   "outputs": [
    {
     "data": {
      "text/plain": [
       "24"
      ]
     },
     "execution_count": 23,
     "metadata": {},
     "output_type": "execute_result"
    }
   ],
   "source": [
    "sys.getsizeof(a)"
   ]
  },
  {
   "cell_type": "code",
   "execution_count": 29,
   "id": "34e25a14-dd71-4c10-b6e1-c14c53ba2f47",
   "metadata": {},
   "outputs": [],
   "source": [
    "a=\"chayawetsdrygfkjl\""
   ]
  },
  {
   "cell_type": "code",
   "execution_count": 30,
   "id": "41c0b6e7-9d32-469d-a6b8-9e55de9a6380",
   "metadata": {},
   "outputs": [
    {
     "data": {
      "text/plain": [
       "'chayawetsdrygfkjl'"
      ]
     },
     "execution_count": 30,
     "metadata": {},
     "output_type": "execute_result"
    }
   ],
   "source": [
    "a"
   ]
  },
  {
   "cell_type": "code",
   "execution_count": 26,
   "id": "1da6e9a5-d162-40e4-987f-a203af5e30e3",
   "metadata": {},
   "outputs": [
    {
     "ename": "NameError",
     "evalue": "name 'tyep' is not defined",
     "output_type": "error",
     "traceback": [
      "\u001b[0;31m---------------------------------------------------------------------------\u001b[0m",
      "\u001b[0;31mNameError\u001b[0m                                 Traceback (most recent call last)",
      "Cell \u001b[0;32mIn [26], line 1\u001b[0m\n\u001b[0;32m----> 1\u001b[0m \u001b[43mtyep\u001b[49m(a)\n",
      "\u001b[0;31mNameError\u001b[0m: name 'tyep' is not defined"
     ]
    }
   ],
   "source": [
    "tyep(a)"
   ]
  },
  {
   "cell_type": "code",
   "execution_count": 27,
   "id": "64bf1a92-bb77-4599-b1fd-bfc89377c054",
   "metadata": {},
   "outputs": [
    {
     "data": {
      "text/plain": [
       "str"
      ]
     },
     "execution_count": 27,
     "metadata": {},
     "output_type": "execute_result"
    }
   ],
   "source": [
    "type(a)"
   ]
  },
  {
   "cell_type": "code",
   "execution_count": 31,
   "id": "42bc1848-5bff-4e20-acc0-bfb1690bf13f",
   "metadata": {},
   "outputs": [
    {
     "data": {
      "text/plain": [
       "66"
      ]
     },
     "execution_count": 31,
     "metadata": {},
     "output_type": "execute_result"
    }
   ],
   "source": [
    "sys.getsizeof(a)"
   ]
  },
  {
   "cell_type": "code",
   "execution_count": 33,
   "id": "a25e1da6-8d7a-41c3-af57-212b1d97356e",
   "metadata": {},
   "outputs": [
    {
     "data": {
      "text/plain": [
       "28"
      ]
     },
     "execution_count": 33,
     "metadata": {},
     "output_type": "execute_result"
    }
   ],
   "source": [
    "a=True\n",
    "sys.getsizeof(a)"
   ]
  },
  {
   "cell_type": "code",
   "execution_count": 44,
   "id": "b46d307b-f60b-4a9c-bbae-959b8a1d3b0d",
   "metadata": {},
   "outputs": [
    {
     "data": {
      "text/plain": [
       "' sai\\'s mob is \"redmi\" '"
      ]
     },
     "execution_count": 44,
     "metadata": {},
     "output_type": "execute_result"
    }
   ],
   "source": [
    "x= \" sai's mob is\" ' \"redmi\" '\n",
    "x"
   ]
  },
  {
   "cell_type": "code",
   "execution_count": 2,
   "id": "e07de9ac-7dcc-4633-a8d4-4900aa2fe04e",
   "metadata": {},
   "outputs": [],
   "source": [
    "x=\"\"\" let's learn \"python\" \"\"\""
   ]
  },
  {
   "cell_type": "code",
   "execution_count": 4,
   "id": "7dc23e17-fac3-4f9f-86da-5dfdd89be661",
   "metadata": {},
   "outputs": [
    {
     "name": "stdout",
     "output_type": "stream",
     "text": [
      " let's learn \"python\" \n"
     ]
    }
   ],
   "source": [
    "print(x)"
   ]
  },
  {
   "cell_type": "code",
   "execution_count": 5,
   "id": "77e87546-4b4a-4f70-bcb9-af2449490f70",
   "metadata": {},
   "outputs": [],
   "source": [
    "x='let\\'s learn \"python\" '"
   ]
  },
  {
   "cell_type": "code",
   "execution_count": 6,
   "id": "2ae5824d-6d88-480d-9705-f31916667cfc",
   "metadata": {},
   "outputs": [
    {
     "name": "stdout",
     "output_type": "stream",
     "text": [
      "let's learn \"python\" \n"
     ]
    }
   ],
   "source": [
    "print(x)"
   ]
  },
  {
   "cell_type": "code",
   "execution_count": 8,
   "id": "b7218888-a74f-45a5-ae9f-db9759bd262b",
   "metadata": {},
   "outputs": [],
   "source": [
    "x=\"let\\'s learn \\\"python\\\" \""
   ]
  },
  {
   "cell_type": "code",
   "execution_count": 9,
   "id": "aea1deca-9643-49a3-8b9e-3195d8c28830",
   "metadata": {},
   "outputs": [
    {
     "name": "stdout",
     "output_type": "stream",
     "text": [
      "let's learn \"python\" \n"
     ]
    }
   ],
   "source": [
    "print(x)"
   ]
  },
  {
   "cell_type": "markdown",
   "id": "93ad3e67-c9c1-486f-8446-2f427003ac2f",
   "metadata": {},
   "source": [
    "#type conversion"
   ]
  },
  {
   "cell_type": "code",
   "execution_count": 1,
   "id": "4de6d423-a0de-48a7-bdc4-4ff412139fa7",
   "metadata": {},
   "outputs": [
    {
     "name": "stdout",
     "output_type": "stream",
     "text": [
      "10.0\n"
     ]
    }
   ],
   "source": [
    "x=10\n",
    "y=float(x)\n",
    "print(y)"
   ]
  },
  {
   "cell_type": "code",
   "execution_count": 2,
   "id": "e0a035ea-f98a-47b5-9763-223897e29334",
   "metadata": {},
   "outputs": [
    {
     "name": "stdin",
     "output_type": "stream",
     "text": [
      " 10\n"
     ]
    },
    {
     "data": {
      "text/plain": [
       "'10'"
      ]
     },
     "execution_count": 2,
     "metadata": {},
     "output_type": "execute_result"
    }
   ],
   "source": [
    "a=input()"
   ]
  },
  {
   "cell_type": "code",
   "execution_count": 3,
   "id": "a9784c05-3aee-4749-942d-0fa28a75e20f",
   "metadata": {},
   "outputs": [
    {
     "name": "stdin",
     "output_type": "stream",
     "text": [
      " 20\n"
     ]
    }
   ],
   "source": [
    "b=input()"
   ]
  },
  {
   "cell_type": "code",
   "execution_count": 4,
   "id": "dfa3ba78-6176-4ecb-873d-b907834f68d3",
   "metadata": {},
   "outputs": [
    {
     "ename": "NameError",
     "evalue": "name 'a' is not defined",
     "output_type": "error",
     "traceback": [
      "\u001b[0;31m---------------------------------------------------------------------------\u001b[0m",
      "\u001b[0;31mNameError\u001b[0m                                 Traceback (most recent call last)",
      "Cell \u001b[0;32mIn [4], line 1\u001b[0m\n\u001b[0;32m----> 1\u001b[0m \u001b[43ma\u001b[49m\u001b[38;5;241m+\u001b[39mb\n",
      "\u001b[0;31mNameError\u001b[0m: name 'a' is not defined"
     ]
    }
   ],
   "source": [
    "a+b"
   ]
  },
  {
   "cell_type": "code",
   "execution_count": 5,
   "id": "487d63f8-b48f-49c5-8b6e-a58af2a4ca05",
   "metadata": {},
   "outputs": [
    {
     "name": "stdin",
     "output_type": "stream",
     "text": [
      " 10\n",
      " 10\n"
     ]
    },
    {
     "data": {
      "text/plain": [
       "'1010'"
      ]
     },
     "execution_count": 5,
     "metadata": {},
     "output_type": "execute_result"
    }
   ],
   "source": [
    "a=input()\n",
    "b=input()\n",
    "a+b"
   ]
  },
  {
   "cell_type": "code",
   "execution_count": 6,
   "id": "fb98d288-8c7f-4986-9cc5-6f302b7a2587",
   "metadata": {},
   "outputs": [
    {
     "name": "stdin",
     "output_type": "stream",
     "text": [
      " 45\n",
      " 67\n"
     ]
    },
    {
     "data": {
      "text/plain": [
       "112"
      ]
     },
     "execution_count": 6,
     "metadata": {},
     "output_type": "execute_result"
    }
   ],
   "source": [
    "a=input()\n",
    "b=input()\n",
    "int(a)+int(b)"
   ]
  },
  {
   "cell_type": "code",
   "execution_count": null,
   "id": "e292426e-e931-453e-9ebd-f1910282a0c6",
   "metadata": {},
   "outputs": [],
   "source": []
  }
 ],
 "metadata": {
  "kernelspec": {
   "display_name": "Python 3 (ipykernel)",
   "language": "python",
   "name": "python3"
  },
  "language_info": {
   "codemirror_mode": {
    "name": "ipython",
    "version": 3
   },
   "file_extension": ".py",
   "mimetype": "text/x-python",
   "name": "python",
   "nbconvert_exporter": "python",
   "pygments_lexer": "ipython3",
   "version": "3.10.6"
  }
 },
 "nbformat": 4,
 "nbformat_minor": 5
}
