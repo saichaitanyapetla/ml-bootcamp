{
 "cells": [
  {
   "cell_type": "code",
   "execution_count": 1,
   "id": "06d7f0f0-68af-47e6-b360-36bb1c2fa0f9",
   "metadata": {},
   "outputs": [],
   "source": [
    "## class and object"
   ]
  },
  {
   "cell_type": "code",
   "execution_count": 2,
   "id": "7f0b0526-d37d-49cf-973f-bf67a4be51f5",
   "metadata": {},
   "outputs": [],
   "source": [
    "## class - blueprint\n",
    "## object - structure"
   ]
  },
  {
   "cell_type": "code",
   "execution_count": 3,
   "id": "7019117b-7878-46a2-9629-cbb3bd7b2230",
   "metadata": {},
   "outputs": [],
   "source": [
    "## pop(procedure oriented) vs oops(object oriented)"
   ]
  },
  {
   "cell_type": "code",
   "execution_count": 4,
   "id": "bb63daed-3852-4c74-8c36-2fcb714ef962",
   "metadata": {},
   "outputs": [],
   "source": [
    "## syntax"
   ]
  },
  {
   "cell_type": "code",
   "execution_count": 9,
   "id": "671f11e6-9df8-403e-84d9-1e1e06ccdd27",
   "metadata": {},
   "outputs": [],
   "source": [
    "class student:\n",
    "    pass   ## class definition"
   ]
  },
  {
   "cell_type": "code",
   "execution_count": 8,
   "id": "79f9fc9f-1b6d-4878-9389-260f3b23416b",
   "metadata": {},
   "outputs": [],
   "source": [
    "chay=student() ## object creation"
   ]
  },
  {
   "cell_type": "code",
   "execution_count": 19,
   "id": "d33dd8ac-8fbe-443d-b347-ac812fe43c6c",
   "metadata": {},
   "outputs": [],
   "source": [
    "class student:\n",
    "    def __init__(self):  ## constructor\n",
    "        print('object created')\n",
    "    def test():\n",
    "        print('test case')\n",
    "    def demo(self):\n",
    "        print('demo case')"
   ]
  },
  {
   "cell_type": "code",
   "execution_count": 20,
   "id": "57f18efc-46bc-4ecf-a9a4-65d99eba35e5",
   "metadata": {},
   "outputs": [
    {
     "name": "stdout",
     "output_type": "stream",
     "text": [
      "object created\n"
     ]
    }
   ],
   "source": [
    "chay=student() ## constructor will be called upon object creation(special method)"
   ]
  },
  {
   "cell_type": "code",
   "execution_count": 21,
   "id": "bbc856d9-eefb-42f5-ab0e-956ce0b7c753",
   "metadata": {},
   "outputs": [
    {
     "ename": "TypeError",
     "evalue": "student.test() takes 0 positional arguments but 1 was given",
     "output_type": "error",
     "traceback": [
      "\u001b[0;31m---------------------------------------------------------------------------\u001b[0m",
      "\u001b[0;31mTypeError\u001b[0m                                 Traceback (most recent call last)",
      "Cell \u001b[0;32mIn [21], line 1\u001b[0m\n\u001b[0;32m----> 1\u001b[0m \u001b[43mchay\u001b[49m\u001b[38;5;241;43m.\u001b[39;49m\u001b[43mtest\u001b[49m\u001b[43m(\u001b[49m\u001b[43m)\u001b[49m\n",
      "\u001b[0;31mTypeError\u001b[0m: student.test() takes 0 positional arguments but 1 was given"
     ]
    }
   ],
   "source": [
    "chay.test()"
   ]
  },
  {
   "cell_type": "code",
   "execution_count": 22,
   "id": "4f069b40-4853-41df-baf8-d2888e8c597c",
   "metadata": {},
   "outputs": [
    {
     "name": "stdout",
     "output_type": "stream",
     "text": [
      "demo case\n"
     ]
    }
   ],
   "source": [
    "chay.demo()"
   ]
  },
  {
   "cell_type": "code",
   "execution_count": 23,
   "id": "49cbde81-dfbe-4787-a8bc-a3a3567762be",
   "metadata": {},
   "outputs": [],
   "source": [
    "## here self arguement takes the objectz address\n"
   ]
  },
  {
   "cell_type": "code",
   "execution_count": 24,
   "id": "2c7e3b74-afdc-4bfc-a42b-d1612f6d7c39",
   "metadata": {},
   "outputs": [],
   "source": [
    "class emp:\n",
    "    def __init__(self):\n",
    "        self.age=30\n",
    "        self.salary=50000\n",
    "        self.name='chay'"
   ]
  },
  {
   "cell_type": "code",
   "execution_count": 25,
   "id": "4cd893a9-40d1-4783-bf28-cff6d3ecb679",
   "metadata": {},
   "outputs": [],
   "source": [
    "a=emp()"
   ]
  },
  {
   "cell_type": "code",
   "execution_count": 26,
   "id": "10623d69-95ad-4fb4-9c1a-6abc226f8508",
   "metadata": {},
   "outputs": [
    {
     "data": {
      "text/plain": [
       "'chay'"
      ]
     },
     "execution_count": 26,
     "metadata": {},
     "output_type": "execute_result"
    }
   ],
   "source": [
    "a.name"
   ]
  },
  {
   "cell_type": "code",
   "execution_count": 27,
   "id": "dcdb6d00-412f-4080-9e0f-3f247993b780",
   "metadata": {},
   "outputs": [
    {
     "data": {
      "text/plain": [
       "30"
      ]
     },
     "execution_count": 27,
     "metadata": {},
     "output_type": "execute_result"
    }
   ],
   "source": [
    "a.age"
   ]
  },
  {
   "cell_type": "code",
   "execution_count": 28,
   "id": "c915e421-1936-42f4-8660-cdcef9376bd7",
   "metadata": {},
   "outputs": [],
   "source": [
    "class emp:\n",
    "    def __init__(self,age,salary,name):\n",
    "        self.age=age\n",
    "        self.salary=salary\n",
    "        self.name=name"
   ]
  },
  {
   "cell_type": "code",
   "execution_count": 29,
   "id": "a9a90746-3e0b-4d1e-b191-25b73110b705",
   "metadata": {},
   "outputs": [],
   "source": [
    "b=emp(22,65444,'chay')"
   ]
  },
  {
   "cell_type": "code",
   "execution_count": 30,
   "id": "6013a0d8-69ca-4f35-befc-ad76d9e04fa8",
   "metadata": {},
   "outputs": [
    {
     "data": {
      "text/plain": [
       "22"
      ]
     },
     "execution_count": 30,
     "metadata": {},
     "output_type": "execute_result"
    }
   ],
   "source": [
    "b.age"
   ]
  },
  {
   "cell_type": "code",
   "execution_count": 31,
   "id": "583f956c-eb82-425d-9fa5-68e2fc3d756f",
   "metadata": {},
   "outputs": [],
   "source": [
    "class emp:\n",
    "    def __init__(self,age,salary,name):\n",
    "        self.age=age\n",
    "        self.salary=salary\n",
    "        self.name=name\n",
    "    def test(self):\n",
    "        print(f'name is {self.name}')"
   ]
  },
  {
   "cell_type": "code",
   "execution_count": 33,
   "id": "0e78bd1e-a947-4c74-a033-60303d860f75",
   "metadata": {},
   "outputs": [],
   "source": [
    "a=emp(22,34566,'jhfdgf')"
   ]
  },
  {
   "cell_type": "code",
   "execution_count": 35,
   "id": "97f8f219-d5d5-4467-82b0-3212a7d4dfd2",
   "metadata": {},
   "outputs": [
    {
     "name": "stdout",
     "output_type": "stream",
     "text": [
      "name is jhgf\n"
     ]
    }
   ],
   "source": [
    "a.test()"
   ]
  },
  {
   "cell_type": "code",
   "execution_count": 40,
   "id": "e25f383f-7294-4bdb-b18e-10df2489e35f",
   "metadata": {},
   "outputs": [],
   "source": [
    "class emp:\n",
    "    def __init__(self,age,salary,name):\n",
    "        self.age=age\n",
    "        self.salary=salary\n",
    "        self.name=name\n",
    "    def test(s):\n",
    "        print(f'name is {s.name}')"
   ]
  },
  {
   "cell_type": "code",
   "execution_count": 41,
   "id": "c5ab337a-8742-44a2-b29a-6f73564c983e",
   "metadata": {},
   "outputs": [],
   "source": [
    "a=emp(22,34566,'jhfdgf')"
   ]
  },
  {
   "cell_type": "code",
   "execution_count": 38,
   "id": "a4875ced-3b13-4e55-b88e-6a78fede0059",
   "metadata": {},
   "outputs": [
    {
     "data": {
      "text/plain": [
       "22"
      ]
     },
     "execution_count": 38,
     "metadata": {},
     "output_type": "execute_result"
    }
   ],
   "source": [
    "    a.age\n",
    "    "
   ]
  },
  {
   "cell_type": "code",
   "execution_count": 42,
   "id": "69ba7ed9-c24e-4f87-8085-668ce3cb4e8d",
   "metadata": {},
   "outputs": [
    {
     "name": "stdout",
     "output_type": "stream",
     "text": [
      "name is jhfdgf\n"
     ]
    }
   ],
   "source": [
    "a.test()"
   ]
  },
  {
   "cell_type": "code",
   "execution_count": 46,
   "id": "030deba8-3068-405a-a9b5-69792f109b68",
   "metadata": {},
   "outputs": [],
   "source": [
    "class emp:\n",
    "    \n",
    "    def __init__(self):\n",
    "        self.age=age\n",
    "        self.salary=salary\n",
    "        self.name=name\n",
    "    def test(s):\n",
    "        print(f'name is {s.name}')"
   ]
  },
  {
   "cell_type": "code",
   "execution_count": 47,
   "id": "6626c05c-ecc8-4c88-8e29-8dd5b9adc1d4",
   "metadata": {},
   "outputs": [
    {
     "ename": "NameError",
     "evalue": "name 'age' is not defined",
     "output_type": "error",
     "traceback": [
      "\u001b[0;31m---------------------------------------------------------------------------\u001b[0m",
      "\u001b[0;31mNameError\u001b[0m                                 Traceback (most recent call last)",
      "Cell \u001b[0;32mIn [47], line 1\u001b[0m\n\u001b[0;32m----> 1\u001b[0m a\u001b[38;5;241m=\u001b[39m\u001b[43memp\u001b[49m\u001b[43m(\u001b[49m\u001b[43m)\u001b[49m\n",
      "Cell \u001b[0;32mIn [46], line 4\u001b[0m, in \u001b[0;36memp.__init__\u001b[0;34m(self)\u001b[0m\n\u001b[1;32m      3\u001b[0m \u001b[38;5;28;01mdef\u001b[39;00m \u001b[38;5;21m__init__\u001b[39m(\u001b[38;5;28mself\u001b[39m):\n\u001b[0;32m----> 4\u001b[0m     \u001b[38;5;28mself\u001b[39m\u001b[38;5;241m.\u001b[39mage\u001b[38;5;241m=\u001b[39m\u001b[43mage\u001b[49m\n\u001b[1;32m      5\u001b[0m     \u001b[38;5;28mself\u001b[39m\u001b[38;5;241m.\u001b[39msalary\u001b[38;5;241m=\u001b[39msalary\n\u001b[1;32m      6\u001b[0m     \u001b[38;5;28mself\u001b[39m\u001b[38;5;241m.\u001b[39mname\u001b[38;5;241m=\u001b[39mname\n",
      "\u001b[0;31mNameError\u001b[0m: name 'age' is not defined"
     ]
    }
   ],
   "source": [
    "a=emp()"
   ]
  },
  {
   "cell_type": "code",
   "execution_count": null,
   "id": "6a7a9db3-f6a5-4703-8e83-d6c9c2f23b65",
   "metadata": {},
   "outputs": [],
   "source": []
  }
 ],
 "metadata": {
  "kernelspec": {
   "display_name": "Python 3 (ipykernel)",
   "language": "python",
   "name": "python3"
  },
  "language_info": {
   "codemirror_mode": {
    "name": "ipython",
    "version": 3
   },
   "file_extension": ".py",
   "mimetype": "text/x-python",
   "name": "python",
   "nbconvert_exporter": "python",
   "pygments_lexer": "ipython3",
   "version": "3.10.6"
  }
 },
 "nbformat": 4,
 "nbformat_minor": 5
}
