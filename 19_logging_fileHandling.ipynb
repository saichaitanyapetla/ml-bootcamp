{
 "cells": [
  {
   "cell_type": "markdown",
   "id": "d332b801-269a-4a1c-ad83-35d390f64adb",
   "metadata": {},
   "source": [
    "## logging"
   ]
  },
  {
   "cell_type": "code",
   "execution_count": 1,
   "id": "aacc4494-adbe-4f93-a87c-a138f6332fba",
   "metadata": {},
   "outputs": [],
   "source": [
    "## helps to preserve info\n",
    "## info - 5 categories"
   ]
  },
  {
   "cell_type": "code",
   "execution_count": 2,
   "id": "906d9ed6-148c-4c73-87eb-422db1a79c13",
   "metadata": {},
   "outputs": [],
   "source": [
    "##  1 --> debug   (10)\n",
    "##  2 --> info    (20)\n",
    "##  3 --> warning (30)\n",
    "##  4 --> error   (40)\n",
    "##  5 --> critical(50)"
   ]
  },
  {
   "cell_type": "code",
   "execution_count": 3,
   "id": "9a2cf809-87c8-4855-b746-d0e068e89595",
   "metadata": {},
   "outputs": [],
   "source": [
    "## need to import logging module"
   ]
  },
  {
   "cell_type": "code",
   "execution_count": 4,
   "id": "9f25be8e-200f-4909-9337-3b6b1b97fcfc",
   "metadata": {},
   "outputs": [],
   "source": [
    "import logging"
   ]
  },
  {
   "cell_type": "code",
   "execution_count": 49,
   "id": "16784b7d-e263-4f7f-b5df-e34f51c0bfbb",
   "metadata": {},
   "outputs": [],
   "source": [
    "logging.debug('debug')\n",
    "logging.info('info')\n",
    "logging.warning('warning')\n",
    "logging.error('error')\n",
    "logging.critical('critical')"
   ]
  },
  {
   "cell_type": "code",
   "execution_count": 47,
   "id": "285ba169-b8d6-4bec-ad21-7ee0b6dd3782",
   "metadata": {},
   "outputs": [],
   "source": [
    "## prints only from warning as default logging level is set to warning"
   ]
  },
  {
   "cell_type": "code",
   "execution_count": 48,
   "id": "fda3e5f4-77b9-41c9-b383-65479cbbba29",
   "metadata": {},
   "outputs": [],
   "source": [
    "## here logs are getting on console by default"
   ]
  },
  {
   "cell_type": "code",
   "execution_count": 8,
   "id": "7efe516c-2a9c-494f-b227-ea01ea9b865a",
   "metadata": {},
   "outputs": [],
   "source": [
    "## if we wanna change the default setting need to use basicConfig()"
   ]
  },
  {
   "cell_type": "code",
   "execution_count": 20,
   "id": "a203e65d-e281-457d-9ef1-0d0af290c7d2",
   "metadata": {},
   "outputs": [],
   "source": [
    "logging.basicConfig(level=logging.INFO,force=True)"
   ]
  },
  {
   "cell_type": "code",
   "execution_count": 21,
   "id": "3f4528b2-9fee-4222-af3f-19a8aa1572c6",
   "metadata": {},
   "outputs": [
    {
     "name": "stderr",
     "output_type": "stream",
     "text": [
      "INFO:root:info\n",
      "WARNING:root:warning\n",
      "ERROR:root:error\n",
      "CRITICAL:root:critical\n"
     ]
    }
   ],
   "source": [
    "logging.debug('debug')\n",
    "logging.info('info')\n",
    "logging.warning('warning')\n",
    "logging.error('error')\n",
    "logging.critical('critical')"
   ]
  },
  {
   "cell_type": "code",
   "execution_count": 11,
   "id": "85df07cd-03a4-42d9-ab54-99ef72cea920",
   "metadata": {},
   "outputs": [],
   "source": [
    "## if we dont want our logs to be printed on console instead we need to get it \n",
    "## on seperate physical file"
   ]
  },
  {
   "cell_type": "code",
   "execution_count": 44,
   "id": "dae2280d-33ca-41b8-9de9-0c1e32b1e2d8",
   "metadata": {},
   "outputs": [],
   "source": [
    "logging.basicConfig(filename='text.log',force=True)"
   ]
  },
  {
   "cell_type": "code",
   "execution_count": 45,
   "id": "678f03d9-4c19-47e6-8410-20c254b6f4ec",
   "metadata": {},
   "outputs": [],
   "source": [
    "logging.debug('debug')\n",
    "logging.info('info')\n",
    "logging.warning('warning')\n",
    "logging.error('error')\n",
    "logging.critical('critical')"
   ]
  },
  {
   "cell_type": "code",
   "execution_count": 28,
   "id": "3267478f-a607-4396-9821-c1b898ada6e4",
   "metadata": {},
   "outputs": [],
   "source": [
    "logging.basicConfig(format='%(asctime)s',force=True) ## formatting"
   ]
  },
  {
   "cell_type": "code",
   "execution_count": 29,
   "id": "7a1028ef-9e8d-4046-ab2a-04fb6a0c2929",
   "metadata": {},
   "outputs": [
    {
     "name": "stderr",
     "output_type": "stream",
     "text": [
      "2023-11-28 06:57:17,790\n",
      "2023-11-28 06:57:17,791\n"
     ]
    }
   ],
   "source": [
    "logging.debug('debug')\n",
    "logging.info('info')\n",
    "logging.warning('warning')"
   ]
  },
  {
   "cell_type": "code",
   "execution_count": 30,
   "id": "2033e415-7090-4770-93bc-be1b413aca0c",
   "metadata": {},
   "outputs": [],
   "source": [
    "## formatting"
   ]
  },
  {
   "cell_type": "code",
   "execution_count": 35,
   "id": "224b451d-157c-4405-9c1a-248c7b8ce74c",
   "metadata": {},
   "outputs": [],
   "source": [
    "f='%(asctime)s - %(name)s - %(levelname)s - %(message)s '\n",
    "logging.basicConfig(format=f,force=True, level=logging.DEBUG)"
   ]
  },
  {
   "cell_type": "code",
   "execution_count": 36,
   "id": "370b0d17-4473-4c39-9779-865b34515330",
   "metadata": {},
   "outputs": [
    {
     "name": "stderr",
     "output_type": "stream",
     "text": [
      "2023-11-28 07:01:28,517 - root - DEBUG - debug \n",
      "2023-11-28 07:01:28,518 - root - INFO - info \n",
      "2023-11-28 07:01:28,519 - root - WARNING - warning \n"
     ]
    }
   ],
   "source": [
    "logging.debug('debug')\n",
    "logging.info('info')\n",
    "logging.warning('warning')"
   ]
  },
  {
   "cell_type": "code",
   "execution_count": 37,
   "id": "b63fc825-9f83-4e88-90e4-8ec6dd96b8a9",
   "metadata": {},
   "outputs": [],
   "source": [
    "## if we want to change the mode\n",
    "## 2 modes on file\n",
    "## 1 --> w(writing)\n",
    "## 2 --> a(append)"
   ]
  },
  {
   "cell_type": "code",
   "execution_count": 42,
   "id": "9fd861b8-3dd8-48fb-aec4-fd0a5e415960",
   "metadata": {},
   "outputs": [],
   "source": [
    "f='%(asctime)s - %(name)s - %(levelname)s - %(message)s '\n",
    "logging.basicConfig(filename='test.log',format=f,force=True, level=logging.DEBUG,filemode='a')"
   ]
  },
  {
   "cell_type": "code",
   "execution_count": 43,
   "id": "613caaf6-8beb-4344-9d75-2535fc55b0f4",
   "metadata": {},
   "outputs": [],
   "source": [
    "logging.debug('debug')\n",
    "logging.info('info')\n",
    "logging.warning('warning')"
   ]
  },
  {
   "cell_type": "code",
   "execution_count": 50,
   "id": "9879ea94-17cf-475e-93ef-eac404a1e7be",
   "metadata": {},
   "outputs": [],
   "source": [
    "## root name change"
   ]
  },
  {
   "cell_type": "code",
   "execution_count": 54,
   "id": "da8d9abe-5e12-4085-a7f9-822933d5eb43",
   "metadata": {},
   "outputs": [],
   "source": [
    "logger=logging.getLogger('chay')\n",
    "f='%(asctime)s - %(name)s - %(levelname)s - %(message)s '\n",
    "logging.basicConfig(format=f,force=True, level=logging.DEBUG)\n"
   ]
  },
  {
   "cell_type": "code",
   "execution_count": 56,
   "id": "deaba37a-97d9-4965-8c12-64c70e8c129b",
   "metadata": {},
   "outputs": [
    {
     "name": "stderr",
     "output_type": "stream",
     "text": [
      "2023-11-28 07:10:01,584 - chay - DEBUG - debug \n",
      "2023-11-28 07:10:01,586 - chay - INFO - info \n",
      "2023-11-28 07:10:01,587 - chay - WARNING - warning \n"
     ]
    }
   ],
   "source": [
    "logger.debug('debug')\n",
    "logger.info('info')\n",
    "logger.warning('warning')"
   ]
  },
  {
   "cell_type": "code",
   "execution_count": 57,
   "id": "c48517e6-aec4-4b42-a8e8-e23972304674",
   "metadata": {},
   "outputs": [],
   "source": [
    "## example"
   ]
  },
  {
   "cell_type": "code",
   "execution_count": 77,
   "id": "635a2535-6f9e-4c40-8cba-22f4afd21130",
   "metadata": {},
   "outputs": [],
   "source": [
    "import logging\n",
    "f='%(asctime)s , %(name)s , %(levelname)s , %(message)s'\n",
    "logging.basicConfig(filename='abc.log',level=logging.DEBUG,filemode='a',format=f,force=True)\n",
    "\n",
    "def divby(a,b):\n",
    "    logging.info('entered inside the fun')\n",
    "    try:\n",
    "        logging.warning('b shouldnt be 0')\n",
    "        c=a/b\n",
    "        logging.info('division sucessful')\n",
    "        return c\n",
    "    except Exception as e:\n",
    "        logger.error('error occurred')\n",
    "        logger.exception('exception is' +str(e))\n",
    "        "
   ]
  },
  {
   "cell_type": "code",
   "execution_count": 80,
   "id": "9f72fd53-5371-4b0f-91e9-cc2ae3c84d9f",
   "metadata": {},
   "outputs": [],
   "source": [
    "divby(10,0)"
   ]
  },
  {
   "cell_type": "markdown",
   "id": "206db2b0-e66c-48c7-b3f0-cbb8e16bedc6",
   "metadata": {},
   "source": [
    "## file handling"
   ]
  },
  {
   "cell_type": "code",
   "execution_count": 85,
   "id": "b38caf16-902d-409a-8487-d9a696f97ab9",
   "metadata": {},
   "outputs": [],
   "source": [
    "f=open('abc.log') ## be default open() has attribute mode set to read mode\n",
    "## so opens and reads the file if it's present"
   ]
  },
  {
   "cell_type": "code",
   "execution_count": 86,
   "id": "af6973a2-706b-4823-94c5-f9f85a8a886a",
   "metadata": {},
   "outputs": [
    {
     "name": "stdout",
     "output_type": "stream",
     "text": [
      "2023-11-28 07:39:09,614 , root , INFO , entered inside the fun\n",
      "\n",
      "2023-11-28 07:39:09,615 , root , WARNING , b shouldnt be 0\n",
      "\n",
      "2023-11-28 07:39:09,615 , chay , ERROR , error occurred\n",
      "\n",
      "2023-11-28 07:39:09,615 , chay , ERROR , exception isdivision by zero\n",
      "\n",
      "Traceback (most recent call last):\n",
      "\n",
      "  File \"/tmp/ipykernel_70/2533494492.py\", line 9, in divby\n",
      "\n",
      "    c=a/b\n",
      "\n",
      "ZeroDivisionError: division by zero\n",
      "\n",
      "2023-11-28 07:40:12,385 , root , INFO , entered inside the fun\n",
      "\n",
      "2023-11-28 07:40:12,386 , root , WARNING , b shouldnt be 0\n",
      "\n",
      "2023-11-28 07:40:12,386 , root , INFO , division sucessful\n",
      "\n",
      "2023-11-28 07:40:26,278 , root , INFO , entered inside the fun\n",
      "\n",
      "2023-11-28 07:40:26,279 , root , WARNING , b shouldnt be 0\n",
      "\n",
      "2023-11-28 07:40:26,279 , root , INFO , division sucessful\n",
      "\n",
      "2023-11-28 07:40:33,502 , root , INFO , entered inside the fun\n",
      "\n",
      "2023-11-28 07:40:33,503 , root , WARNING , b shouldnt be 0\n",
      "\n",
      "2023-11-28 07:40:33,503 , root , INFO , division sucessful\n",
      "\n",
      "2023-11-28 07:40:56,449 , root , INFO , entered inside the fun\n",
      "\n",
      "2023-11-28 07:40:56,451 , root , WARNING , b shouldnt be 0\n",
      "\n",
      "2023-11-28 07:40:56,451 , chay , ERROR , error occurred\n",
      "\n",
      "2023-11-28 07:40:56,451 , chay , ERROR , exception isdivision by zero\n",
      "\n",
      "Traceback (most recent call last):\n",
      "\n",
      "  File \"/tmp/ipykernel_70/2585497340.py\", line 9, in divby\n",
      "\n",
      "    c=a/b\n",
      "\n",
      "ZeroDivisionError: division by zero\n",
      "\n"
     ]
    }
   ],
   "source": [
    "for i in f:\n",
    "    print(i)"
   ]
  },
  {
   "cell_type": "code",
   "execution_count": 87,
   "id": "8780d818-5429-4d8d-b945-48d6892b11dd",
   "metadata": {},
   "outputs": [
    {
     "ename": "FileNotFoundError",
     "evalue": "[Errno 2] No such file or directory: 'a.txt'",
     "output_type": "error",
     "traceback": [
      "\u001b[0;31m---------------------------------------------------------------------------\u001b[0m",
      "\u001b[0;31mFileNotFoundError\u001b[0m                         Traceback (most recent call last)",
      "Cell \u001b[0;32mIn [87], line 1\u001b[0m\n\u001b[0;32m----> 1\u001b[0m f\u001b[38;5;241m=\u001b[39m\u001b[38;5;28;43mopen\u001b[39;49m\u001b[43m(\u001b[49m\u001b[38;5;124;43m'\u001b[39;49m\u001b[38;5;124;43ma.txt\u001b[39;49m\u001b[38;5;124;43m'\u001b[39;49m\u001b[43m)\u001b[49m\n",
      "\u001b[0;31mFileNotFoundError\u001b[0m: [Errno 2] No such file or directory: 'a.txt'"
     ]
    }
   ],
   "source": [
    "f=open('a.txt')\n",
    "## results in exception"
   ]
  },
  {
   "cell_type": "code",
   "execution_count": 88,
   "id": "93f31f7d-4434-4ef7-8fac-5973bd9fa4ba",
   "metadata": {},
   "outputs": [],
   "source": [
    "f=open('a.txt',mode='w')## creates a file"
   ]
  },
  {
   "cell_type": "code",
   "execution_count": null,
   "id": "2fd9fda8-7101-4b37-8b6b-daa406dfd114",
   "metadata": {},
   "outputs": [],
   "source": [
    "    ## modes\n",
    "##1 --> r (read)\n",
    "##2 --> w (write)\n",
    "##3 --> a (append)\n",
    "    ##--> r/w(read or write)\n",
    "##4 --> r+ (read and write)\n",
    "##5 --> w+ (write and read)\n",
    "##6 --> a+ (append and read)\n"
   ]
  },
  {
   "cell_type": "code",
   "execution_count": 1,
   "id": "3f7a8187-d73f-4444-8fc2-9cd2c65716a7",
   "metadata": {},
   "outputs": [],
   "source": [
    "## read() and write()"
   ]
  },
  {
   "cell_type": "code",
   "execution_count": 12,
   "id": "0821e563-0987-4f74-91fa-b12e21cf823d",
   "metadata": {},
   "outputs": [],
   "source": [
    "f=open('a.txt','r')"
   ]
  },
  {
   "cell_type": "code",
   "execution_count": 4,
   "id": "321eac4b-d8e7-4cf7-b93a-0c9e3b1a45b2",
   "metadata": {},
   "outputs": [
    {
     "data": {
      "text/plain": [
       "<_io.TextIOWrapper name='a.txt' mode='r' encoding='UTF-8'>"
      ]
     },
     "execution_count": 4,
     "metadata": {},
     "output_type": "execute_result"
    }
   ],
   "source": [
    "f"
   ]
  },
  {
   "cell_type": "code",
   "execution_count": 10,
   "id": "83ff863b-f536-4cbe-9c6e-5653a80b1e6a",
   "metadata": {},
   "outputs": [
    {
     "data": {
      "text/plain": [
       "'j;lkl.,mdtrgykulij;okpl[;\\nklj,hmn\\nkgyuj./l:\\n]\\\\\\ntfgyuklnm '"
      ]
     },
     "execution_count": 10,
     "metadata": {},
     "output_type": "execute_result"
    }
   ],
   "source": [
    "f.read()"
   ]
  },
  {
   "cell_type": "code",
   "execution_count": 6,
   "id": "dc98b4c9-ebae-4d4d-8ed4-0c1cb8a78f6e",
   "metadata": {},
   "outputs": [
    {
     "name": "stdout",
     "output_type": "stream",
     "text": [
      "j;lkl.,mdtrgykulij;okpl[;\n",
      "\n",
      "klj,hmn\n",
      "\n",
      "kgyuj./l:\n",
      "\n",
      "]\\\n",
      "\n",
      "tfgyuklnm \n"
     ]
    }
   ],
   "source": [
    "for i in f:\n",
    "    print(i)"
   ]
  },
  {
   "cell_type": "code",
   "execution_count": 13,
   "id": "894facb6-d543-4ba8-9006-27fc26c9e5b4",
   "metadata": {},
   "outputs": [
    {
     "data": {
      "text/plain": [
       "'j;lkl.,md'"
      ]
     },
     "execution_count": 13,
     "metadata": {},
     "output_type": "execute_result"
    }
   ],
   "source": [
    "f.read(9)"
   ]
  },
  {
   "cell_type": "code",
   "execution_count": 16,
   "id": "59b9c14d-b51a-438d-94d0-7146a6c4c904",
   "metadata": {},
   "outputs": [],
   "source": [
    "f=open('abc.txt','w')"
   ]
  },
  {
   "cell_type": "code",
   "execution_count": 18,
   "id": "b71cb33b-5edb-464d-8557-c39ce6b1feb8",
   "metadata": {},
   "outputs": [
    {
     "data": {
      "text/plain": [
       "2"
      ]
     },
     "execution_count": 18,
     "metadata": {},
     "output_type": "execute_result"
    }
   ],
   "source": [
    "f.write('hy')"
   ]
  },
  {
   "cell_type": "code",
   "execution_count": 20,
   "id": "8ba91b9c-6c0c-4c56-9f0d-55aeed99ae65",
   "metadata": {},
   "outputs": [],
   "source": [
    "f.close()\n"
   ]
  },
  {
   "cell_type": "code",
   "execution_count": 21,
   "id": "0debe382-7e5b-4faa-8692-7a6757521550",
   "metadata": {},
   "outputs": [],
   "source": [
    "## another syntax for readING the file and writing"
   ]
  },
  {
   "cell_type": "code",
   "execution_count": 22,
   "id": "84f885fd-de4c-4629-a308-529a471269a6",
   "metadata": {},
   "outputs": [
    {
     "name": "stdout",
     "output_type": "stream",
     "text": [
      "2023-11-28 07:39:09,614 , root , INFO , entered inside the fun\n",
      "2023-11-28 07:39:09,615 , root , WARNING , b shouldnt be 0\n",
      "2023-11-28 07:39:09,615 , chay , ERROR , error occurred\n",
      "2023-11-28 07:39:09,615 , chay , ERROR , exception isdivision by zero\n",
      "Traceback (most recent call last):\n",
      "  File \"/tmp/ipykernel_70/2533494492.py\", line 9, in divby\n",
      "    c=a/b\n",
      "ZeroDivisionError: division by zero\n",
      "2023-11-28 07:40:12,385 , root , INFO , entered inside the fun\n",
      "2023-11-28 07:40:12,386 , root , WARNING , b shouldnt be 0\n",
      "2023-11-28 07:40:12,386 , root , INFO , division sucessful\n",
      "2023-11-28 07:40:26,278 , root , INFO , entered inside the fun\n",
      "2023-11-28 07:40:26,279 , root , WARNING , b shouldnt be 0\n",
      "2023-11-28 07:40:26,279 , root , INFO , division sucessful\n",
      "2023-11-28 07:40:33,502 , root , INFO , entered inside the fun\n",
      "2023-11-28 07:40:33,503 , root , WARNING , b shouldnt be 0\n",
      "2023-11-28 07:40:33,503 , root , INFO , division sucessful\n",
      "2023-11-28 07:40:56,449 , root , INFO , entered inside the fun\n",
      "2023-11-28 07:40:56,451 , root , WARNING , b shouldnt be 0\n",
      "2023-11-28 07:40:56,451 , chay , ERROR , error occurred\n",
      "2023-11-28 07:40:56,451 , chay , ERROR , exception isdivision by zero\n",
      "Traceback (most recent call last):\n",
      "  File \"/tmp/ipykernel_70/2585497340.py\", line 9, in divby\n",
      "    c=a/b\n",
      "ZeroDivisionError: division by zero\n",
      "\n"
     ]
    }
   ],
   "source": [
    "with open('abc.log') as f:\n",
    "    print(f.read())"
   ]
  },
  {
   "cell_type": "code",
   "execution_count": 25,
   "id": "cf667790-524c-41f0-b146-954bc4e5172b",
   "metadata": {},
   "outputs": [],
   "source": [
    "with open('a.txt','w') as f:\n",
    "    f.write('astdyfghjknb')  ## automatically calls f.close()"
   ]
  },
  {
   "cell_type": "code",
   "execution_count": 26,
   "id": "0fc29ab2-f62f-4666-945a-87dce46f7936",
   "metadata": {},
   "outputs": [],
   "source": [
    "## eg"
   ]
  },
  {
   "cell_type": "code",
   "execution_count": 28,
   "id": "9fe07333-5561-4d0d-82ab-42eeb18074b5",
   "metadata": {},
   "outputs": [],
   "source": [
    "with open('b.txt','w') as f:\n",
    "    f.write('''development and study of statistical algorithms that can \n",
    "effectively generalize and thus perform tasks without explicit instru\n",
    "ctions.[1] Recently, generative artificial neural networks have been \n",
    "able to surpass many previous approaches in performance.[2][3] Machine \n",
    " learning approaches have been applied to large language models, computer\n",
    " vision, speech recognition, email filtering, agriculture and medicine, where it i''')"
   ]
  },
  {
   "cell_type": "code",
   "execution_count": 30,
   "id": "f8e987f9-231b-4966-a7cd-cf4b7bbf69db",
   "metadata": {},
   "outputs": [
    {
     "name": "stdout",
     "output_type": "stream",
     "text": [
      "development and study of statistical algorithms that can \n",
      "effectively generalize and thus perform tasks without explicit instru\n",
      "ctions.[1] Recently, generative artificial neural networks have been \n",
      "able to surpass many previous approaches in performance.[2][3] Machine \n",
      " learning approaches have been applied to large language models, computer\n",
      " vision, speech recognition, email filtering, agriculture and medicine, where it i\n"
     ]
    }
   ],
   "source": [
    "with open('b.txt') as f:\n",
    "    print(f.read())"
   ]
  },
  {
   "cell_type": "code",
   "execution_count": 31,
   "id": "41d01d9e-8ca8-4aef-a92b-18e065798835",
   "metadata": {},
   "outputs": [],
   "source": [
    "with open('b.txt') as f:\n",
    "    date=f.read()"
   ]
  },
  {
   "cell_type": "code",
   "execution_count": 32,
   "id": "5707d51d-11e6-4bb4-8245-ac0bfe1a1cf4",
   "metadata": {},
   "outputs": [
    {
     "data": {
      "text/plain": [
       "'development and study of statistical algorithms that can \\neffectively generalize and thus perform tasks without explicit instru\\nctions.[1] Recently, generative artificial neural networks have been \\nable to surpass many previous approaches in performance.[2][3] Machine \\n learning approaches have been applied to large language models, computer\\n vision, speech recognition, email filtering, agriculture and medicine, where it i'"
      ]
     },
     "execution_count": 32,
     "metadata": {},
     "output_type": "execute_result"
    }
   ],
   "source": [
    "date"
   ]
  },
  {
   "cell_type": "code",
   "execution_count": 33,
   "id": "2a0c54c0-d13e-4658-b13d-1bfc4d03319b",
   "metadata": {},
   "outputs": [],
   "source": [
    "with open('b.txt') as f:\n",
    "    lines=f.readlines()"
   ]
  },
  {
   "cell_type": "code",
   "execution_count": 34,
   "id": "931f6df7-c6cb-4e09-8522-d2bc2a035c32",
   "metadata": {},
   "outputs": [
    {
     "data": {
      "text/plain": [
       "['development and study of statistical algorithms that can \\n',\n",
       " 'effectively generalize and thus perform tasks without explicit instru\\n',\n",
       " 'ctions.[1] Recently, generative artificial neural networks have been \\n',\n",
       " 'able to surpass many previous approaches in performance.[2][3] Machine \\n',\n",
       " ' learning approaches have been applied to large language models, computer\\n',\n",
       " ' vision, speech recognition, email filtering, agriculture and medicine, where it i']"
      ]
     },
     "execution_count": 34,
     "metadata": {},
     "output_type": "execute_result"
    }
   ],
   "source": [
    "lines ##  gives list of lines"
   ]
  },
  {
   "cell_type": "code",
   "execution_count": 35,
   "id": "d9c8b061-091b-44f3-b9a3-43b1af84d6f2",
   "metadata": {},
   "outputs": [
    {
     "name": "stdout",
     "output_type": "stream",
     "text": [
      "['development', 'and', 'study', 'of', 'statistical', 'algorithms', 'that', 'can']\n",
      "['effectively', 'generalize', 'and', 'thus', 'perform', 'tasks', 'without', 'explicit', 'instru']\n",
      "['ctions.[1]', 'Recently,', 'generative', 'artificial', 'neural', 'networks', 'have', 'been']\n",
      "['able', 'to', 'surpass', 'many', 'previous', 'approaches', 'in', 'performance.[2][3]', 'Machine']\n",
      "['learning', 'approaches', 'have', 'been', 'applied', 'to', 'large', 'language', 'models,', 'computer']\n",
      "['vision,', 'speech', 'recognition,', 'email', 'filtering,', 'agriculture', 'and', 'medicine,', 'where', 'it', 'i']\n"
     ]
    }
   ],
   "source": [
    "with open('b.txt') as f:\n",
    "    lines=f.readlines()\n",
    "    for line in lines:\n",
    "        word=line.split()\n",
    "        print(word)"
   ]
  },
  {
   "cell_type": "code",
   "execution_count": null,
   "id": "d78a120c-0a53-4ba5-909f-539fd4355798",
   "metadata": {},
   "outputs": [],
   "source": []
  }
 ],
 "metadata": {
  "kernelspec": {
   "display_name": "Python 3 (ipykernel)",
   "language": "python",
   "name": "python3"
  },
  "language_info": {
   "codemirror_mode": {
    "name": "ipython",
    "version": 3
   },
   "file_extension": ".py",
   "mimetype": "text/x-python",
   "name": "python",
   "nbconvert_exporter": "python",
   "pygments_lexer": "ipython3",
   "version": "3.10.6"
  }
 },
 "nbformat": 4,
 "nbformat_minor": 5
}
