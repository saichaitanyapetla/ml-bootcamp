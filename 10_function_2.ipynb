{
 "cells": [
  {
   "cell_type": "markdown",
   "id": "c0e79aae-b373-4b78-9b72-d15b87588632",
   "metadata": {},
   "source": [
    "## function"
   ]
  },
  {
   "cell_type": "markdown",
   "id": "b276ab92-bcc1-4f51-9aa6-ddcd92e2ced0",
   "metadata": {},
   "source": [
    "## scope of variables"
   ]
  },
  {
   "cell_type": "code",
   "execution_count": 1,
   "id": "61bb354a-9ec6-4469-9550-ac371236bf72",
   "metadata": {},
   "outputs": [],
   "source": [
    "## local and global varibles"
   ]
  },
  {
   "cell_type": "code",
   "execution_count": 4,
   "id": "96a2cb88-7aed-4b76-bb93-73c441d49ea3",
   "metadata": {},
   "outputs": [],
   "source": [
    "a=10\n",
    "def abc():       ## global\n",
    "    print(a)"
   ]
  },
  {
   "cell_type": "code",
   "execution_count": 3,
   "id": "d890d7ac-7fb6-4056-8329-e9ec4b03d1b8",
   "metadata": {},
   "outputs": [
    {
     "name": "stdout",
     "output_type": "stream",
     "text": [
      "10\n"
     ]
    }
   ],
   "source": [
    "abc()"
   ]
  },
  {
   "cell_type": "code",
   "execution_count": 5,
   "id": "31c9e5f3-ff24-45f9-9cc9-c8276dba7e7d",
   "metadata": {},
   "outputs": [],
   "source": [
    "def abc():\n",
    "    b=2           ## local\n",
    "    print(b)"
   ]
  },
  {
   "cell_type": "code",
   "execution_count": 6,
   "id": "b01e8b33-7c54-43fb-ae3d-bcc2875797cd",
   "metadata": {},
   "outputs": [
    {
     "name": "stdout",
     "output_type": "stream",
     "text": [
      "2\n"
     ]
    }
   ],
   "source": [
    "abc()"
   ]
  },
  {
   "cell_type": "code",
   "execution_count": 7,
   "id": "610955c2-9939-4bf6-be15-de2530a91a56",
   "metadata": {},
   "outputs": [],
   "source": [
    "   a=8\n",
    "def abc():\n",
    "    b=2\n",
    "    print(b,a)"
   ]
  },
  {
   "cell_type": "code",
   "execution_count": 8,
   "id": "3993e845-033b-4669-8c54-8567ea62b427",
   "metadata": {},
   "outputs": [
    {
     "name": "stdout",
     "output_type": "stream",
     "text": [
      "2 8\n"
     ]
    }
   ],
   "source": [
    "abc()"
   ]
  },
  {
   "cell_type": "code",
   "execution_count": 34,
   "id": "22f89d62-97b4-4611-97b5-ffc3c744c438",
   "metadata": {},
   "outputs": [
    {
     "name": "stdout",
     "output_type": "stream",
     "text": [
      "26\n",
      "87\n"
     ]
    }
   ],
   "source": [
    "   aa=87\n",
    "def abc():\n",
    "    aa=26   ## local is assigned based on the flow\n",
    "    print(aa)\n",
    "abc()\n",
    "print(aa)"
   ]
  },
  {
   "cell_type": "code",
   "execution_count": 10,
   "id": "dd046ad9-e063-46a4-98b6-f5ba57c06c9b",
   "metadata": {},
   "outputs": [
    {
     "name": "stdout",
     "output_type": "stream",
     "text": [
      "2\n"
     ]
    }
   ],
   "source": [
    "abc()"
   ]
  },
  {
   "cell_type": "code",
   "execution_count": 19,
   "id": "b049195d-1cb2-4346-9058-1f5315de9e2d",
   "metadata": {},
   "outputs": [
    {
     "name": "stdout",
     "output_type": "stream",
     "text": [
      "2\n"
     ]
    },
    {
     "ename": "NameError",
     "evalue": "name 'x' is not defined",
     "output_type": "error",
     "traceback": [
      "\u001b[0;31m---------------------------------------------------------------------------\u001b[0m",
      "\u001b[0;31mNameError\u001b[0m                                 Traceback (most recent call last)",
      "Cell \u001b[0;32mIn [19], line 6\u001b[0m\n\u001b[1;32m      3\u001b[0m     \u001b[38;5;28mprint\u001b[39m(x)\n\u001b[1;32m      4\u001b[0m abc()\n\u001b[0;32m----> 6\u001b[0m \u001b[38;5;28mprint\u001b[39m(\u001b[43mx\u001b[49m)\n",
      "\u001b[0;31mNameError\u001b[0m: name 'x' is not defined"
     ]
    }
   ],
   "source": [
    "\n",
    "def abc():\n",
    "    x=2\n",
    "    print(x)\n",
    "abc()\n",
    "\n",
    "print(x)"
   ]
  },
  {
   "cell_type": "code",
   "execution_count": 22,
   "id": "f35bb615-fcba-4d93-b7ec-c53a2c2bc123",
   "metadata": {},
   "outputs": [
    {
     "name": "stdout",
     "output_type": "stream",
     "text": [
      "2\n",
      "2\n"
     ]
    }
   ],
   "source": [
    "def abc():\n",
    "    global y\n",
    "    y=2\n",
    "    print(y)\n",
    "abc()\n",
    "\n",
    "print(y)"
   ]
  },
  {
   "cell_type": "code",
   "execution_count": 23,
   "id": "5cbaa437-5705-456a-b848-4e6a02c0e182",
   "metadata": {},
   "outputs": [],
   "source": [
    "## to make local variable scope to global.we need to declare the varible with global keyword"
   ]
  },
  {
   "cell_type": "code",
   "execution_count": 24,
   "id": "29c7625e-c9bc-4f9f-9aa8-41de78114d53",
   "metadata": {},
   "outputs": [],
   "source": [
    "## syntax --> global variable_name"
   ]
  },
  {
   "cell_type": "code",
   "execution_count": 35,
   "id": "5f0a5f17-e3f9-4855-9105-499186af7cc6",
   "metadata": {},
   "outputs": [
    {
     "ename": "SyntaxError",
     "evalue": "name 'yy' is used prior to global declaration (1838384104.py, line 4)",
     "output_type": "error",
     "traceback": [
      "\u001b[0;36m  Cell \u001b[0;32mIn [35], line 4\u001b[0;36m\u001b[0m\n\u001b[0;31m    global yy\u001b[0m\n\u001b[0m    ^\u001b[0m\n\u001b[0;31mSyntaxError\u001b[0m\u001b[0;31m:\u001b[0m name 'yy' is used prior to global declaration\n"
     ]
    }
   ],
   "source": [
    "yy=8\n",
    "def abc():\n",
    "    print(yy)\n",
    "    global yy\n",
    "    yy=2\n",
    "    print(yy)\n",
    "abc()\n",
    "\n",
    "print(yy)"
   ]
  },
  {
   "cell_type": "code",
   "execution_count": 27,
   "id": "8e716f0b-f44f-4989-8f6d-ad60c6423df0",
   "metadata": {},
   "outputs": [
    {
     "ename": "UnboundLocalError",
     "evalue": "local variable 'yy' referenced before assignment",
     "output_type": "error",
     "traceback": [
      "\u001b[0;31m---------------------------------------------------------------------------\u001b[0m",
      "\u001b[0;31mUnboundLocalError\u001b[0m                         Traceback (most recent call last)",
      "Cell \u001b[0;32mIn [27], line 7\u001b[0m\n\u001b[1;32m      5\u001b[0m     yy\u001b[38;5;241m=\u001b[39m\u001b[38;5;241m2\u001b[39m\n\u001b[1;32m      6\u001b[0m     \u001b[38;5;28mprint\u001b[39m(yy)\n\u001b[0;32m----> 7\u001b[0m \u001b[43mabc\u001b[49m\u001b[43m(\u001b[49m\u001b[43m)\u001b[49m\n\u001b[1;32m      9\u001b[0m \u001b[38;5;28mprint\u001b[39m(yy)\n",
      "Cell \u001b[0;32mIn [27], line 3\u001b[0m, in \u001b[0;36mabc\u001b[0;34m()\u001b[0m\n\u001b[1;32m      2\u001b[0m \u001b[38;5;28;01mdef\u001b[39;00m \u001b[38;5;21mabc\u001b[39m():\n\u001b[0;32m----> 3\u001b[0m     \u001b[38;5;28mprint\u001b[39m(\u001b[43myy\u001b[49m)\n\u001b[1;32m      5\u001b[0m     yy\u001b[38;5;241m=\u001b[39m\u001b[38;5;241m2\u001b[39m\n\u001b[1;32m      6\u001b[0m     \u001b[38;5;28mprint\u001b[39m(yy)\n",
      "\u001b[0;31mUnboundLocalError\u001b[0m: local variable 'yy' referenced before assignment"
     ]
    }
   ],
   "source": [
    "yy=8\n",
    "def abc():\n",
    "    print(yy)\n",
    "    \n",
    "    yy=2\n",
    "    print(yy)\n",
    "abc()\n",
    "\n",
    "print(yy)"
   ]
  },
  {
   "cell_type": "code",
   "execution_count": 28,
   "id": "422afa55-49f5-40f9-b899-a6a3038a61d6",
   "metadata": {},
   "outputs": [
    {
     "name": "stdout",
     "output_type": "stream",
     "text": [
      "8\n",
      "2\n",
      "2\n"
     ]
    }
   ],
   "source": [
    "yy=8\n",
    "def abc():\n",
    "    global yy\n",
    "    print(yy)\n",
    "    \n",
    "    yy=2\n",
    "    print(yy)\n",
    "abc()\n",
    "\n",
    "print(yy)"
   ]
  },
  {
   "cell_type": "markdown",
   "id": "50781c69-a40f-40cc-9779-676cda386716",
   "metadata": {},
   "source": [
    "## lambda function"
   ]
  },
  {
   "cell_type": "code",
   "execution_count": 1,
   "id": "1db40d41-1ae4-4d3b-b13d-d62673c746c3",
   "metadata": {},
   "outputs": [],
   "source": [
    "## syntax"
   ]
  },
  {
   "cell_type": "code",
   "execution_count": 2,
   "id": "ffdb5829-9706-4888-9c7f-d4ad03536d37",
   "metadata": {},
   "outputs": [],
   "source": [
    "a=lambda x,y:x+y"
   ]
  },
  {
   "cell_type": "code",
   "execution_count": 3,
   "id": "e5ce05e4-5f0c-4950-b3bf-cd116aa87998",
   "metadata": {},
   "outputs": [
    {
     "data": {
      "text/plain": [
       "3"
      ]
     },
     "execution_count": 3,
     "metadata": {},
     "output_type": "execute_result"
    }
   ],
   "source": [
    "a(1,2)"
   ]
  },
  {
   "cell_type": "code",
   "execution_count": 4,
   "id": "e6851581-3371-472a-bad6-e8f6761e4bed",
   "metadata": {},
   "outputs": [
    {
     "data": {
      "text/plain": [
       "function"
      ]
     },
     "execution_count": 4,
     "metadata": {},
     "output_type": "execute_result"
    }
   ],
   "source": [
    "type(a)"
   ]
  },
  {
   "cell_type": "code",
   "execution_count": 5,
   "id": "d71ad637-8992-4206-8aac-d6915251045d",
   "metadata": {},
   "outputs": [
    {
     "data": {
      "text/plain": [
       "<function __main__.<lambda>(x, y)>"
      ]
     },
     "execution_count": 5,
     "metadata": {},
     "output_type": "execute_result"
    }
   ],
   "source": [
    "a"
   ]
  },
  {
   "cell_type": "code",
   "execution_count": 7,
   "id": "a2ea3e85-ca47-40ca-b8cd-68e8bd9466d0",
   "metadata": {},
   "outputs": [],
   "source": [
    "## wap to accept two numbers and find their squares using lambda fun"
   ]
  },
  {
   "cell_type": "code",
   "execution_count": 16,
   "id": "7f769230-0903-4a1d-86d7-79ec606145f7",
   "metadata": {},
   "outputs": [
    {
     "name": "stdin",
     "output_type": "stream",
     "text": [
      "enter num1 2\n",
      "enter num2 4\n"
     ]
    },
    {
     "data": {
      "text/plain": [
       "(4, 16)"
      ]
     },
     "execution_count": 16,
     "metadata": {},
     "output_type": "execute_result"
    }
   ],
   "source": [
    "a=int(input('enter num1'))\n",
    "b=int(input('enter num2'))\n",
    "c=lambda a,b:(a**2,b**2)\n",
    "c(a,b)\n",
    "\n",
    "       \n"
   ]
  },
  {
   "cell_type": "markdown",
   "id": "4c26e59d-d127-43fc-8160-64952ebcb7c9",
   "metadata": {},
   "source": [
    "## wap to print first character of the arguement using lambda"
   ]
  },
  {
   "cell_type": "code",
   "execution_count": 3,
   "id": "d43bd041-c692-4c98-a9ef-fe3f6ae0a015",
   "metadata": {},
   "outputs": [
    {
     "name": "stdin",
     "output_type": "stream",
     "text": [
      "enter any sentence uiopokj\n"
     ]
    },
    {
     "data": {
      "text/plain": [
       "'u'"
      ]
     },
     "execution_count": 3,
     "metadata": {},
     "output_type": "execute_result"
    }
   ],
   "source": [
    "a=input('enter any sentence')\n",
    "b=lambda a:a[0]\n",
    "b(a)"
   ]
  },
  {
   "cell_type": "code",
   "execution_count": 4,
   "id": "25c27ab8-e8a3-4d43-86f1-f5bc34ad45fb",
   "metadata": {},
   "outputs": [],
   "source": [
    "## wap using lambda fun which returns true or false if num is even or odd respectively"
   ]
  },
  {
   "cell_type": "code",
   "execution_count": 12,
   "id": "0d6faafa-ca49-4f0f-bcd4-b96bae71bd21",
   "metadata": {},
   "outputs": [
    {
     "name": "stdin",
     "output_type": "stream",
     "text": [
      "enter a num 9\n"
     ]
    },
    {
     "data": {
      "text/plain": [
       "False"
      ]
     },
     "execution_count": 12,
     "metadata": {},
     "output_type": "execute_result"
    }
   ],
   "source": [
    "a=int(input('enter a num'))\n",
    "b=lambda a:a%2==0\n",
    "  \n",
    "b(a)"
   ]
  },
  {
   "cell_type": "code",
   "execution_count": 14,
   "id": "820d2b2e-8d3b-420d-b272-79f17a547483",
   "metadata": {},
   "outputs": [],
   "source": [
    "\n",
    "b=lambda a:True if a%2==0 else False\n"
   ]
  },
  {
   "cell_type": "code",
   "execution_count": 16,
   "id": "a01bb6d4-3a1c-4e69-941c-ff073e099e36",
   "metadata": {},
   "outputs": [
    {
     "data": {
      "text/plain": [
       "True"
      ]
     },
     "execution_count": 16,
     "metadata": {},
     "output_type": "execute_result"
    }
   ],
   "source": [
    "b(8)"
   ]
  },
  {
   "cell_type": "code",
   "execution_count": 17,
   "id": "295e5f9d-e886-4450-92c5-749f2bb252c3",
   "metadata": {},
   "outputs": [],
   "source": [
    "## wap to accept to integers and find greatest among them\""
   ]
  },
  {
   "cell_type": "code",
   "execution_count": 19,
   "id": "8924426e-5c3d-4918-8151-46f54bd066c3",
   "metadata": {},
   "outputs": [],
   "source": [
    "a=lambda x,y:x if x>y else y"
   ]
  },
  {
   "cell_type": "code",
   "execution_count": 22,
   "id": "2e244382-bd30-49e7-a5b1-9b9952696ce9",
   "metadata": {},
   "outputs": [
    {
     "data": {
      "text/plain": [
       "96"
      ]
     },
     "execution_count": 22,
     "metadata": {},
     "output_type": "execute_result"
    }
   ],
   "source": [
    "a(37,96)"
   ]
  },
  {
   "cell_type": "markdown",
   "id": "d00e466a-2b2a-44d9-89eb-e85367271d2b",
   "metadata": {},
   "source": [
    "## map()"
   ]
  },
  {
   "cell_type": "code",
   "execution_count": 23,
   "id": "060cb992-b028-424f-9190-914ff033a9e2",
   "metadata": {},
   "outputs": [],
   "source": [
    "## syntax --> map(function,iterable)"
   ]
  },
  {
   "cell_type": "code",
   "execution_count": 24,
   "id": "cd47fc4f-1ee9-4cd9-997e-39af82566b1d",
   "metadata": {},
   "outputs": [],
   "source": [
    "## wap to print true if length of the input string is even or print first character"
   ]
  },
  {
   "cell_type": "code",
   "execution_count": 38,
   "id": "6a820ed1-8422-44d3-bcf0-a85c902df661",
   "metadata": {},
   "outputs": [],
   "source": [
    "a=lambda x:\"EVEN\" if len(x)%2==0 else x[0]"
   ]
  },
  {
   "cell_type": "code",
   "execution_count": 41,
   "id": "0973d436-76d4-4047-b9e7-b6c6572da885",
   "metadata": {},
   "outputs": [
    {
     "data": {
      "text/plain": [
       "['j', 'EVEN', 'm']"
      ]
     },
     "execution_count": 41,
     "metadata": {},
     "output_type": "execute_result"
    }
   ],
   "source": [
    "list(map(a,['january','febu','march']))"
   ]
  },
  {
   "cell_type": "code",
   "execution_count": 35,
   "id": "3699912e-4d12-4892-a5d5-b49991cb64c5",
   "metadata": {},
   "outputs": [],
   "source": [
    "## wap to print squares of list"
   ]
  },
  {
   "cell_type": "code",
   "execution_count": 37,
   "id": "ba71b187-b20e-4ee1-a44b-db6140498bf7",
   "metadata": {},
   "outputs": [
    {
     "data": {
      "text/plain": [
       "[4, 9, 16]"
      ]
     },
     "execution_count": 37,
     "metadata": {},
     "output_type": "execute_result"
    }
   ],
   "source": [
    "a=lambda x:x**2\n",
    "list(map(a,[2,3,4]))"
   ]
  },
  {
   "cell_type": "markdown",
   "id": "c52923b7-8e3f-46b2-b135-55bccfab867f",
   "metadata": {},
   "source": [
    "## filter()"
   ]
  },
  {
   "cell_type": "code",
   "execution_count": 42,
   "id": "1bae9feb-e531-43c6-a407-9914a6980f9c",
   "metadata": {},
   "outputs": [],
   "source": [
    "## syntax --> filter(function,iterable)"
   ]
  },
  {
   "cell_type": "code",
   "execution_count": 43,
   "id": "9a5a3c87-1253-48b5-8c7b-266b60991ee0",
   "metadata": {},
   "outputs": [
    {
     "data": {
      "text/plain": [
       "[2, 4, 6]"
      ]
     },
     "execution_count": 43,
     "metadata": {},
     "output_type": "execute_result"
    }
   ],
   "source": [
    "a=lambda x:x%2==0\n",
    "list(filter(a,[1,2,3,4,5,6,7]))"
   ]
  },
  {
   "cell_type": "code",
   "execution_count": 44,
   "id": "5577bd12-1775-4cf2-88ae-29053ec46459",
   "metadata": {},
   "outputs": [
    {
     "data": {
      "text/plain": [
       "[False, True, False, True, False, True, False]"
      ]
     },
     "execution_count": 44,
     "metadata": {},
     "output_type": "execute_result"
    }
   ],
   "source": [
    "list(map(a,[1,2,3,4,5,6,7]))"
   ]
  },
  {
   "cell_type": "code",
   "execution_count": 50,
   "id": "6794af03-8d33-4f47-9fdf-b0a64c9586f7",
   "metadata": {},
   "outputs": [
    {
     "data": {
      "text/plain": [
       "[2, 3, 4]"
      ]
     },
     "execution_count": 50,
     "metadata": {},
     "output_type": "execute_result"
    }
   ],
   "source": [
    "a=lambda x:x**2\n",
    "list(filter(a,[2,3,4]))"
   ]
  },
  {
   "cell_type": "code",
   "execution_count": 51,
   "id": "8697b8fc-8896-46b6-bacd-d696f1f2deb5",
   "metadata": {},
   "outputs": [],
   "source": [
    "## wap to print first character"
   ]
  },
  {
   "cell_type": "code",
   "execution_count": 53,
   "id": "a0e19806-4607-4f52-86fa-d4b5902f8317",
   "metadata": {},
   "outputs": [
    {
     "data": {
      "text/plain": [
       "['j', 'f', 'm']"
      ]
     },
     "execution_count": 53,
     "metadata": {},
     "output_type": "execute_result"
    }
   ],
   "source": [
    "list(map(lambda x:x[0],['january','febu','march']))"
   ]
  },
  {
   "cell_type": "code",
   "execution_count": 54,
   "id": "02aa44fd-4c7b-49db-a4f1-e621d746da96",
   "metadata": {},
   "outputs": [],
   "source": [
    "## wap to print only vowels"
   ]
  },
  {
   "cell_type": "code",
   "execution_count": 57,
   "id": "573844fd-5e11-4702-896c-6fd5de92301e",
   "metadata": {},
   "outputs": [
    {
     "data": {
      "text/plain": [
       "['e', 'i', 'u']"
      ]
     },
     "execution_count": 57,
     "metadata": {},
     "output_type": "execute_result"
    }
   ],
   "source": [
    "list(filter(lambda x: x in ['a','e','i','o','u'],'hey hi hw r u'))"
   ]
  },
  {
   "cell_type": "code",
   "execution_count": 58,
   "id": "d5021124-4c5f-40a6-9b5d-4ccc9dc39570",
   "metadata": {},
   "outputs": [
    {
     "data": {
      "text/plain": [
       "['e', 'i', 'u']"
      ]
     },
     "execution_count": 58,
     "metadata": {},
     "output_type": "execute_result"
    }
   ],
   "source": [
    "list(filter(lambda x: x in 'aeiou','hey hi hw r u'))"
   ]
  },
  {
   "cell_type": "code",
   "execution_count": null,
   "id": "812ec3f8-12f9-430a-942d-89b75b1af5a6",
   "metadata": {},
   "outputs": [],
   "source": []
  }
 ],
 "metadata": {
  "kernelspec": {
   "display_name": "Python 3 (ipykernel)",
   "language": "python",
   "name": "python3"
  },
  "language_info": {
   "codemirror_mode": {
    "name": "ipython",
    "version": 3
   },
   "file_extension": ".py",
   "mimetype": "text/x-python",
   "name": "python",
   "nbconvert_exporter": "python",
   "pygments_lexer": "ipython3",
   "version": "3.10.6"
  }
 },
 "nbformat": 4,
 "nbformat_minor": 5
}
