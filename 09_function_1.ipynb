{
 "cells": [
  {
   "cell_type": "markdown",
   "id": "96af7c5f-71ae-4ae8-a0d4-0e9c0d00b018",
   "metadata": {},
   "source": [
    "## function"
   ]
  },
  {
   "cell_type": "code",
   "execution_count": 1,
   "id": "be2a6465-f018-41b9-8b0b-ef3d715a6e74",
   "metadata": {},
   "outputs": [
    {
     "name": "stdout",
     "output_type": "stream",
     "text": [
      "90\n"
     ]
    }
   ],
   "source": [
    "a=12\n",
    "b=78    ## hard coded\n",
    "c=a+b\n",
    "print(c)"
   ]
  },
  {
   "cell_type": "code",
   "execution_count": 7,
   "id": "e465c05a-b86a-4993-b18a-a82adaac8c42",
   "metadata": {},
   "outputs": [
    {
     "name": "stdin",
     "output_type": "stream",
     "text": [
      "enter first num 67\n",
      "enter second num 67\n"
     ]
    },
    {
     "name": "stdout",
     "output_type": "stream",
     "text": [
      "134\n"
     ]
    }
   ],
   "source": [
    "a=input('enter first num')\n",
    "b=input('enter second num') ## if we want same code to be used multiple times in ur program\n",
    "                            ## then redundancy increases ,thereby we came across functions\n",
    "c=int(a)+int(b)\n",
    "print(c)"
   ]
  },
  {
   "cell_type": "code",
   "execution_count": 3,
   "id": "f3ec644d-77c1-4114-946b-8fe82084235f",
   "metadata": {},
   "outputs": [],
   "source": [
    "## syntax"
   ]
  },
  {
   "cell_type": "code",
   "execution_count": null,
   "id": "9146b5e0-b97d-4e22-9dca-8a0df836fbde",
   "metadata": {},
   "outputs": [],
   "source": [
    "def fun_name(arguements):\n",
    "    -------\n",
    "    -------\n",
    "    -------\n",
    "    "
   ]
  },
  {
   "cell_type": "code",
   "execution_count": null,
   "id": "dab0924c-ab67-467a-ae21-bd43e690ad9e",
   "metadata": {},
   "outputs": [],
   "source": [
    "## fun definition"
   ]
  },
  {
   "cell_type": "code",
   "execution_count": 8,
   "id": "d8490acb-dcde-4fc8-92ac-a3cf0b2c3d69",
   "metadata": {},
   "outputs": [],
   "source": [
    "def summ():\n",
    "    a=input('enter first num')\n",
    "    b=input('enter second num')\n",
    "    c=int(a)+int(b)    \n",
    "    print(c)                        \n",
    "    \n",
    "    "
   ]
  },
  {
   "cell_type": "code",
   "execution_count": 5,
   "id": "d8277a43-bba8-4ad6-b8f7-8514b0595dbd",
   "metadata": {},
   "outputs": [],
   "source": [
    "## fun call"
   ]
  },
  {
   "cell_type": "code",
   "execution_count": 9,
   "id": "856ae660-8919-4e66-b9d6-ff15e732483a",
   "metadata": {},
   "outputs": [
    {
     "name": "stdin",
     "output_type": "stream",
     "text": [
      "enter first num 89\n",
      "enter second num 56\n"
     ]
    },
    {
     "name": "stdout",
     "output_type": "stream",
     "text": [
      "145\n"
     ]
    }
   ],
   "source": [
    "summ()"
   ]
  },
  {
   "cell_type": "code",
   "execution_count": 11,
   "id": "71652a21-8822-4a8f-8afb-4101d2fafa0a",
   "metadata": {},
   "outputs": [
    {
     "name": "stdin",
     "output_type": "stream",
     "text": [
      "enter first num 7\n",
      "enter second num 7\n"
     ]
    },
    {
     "name": "stdout",
     "output_type": "stream",
     "text": [
      "14\n"
     ]
    }
   ],
   "source": [
    "summ()"
   ]
  },
  {
   "cell_type": "code",
   "execution_count": null,
   "id": "fb2323a5-a73e-472b-9371-f7f9e4cc2b06",
   "metadata": {},
   "outputs": [],
   "source": [
    "summ()"
   ]
  },
  {
   "cell_type": "code",
   "execution_count": 12,
   "id": "209c1156-e5b3-4423-b58f-65ba7d151ed9",
   "metadata": {},
   "outputs": [],
   "source": [
    "## we can call multiple tymes by just defining the function once"
   ]
  },
  {
   "cell_type": "code",
   "execution_count": 13,
   "id": "6127038a-e93c-4106-92d8-3aeb64ec3784",
   "metadata": {},
   "outputs": [],
   "source": [
    "## wap to define absolute()"
   ]
  },
  {
   "cell_type": "code",
   "execution_count": 14,
   "id": "e83d88ac-d456-4fac-8432-66744320bbf8",
   "metadata": {},
   "outputs": [],
   "source": [
    "def absolute(a):\n",
    "    if a<0:\n",
    "        a=-a\n",
    "    return a\n",
    "    "
   ]
  },
  {
   "cell_type": "code",
   "execution_count": 15,
   "id": "71315871-727e-49fc-ad84-c55e82441839",
   "metadata": {},
   "outputs": [
    {
     "data": {
      "text/plain": [
       "8"
      ]
     },
     "execution_count": 15,
     "metadata": {},
     "output_type": "execute_result"
    }
   ],
   "source": [
    "absolute(8)"
   ]
  },
  {
   "cell_type": "code",
   "execution_count": 16,
   "id": "f4d15a66-29bc-44b3-b2f1-22090342d1a1",
   "metadata": {},
   "outputs": [
    {
     "data": {
      "text/plain": [
       "7"
      ]
     },
     "execution_count": 16,
     "metadata": {},
     "output_type": "execute_result"
    }
   ],
   "source": [
    "absolute(-7)"
   ]
  },
  {
   "cell_type": "code",
   "execution_count": 17,
   "id": "a1c8717f-c706-4630-81f2-7ae0de329733",
   "metadata": {},
   "outputs": [],
   "source": [
    "## difference between arguements and parameters"
   ]
  },
  {
   "cell_type": "code",
   "execution_count": 18,
   "id": "fc9b64cf-ce9a-4574-9a93-b13a7a0e9c7a",
   "metadata": {},
   "outputs": [],
   "source": [
    "## while defining the fun,we collect values in variables which are called paramters\n"
   ]
  },
  {
   "cell_type": "code",
   "execution_count": null,
   "id": "12472fcb-c513-423e-a62b-05dd1b188b53",
   "metadata": {},
   "outputs": [],
   "source": [
    "def summm(a): ## here a--->parameter\n",
    "    --------\n",
    "    --------\n",
    "    "
   ]
  },
  {
   "cell_type": "code",
   "execution_count": 19,
   "id": "89ee197a-14a3-4ac5-8900-673636860e53",
   "metadata": {},
   "outputs": [],
   "source": [
    "def mul(a):\n",
    "    pass"
   ]
  },
  {
   "cell_type": "code",
   "execution_count": 20,
   "id": "32d82ee9-18ca-4caa-a730-19e001644377",
   "metadata": {},
   "outputs": [],
   "source": [
    "## while calling function , we send values which are arguements"
   ]
  },
  {
   "cell_type": "code",
   "execution_count": 22,
   "id": "078fad61-729e-45a3-8ed0-8e7ee0570e1f",
   "metadata": {},
   "outputs": [],
   "source": [
    "mul(6) ## here 6--->arguement"
   ]
  },
  {
   "cell_type": "code",
   "execution_count": 23,
   "id": "ebb77956-38bf-490d-afc3-54f8769cbeeb",
   "metadata": {},
   "outputs": [],
   "source": [
    "## inbuilt absolute method is abs()"
   ]
  },
  {
   "cell_type": "code",
   "execution_count": 24,
   "id": "c0de5c2d-9cad-45c5-af11-05432bf62008",
   "metadata": {},
   "outputs": [
    {
     "data": {
      "text/plain": [
       "9"
      ]
     },
     "execution_count": 24,
     "metadata": {},
     "output_type": "execute_result"
    }
   ],
   "source": [
    "abs(-9)"
   ]
  },
  {
   "cell_type": "markdown",
   "id": "535a78d5-f753-4e21-afc4-9ed95e776473",
   "metadata": {},
   "source": [
    "## by default function returns None"
   ]
  },
  {
   "cell_type": "code",
   "execution_count": 28,
   "id": "63dcc379-01b3-42d2-a7a5-31d3970c774d",
   "metadata": {},
   "outputs": [],
   "source": [
    "def mul(a,b):\n",
    "    return a*b"
   ]
  },
  {
   "cell_type": "code",
   "execution_count": 29,
   "id": "aa1ecf2a-6f3f-4005-a329-01ddcc80003a",
   "metadata": {},
   "outputs": [],
   "source": [
    "a=mul(8,9)"
   ]
  },
  {
   "cell_type": "code",
   "execution_count": 30,
   "id": "8e075b4c-9478-4d76-9c0b-4a6d957a87a8",
   "metadata": {},
   "outputs": [
    {
     "data": {
      "text/plain": [
       "72"
      ]
     },
     "execution_count": 30,
     "metadata": {},
     "output_type": "execute_result"
    }
   ],
   "source": [
    "a"
   ]
  },
  {
   "cell_type": "code",
   "execution_count": 31,
   "id": "299327e8-85a1-436c-bb52-4d077d3e293e",
   "metadata": {},
   "outputs": [],
   "source": [
    "def mull(a,b):\n",
    "    print( a*b)"
   ]
  },
  {
   "cell_type": "code",
   "execution_count": 32,
   "id": "3ee4da1c-faa1-4416-bedf-4d11ac4a3ff2",
   "metadata": {},
   "outputs": [
    {
     "name": "stdout",
     "output_type": "stream",
     "text": [
      "42\n"
     ]
    }
   ],
   "source": [
    "a=mull(6,7)"
   ]
  },
  {
   "cell_type": "code",
   "execution_count": 34,
   "id": "8f6927be-dc01-4765-b2cb-600bda9d29e5",
   "metadata": {},
   "outputs": [
    {
     "name": "stdout",
     "output_type": "stream",
     "text": [
      "None\n"
     ]
    }
   ],
   "source": [
    "print(a)"
   ]
  },
  {
   "cell_type": "markdown",
   "id": "44b2836f-2464-425e-9a24-5662c4c5c6b2",
   "metadata": {},
   "source": [
    "## we can return multiple values in python"
   ]
  },
  {
   "cell_type": "code",
   "execution_count": 35,
   "id": "1fdbefd0-7b79-4665-ab60-dfa322fd75ba",
   "metadata": {},
   "outputs": [],
   "source": [
    "def hy(a):\n",
    "    return 'hy',a"
   ]
  },
  {
   "cell_type": "code",
   "execution_count": 36,
   "id": "977538f0-e588-4abc-906f-633902e862a8",
   "metadata": {},
   "outputs": [
    {
     "data": {
      "text/plain": [
       "('hy', 'sai')"
      ]
     },
     "execution_count": 36,
     "metadata": {},
     "output_type": "execute_result"
    }
   ],
   "source": [
    "hy('sai')"
   ]
  },
  {
   "cell_type": "code",
   "execution_count": 37,
   "id": "472502dd-fecd-4dec-9f88-c85834f704a9",
   "metadata": {},
   "outputs": [],
   "source": [
    "a,b,c=(1,2,3) ## packing"
   ]
  },
  {
   "cell_type": "code",
   "execution_count": 38,
   "id": "dc3f3fc0-c0e4-41df-ae81-b94866b585ac",
   "metadata": {},
   "outputs": [
    {
     "data": {
      "text/plain": [
       "1"
      ]
     },
     "execution_count": 38,
     "metadata": {},
     "output_type": "execute_result"
    }
   ],
   "source": [
    "a"
   ]
  },
  {
   "cell_type": "code",
   "execution_count": 39,
   "id": "a806642c-a366-46d3-ba79-0b43fa286517",
   "metadata": {},
   "outputs": [
    {
     "data": {
      "text/plain": [
       "(1, 2, 3)"
      ]
     },
     "execution_count": 39,
     "metadata": {},
     "output_type": "execute_result"
    }
   ],
   "source": [
    "a,b,c ## unpacking"
   ]
  },
  {
   "cell_type": "code",
   "execution_count": 40,
   "id": "ef01d43b-92a3-487f-854c-16faffeb0725",
   "metadata": {},
   "outputs": [],
   "source": [
    "## wap to calculate the factorial"
   ]
  },
  {
   "cell_type": "code",
   "execution_count": 52,
   "id": "f88ca544-b575-4523-ae7a-d6de99b7ea70",
   "metadata": {},
   "outputs": [],
   "source": [
    "def fact(x):\n",
    "    a=1\n",
    "    for i in range(2,x+1):\n",
    "        a*=i\n",
    "    return a\n",
    "        "
   ]
  },
  {
   "cell_type": "code",
   "execution_count": 54,
   "id": "3585fcf9-7112-4252-922e-4fb07a9251e5",
   "metadata": {},
   "outputs": [
    {
     "data": {
      "text/plain": [
       "40320"
      ]
     },
     "execution_count": 54,
     "metadata": {},
     "output_type": "execute_result"
    }
   ],
   "source": [
    "fact(8)"
   ]
  },
  {
   "cell_type": "markdown",
   "id": "54bcb5e0-477b-4d33-98d3-e1aa1583187f",
   "metadata": {},
   "source": [
    "## arguements"
   ]
  },
  {
   "cell_type": "code",
   "execution_count": 55,
   "id": "4397f192-018d-4f4a-9e61-602a72237a4c",
   "metadata": {},
   "outputs": [],
   "source": [
    "## 1 --> positional arguements"
   ]
  },
  {
   "cell_type": "code",
   "execution_count": 57,
   "id": "4a3f109e-4953-493b-aec7-318519bbe233",
   "metadata": {},
   "outputs": [],
   "source": [
    "def nos(a,b,c):\n",
    "    return a*b*c"
   ]
  },
  {
   "cell_type": "code",
   "execution_count": 58,
   "id": "a59e620d-c43f-4221-993f-65f0b9e4b86f",
   "metadata": {},
   "outputs": [
    {
     "data": {
      "text/plain": [
       "6"
      ]
     },
     "execution_count": 58,
     "metadata": {},
     "output_type": "execute_result"
    }
   ],
   "source": [
    "nos(1,2,3)"
   ]
  },
  {
   "cell_type": "code",
   "execution_count": 59,
   "id": "eb50d42a-b4be-4de8-9c44-0079fd839663",
   "metadata": {},
   "outputs": [],
   "source": [
    "## in postional no of arguements and parameters should be equal and they assign positionally"
   ]
  },
  {
   "cell_type": "code",
   "execution_count": 60,
   "id": "9c771ce4-0a02-4b21-8d6a-4d3e408d2d4e",
   "metadata": {},
   "outputs": [],
   "source": [
    "## 2 --> keyword arguements"
   ]
  },
  {
   "cell_type": "code",
   "execution_count": 61,
   "id": "f262072f-d7d2-4459-85c3-0dea8359de6f",
   "metadata": {},
   "outputs": [
    {
     "ename": "SyntaxError",
     "evalue": "positional argument follows keyword argument (3531796955.py, line 1)",
     "output_type": "error",
     "traceback": [
      "\u001b[0;36m  Cell \u001b[0;32mIn [61], line 1\u001b[0;36m\u001b[0m\n\u001b[0;31m    nos(1,b=74,7)\u001b[0m\n\u001b[0m                ^\u001b[0m\n\u001b[0;31mSyntaxError\u001b[0m\u001b[0;31m:\u001b[0m positional argument follows keyword argument\n"
     ]
    }
   ],
   "source": [
    "nos(1,b=74,7)"
   ]
  },
  {
   "cell_type": "code",
   "execution_count": 62,
   "id": "1757fae8-57e1-4779-85f8-9063b5eefb10",
   "metadata": {},
   "outputs": [
    {
     "data": {
      "text/plain": [
       "6"
      ]
     },
     "execution_count": 62,
     "metadata": {},
     "output_type": "execute_result"
    }
   ],
   "source": [
    "nos(a=1,b=2,c=3)"
   ]
  },
  {
   "cell_type": "code",
   "execution_count": 64,
   "id": "a9a27f5b-314b-40f3-9262-40dc30e5a737",
   "metadata": {},
   "outputs": [
    {
     "data": {
      "text/plain": [
       "518"
      ]
     },
     "execution_count": 64,
     "metadata": {},
     "output_type": "execute_result"
    }
   ],
   "source": [
    "nos(1,b=74,c=7)"
   ]
  },
  {
   "cell_type": "code",
   "execution_count": 65,
   "id": "8653571e-eb0a-40f2-8bf9-7261a7346093",
   "metadata": {},
   "outputs": [
    {
     "data": {
      "text/plain": [
       "36"
      ]
     },
     "execution_count": 65,
     "metadata": {},
     "output_type": "execute_result"
    }
   ],
   "source": [
    "nos(b=1,c=9,a=4)"
   ]
  },
  {
   "cell_type": "code",
   "execution_count": 66,
   "id": "2c5e13e4-1441-4ab2-8f6c-f9b7b26d1de4",
   "metadata": {},
   "outputs": [],
   "source": [
    "## here we have to match the parameters and arguements while calling"
   ]
  },
  {
   "cell_type": "code",
   "execution_count": 67,
   "id": "23d0197f-51ce-4c85-9ba0-74e53cf044d1",
   "metadata": {},
   "outputs": [],
   "source": [
    "## 3 --> default arguements"
   ]
  },
  {
   "cell_type": "code",
   "execution_count": 68,
   "id": "19475ab0-0ad1-4b2c-bba5-f445ef82f395",
   "metadata": {},
   "outputs": [],
   "source": [
    "def nos(a,b,c=1):\n",
    "    return a*b*c"
   ]
  },
  {
   "cell_type": "code",
   "execution_count": 69,
   "id": "3d781118-dcf3-4cbb-92e7-0d94a35d2790",
   "metadata": {},
   "outputs": [
    {
     "data": {
      "text/plain": [
       "6"
      ]
     },
     "execution_count": 69,
     "metadata": {},
     "output_type": "execute_result"
    }
   ],
   "source": [
    "nos(2,3)"
   ]
  },
  {
   "cell_type": "code",
   "execution_count": 70,
   "id": "cba8ad5c-208b-4fe7-a64b-e54b83592245",
   "metadata": {},
   "outputs": [
    {
     "data": {
      "text/plain": [
       "24"
      ]
     },
     "execution_count": 70,
     "metadata": {},
     "output_type": "execute_result"
    }
   ],
   "source": [
    "nos(2,3,4)"
   ]
  },
  {
   "cell_type": "code",
   "execution_count": 71,
   "id": "b86f97de-abea-4bef-a108-a44fcf17d8f1",
   "metadata": {},
   "outputs": [],
   "source": [
    "## here we can give default arguements to parameters while defining but these should be given only at end"
   ]
  },
  {
   "cell_type": "code",
   "execution_count": 72,
   "id": "7e19edf3-1968-493b-913c-9e512cfca321",
   "metadata": {},
   "outputs": [
    {
     "ename": "SyntaxError",
     "evalue": "non-default argument follows default argument (2881331194.py, line 1)",
     "output_type": "error",
     "traceback": [
      "\u001b[0;36m  Cell \u001b[0;32mIn [72], line 1\u001b[0;36m\u001b[0m\n\u001b[0;31m    def nos(a=2,b,c=1):\u001b[0m\n\u001b[0m                ^\u001b[0m\n\u001b[0;31mSyntaxError\u001b[0m\u001b[0;31m:\u001b[0m non-default argument follows default argument\n"
     ]
    }
   ],
   "source": [
    "def nos(a=2,b,c=1):\n",
    "    return a*b*c"
   ]
  },
  {
   "cell_type": "code",
   "execution_count": 73,
   "id": "50c122ef-223a-403a-b473-663876d3f6c7",
   "metadata": {},
   "outputs": [],
   "source": [
    "## 4 --> variable length arguements"
   ]
  },
  {
   "cell_type": "code",
   "execution_count": 74,
   "id": "33ed4442-ae67-417a-be29-d690c55ab613",
   "metadata": {},
   "outputs": [],
   "source": [
    "def nos(a,b,c):\n",
    "    return a*b*c"
   ]
  },
  {
   "cell_type": "code",
   "execution_count": 75,
   "id": "512e05d1-22e0-44cd-9431-22c182f51cde",
   "metadata": {},
   "outputs": [],
   "source": [
    "def nos(a,b,c,d):\n",
    "    return a*b*c*d"
   ]
  },
  {
   "cell_type": "code",
   "execution_count": 76,
   "id": "2f79c635-83ad-4937-8d7f-3b6257c7e25b",
   "metadata": {},
   "outputs": [
    {
     "ename": "TypeError",
     "evalue": "nos() missing 1 required positional argument: 'd'",
     "output_type": "error",
     "traceback": [
      "\u001b[0;31m---------------------------------------------------------------------------\u001b[0m",
      "\u001b[0;31mTypeError\u001b[0m                                 Traceback (most recent call last)",
      "Cell \u001b[0;32mIn [76], line 1\u001b[0m\n\u001b[0;32m----> 1\u001b[0m \u001b[43mnos\u001b[49m\u001b[43m(\u001b[49m\u001b[38;5;241;43m1\u001b[39;49m\u001b[43m,\u001b[49m\u001b[38;5;241;43m2\u001b[39;49m\u001b[43m,\u001b[49m\u001b[38;5;241;43m3\u001b[39;49m\u001b[43m)\u001b[49m\n",
      "\u001b[0;31mTypeError\u001b[0m: nos() missing 1 required positional argument: 'd'"
     ]
    }
   ],
   "source": [
    "nos(1,2,3)"
   ]
  },
  {
   "cell_type": "code",
   "execution_count": 77,
   "id": "073d5c65-61e7-4d5b-9568-ab235f178655",
   "metadata": {},
   "outputs": [
    {
     "data": {
      "text/plain": [
       "24"
      ]
     },
     "execution_count": 77,
     "metadata": {},
     "output_type": "execute_result"
    }
   ],
   "source": [
    "nos(1,2,3,4)"
   ]
  },
  {
   "cell_type": "code",
   "execution_count": 78,
   "id": "6c04dc42-701d-478d-aec6-60c1fe197fa8",
   "metadata": {},
   "outputs": [],
   "source": [
    "## in python function overloading is not allowed,recent defined fun can only be called"
   ]
  },
  {
   "cell_type": "code",
   "execution_count": 79,
   "id": "aa6bf1e7-41b8-4d04-8a18-5af54a46fda8",
   "metadata": {},
   "outputs": [],
   "source": [
    "## to overcome this,we have variable length arguements"
   ]
  },
  {
   "cell_type": "code",
   "execution_count": 80,
   "id": "b0d8b436-ce94-414b-ada9-7ee1dae1930c",
   "metadata": {},
   "outputs": [],
   "source": [
    "## syntax"
   ]
  },
  {
   "cell_type": "code",
   "execution_count": 82,
   "id": "94b6afd2-99c3-41bf-9f65-b31ba368a7f2",
   "metadata": {},
   "outputs": [],
   "source": [
    "def fun(*parameter):\n",
    "    pass"
   ]
  },
  {
   "cell_type": "code",
   "execution_count": 83,
   "id": "22500dbf-be1c-416e-8e4c-7620674a276c",
   "metadata": {},
   "outputs": [],
   "source": [
    "def nos(*a):\n",
    "    return a"
   ]
  },
  {
   "cell_type": "code",
   "execution_count": 84,
   "id": "ca554aab-5a2d-4a81-8319-e91bfce7ee49",
   "metadata": {},
   "outputs": [
    {
     "data": {
      "text/plain": [
       "(1, 2)"
      ]
     },
     "execution_count": 84,
     "metadata": {},
     "output_type": "execute_result"
    }
   ],
   "source": [
    "nos(1,2)"
   ]
  },
  {
   "cell_type": "code",
   "execution_count": 85,
   "id": "34192695-2900-4ef0-8cfd-52141ef09c37",
   "metadata": {},
   "outputs": [],
   "source": [
    "## it returns tuple"
   ]
  },
  {
   "cell_type": "code",
   "execution_count": 86,
   "id": "19325c6c-cb9d-4792-bc7a-1697e8ced142",
   "metadata": {},
   "outputs": [
    {
     "data": {
      "text/plain": [
       "(1, 3, 5, 6, 7)"
      ]
     },
     "execution_count": 86,
     "metadata": {},
     "output_type": "execute_result"
    }
   ],
   "source": [
    "nos(1,3,5,6,7)"
   ]
  },
  {
   "cell_type": "code",
   "execution_count": 87,
   "id": "ac2bd729-7730-49e7-be39-81ed7a706d44",
   "metadata": {},
   "outputs": [],
   "source": [
    "def nos(*a):\n",
    "    return sum(a)"
   ]
  },
  {
   "cell_type": "code",
   "execution_count": 88,
   "id": "c9eec758-6126-4ca9-a8fb-ab33fa2f3ae3",
   "metadata": {},
   "outputs": [
    {
     "data": {
      "text/plain": [
       "441"
      ]
     },
     "execution_count": 88,
     "metadata": {},
     "output_type": "execute_result"
    }
   ],
   "source": [
    "nos(1,2,354,6,78)"
   ]
  },
  {
   "cell_type": "code",
   "execution_count": 89,
   "id": "f6f1c229-459c-43e0-8325-23bae62e6c66",
   "metadata": {},
   "outputs": [],
   "source": [
    "def nos(*a):\n",
    "    x=1\n",
    "    for i in a:\n",
    "        x*=i\n",
    "    return x"
   ]
  },
  {
   "cell_type": "code",
   "execution_count": 90,
   "id": "80ae28e3-8529-48c2-bda9-b29246806a91",
   "metadata": {},
   "outputs": [
    {
     "data": {
      "text/plain": [
       "340"
      ]
     },
     "execution_count": 90,
     "metadata": {},
     "output_type": "execute_result"
    }
   ],
   "source": [
    " nos(1,2,34,5)"
   ]
  },
  {
   "cell_type": "code",
   "execution_count": 1,
   "id": "1e4f97e0-2f8b-4382-89a7-7ca531478346",
   "metadata": {},
   "outputs": [],
   "source": [
    "## wap to accept string parameters  and returs max length among parameters"
   ]
  },
  {
   "cell_type": "code",
   "execution_count": 2,
   "id": "35478d8c-c175-4dcd-9213-9773d38c4429",
   "metadata": {},
   "outputs": [],
   "source": [
    "def max_len(*a):\n",
    "    x=0\n",
    "    for i in a:\n",
    "        if len(i)>x:\n",
    "            x=len(i)\n",
    "    return x\n",
    "    "
   ]
  },
  {
   "cell_type": "code",
   "execution_count": 3,
   "id": "a411d0bf-d626-4387-9383-b0c53b005857",
   "metadata": {},
   "outputs": [
    {
     "data": {
      "text/plain": [
       "4"
      ]
     },
     "execution_count": 3,
     "metadata": {},
     "output_type": "execute_result"
    }
   ],
   "source": [
    "max_len('hy','hwry')"
   ]
  },
  {
   "cell_type": "code",
   "execution_count": 4,
   "id": "f17711b0-58dd-4d74-bf6b-8152d444be46",
   "metadata": {},
   "outputs": [
    {
     "data": {
      "text/plain": [
       "12"
      ]
     },
     "execution_count": 4,
     "metadata": {},
     "output_type": "execute_result"
    }
   ],
   "source": [
    "max_len('sdtfhj','sadfkjl','gggggggggggg','',)"
   ]
  },
  {
   "cell_type": "code",
   "execution_count": null,
   "id": "0d990847-f02f-4906-a5df-6fedca4eaab8",
   "metadata": {},
   "outputs": [],
   "source": []
  }
 ],
 "metadata": {
  "kernelspec": {
   "display_name": "Python 3 (ipykernel)",
   "language": "python",
   "name": "python3"
  },
  "language_info": {
   "codemirror_mode": {
    "name": "ipython",
    "version": 3
   },
   "file_extension": ".py",
   "mimetype": "text/x-python",
   "name": "python",
   "nbconvert_exporter": "python",
   "pygments_lexer": "ipython3",
   "version": "3.10.6"
  }
 },
 "nbformat": 4,
 "nbformat_minor": 5
}
