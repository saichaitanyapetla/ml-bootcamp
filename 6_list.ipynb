{
 "cells": [
  {
   "cell_type": "markdown",
   "id": "84eab295-b788-461d-8d54-15f6e31402e9",
   "metadata": {},
   "source": [
    "## list"
   ]
  },
  {
   "cell_type": "code",
   "execution_count": 1,
   "id": "7fe1cb35-9378-448e-8ec6-3426aa676922",
   "metadata": {},
   "outputs": [],
   "source": [
    "# list - collection of values and is represented by []"
   ]
  },
  {
   "cell_type": "code",
   "execution_count": 2,
   "id": "bf68719e-2c94-4df3-abd3-4e9dbea6c640",
   "metadata": {},
   "outputs": [],
   "source": [
    "a=[] # -- its an empty list"
   ]
  },
  {
   "cell_type": "code",
   "execution_count": 3,
   "id": "f76ae23f-b6c2-4dff-b64f-4ed90cd46c50",
   "metadata": {},
   "outputs": [
    {
     "data": {
      "text/plain": [
       "[]"
      ]
     },
     "execution_count": 3,
     "metadata": {},
     "output_type": "execute_result"
    }
   ],
   "source": [
    "a"
   ]
  },
  {
   "cell_type": "code",
   "execution_count": 4,
   "id": "e751efc3-f916-46dd-8d46-07cc053ffcec",
   "metadata": {},
   "outputs": [],
   "source": [
    "a=[1,2,3] ## -- homogeneous list"
   ]
  },
  {
   "cell_type": "code",
   "execution_count": 5,
   "id": "ac19e61e-e312-4585-b911-a92dcd9346aa",
   "metadata": {},
   "outputs": [
    {
     "data": {
      "text/plain": [
       "[1, 2, 3]"
      ]
     },
     "execution_count": 5,
     "metadata": {},
     "output_type": "execute_result"
    }
   ],
   "source": [
    "a"
   ]
  },
  {
   "cell_type": "code",
   "execution_count": 6,
   "id": "f752b090-9f25-48f5-ba49-be85d6d457b3",
   "metadata": {},
   "outputs": [],
   "source": [
    " a=['chay',3,1.7] # -- heterogenous list"
   ]
  },
  {
   "cell_type": "code",
   "execution_count": 7,
   "id": "c836a704-d2b0-4ce7-bb38-1ac5234e3c6e",
   "metadata": {},
   "outputs": [
    {
     "data": {
      "text/plain": [
       "['chay', 3, 1.7]"
      ]
     },
     "execution_count": 7,
     "metadata": {},
     "output_type": "execute_result"
    }
   ],
   "source": [
    "a"
   ]
  },
  {
   "cell_type": "markdown",
   "id": "a3e30de9-8e52-4f00-bd7a-17119e6d998e",
   "metadata": {},
   "source": [
    "## list()"
   ]
  },
  {
   "cell_type": "code",
   "execution_count": 8,
   "id": "ba72b8f8-9b29-4f3a-9d03-ae934832c2d4",
   "metadata": {},
   "outputs": [],
   "source": [
    "## list() converts any iterable into list"
   ]
  },
  {
   "cell_type": "code",
   "execution_count": 9,
   "id": "1e08e586-266b-4ece-86cc-703d46d6b830",
   "metadata": {},
   "outputs": [],
   "source": [
    "a='chay'"
   ]
  },
  {
   "cell_type": "code",
   "execution_count": 10,
   "id": "6b8b5b0b-d2f7-48ba-8543-6ace306c5db4",
   "metadata": {},
   "outputs": [
    {
     "data": {
      "text/plain": [
       "['c', 'h', 'a', 'y']"
      ]
     },
     "execution_count": 10,
     "metadata": {},
     "output_type": "execute_result"
    }
   ],
   "source": [
    "list(a)"
   ]
  },
  {
   "cell_type": "code",
   "execution_count": 11,
   "id": "172223da-eb89-48b0-b837-80dac6c91373",
   "metadata": {},
   "outputs": [],
   "source": [
    "a=(10,2,34) # -- tuple\n"
   ]
  },
  {
   "cell_type": "code",
   "execution_count": 12,
   "id": "8e7fd01f-d394-43cd-ab4e-a112084b3704",
   "metadata": {},
   "outputs": [
    {
     "data": {
      "text/plain": [
       "tuple"
      ]
     },
     "execution_count": 12,
     "metadata": {},
     "output_type": "execute_result"
    }
   ],
   "source": [
    "type(a)"
   ]
  },
  {
   "cell_type": "code",
   "execution_count": 13,
   "id": "bba7c115-dd6f-41fe-a6a6-c30f2a1fce1e",
   "metadata": {},
   "outputs": [
    {
     "data": {
      "text/plain": [
       "[10, 2, 34]"
      ]
     },
     "execution_count": 13,
     "metadata": {},
     "output_type": "execute_result"
    }
   ],
   "source": [
    "list(a)"
   ]
  },
  {
   "cell_type": "code",
   "execution_count": 15,
   "id": "41dbbddf-532c-49df-ab91-faee15cf24ad",
   "metadata": {},
   "outputs": [
    {
     "data": {
      "text/plain": [
       "[5, 67, 'by']"
      ]
     },
     "execution_count": 15,
     "metadata": {},
     "output_type": "execute_result"
    }
   ],
   "source": [
    "list([5,67,'by']) # -- we can pass a list in list()"
   ]
  },
  {
   "cell_type": "code",
   "execution_count": 16,
   "id": "4944c554-8179-4b93-a924-f32e85d2cd3d",
   "metadata": {},
   "outputs": [],
   "source": [
    "## slice operator in list"
   ]
  },
  {
   "cell_type": "code",
   "execution_count": 17,
   "id": "556a8d74-b921-4fe9-95d3-8bd3ce3af1b2",
   "metadata": {},
   "outputs": [],
   "source": [
    "a=[1,2,3]"
   ]
  },
  {
   "cell_type": "code",
   "execution_count": 18,
   "id": "b5aa357b-f6ed-462e-a026-06d7170b7ea7",
   "metadata": {},
   "outputs": [
    {
     "data": {
      "text/plain": [
       "3"
      ]
     },
     "execution_count": 18,
     "metadata": {},
     "output_type": "execute_result"
    }
   ],
   "source": [
    "a[2]"
   ]
  },
  {
   "cell_type": "code",
   "execution_count": 19,
   "id": "45dbad25-e448-4d79-a7f6-bcf4a08a9b74",
   "metadata": {},
   "outputs": [
    {
     "data": {
      "text/plain": [
       "[1, 2, 3]"
      ]
     },
     "execution_count": 19,
     "metadata": {},
     "output_type": "execute_result"
    }
   ],
   "source": [
    "a[:]"
   ]
  },
  {
   "cell_type": "code",
   "execution_count": 20,
   "id": "c1c79353-9954-4127-9775-313deae02e82",
   "metadata": {},
   "outputs": [
    {
     "data": {
      "text/plain": [
       "[3, 2, 1]"
      ]
     },
     "execution_count": 20,
     "metadata": {},
     "output_type": "execute_result"
    }
   ],
   "source": [
    "a[::-1]"
   ]
  },
  {
   "cell_type": "code",
   "execution_count": 21,
   "id": "1d0f70ff-8bcf-4fd2-8409-e7b3c987af80",
   "metadata": {},
   "outputs": [],
   "source": [
    "## modify list"
   ]
  },
  {
   "cell_type": "code",
   "execution_count": 22,
   "id": "d5d395dd-48c3-4153-a4ea-d687e4a1b308",
   "metadata": {},
   "outputs": [],
   "source": [
    "a[::-1]=['chay','petla','hey']"
   ]
  },
  {
   "cell_type": "code",
   "execution_count": 23,
   "id": "f08ef58c-ebb3-4f74-945b-20dfb328f73b",
   "metadata": {},
   "outputs": [
    {
     "data": {
      "text/plain": [
       "['hey', 'petla', 'chay']"
      ]
     },
     "execution_count": 23,
     "metadata": {},
     "output_type": "execute_result"
    }
   ],
   "source": [
    "a"
   ]
  },
  {
   "cell_type": "code",
   "execution_count": 24,
   "id": "0536bedc-be6f-4e45-8b18-0abdcccb09b8",
   "metadata": {},
   "outputs": [],
   "source": [
    "# list concatenation"
   ]
  },
  {
   "cell_type": "code",
   "execution_count": 25,
   "id": "902148dc-779e-47d1-aa8b-d36134a718d3",
   "metadata": {},
   "outputs": [],
   "source": [
    "a=[1,2,3]"
   ]
  },
  {
   "cell_type": "code",
   "execution_count": 26,
   "id": "b75c24c2-1590-4a8d-94cf-432cd14d65b6",
   "metadata": {},
   "outputs": [],
   "source": [
    "b=[2,4,7]"
   ]
  },
  {
   "cell_type": "code",
   "execution_count": 27,
   "id": "73c6e817-f15f-437c-8cff-58063a7b1d33",
   "metadata": {},
   "outputs": [
    {
     "data": {
      "text/plain": [
       "[1, 2, 3, 2, 4, 7]"
      ]
     },
     "execution_count": 27,
     "metadata": {},
     "output_type": "execute_result"
    }
   ],
   "source": [
    "a+b"
   ]
  },
  {
   "cell_type": "code",
   "execution_count": 28,
   "id": "15ef81f3-362f-4a2b-8a97-6fa8029477c4",
   "metadata": {},
   "outputs": [],
   "source": [
    "a=['chay','petla','hy']\n",
    "b=['hy','ju','ku']"
   ]
  },
  {
   "cell_type": "code",
   "execution_count": 29,
   "id": "e516e820-9efd-4826-8984-21059cf2b300",
   "metadata": {},
   "outputs": [
    {
     "data": {
      "text/plain": [
       "['chay', 'petla', 'hy', 'hy', 'ju', 'ku']"
      ]
     },
     "execution_count": 29,
     "metadata": {},
     "output_type": "execute_result"
    }
   ],
   "source": [
    "a+b"
   ]
  },
  {
   "cell_type": "code",
   "execution_count": 30,
   "id": "527fbdab-f99e-47a2-aec1-8d3029ee5e39",
   "metadata": {},
   "outputs": [
    {
     "ename": "TypeError",
     "evalue": "can only concatenate list (not \"str\") to list",
     "output_type": "error",
     "traceback": [
      "\u001b[0;31m---------------------------------------------------------------------------\u001b[0m",
      "\u001b[0;31mTypeError\u001b[0m                                 Traceback (most recent call last)",
      "Cell \u001b[0;32mIn [30], line 1\u001b[0m\n\u001b[0;32m----> 1\u001b[0m \u001b[43ma\u001b[49m\u001b[38;5;241;43m+\u001b[39;49m\u001b[38;5;124;43m\"\u001b[39;49m\u001b[38;5;124;43mju\u001b[39;49m\u001b[38;5;124;43m\"\u001b[39;49m\n",
      "\u001b[0;31mTypeError\u001b[0m: can only concatenate list (not \"str\") to list"
     ]
    }
   ],
   "source": [
    "a+\"ju\""
   ]
  },
  {
   "cell_type": "code",
   "execution_count": 31,
   "id": "6cfcc5f2-5c0b-4d9c-88b4-c9b73dd71b46",
   "metadata": {},
   "outputs": [
    {
     "data": {
      "text/plain": [
       "['chay', 'petla', 'hy', 'gyiklkjhgf']"
      ]
     },
     "execution_count": 31,
     "metadata": {},
     "output_type": "execute_result"
    }
   ],
   "source": [
    "a+['gyiklkjhgf']"
   ]
  },
  {
   "cell_type": "code",
   "execution_count": 32,
   "id": "b0ccb8fc-9c1a-48a3-be53-73ad1d009760",
   "metadata": {},
   "outputs": [],
   "source": [
    "## list multipilcation"
   ]
  },
  {
   "cell_type": "code",
   "execution_count": 33,
   "id": "9f3c0dbc-a9be-4b0c-b829-5c51b00c6b0b",
   "metadata": {},
   "outputs": [
    {
     "data": {
      "text/plain": [
       "['chay', 'petla', 'hy']"
      ]
     },
     "execution_count": 33,
     "metadata": {},
     "output_type": "execute_result"
    }
   ],
   "source": [
    "a"
   ]
  },
  {
   "cell_type": "code",
   "execution_count": 34,
   "id": "3ecef7ac-1d32-45b8-9fb0-37dcbe37c1df",
   "metadata": {},
   "outputs": [
    {
     "data": {
      "text/plain": [
       "['chay', 'petla', 'hy', 'chay', 'petla', 'hy', 'chay', 'petla', 'hy']"
      ]
     },
     "execution_count": 34,
     "metadata": {},
     "output_type": "execute_result"
    }
   ],
   "source": [
    "a*3"
   ]
  },
  {
   "cell_type": "code",
   "execution_count": 35,
   "id": "31bd6960-f55c-41b2-88ec-b5234dd2c8f4",
   "metadata": {},
   "outputs": [
    {
     "data": {
      "text/plain": [
       "['chay', 'petla', 'hy', 'chay', 'petla', 'hy']"
      ]
     },
     "execution_count": 35,
     "metadata": {},
     "output_type": "execute_result"
    }
   ],
   "source": [
    "a*2"
   ]
  },
  {
   "cell_type": "code",
   "execution_count": 36,
   "id": "30466ba5-7b74-4067-8f32-31f77bddf677",
   "metadata": {},
   "outputs": [],
   "source": [
    "## membership operator in list"
   ]
  },
  {
   "cell_type": "code",
   "execution_count": 37,
   "id": "0f401139-9131-43c6-9f10-0d2c79349569",
   "metadata": {},
   "outputs": [
    {
     "data": {
      "text/plain": [
       "True"
      ]
     },
     "execution_count": 37,
     "metadata": {},
     "output_type": "execute_result"
    }
   ],
   "source": [
    "'hy' in a"
   ]
  },
  {
   "cell_type": "code",
   "execution_count": 38,
   "id": "0a1e3e13-3633-479e-8bd2-f18f4c66ecd7",
   "metadata": {},
   "outputs": [
    {
     "data": {
      "text/plain": [
       "False"
      ]
     },
     "execution_count": 38,
     "metadata": {},
     "output_type": "execute_result"
    }
   ],
   "source": [
    "'Hy' in a"
   ]
  },
  {
   "cell_type": "code",
   "execution_count": 39,
   "id": "57fbbe1a-7346-44b9-abf4-e9478d83702c",
   "metadata": {},
   "outputs": [
    {
     "data": {
      "text/plain": [
       "False"
      ]
     },
     "execution_count": 39,
     "metadata": {},
     "output_type": "execute_result"
    }
   ],
   "source": [
    "1 in a"
   ]
  },
  {
   "cell_type": "markdown",
   "id": "345b01a5-2412-411b-a186-04633f338e06",
   "metadata": {},
   "source": [
    "## list functions -- list(),len(),max(),min(),sum(),any(),all(),sorted()"
   ]
  },
  {
   "cell_type": "code",
   "execution_count": 41,
   "id": "abc45962-e1a5-4a9e-bb7e-cb042665b88f",
   "metadata": {},
   "outputs": [
    {
     "data": {
      "text/plain": [
       "['chay', 'petla', 'hy']"
      ]
     },
     "execution_count": 41,
     "metadata": {},
     "output_type": "execute_result"
    }
   ],
   "source": [
    "a"
   ]
  },
  {
   "cell_type": "code",
   "execution_count": 42,
   "id": "160fe28c-ff9d-46ad-98f9-b468b09a0e4f",
   "metadata": {},
   "outputs": [
    {
     "data": {
      "text/plain": [
       "3"
      ]
     },
     "execution_count": 42,
     "metadata": {},
     "output_type": "execute_result"
    }
   ],
   "source": [
    "len(a)"
   ]
  },
  {
   "cell_type": "code",
   "execution_count": 43,
   "id": "91c766a4-02c0-44f2-9391-b2cf130303e7",
   "metadata": {},
   "outputs": [
    {
     "data": {
      "text/plain": [
       "'petla'"
      ]
     },
     "execution_count": 43,
     "metadata": {},
     "output_type": "execute_result"
    }
   ],
   "source": [
    "max(a)"
   ]
  },
  {
   "cell_type": "code",
   "execution_count": 46,
   "id": "8a3ddca5-22bb-4532-a4aa-b50ccd5eaa72",
   "metadata": {},
   "outputs": [],
   "source": [
    "a[1]='etl'"
   ]
  },
  {
   "cell_type": "code",
   "execution_count": 47,
   "id": "9bf85897-b723-4dc5-8221-01fd1a56be22",
   "metadata": {},
   "outputs": [
    {
     "data": {
      "text/plain": [
       "'hy'"
      ]
     },
     "execution_count": 47,
     "metadata": {},
     "output_type": "execute_result"
    }
   ],
   "source": [
    "max(a)"
   ]
  },
  {
   "cell_type": "code",
   "execution_count": 48,
   "id": "06a9e72c-a127-42c6-a393-1e5ca022bfd9",
   "metadata": {},
   "outputs": [
    {
     "ename": "TypeError",
     "evalue": "unsupported operand type(s) for +: 'int' and 'str'",
     "output_type": "error",
     "traceback": [
      "\u001b[0;31m---------------------------------------------------------------------------\u001b[0m",
      "\u001b[0;31mTypeError\u001b[0m                                 Traceback (most recent call last)",
      "Cell \u001b[0;32mIn [48], line 1\u001b[0m\n\u001b[0;32m----> 1\u001b[0m \u001b[38;5;28;43msum\u001b[39;49m\u001b[43m(\u001b[49m\u001b[43ma\u001b[49m\u001b[43m)\u001b[49m\n",
      "\u001b[0;31mTypeError\u001b[0m: unsupported operand type(s) for +: 'int' and 'str'"
     ]
    }
   ],
   "source": [
    "sum(a)"
   ]
  },
  {
   "cell_type": "code",
   "execution_count": 49,
   "id": "aec047bb-83c2-4e0e-bc54-a901ae615918",
   "metadata": {},
   "outputs": [
    {
     "data": {
      "text/plain": [
       "True"
      ]
     },
     "execution_count": 49,
     "metadata": {},
     "output_type": "execute_result"
    }
   ],
   "source": [
    "any(a) ## if atleast one value is True"
   ]
  },
  {
   "cell_type": "code",
   "execution_count": 50,
   "id": "c5c19761-47a7-4990-8a09-7876b2deae9c",
   "metadata": {},
   "outputs": [
    {
     "data": {
      "text/plain": [
       "True"
      ]
     },
     "execution_count": 50,
     "metadata": {},
     "output_type": "execute_result"
    }
   ],
   "source": [
    "all(a) ## if all the elements are true"
   ]
  },
  {
   "cell_type": "code",
   "execution_count": 51,
   "id": "9f28e138-b8ed-419b-8224-281762364cd3",
   "metadata": {},
   "outputs": [
    {
     "data": {
      "text/plain": [
       "['chay', 'etl', 'hy']"
      ]
     },
     "execution_count": 51,
     "metadata": {},
     "output_type": "execute_result"
    }
   ],
   "source": [
    "sorted(a)"
   ]
  },
  {
   "cell_type": "code",
   "execution_count": 53,
   "id": "ab9b8051-3267-47f3-a767-2def8f1c8f9f",
   "metadata": {},
   "outputs": [
    {
     "data": {
      "text/plain": [
       "10"
      ]
     },
     "execution_count": 53,
     "metadata": {},
     "output_type": "execute_result"
    }
   ],
   "source": [
    "b=[1,2,3,4]\n",
    "sum(b)"
   ]
  },
  {
   "cell_type": "code",
   "execution_count": 54,
   "id": "72269b8d-9f81-424c-8a32-552e4a41be27",
   "metadata": {},
   "outputs": [
    {
     "data": {
      "text/plain": [
       "[1, 2, 3, 4]"
      ]
     },
     "execution_count": 54,
     "metadata": {},
     "output_type": "execute_result"
    }
   ],
   "source": [
    "sorted(b)"
   ]
  },
  {
   "cell_type": "code",
   "execution_count": 55,
   "id": "6973b51a-f354-4e2f-9815-a7e7798121e5",
   "metadata": {},
   "outputs": [
    {
     "data": {
      "text/plain": [
       "[4, 3, 2, 1]"
      ]
     },
     "execution_count": 55,
     "metadata": {},
     "output_type": "execute_result"
    }
   ],
   "source": [
    "sorted(b,reverse=True)"
   ]
  },
  {
   "cell_type": "markdown",
   "id": "b6264f4e-d2e5-40d6-b8d8-6168d256ed5d",
   "metadata": {
    "tags": []
   },
   "source": [
    "## list methods -- append(),extend(),insert(),remove(),pop(),clear(),sort(),reverse(),index(),count()"
   ]
  },
  {
   "cell_type": "code",
   "execution_count": 56,
   "id": "c0951fc6-ebdb-4577-87b2-d3d9ac4f156f",
   "metadata": {},
   "outputs": [
    {
     "data": {
      "text/plain": [
       "['chay', 'etl', 'hy']"
      ]
     },
     "execution_count": 56,
     "metadata": {},
     "output_type": "execute_result"
    }
   ],
   "source": [
    "a"
   ]
  },
  {
   "cell_type": "code",
   "execution_count": 57,
   "id": "6b52a01d-0858-4875-b36d-d9f28bb78658",
   "metadata": {},
   "outputs": [
    {
     "data": {
      "text/plain": [
       "['chay', 'etl', 'hy', 'pe']"
      ]
     },
     "execution_count": 57,
     "metadata": {},
     "output_type": "execute_result"
    }
   ],
   "source": [
    "a.append('pe') ## append() add as last element\n",
    "a"
   ]
  },
  {
   "cell_type": "code",
   "execution_count": 58,
   "id": "c8795c7e-af37-4dd6-9b3b-67168a535a88",
   "metadata": {},
   "outputs": [
    {
     "data": {
      "text/plain": [
       "['chay', 'etl', 'hy', 'pe', [1, 2, 3, 4]]"
      ]
     },
     "execution_count": 58,
     "metadata": {},
     "output_type": "execute_result"
    }
   ],
   "source": [
    "a.append(b)\n",
    "a"
   ]
  },
  {
   "cell_type": "code",
   "execution_count": 61,
   "id": "580b5f90-042b-4c1e-becc-047e285f9066",
   "metadata": {},
   "outputs": [
    {
     "data": {
      "text/plain": [
       "['chay',\n",
       " 'etl',\n",
       " 'hy',\n",
       " 'pe',\n",
       " [1, 2, 3, 4],\n",
       " 'o',\n",
       " 'i',\n",
       " 'u',\n",
       " 'y',\n",
       " 't',\n",
       " 'r',\n",
       " 'f',\n",
       " 'hiuytr',\n",
       " 'iouytgf',\n",
       " 'o',\n",
       " 'i',\n",
       " 'u',\n",
       " 'y',\n",
       " 't',\n",
       " 'r',\n",
       " 'f']"
      ]
     },
     "execution_count": 61,
     "metadata": {},
     "output_type": "execute_result"
    }
   ],
   "source": [
    "a.extend('oiuytrf') ## add the iterable elemnts in the list but not as whole\n",
    "a"
   ]
  },
  {
   "cell_type": "code",
   "execution_count": 60,
   "id": "d902cc61-56b9-4e5b-bbaa-8ce0e7e99080",
   "metadata": {},
   "outputs": [
    {
     "data": {
      "text/plain": [
       "['chay',\n",
       " 'etl',\n",
       " 'hy',\n",
       " 'pe',\n",
       " [1, 2, 3, 4],\n",
       " 'o',\n",
       " 'i',\n",
       " 'u',\n",
       " 'y',\n",
       " 't',\n",
       " 'r',\n",
       " 'f',\n",
       " 'hiuytr',\n",
       " 'iouytgf']"
      ]
     },
     "execution_count": 60,
     "metadata": {},
     "output_type": "execute_result"
    }
   ],
   "source": [
    "a.extend(['hiuytr','iouytgf'])\n",
    "a"
   ]
  },
  {
   "cell_type": "code",
   "execution_count": 63,
   "id": "d0014942-559b-4ef2-83ca-86358abd39ef",
   "metadata": {},
   "outputs": [
    {
     "data": {
      "text/plain": [
       "[1, 2, 3, 4]"
      ]
     },
     "execution_count": 63,
     "metadata": {},
     "output_type": "execute_result"
    }
   ],
   "source": [
    "a[4]"
   ]
  },
  {
   "cell_type": "code",
   "execution_count": 64,
   "id": "b0fff12d-a9f1-49a1-b261-bd5e0502d8bd",
   "metadata": {},
   "outputs": [],
   "source": [
    "# index nesting"
   ]
  },
  {
   "cell_type": "code",
   "execution_count": 65,
   "id": "ac9cc500-1954-4d68-85fe-f6f009a1bb35",
   "metadata": {},
   "outputs": [
    {
     "data": {
      "text/plain": [
       "3"
      ]
     },
     "execution_count": 65,
     "metadata": {},
     "output_type": "execute_result"
    }
   ],
   "source": [
    "a[4][2]"
   ]
  },
  {
   "cell_type": "code",
   "execution_count": 67,
   "id": "11d28a6f-56e6-45ea-b728-c3765159cf18",
   "metadata": {},
   "outputs": [
    {
     "data": {
      "text/plain": [
       "'iouytgf'"
      ]
     },
     "execution_count": 67,
     "metadata": {},
     "output_type": "execute_result"
    }
   ],
   "source": [
    "a[13]"
   ]
  },
  {
   "cell_type": "code",
   "execution_count": 68,
   "id": "603abd45-bb1a-4ac1-a2d1-06375349372f",
   "metadata": {},
   "outputs": [
    {
     "data": {
      "text/plain": [
       "'t'"
      ]
     },
     "execution_count": 68,
     "metadata": {},
     "output_type": "execute_result"
    }
   ],
   "source": [
    "a[13][4]"
   ]
  },
  {
   "cell_type": "code",
   "execution_count": 70,
   "id": "af1adb6b-f5de-47ec-9b20-0e2f780bf1bc",
   "metadata": {},
   "outputs": [
    {
     "ename": "TypeError",
     "evalue": "'int' object is not iterable",
     "output_type": "error",
     "traceback": [
      "\u001b[0;31m---------------------------------------------------------------------------\u001b[0m",
      "\u001b[0;31mTypeError\u001b[0m                                 Traceback (most recent call last)",
      "Cell \u001b[0;32mIn [70], line 1\u001b[0m\n\u001b[0;32m----> 1\u001b[0m \u001b[43ma\u001b[49m\u001b[38;5;241;43m.\u001b[39;49m\u001b[43mextend\u001b[49m\u001b[43m(\u001b[49m\u001b[38;5;241;43m12\u001b[39;49m\u001b[43m)\u001b[49m\n",
      "\u001b[0;31mTypeError\u001b[0m: 'int' object is not iterable"
     ]
    }
   ],
   "source": [
    "a.extend(12) ## extend() takes only iterable object"
   ]
  },
  {
   "cell_type": "code",
   "execution_count": 71,
   "id": "932a2390-0e04-4b0d-9887-6de47434b68e",
   "metadata": {},
   "outputs": [
    {
     "data": {
      "text/plain": [
       "[1, 2, 3, 4]"
      ]
     },
     "execution_count": 71,
     "metadata": {},
     "output_type": "execute_result"
    }
   ],
   "source": [
    "b"
   ]
  },
  {
   "cell_type": "code",
   "execution_count": 73,
   "id": "91b9baee-6a68-4a3e-b001-7401d9689f69",
   "metadata": {},
   "outputs": [
    {
     "data": {
      "text/plain": [
       "[1, 2, 3, 5678, 5678, 4]"
      ]
     },
     "execution_count": 73,
     "metadata": {},
     "output_type": "execute_result"
    }
   ],
   "source": [
    "b.insert(3,5678) ## insert(index,value)\n",
    "b"
   ]
  },
  {
   "cell_type": "code",
   "execution_count": 74,
   "id": "91148edf-3cf3-43bd-ab0a-a7eea200239b",
   "metadata": {},
   "outputs": [
    {
     "data": {
      "text/plain": [
       "1"
      ]
     },
     "execution_count": 74,
     "metadata": {},
     "output_type": "execute_result"
    }
   ],
   "source": [
    "b.count(3)## gives count of the variable in list"
   ]
  },
  {
   "cell_type": "code",
   "execution_count": 75,
   "id": "beea3701-4df1-45f6-b535-d02973f9426d",
   "metadata": {},
   "outputs": [
    {
     "data": {
      "text/plain": [
       "2"
      ]
     },
     "execution_count": 75,
     "metadata": {},
     "output_type": "execute_result"
    }
   ],
   "source": [
    "b.count(5678)"
   ]
  },
  {
   "cell_type": "code",
   "execution_count": 76,
   "id": "ddaa734c-b286-4d68-9e20-942efc5c76e0",
   "metadata": {},
   "outputs": [
    {
     "data": {
      "text/plain": [
       "2"
      ]
     },
     "execution_count": 76,
     "metadata": {},
     "output_type": "execute_result"
    }
   ],
   "source": [
    "b.index(3) # gives the index value of the arguement"
   ]
  },
  {
   "cell_type": "code",
   "execution_count": 77,
   "id": "90efac0a-761f-4cbe-acbb-b8aa09d338bb",
   "metadata": {},
   "outputs": [
    {
     "data": {
      "text/plain": [
       "3"
      ]
     },
     "execution_count": 77,
     "metadata": {},
     "output_type": "execute_result"
    }
   ],
   "source": [
    "b.index(5678)"
   ]
  },
  {
   "cell_type": "code",
   "execution_count": 78,
   "id": "43d4aff4-14b4-430b-a9ba-6926486815dd",
   "metadata": {},
   "outputs": [
    {
     "ename": "ValueError",
     "evalue": "899 is not in list",
     "output_type": "error",
     "traceback": [
      "\u001b[0;31m---------------------------------------------------------------------------\u001b[0m",
      "\u001b[0;31mValueError\u001b[0m                                Traceback (most recent call last)",
      "Cell \u001b[0;32mIn [78], line 1\u001b[0m\n\u001b[0;32m----> 1\u001b[0m \u001b[43mb\u001b[49m\u001b[38;5;241;43m.\u001b[39;49m\u001b[43mindex\u001b[49m\u001b[43m(\u001b[49m\u001b[38;5;241;43m899\u001b[39;49m\u001b[43m)\u001b[49m\n",
      "\u001b[0;31mValueError\u001b[0m: 899 is not in list"
     ]
    }
   ],
   "source": [
    "b.index(899)"
   ]
  },
  {
   "cell_type": "code",
   "execution_count": 81,
   "id": "e7749c79-0fd0-42bd-a644-0e3bb11c5142",
   "metadata": {},
   "outputs": [
    {
     "data": {
      "text/plain": [
       "['a', 'e', 'i', 'o', 'u']"
      ]
     },
     "execution_count": 81,
     "metadata": {},
     "output_type": "execute_result"
    }
   ],
   "source": [
    "vowels=['a','e','i','o','u']\n",
    "\n"
   ]
  },
  {
   "cell_type": "code",
   "execution_count": 83,
   "id": "61829f0e-a5e1-4ff6-a43b-153a3ceb31a6",
   "metadata": {},
   "outputs": [],
   "source": [
    "vowels.remove('a') # removes the element from the list"
   ]
  },
  {
   "cell_type": "code",
   "execution_count": 84,
   "id": "63d246ef-bedc-492c-970d-cc9f562bd4a0",
   "metadata": {},
   "outputs": [
    {
     "data": {
      "text/plain": [
       "['e', 'i', 'o', 'u']"
      ]
     },
     "execution_count": 84,
     "metadata": {},
     "output_type": "execute_result"
    }
   ],
   "source": [
    "vowels"
   ]
  },
  {
   "cell_type": "code",
   "execution_count": 86,
   "id": "1466ef07-47d8-4d61-8168-2b1c0f3f5828",
   "metadata": {},
   "outputs": [
    {
     "data": {
      "text/plain": [
       "'o'"
      ]
     },
     "execution_count": 86,
     "metadata": {},
     "output_type": "execute_result"
    }
   ],
   "source": [
    "vowels.pop(2) # removes the index element and returns the element"
   ]
  },
  {
   "cell_type": "code",
   "execution_count": 87,
   "id": "4997c983-0edb-4742-95e3-19b2a2ec4cb9",
   "metadata": {},
   "outputs": [
    {
     "data": {
      "text/plain": [
       "['e', 'i', 'u']"
      ]
     },
     "execution_count": 87,
     "metadata": {},
     "output_type": "execute_result"
    }
   ],
   "source": [
    "vowels"
   ]
  },
  {
   "cell_type": "code",
   "execution_count": 88,
   "id": "1484925c-3e00-4c90-9ff2-4ef017b13565",
   "metadata": {},
   "outputs": [],
   "source": [
    "## remove(element ), pop(index)- returns element "
   ]
  },
  {
   "cell_type": "code",
   "execution_count": 89,
   "id": "4ab268c4-98a1-4d74-9434-f3f9e5176979",
   "metadata": {},
   "outputs": [],
   "source": [
    "vowels.reverse() # reverse the list"
   ]
  },
  {
   "cell_type": "code",
   "execution_count": 91,
   "id": "a391df4a-03ab-4dfa-934d-1da3290b05d3",
   "metadata": {},
   "outputs": [
    {
     "data": {
      "text/plain": [
       "['u', 'i', 'e']"
      ]
     },
     "execution_count": 91,
     "metadata": {},
     "output_type": "execute_result"
    }
   ],
   "source": [
    "vowels"
   ]
  },
  {
   "cell_type": "code",
   "execution_count": 92,
   "id": "9e70ae3b-877c-483e-9e6c-f77abfd05f5b",
   "metadata": {},
   "outputs": [],
   "source": [
    "vowels.sort() # sort the list in ascending order"
   ]
  },
  {
   "cell_type": "code",
   "execution_count": 93,
   "id": "aea57b9a-ac92-4187-9949-c0f36bd2d8b1",
   "metadata": {},
   "outputs": [
    {
     "data": {
      "text/plain": [
       "['e', 'i', 'u']"
      ]
     },
     "execution_count": 93,
     "metadata": {},
     "output_type": "execute_result"
    }
   ],
   "source": [
    "vowels"
   ]
  },
  {
   "cell_type": "code",
   "execution_count": 95,
   "id": "43f9c5af-f0ad-4ea9-9c94-686ab1f64b08",
   "metadata": {},
   "outputs": [],
   "source": [
    "vowels.sort(reverse=True)"
   ]
  },
  {
   "cell_type": "code",
   "execution_count": 96,
   "id": "7a24bf4b-9b4d-475b-adae-947cf2ed61ef",
   "metadata": {},
   "outputs": [
    {
     "data": {
      "text/plain": [
       "['u', 'i', 'e']"
      ]
     },
     "execution_count": 96,
     "metadata": {},
     "output_type": "execute_result"
    }
   ],
   "source": [
    "vowels"
   ]
  },
  {
   "cell_type": "code",
   "execution_count": 97,
   "id": "46a60f74-2820-4951-bbab-d14cc0d36e66",
   "metadata": {},
   "outputs": [
    {
     "data": {
      "text/plain": [
       "1"
      ]
     },
     "execution_count": 97,
     "metadata": {},
     "output_type": "execute_result"
    }
   ],
   "source": [
    "1"
   ]
  },
  {
   "cell_type": "code",
   "execution_count": 98,
   "id": "fab05dc8-e6d8-4ed3-b0d7-0846d0ce5988",
   "metadata": {},
   "outputs": [],
   "source": [
    "## wap to print the list "
   ]
  },
  {
   "cell_type": "code",
   "execution_count": 99,
   "id": "d8b3cc7c-cd00-497e-906d-4a9963d2f59b",
   "metadata": {},
   "outputs": [
    {
     "name": "stdout",
     "output_type": "stream",
     "text": [
      "chay\n",
      "etl\n",
      "hy\n",
      "pe\n",
      "[1, 2, 3, 5678, 5678, 4]\n",
      "o\n",
      "i\n",
      "u\n",
      "y\n",
      "t\n",
      "r\n",
      "f\n",
      "hiuytr\n",
      "iouytgf\n",
      "o\n",
      "i\n",
      "u\n",
      "y\n",
      "t\n",
      "r\n",
      "f\n"
     ]
    }
   ],
   "source": [
    "for x in a:\n",
    "    print(x)"
   ]
  },
  {
   "cell_type": "code",
   "execution_count": 103,
   "id": "da7ff02d-f92f-4462-8ab6-2bd5a5ef7340",
   "metadata": {},
   "outputs": [
    {
     "name": "stdout",
     "output_type": "stream",
     "text": [
      "chay\n",
      "etl\n",
      "hy\n",
      "pe\n",
      "[1, 2, 3, 5678, 5678, 4]\n",
      "o\n",
      "i\n",
      "u\n",
      "y\n",
      "t\n",
      "r\n",
      "f\n",
      "hiuytr\n",
      "iouytgf\n",
      "o\n",
      "i\n",
      "u\n",
      "y\n",
      "t\n",
      "r\n",
      "f\n"
     ]
    }
   ],
   "source": [
    "i=0\n",
    "while i<len(a):\n",
    "    print(a[i])\n",
    "    i=i+1"
   ]
  },
  {
   "cell_type": "code",
   "execution_count": 104,
   "id": "f6e26db4-9ef7-4aa4-889b-3c904799ee32",
   "metadata": {},
   "outputs": [],
   "source": [
    "#wap to accept 5 integers from user, store them in a list and display their sum"
   ]
  },
  {
   "cell_type": "code",
   "execution_count": 111,
   "id": "368f12f9-bb93-4f9a-bfa7-c7ab1397e34c",
   "metadata": {},
   "outputs": [
    {
     "name": "stdin",
     "output_type": "stream",
     "text": [
      "enter 5 values 1 2 3 45 5\n"
     ]
    },
    {
     "data": {
      "text/plain": [
       "56"
      ]
     },
     "execution_count": 111,
     "metadata": {},
     "output_type": "execute_result"
    }
   ],
   "source": [
    "a=input(\"enter 5 values\")\n",
    "b=a.split()\n",
    "c=[]\n",
    "for i in b:\n",
    "    c.append(int(i))\n",
    "\n",
    "sum(c)\n",
    "    "
   ]
  },
  {
   "cell_type": "code",
   "execution_count": 109,
   "id": "2616ba30-2fab-409e-948e-eda4a4488b38",
   "metadata": {},
   "outputs": [
    {
     "data": {
      "text/plain": [
       "[10, 20, 30, 40, 50]"
      ]
     },
     "execution_count": 109,
     "metadata": {},
     "output_type": "execute_result"
    }
   ],
   "source": [
    "c"
   ]
  },
  {
   "cell_type": "code",
   "execution_count": 112,
   "id": "9b0bb491-0639-4ed9-bce5-ac014c32e8c2",
   "metadata": {},
   "outputs": [
    {
     "name": "stdin",
     "output_type": "stream",
     "text": [
      "enter a num 1 \n",
      "enter a num 2\n",
      "enter a num 3\n",
      "enter a num 4\n",
      "enter a num 5\n"
     ]
    },
    {
     "data": {
      "text/plain": [
       "15"
      ]
     },
     "execution_count": 112,
     "metadata": {},
     "output_type": "execute_result"
    }
   ],
   "source": [
    "inputt=5\n",
    "i=0\n",
    "a=[]\n",
    "while i<inputt:\n",
    "    a.append(int(input('enter a num')))\n",
    "    i=i+1\n",
    "sum(a)\n",
    "    "
   ]
  },
  {
   "cell_type": "code",
   "execution_count": 113,
   "id": "980f26a5-3ca8-4457-af3a-4258d4770d19",
   "metadata": {},
   "outputs": [
    {
     "data": {
      "text/plain": [
       "[1, 2, 3, 4, 5]"
      ]
     },
     "execution_count": 113,
     "metadata": {},
     "output_type": "execute_result"
    }
   ],
   "source": [
    "a"
   ]
  },
  {
   "cell_type": "code",
   "execution_count": 117,
   "id": "98d38383-c46d-49dd-a6e5-52d4a4ff0c03",
   "metadata": {},
   "outputs": [
    {
     "name": "stdin",
     "output_type": "stream",
     "text": [
      "enter a num 2\n",
      "enter a num 3\n",
      "enter a num 3\n"
     ]
    },
    {
     "name": "stdout",
     "output_type": "stream",
     "text": [
      "duplicate present enter another num\n"
     ]
    },
    {
     "name": "stdin",
     "output_type": "stream",
     "text": [
      "enter a num 4\n",
      "enter a num 5\n",
      "enter a num 5\n"
     ]
    },
    {
     "name": "stdout",
     "output_type": "stream",
     "text": [
      "duplicate present enter another num\n"
     ]
    },
    {
     "name": "stdin",
     "output_type": "stream",
     "text": [
      "enter a num 6\n"
     ]
    },
    {
     "data": {
      "text/plain": [
       "20"
      ]
     },
     "execution_count": 117,
     "metadata": {},
     "output_type": "execute_result"
    }
   ],
   "source": [
    "inputt=5\n",
    "i=0\n",
    "a=[]\n",
    "while i<inputt:\n",
    "    b=int(input('enter a num'))\n",
    "    if b not in a:\n",
    "        a.append(b)\n",
    "        i=i+1\n",
    "    else:\n",
    "        print('duplicate present enter another num')\n",
    "sum(a)"
   ]
  },
  {
   "cell_type": "code",
   "execution_count": 118,
   "id": "e1d462b1-733a-43f1-b7f1-fbaf5bd2c423",
   "metadata": {},
   "outputs": [],
   "source": [
    "# wap to take 2 lists and find how many elements are common among them"
   ]
  },
  {
   "cell_type": "code",
   "execution_count": null,
   "id": "809ae9f2-bbb4-42c3-95fd-f88c05d0f9a1",
   "metadata": {},
   "outputs": [],
   "source": [
    "l1=[1,2,3,4,5]\n",
    "l2=[2,3,4,5,6]\n"
   ]
  }
 ],
 "metadata": {
  "kernelspec": {
   "display_name": "Python 3 (ipykernel)",
   "language": "python",
   "name": "python3"
  },
  "language_info": {
   "codemirror_mode": {
    "name": "ipython",
    "version": 3
   },
   "file_extension": ".py",
   "mimetype": "text/x-python",
   "name": "python",
   "nbconvert_exporter": "python",
   "pygments_lexer": "ipython3",
   "version": "3.10.6"
  }
 },
 "nbformat": 4,
 "nbformat_minor": 5
}
