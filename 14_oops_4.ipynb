{
 "cells": [
  {
   "cell_type": "markdown",
   "id": "1623d9d9-91bf-49d4-a67a-b73308851034",
   "metadata": {},
   "source": [
    "## MRO --> method resolution order"
   ]
  },
  {
   "cell_type": "code",
   "execution_count": 1,
   "id": "c604d4f4-524c-469e-a098-07ff600bf59c",
   "metadata": {},
   "outputs": [],
   "source": [
    "## in multiple inheritance mro() is prominent"
   ]
  },
  {
   "cell_type": "code",
   "execution_count": 2,
   "id": "ff1bb4aa-c885-4dcc-8f1c-0a33e87dec28",
   "metadata": {},
   "outputs": [],
   "source": [
    "class A:\n",
    "    def __init__(self):\n",
    "        print('a is called')\n",
    "    \n",
    "class B:\n",
    "    def __init__(self):\n",
    "        print('b is called')\n",
    "    \n",
    "class C(A,B):A\n",
    "    def __init__(self):\n",
    "        print('c is called')\n",
    "    "
   ]
  },
  {
   "cell_type": "code",
   "execution_count": 3,
   "id": "646da2c8-55bd-4d34-840e-3ca3c71d103c",
   "metadata": {},
   "outputs": [
    {
     "name": "stdout",
     "output_type": "stream",
     "text": [
      "c is called\n"
     ]
    }
   ],
   "source": [
    "c=C()"
   ]
  },
  {
   "cell_type": "code",
   "execution_count": 5,
   "id": "7a13a968-f688-4acc-a7a8-9113429eb6b7",
   "metadata": {},
   "outputs": [],
   "source": [
    "class A:\n",
    "    def __init__(self):\n",
    "        print('a is called')\n",
    "    \n",
    "class B:\n",
    "    def __init__(self):\n",
    "        print('b is called')\n",
    "    \n",
    "class C(A,B):\n",
    "    pass  \n",
    "   # def __init__(self):\n",
    "    #    print('c is called')\n",
    "    "
   ]
  },
  {
   "cell_type": "code",
   "execution_count": 6,
   "id": "e5a4cfbb-a28d-4bd1-8656-79938718594d",
   "metadata": {},
   "outputs": [
    {
     "name": "stdout",
     "output_type": "stream",
     "text": [
      "a is called\n"
     ]
    }
   ],
   "source": [
    "a1=C()"
   ]
  },
  {
   "cell_type": "code",
   "execution_count": 7,
   "id": "25961e90-1c5d-41bb-b970-024c45ddd187",
   "metadata": {},
   "outputs": [],
   "source": [
    "## whenever there is no constructor available in derived class,it checks for the constructor in base class"
   ]
  },
  {
   "cell_type": "code",
   "execution_count": 8,
   "id": "5460e72e-8d50-4afe-ad1d-aee8346fd2e2",
   "metadata": {},
   "outputs": [
    {
     "data": {
      "text/plain": [
       "[__main__.C, __main__.A, __main__.B, object]"
      ]
     },
     "execution_count": 8,
     "metadata": {},
     "output_type": "execute_result"
    }
   ],
   "source": [
    "C.mro()"
   ]
  },
  {
   "cell_type": "code",
   "execution_count": 9,
   "id": "93a16717-9d7d-4d81-acbc-62ed0ef6a2e5",
   "metadata": {},
   "outputs": [],
   "source": [
    "## based on the MRO it calls the following class constructor"
   ]
  },
  {
   "cell_type": "code",
   "execution_count": 10,
   "id": "97c07cdd-11ab-4c1c-bdb2-4b78dd2a33ad",
   "metadata": {},
   "outputs": [],
   "source": [
    "### example"
   ]
  },
  {
   "cell_type": "code",
   "execution_count": 68,
   "id": "130c39ff-3f50-4841-95af-f189278ae9c8",
   "metadata": {},
   "outputs": [],
   "source": [
    "class person:\n",
    "    def __init__(self,name,age):\n",
    "       \n",
    "        self.name=name\n",
    "        self.age=age\n",
    "class student:\n",
    "    def __init__(self,rollno,per):\n",
    "        self.rollno=rollno\n",
    "        self.per=per\n",
    "class sciencestudent(person,student):\n",
    "    def __init__(self,name,age,rollno,per,stream):\n",
    "        super().__init__(name,age)\n",
    "        student.__init__(self,rollno,per)\n",
    "    \n",
    "        \n",
    "        \n",
    "        self.stream=stream\n",
    "    def __repr__(self):\n",
    "        return f'{self.name},{self.per},{self.stream}'\n",
    "        \n",
    "        "
   ]
  },
  {
   "cell_type": "code",
   "execution_count": 66,
   "id": "ac958223-c39a-4895-ada7-e0431bd6f1aa",
   "metadata": {},
   "outputs": [],
   "source": [
    "c=sciencestudent('chayyu',24,3,97,'science')"
   ]
  },
  {
   "cell_type": "code",
   "execution_count": 54,
   "id": "7eaeeeea-309b-41bf-8f96-84a4af43a73e",
   "metadata": {},
   "outputs": [
    {
     "data": {
      "text/plain": [
       "'chayyu'"
      ]
     },
     "execution_count": 54,
     "metadata": {},
     "output_type": "execute_result"
    }
   ],
   "source": [
    "c.name"
   ]
  },
  {
   "cell_type": "code",
   "execution_count": 67,
   "id": "fcbf0f0b-ce5a-4d9f-94c5-af058712976b",
   "metadata": {},
   "outputs": [
    {
     "data": {
      "text/plain": [
       "chayyu,97,science"
      ]
     },
     "execution_count": 67,
     "metadata": {},
     "output_type": "execute_result"
    }
   ],
   "source": [
    "c"
   ]
  },
  {
   "cell_type": "markdown",
   "id": "f012e0a9-74c9-4291-a733-d70465dcf0cd",
   "metadata": {},
   "source": [
    "## polymorphism"
   ]
  },
  {
   "cell_type": "code",
   "execution_count": 1,
   "id": "06654414-9215-421c-a35c-79fa2a139dc5",
   "metadata": {},
   "outputs": [],
   "source": [
    "## objectz ability to take multiple forms"
   ]
  },
  {
   "cell_type": "code",
   "execution_count": 2,
   "id": "5950ac59-cdf5-4050-93f9-4c7fdea9a468",
   "metadata": {},
   "outputs": [],
   "source": [
    "class point:\n",
    "    def __init__(self,x,y):\n",
    "        self.x=x\n",
    "        self.y=y"
   ]
  },
  {
   "cell_type": "code",
   "execution_count": 3,
   "id": "fe982294-e5f8-4380-90f9-c2f0e36e2734",
   "metadata": {},
   "outputs": [],
   "source": [
    "p1=point(2,3)\n",
    "p2=point(3,5)\n"
   ]
  },
  {
   "cell_type": "code",
   "execution_count": 4,
   "id": "5988372c-3b66-4a8b-9fc9-db9b21769246",
   "metadata": {},
   "outputs": [
    {
     "ename": "TypeError",
     "evalue": "unsupported operand type(s) for +: 'point' and 'point'",
     "output_type": "error",
     "traceback": [
      "\u001b[0;31m---------------------------------------------------------------------------\u001b[0m",
      "\u001b[0;31mTypeError\u001b[0m                                 Traceback (most recent call last)",
      "Cell \u001b[0;32mIn [4], line 1\u001b[0m\n\u001b[0;32m----> 1\u001b[0m \u001b[43mp1\u001b[49m\u001b[38;5;241;43m+\u001b[39;49m\u001b[43mp2\u001b[49m\n",
      "\u001b[0;31mTypeError\u001b[0m: unsupported operand type(s) for +: 'point' and 'point'"
     ]
    }
   ],
   "source": [
    "p1+p2"
   ]
  },
  {
   "cell_type": "code",
   "execution_count": 5,
   "id": "22889e34-e6d7-45a1-934b-45cdd333b44a",
   "metadata": {},
   "outputs": [],
   "source": [
    "## to make + operator applicable for the above class just like for int or str classes"
   ]
  },
  {
   "cell_type": "code",
   "execution_count": 6,
   "id": "c6551aa4-a90a-4700-801c-6232abd205a1",
   "metadata": {},
   "outputs": [],
   "source": [
    "## we need to overide the __add__()"
   ]
  },
  {
   "cell_type": "code",
   "execution_count": 10,
   "id": "2cdb4bf7-fad2-4b24-a0d7-af4611a1238c",
   "metadata": {},
   "outputs": [],
   "source": [
    "class point:\n",
    "    def __init__(self,x,y):\n",
    "        self.x=x\n",
    "        self.y=y\n",
    "    def __add__(self,other):\n",
    "        x=self.x+other.x\n",
    "        y=self.y+other.y\n",
    "        return point(x,y)\n",
    "    def __repr__(self):\n",
    "        return f'{self.x},{self.y}'"
   ]
  },
  {
   "cell_type": "code",
   "execution_count": 11,
   "id": "c6da4192-ded6-43a8-81d6-e7b68b13507f",
   "metadata": {},
   "outputs": [],
   "source": [
    "p1=point(2,3)\n",
    "p2=point(3,5)\n"
   ]
  },
  {
   "cell_type": "code",
   "execution_count": 12,
   "id": "6251ba5a-6846-4563-a888-888f2d9d7568",
   "metadata": {},
   "outputs": [
    {
     "data": {
      "text/plain": [
       "5,8"
      ]
     },
     "execution_count": 12,
     "metadata": {},
     "output_type": "execute_result"
    }
   ],
   "source": [
    "p1+p2"
   ]
  },
  {
   "cell_type": "code",
   "execution_count": null,
   "id": "2daf6b44-e8f5-4268-bea4-f93e9aa5c294",
   "metadata": {},
   "outputs": [],
   "source": []
  }
 ],
 "metadata": {
  "kernelspec": {
   "display_name": "Python 3 (ipykernel)",
   "language": "python",
   "name": "python3"
  },
  "language_info": {
   "codemirror_mode": {
    "name": "ipython",
    "version": 3
   },
   "file_extension": ".py",
   "mimetype": "text/x-python",
   "name": "python",
   "nbconvert_exporter": "python",
   "pygments_lexer": "ipython3",
   "version": "3.10.6"
  }
 },
 "nbformat": 4,
 "nbformat_minor": 5
}
