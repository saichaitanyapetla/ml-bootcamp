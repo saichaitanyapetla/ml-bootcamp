{
 "cells": [
  {
   "cell_type": "markdown",
   "id": "51608bb5-f198-47c4-9fd0-62fc90706f6f",
   "metadata": {},
   "source": [
    "# string\n"
   ]
  },
  {
   "cell_type": "code",
   "execution_count": 1,
   "id": "ed718ced-71c6-4505-8ea8-9a4a0eed94bd",
   "metadata": {},
   "outputs": [],
   "source": [
    "## already read about str indexing and slice operator in str"
   ]
  },
  {
   "cell_type": "code",
   "execution_count": 2,
   "id": "985ed701-5b2c-4947-af62-649eaa39ed12",
   "metadata": {},
   "outputs": [],
   "source": [
    "## wap to reverse the user input\n"
   ]
  },
  {
   "cell_type": "code",
   "execution_count": 3,
   "id": "0900d852-2c38-4059-bfc3-b08c87f0f21a",
   "metadata": {},
   "outputs": [
    {
     "name": "stdin",
     "output_type": "stream",
     "text": [
      "enter any sentence hy hw r u\n"
     ]
    },
    {
     "name": "stdout",
     "output_type": "stream",
     "text": [
      "u r wh yh\n"
     ]
    }
   ],
   "source": [
    "a=input(\"enter any sentence\")\n",
    "print(a[::-1])     ## wid slice operator"
   ]
  },
  {
   "cell_type": "code",
   "execution_count": 9,
   "id": "e6ee219d-2c0a-4547-8f5d-1fc0d33da8e1",
   "metadata": {},
   "outputs": [
    {
     "name": "stdin",
     "output_type": "stream",
     "text": [
      "enter any sentence hy hw r u\n"
     ]
    },
    {
     "name": "stdout",
     "output_type": "stream",
     "text": [
      "u r wh yh\n"
     ]
    }
   ],
   "source": [
    "a=input(\"enter any sentence\") ## using while\n",
    "i=0\n",
    "b=''\n",
    "while i<len(a):\n",
    "    b+=a[len(a)-1-i]\n",
    "    i=i+1\n",
    "print(b)"
   ]
  },
  {
   "cell_type": "code",
   "execution_count": 10,
   "id": "da10f2b5-d05f-4391-b9d7-f52e54efc111",
   "metadata": {},
   "outputs": [
    {
     "name": "stdin",
     "output_type": "stream",
     "text": [
      "enter any sentence hy hw r u\n"
     ]
    },
    {
     "name": "stdout",
     "output_type": "stream",
     "text": [
      "u r wh yh\n"
     ]
    }
   ],
   "source": [
    "a=input(\"enter any sentence\") ## using for\n",
    "b=''\n",
    "for i in range(len(a)-1,-1,-1):\n",
    "    b+=a[i]\n",
    "print(b)"
   ]
  },
  {
   "cell_type": "markdown",
   "id": "55c82f8e-6881-417c-97a1-f09c7e9f8340",
   "metadata": {},
   "source": [
    "## operators on str"
   ]
  },
  {
   "cell_type": "code",
   "execution_count": 11,
   "id": "b36c2412-4ed6-4d74-b224-38de2ae085c6",
   "metadata": {},
   "outputs": [],
   "source": [
    "## concatenation"
   ]
  },
  {
   "cell_type": "code",
   "execution_count": 12,
   "id": "318a0092-6bf6-4769-9bc2-0488eb199776",
   "metadata": {},
   "outputs": [
    {
     "data": {
      "text/plain": [
       "'sai chay'"
      ]
     },
     "execution_count": 12,
     "metadata": {},
     "output_type": "execute_result"
    }
   ],
   "source": [
    "'sai '+'chay'"
   ]
  },
  {
   "cell_type": "code",
   "execution_count": 13,
   "id": "4fb414d4-063c-46d0-afdd-e1cb9d03722d",
   "metadata": {},
   "outputs": [],
   "source": [
    "## multiplication"
   ]
  },
  {
   "cell_type": "code",
   "execution_count": 15,
   "id": "dd545e46-8836-4f79-aa18-50c2a62ee5b0",
   "metadata": {},
   "outputs": [
    {
     "data": {
      "text/plain": [
       "'sai sai sai '"
      ]
     },
     "execution_count": 15,
     "metadata": {},
     "output_type": "execute_result"
    }
   ],
   "source": [
    "'sai '*3"
   ]
  },
  {
   "cell_type": "code",
   "execution_count": 16,
   "id": "21c3dcac-2558-4a01-9fc9-6e32b1e1d542",
   "metadata": {},
   "outputs": [],
   "source": [
    "## relational"
   ]
  },
  {
   "cell_type": "code",
   "execution_count": 17,
   "id": "8b1603f8-68eb-44e5-bb4c-0d37b332bc76",
   "metadata": {},
   "outputs": [
    {
     "data": {
      "text/plain": [
       "True"
      ]
     },
     "execution_count": 17,
     "metadata": {},
     "output_type": "execute_result"
    }
   ],
   "source": [
    "'sai'>'chay'"
   ]
  },
  {
   "cell_type": "code",
   "execution_count": 18,
   "id": "e14410ca-b353-40ad-b602-9082d7c051a4",
   "metadata": {},
   "outputs": [],
   "source": [
    "## membership"
   ]
  },
  {
   "cell_type": "code",
   "execution_count": 19,
   "id": "758e7182-cb87-4154-a221-95a3265b8aac",
   "metadata": {},
   "outputs": [
    {
     "data": {
      "text/plain": [
       "True"
      ]
     },
     "execution_count": 19,
     "metadata": {},
     "output_type": "execute_result"
    }
   ],
   "source": [
    "'s' in 'sai'"
   ]
  },
  {
   "cell_type": "code",
   "execution_count": 20,
   "id": "939c1288-14f5-47e0-9c00-7704b15d8fb5",
   "metadata": {},
   "outputs": [
    {
     "data": {
      "text/plain": [
       "True"
      ]
     },
     "execution_count": 20,
     "metadata": {},
     "output_type": "execute_result"
    }
   ],
   "source": [
    "'' in 'sai'"
   ]
  },
  {
   "cell_type": "code",
   "execution_count": 21,
   "id": "10fe313b-bbdd-4d28-bb64-aefac454bcdd",
   "metadata": {},
   "outputs": [],
   "source": [
    "## identity"
   ]
  },
  {
   "cell_type": "code",
   "execution_count": 23,
   "id": "374e5a2e-9cfa-49fb-8cc9-c9ba1b056b55",
   "metadata": {},
   "outputs": [
    {
     "data": {
      "text/plain": [
       "True"
      ]
     },
     "execution_count": 23,
     "metadata": {},
     "output_type": "execute_result"
    }
   ],
   "source": [
    "a='sai'\n",
    "b='sai'\n",
    "a is b"
   ]
  },
  {
   "cell_type": "markdown",
   "id": "584ee3ca-8071-40da-9acb-ef4407f62454",
   "metadata": {},
   "source": [
    "## functions in str"
   ]
  },
  {
   "cell_type": "code",
   "execution_count": 24,
   "id": "ab89a3db-cf9a-4419-9745-b56f90bb4f4b",
   "metadata": {},
   "outputs": [],
   "source": [
    "## len()"
   ]
  },
  {
   "cell_type": "code",
   "execution_count": 25,
   "id": "1e06dbab-19de-4470-b22e-9e83c082a82d",
   "metadata": {},
   "outputs": [
    {
     "data": {
      "text/plain": [
       "4"
      ]
     },
     "execution_count": 25,
     "metadata": {},
     "output_type": "execute_result"
    }
   ],
   "source": [
    "a='chay'\n",
    "len(a)"
   ]
  },
  {
   "cell_type": "code",
   "execution_count": 26,
   "id": "7b4817e6-bea6-4c24-bcf8-b5d36bb1879e",
   "metadata": {},
   "outputs": [],
   "source": [
    "## max(), min()"
   ]
  },
  {
   "cell_type": "code",
   "execution_count": 27,
   "id": "c3ca365d-7391-45a5-b10b-ef67eabcd241",
   "metadata": {},
   "outputs": [
    {
     "data": {
      "text/plain": [
       "('y', 'a')"
      ]
     },
     "execution_count": 27,
     "metadata": {},
     "output_type": "execute_result"
    }
   ],
   "source": [
    "max(a),min(a)"
   ]
  },
  {
   "cell_type": "code",
   "execution_count": 28,
   "id": "17b7f2cb-c9d8-42ff-9ba7-5bdb8e302de3",
   "metadata": {},
   "outputs": [],
   "source": [
    "## ord(),chr()"
   ]
  },
  {
   "cell_type": "code",
   "execution_count": 29,
   "id": "334e7893-6a0f-4aa8-8796-dba8cb1b7cda",
   "metadata": {},
   "outputs": [
    {
     "data": {
      "text/plain": [
       "97"
      ]
     },
     "execution_count": 29,
     "metadata": {},
     "output_type": "execute_result"
    }
   ],
   "source": [
    "ord('a') ## gives unicode value"
   ]
  },
  {
   "cell_type": "code",
   "execution_count": 30,
   "id": "6594998d-e384-41e8-abe9-2a728734579c",
   "metadata": {},
   "outputs": [
    {
     "data": {
      "text/plain": [
       "32"
      ]
     },
     "execution_count": 30,
     "metadata": {},
     "output_type": "execute_result"
    }
   ],
   "source": [
    "ord(' ')"
   ]
  },
  {
   "cell_type": "code",
   "execution_count": 31,
   "id": "8c1bc560-3522-4603-bfc2-615fb7aaecc8",
   "metadata": {},
   "outputs": [
    {
     "data": {
      "text/plain": [
       "48"
      ]
     },
     "execution_count": 31,
     "metadata": {},
     "output_type": "execute_result"
    }
   ],
   "source": [
    "ord('0')"
   ]
  },
  {
   "cell_type": "code",
   "execution_count": 32,
   "id": "9885f025-7b60-4d18-9b21-9c24c0a9b823",
   "metadata": {},
   "outputs": [
    {
     "data": {
      "text/plain": [
       "'b'"
      ]
     },
     "execution_count": 32,
     "metadata": {},
     "output_type": "execute_result"
    }
   ],
   "source": [
    "chr(98)"
   ]
  },
  {
   "cell_type": "code",
   "execution_count": 33,
   "id": "190680c0-6c29-4805-be9b-82412e9f3be6",
   "metadata": {},
   "outputs": [
    {
     "data": {
      "text/plain": [
       "'ǈ'"
      ]
     },
     "execution_count": 33,
     "metadata": {},
     "output_type": "execute_result"
    }
   ],
   "source": [
    "chr(456)"
   ]
  },
  {
   "cell_type": "code",
   "execution_count": 34,
   "id": "b876b6d0-10ed-4250-9776-4d39a2c2ee28",
   "metadata": {},
   "outputs": [
    {
     "data": {
      "text/plain": [
       "'\\uffff'"
      ]
     },
     "execution_count": 34,
     "metadata": {},
     "output_type": "execute_result"
    }
   ],
   "source": [
    "chr(65535)"
   ]
  },
  {
   "cell_type": "code",
   "execution_count": 35,
   "id": "199be203-963d-4e75-9157-3accadeccec4",
   "metadata": {},
   "outputs": [
    {
     "data": {
      "text/plain": [
       "'𐀀'"
      ]
     },
     "execution_count": 35,
     "metadata": {},
     "output_type": "execute_result"
    }
   ],
   "source": [
    "chr(65536)"
   ]
  },
  {
   "cell_type": "markdown",
   "id": "351e3781-e602-424a-a3bc-be56894da4a9",
   "metadata": {},
   "source": [
    "## methods in str"
   ]
  },
  {
   "cell_type": "code",
   "execution_count": 1,
   "id": "437b68d3-85ed-4aeb-9e31-3098c5696ea0",
   "metadata": {},
   "outputs": [],
   "source": [
    "## capitalize() -- make first character to upper case"
   ]
  },
  {
   "cell_type": "code",
   "execution_count": 2,
   "id": "82385e34-60ab-45aa-8d15-8ca274679dd9",
   "metadata": {},
   "outputs": [
    {
     "data": {
      "text/plain": [
       "'Hey hi'"
      ]
     },
     "execution_count": 2,
     "metadata": {},
     "output_type": "execute_result"
    }
   ],
   "source": [
    "a='hey hi'\n",
    "a.capitalize()"
   ]
  },
  {
   "cell_type": "code",
   "execution_count": 3,
   "id": "2b02ab47-0534-454b-967e-9db8da24838a",
   "metadata": {},
   "outputs": [],
   "source": [
    "## upper(),lower()"
   ]
  },
  {
   "cell_type": "code",
   "execution_count": 4,
   "id": "b7013f46-a869-406b-8ce5-587c8ed0def2",
   "metadata": {},
   "outputs": [
    {
     "data": {
      "text/plain": [
       "'HEY HI'"
      ]
     },
     "execution_count": 4,
     "metadata": {},
     "output_type": "execute_result"
    }
   ],
   "source": [
    "a.upper()"
   ]
  },
  {
   "cell_type": "code",
   "execution_count": 5,
   "id": "d17e8aad-bba3-421d-b5d5-9269e1b71379",
   "metadata": {},
   "outputs": [
    {
     "data": {
      "text/plain": [
       "'hey hi'"
      ]
     },
     "execution_count": 5,
     "metadata": {},
     "output_type": "execute_result"
    }
   ],
   "source": [
    "a.lower()"
   ]
  },
  {
   "cell_type": "code",
   "execution_count": 6,
   "id": "4bdf8993-6db2-4be6-9a00-c087400e231b",
   "metadata": {},
   "outputs": [],
   "source": [
    "## swapcase()-- make upper as lower and vice-versa"
   ]
  },
  {
   "cell_type": "code",
   "execution_count": 8,
   "id": "3cb388be-3c87-4e76-8543-190a80aa4fae",
   "metadata": {},
   "outputs": [
    {
     "data": {
      "text/plain": [
       "'HY hjk SDFKJL'"
      ]
     },
     "execution_count": 8,
     "metadata": {},
     "output_type": "execute_result"
    }
   ],
   "source": [
    "b='hy HJK sdfkjl'\n",
    "b.swapcase()"
   ]
  },
  {
   "cell_type": "code",
   "execution_count": 9,
   "id": "e3ed74d4-331d-4d2c-90c5-5d214305346f",
   "metadata": {},
   "outputs": [],
   "source": [
    "## title() -- makes first charcter of every word to upper-case"
   ]
  },
  {
   "cell_type": "code",
   "execution_count": 10,
   "id": "fae76a5c-3470-452a-9013-6074d00e3f9c",
   "metadata": {},
   "outputs": [
    {
     "data": {
      "text/plain": [
       "'Hy Hjk Sdfkjl'"
      ]
     },
     "execution_count": 10,
     "metadata": {},
     "output_type": "execute_result"
    }
   ],
   "source": [
    "b.title()"
   ]
  },
  {
   "cell_type": "code",
   "execution_count": 12,
   "id": "61a3800b-04c4-4551-871f-a2f8d454e80d",
   "metadata": {},
   "outputs": [],
   "source": [
    "## isupper(),islower() -- returns true if all the characters are upper and lower respectively"
   ]
  },
  {
   "cell_type": "code",
   "execution_count": 13,
   "id": "afff16d4-2e0a-4d87-8ae0-426aea7f3f35",
   "metadata": {},
   "outputs": [
    {
     "data": {
      "text/plain": [
       "True"
      ]
     },
     "execution_count": 13,
     "metadata": {},
     "output_type": "execute_result"
    }
   ],
   "source": [
    "a='chay'\n",
    "a.islower()"
   ]
  },
  {
   "cell_type": "code",
   "execution_count": 14,
   "id": "ab912efe-19a6-426d-b8f4-ad13c357db59",
   "metadata": {},
   "outputs": [
    {
     "data": {
      "text/plain": [
       "False"
      ]
     },
     "execution_count": 14,
     "metadata": {},
     "output_type": "execute_result"
    }
   ],
   "source": [
    "a.isupper()"
   ]
  },
  {
   "cell_type": "code",
   "execution_count": 15,
   "id": "c56456f8-9e36-4ed8-ae17-6548ec4b4c17",
   "metadata": {},
   "outputs": [],
   "source": [
    "## isalpha(),isdigit(),isalnum() -- returns true if all the characters are only alphabets,digits,either respectivel"
   ]
  },
  {
   "cell_type": "code",
   "execution_count": 16,
   "id": "a831aabd-c16b-4e95-9046-aa12f8487f75",
   "metadata": {},
   "outputs": [
    {
     "data": {
      "text/plain": [
       "True"
      ]
     },
     "execution_count": 16,
     "metadata": {},
     "output_type": "execute_result"
    }
   ],
   "source": [
    "a.isalpha()"
   ]
  },
  {
   "cell_type": "code",
   "execution_count": 17,
   "id": "d3582f40-9c7b-4a28-b21e-d98770bbeb62",
   "metadata": {},
   "outputs": [
    {
     "data": {
      "text/plain": [
       "False"
      ]
     },
     "execution_count": 17,
     "metadata": {},
     "output_type": "execute_result"
    }
   ],
   "source": [
    "a.isdigit()"
   ]
  },
  {
   "cell_type": "code",
   "execution_count": 18,
   "id": "07e88d3c-64be-4199-9503-caccae80132f",
   "metadata": {},
   "outputs": [
    {
     "data": {
      "text/plain": [
       "True"
      ]
     },
     "execution_count": 18,
     "metadata": {},
     "output_type": "execute_result"
    }
   ],
   "source": [
    "a.isalnum()"
   ]
  },
  {
   "cell_type": "code",
   "execution_count": 19,
   "id": "5c0ad3b1-5c9c-4194-a756-91baf9f7e150",
   "metadata": {},
   "outputs": [
    {
     "data": {
      "text/plain": [
       "False"
      ]
     },
     "execution_count": 19,
     "metadata": {},
     "output_type": "execute_result"
    }
   ],
   "source": [
    "a='hey hi'\n",
    "a.isalnum()"
   ]
  },
  {
   "cell_type": "code",
   "execution_count": 20,
   "id": "d8644c0e-6a07-4bb8-99d7-e58be3fa23a6",
   "metadata": {},
   "outputs": [
    {
     "data": {
      "text/plain": [
       "False"
      ]
     },
     "execution_count": 20,
     "metadata": {},
     "output_type": "execute_result"
    }
   ],
   "source": [
    "a.isdigit()"
   ]
  },
  {
   "cell_type": "code",
   "execution_count": 21,
   "id": "eaac4643-d71a-4418-a5cd-d695ce445030",
   "metadata": {},
   "outputs": [
    {
     "data": {
      "text/plain": [
       "True"
      ]
     },
     "execution_count": 21,
     "metadata": {},
     "output_type": "execute_result"
    }
   ],
   "source": [
    "a='heyhi'\n",
    "a.isalnum()"
   ]
  },
  {
   "cell_type": "code",
   "execution_count": 22,
   "id": "364b54e4-7273-4688-b61a-6c37f2431a76",
   "metadata": {},
   "outputs": [],
   "source": [
    "## isspace() --  if str contains only white spaces"
   ]
  },
  {
   "cell_type": "code",
   "execution_count": 23,
   "id": "5476f1ef-e3d9-451d-be3d-d3eede5a4ce2",
   "metadata": {},
   "outputs": [
    {
     "data": {
      "text/plain": [
       "True"
      ]
     },
     "execution_count": 23,
     "metadata": {},
     "output_type": "execute_result"
    }
   ],
   "source": [
    "a='  '\n",
    "a.isspace()"
   ]
  },
  {
   "cell_type": "code",
   "execution_count": 24,
   "id": "ef6f1730-79f3-4f11-83fc-23d32b63be7b",
   "metadata": {},
   "outputs": [
    {
     "data": {
      "text/plain": [
       "False"
      ]
     },
     "execution_count": 24,
     "metadata": {},
     "output_type": "execute_result"
    }
   ],
   "source": [
    "a='cg kl'\n",
    "a.isspace()"
   ]
  },
  {
   "cell_type": "code",
   "execution_count": 25,
   "id": "a658be3f-9497-4805-9bd0-949abd04cbab",
   "metadata": {},
   "outputs": [],
   "source": [
    "## startswith() endswith() -- return true if its starts with arguement given"
   ]
  },
  {
   "cell_type": "code",
   "execution_count": 27,
   "id": "91492df3-f017-40cd-ab7e-4f6b3171a2b2",
   "metadata": {},
   "outputs": [
    {
     "data": {
      "text/plain": [
       "True"
      ]
     },
     "execution_count": 27,
     "metadata": {},
     "output_type": "execute_result"
    }
   ],
   "source": [
    "a.startswith('cg')"
   ]
  },
  {
   "cell_type": "code",
   "execution_count": 28,
   "id": "a27577b9-4047-4ccb-8b0d-e03edda2b3f6",
   "metadata": {},
   "outputs": [
    {
     "data": {
      "text/plain": [
       "True"
      ]
     },
     "execution_count": 28,
     "metadata": {},
     "output_type": "execute_result"
    }
   ],
   "source": [
    "a.endswith('l')"
   ]
  },
  {
   "cell_type": "code",
   "execution_count": 29,
   "id": "a45ed8eb-8f13-44b8-ac2c-0488cfcb5f2e",
   "metadata": {},
   "outputs": [],
   "source": [
    "## index()"
   ]
  },
  {
   "cell_type": "code",
   "execution_count": 31,
   "id": "75817b1d-eb43-4d54-8587-be100d6fb158",
   "metadata": {},
   "outputs": [
    {
     "data": {
      "text/plain": [
       "1"
      ]
     },
     "execution_count": 31,
     "metadata": {},
     "output_type": "execute_result"
    }
   ],
   "source": [
    "a.index('g')"
   ]
  },
  {
   "cell_type": "code",
   "execution_count": 32,
   "id": "091899e0-5c6a-4ae9-838a-ec8b59f3707f",
   "metadata": {},
   "outputs": [
    {
     "ename": "ValueError",
     "evalue": "substring not found",
     "output_type": "error",
     "traceback": [
      "\u001b[0;31m---------------------------------------------------------------------------\u001b[0m",
      "\u001b[0;31mValueError\u001b[0m                                Traceback (most recent call last)",
      "Cell \u001b[0;32mIn [32], line 1\u001b[0m\n\u001b[0;32m----> 1\u001b[0m \u001b[43ma\u001b[49m\u001b[38;5;241;43m.\u001b[39;49m\u001b[43mindex\u001b[49m\u001b[43m(\u001b[49m\u001b[38;5;124;43m'\u001b[39;49m\u001b[38;5;124;43mio\u001b[39;49m\u001b[38;5;124;43m'\u001b[39;49m\u001b[43m)\u001b[49m\n",
      "\u001b[0;31mValueError\u001b[0m: substring not found"
     ]
    }
   ],
   "source": [
    "a.index('io')"
   ]
  },
  {
   "cell_type": "code",
   "execution_count": 33,
   "id": "84bf5150-1b37-4013-9279-70f0dfec1bb3",
   "metadata": {},
   "outputs": [
    {
     "data": {
      "text/plain": [
       "0"
      ]
     },
     "execution_count": 33,
     "metadata": {},
     "output_type": "execute_result"
    }
   ],
   "source": [
    "a.index('cg')"
   ]
  },
  {
   "cell_type": "code",
   "execution_count": 34,
   "id": "796361f2-f422-422b-b34d-3ccde8f84e98",
   "metadata": {},
   "outputs": [],
   "source": [
    "## count() "
   ]
  },
  {
   "cell_type": "code",
   "execution_count": 35,
   "id": "ea9a114a-aae1-4c3a-92d0-2d1fb497f479",
   "metadata": {},
   "outputs": [
    {
     "data": {
      "text/plain": [
       "1"
      ]
     },
     "execution_count": 35,
     "metadata": {},
     "output_type": "execute_result"
    }
   ],
   "source": [
    "a.count('c')"
   ]
  },
  {
   "cell_type": "code",
   "execution_count": 36,
   "id": "81395825-6f38-4ed0-8774-88cc3e53d15e",
   "metadata": {},
   "outputs": [],
   "source": [
    "## split()\n"
   ]
  },
  {
   "cell_type": "code",
   "execution_count": 39,
   "id": "5b5c6051-9d9c-48fd-b69d-2efacb917275",
   "metadata": {},
   "outputs": [],
   "source": [
    "a='hey hy hw r u'\n",
    "b=a.split()"
   ]
  },
  {
   "cell_type": "code",
   "execution_count": 40,
   "id": "5899c613-076d-4cbf-9ec2-13ece76d7015",
   "metadata": {},
   "outputs": [
    {
     "data": {
      "text/plain": [
       "['hey', 'hy', 'hw', 'r', 'u']"
      ]
     },
     "execution_count": 40,
     "metadata": {},
     "output_type": "execute_result"
    }
   ],
   "source": [
    "b"
   ]
  },
  {
   "cell_type": "code",
   "execution_count": 41,
   "id": "0686b1f7-253b-45bd-8880-482b7301c535",
   "metadata": {},
   "outputs": [
    {
     "data": {
      "text/plain": [
       "['hy', 'hw', 'r', 'u']"
      ]
     },
     "execution_count": 41,
     "metadata": {},
     "output_type": "execute_result"
    }
   ],
   "source": [
    "a='hy@hw@r@u'\n",
    "a.split('@')"
   ]
  },
  {
   "cell_type": "code",
   "execution_count": 42,
   "id": "d6c9112d-c9ee-4bf8-8fac-308e93b5ca6a",
   "metadata": {},
   "outputs": [],
   "source": [
    "## join()"
   ]
  },
  {
   "cell_type": "code",
   "execution_count": 43,
   "id": "7e0a5fb9-830e-45fd-a837-fc64041efc58",
   "metadata": {},
   "outputs": [
    {
     "data": {
      "text/plain": [
       "'s a i'"
      ]
     },
     "execution_count": 43,
     "metadata": {},
     "output_type": "execute_result"
    }
   ],
   "source": [
    "' '.join('sai')"
   ]
  },
  {
   "cell_type": "code",
   "execution_count": 44,
   "id": "8d57d52f-3a59-48b5-9b6b-f51db9c74050",
   "metadata": {},
   "outputs": [
    {
     "ename": "TypeError",
     "evalue": "sequence item 0: expected str instance, int found",
     "output_type": "error",
     "traceback": [
      "\u001b[0;31m---------------------------------------------------------------------------\u001b[0m",
      "\u001b[0;31mTypeError\u001b[0m                                 Traceback (most recent call last)",
      "Cell \u001b[0;32mIn [44], line 1\u001b[0m\n\u001b[0;32m----> 1\u001b[0m \u001b[38;5;124;43m'\u001b[39;49m\u001b[38;5;124;43m \u001b[39;49m\u001b[38;5;124;43m'\u001b[39;49m\u001b[38;5;241;43m.\u001b[39;49m\u001b[43mjoin\u001b[49m\u001b[43m(\u001b[49m\u001b[43m[\u001b[49m\u001b[38;5;241;43m1\u001b[39;49m\u001b[43m,\u001b[49m\u001b[38;5;241;43m2\u001b[39;49m\u001b[43m,\u001b[49m\u001b[38;5;241;43m3\u001b[39;49m\u001b[43m,\u001b[49m\u001b[38;5;241;43m5\u001b[39;49m\u001b[43m]\u001b[49m\u001b[43m)\u001b[49m\n",
      "\u001b[0;31mTypeError\u001b[0m: sequence item 0: expected str instance, int found"
     ]
    }
   ],
   "source": [
    "' '.join([1,2,3,5])"
   ]
  },
  {
   "cell_type": "code",
   "execution_count": 46,
   "id": "4bc65752-cc16-40b4-84f3-a4e76aa7b24a",
   "metadata": {},
   "outputs": [
    {
     "data": {
      "text/plain": [
       "'sai-chay'"
      ]
     },
     "execution_count": 46,
     "metadata": {},
     "output_type": "execute_result"
    }
   ],
   "source": [
    "'-'.join(('sai','chay'))"
   ]
  },
  {
   "cell_type": "markdown",
   "id": "32cf5e7b-2da6-4d51-bd30-e5af8f43975a",
   "metadata": {},
   "source": [
    "## f-string or string interpolation"
   ]
  },
  {
   "cell_type": "code",
   "execution_count": 47,
   "id": "a3d4722a-0440-47ae-a942-000578a5c7dc",
   "metadata": {},
   "outputs": [
    {
     "name": "stdout",
     "output_type": "stream",
     "text": [
      "num is {a}\n"
     ]
    }
   ],
   "source": [
    "a=6\n",
    "print('num is {a}')"
   ]
  },
  {
   "cell_type": "code",
   "execution_count": 48,
   "id": "acf2fad9-6f6c-4259-8f5f-cbf5c7464e0f",
   "metadata": {},
   "outputs": [
    {
     "name": "stdout",
     "output_type": "stream",
     "text": [
      "num is 6\n"
     ]
    }
   ],
   "source": [
    "a=6\n",
    "print(f'num is {a}')"
   ]
  },
  {
   "cell_type": "code",
   "execution_count": 49,
   "id": "b99acac3-3a7e-42a8-86ea-bffabedc1ecc",
   "metadata": {},
   "outputs": [
    {
     "name": "stdout",
     "output_type": "stream",
     "text": [
      "max of a,b is 2 and sum is 3\n"
     ]
    }
   ],
   "source": [
    "a,b=1,2\n",
    "print(f'max of a,b is {max(a,b)} and sum is {a+b}')"
   ]
  },
  {
   "cell_type": "markdown",
   "id": "75a20817-6d0c-4fff-9020-b828a940d140",
   "metadata": {},
   "source": [
    "## dict"
   ]
  },
  {
   "cell_type": "code",
   "execution_count": 1,
   "id": "b89fd1a3-854d-4737-bb8c-ceaf78fa1a43",
   "metadata": {},
   "outputs": [],
   "source": [
    "## dict -- key-value pair collection"
   ]
  },
  {
   "cell_type": "code",
   "execution_count": 2,
   "id": "461ebda0-98b4-44e2-8e4b-3681ea98eb79",
   "metadata": {},
   "outputs": [],
   "source": [
    "## syntax - a={1:2,2:3.......}"
   ]
  },
  {
   "cell_type": "code",
   "execution_count": 3,
   "id": "be10234c-b11e-4cd4-9f3b-8172ab969a6a",
   "metadata": {},
   "outputs": [],
   "source": [
    "a={} # empty dict"
   ]
  },
  {
   "cell_type": "code",
   "execution_count": 4,
   "id": "5bb6852d-ff56-43aa-82d5-7d4f78c22817",
   "metadata": {},
   "outputs": [
    {
     "data": {
      "text/plain": [
       "dict"
      ]
     },
     "execution_count": 4,
     "metadata": {},
     "output_type": "execute_result"
    }
   ],
   "source": [
    "type(a)"
   ]
  },
  {
   "cell_type": "code",
   "execution_count": 5,
   "id": "753eceb5-c5dc-42e0-8358-4083de5a7fe8",
   "metadata": {},
   "outputs": [],
   "source": [
    "a={1:'sai',\n",
    "  2:'chay',\n",
    "  3:'petla'}"
   ]
  },
  {
   "cell_type": "code",
   "execution_count": 6,
   "id": "5b123380-e61c-4d77-8dbd-2d32db143a21",
   "metadata": {},
   "outputs": [
    {
     "data": {
      "text/plain": [
       "{1: 'sai', 2: 'chay', 3: 'petla'}"
      ]
     },
     "execution_count": 6,
     "metadata": {},
     "output_type": "execute_result"
    }
   ],
   "source": [
    "a"
   ]
  },
  {
   "cell_type": "code",
   "execution_count": 7,
   "id": "fad4a17f-052b-4cfd-ad02-daf7615c53ca",
   "metadata": {},
   "outputs": [],
   "source": [
    "## access"
   ]
  },
  {
   "cell_type": "code",
   "execution_count": 8,
   "id": "fd4f903c-68d4-4262-ae4a-a045559464f9",
   "metadata": {},
   "outputs": [],
   "source": [
    "## 1- access with key"
   ]
  },
  {
   "cell_type": "code",
   "execution_count": 9,
   "id": "d8ea0b4c-ae51-463f-af0b-e512668f542e",
   "metadata": {},
   "outputs": [
    {
     "data": {
      "text/plain": [
       "'sai'"
      ]
     },
     "execution_count": 9,
     "metadata": {},
     "output_type": "execute_result"
    }
   ],
   "source": [
    "a[1]"
   ]
  },
  {
   "cell_type": "code",
   "execution_count": 10,
   "id": "202095fa-474d-422d-b682-5428d5d0f869",
   "metadata": {},
   "outputs": [],
   "source": [
    "## 2- use inbuilt methods"
   ]
  },
  {
   "cell_type": "code",
   "execution_count": 12,
   "id": "3ca4d599-844e-48b9-bd21-f98fc47bce22",
   "metadata": {},
   "outputs": [
    {
     "name": "stdout",
     "output_type": "stream",
     "text": [
      "1 {1: 'sai', 2: 'chay', 3: 'petla'}\n",
      "2 {1: 'sai', 2: 'chay', 3: 'petla'}\n",
      "3 {1: 'sai', 2: 'chay', 3: 'petla'}\n"
     ]
    }
   ],
   "source": [
    "for i in a: ## calls  in built method keys()\n",
    "    print(i,a\n",
    "         )"
   ]
  },
  {
   "cell_type": "code",
   "execution_count": 13,
   "id": "55fe56b7-3b01-4b54-94b7-8aa69c68e3dd",
   "metadata": {},
   "outputs": [
    {
     "data": {
      "text/plain": [
       "dict_keys([1, 2, 3])"
      ]
     },
     "execution_count": 13,
     "metadata": {},
     "output_type": "execute_result"
    }
   ],
   "source": [
    "a.keys()"
   ]
  },
  {
   "cell_type": "code",
   "execution_count": 14,
   "id": "71b9e0a4-7fad-488a-b846-89bc3a896c67",
   "metadata": {},
   "outputs": [
    {
     "name": "stdout",
     "output_type": "stream",
     "text": [
      "dict_keys([1, 2, 3])\n"
     ]
    }
   ],
   "source": [
    "print(a.keys())"
   ]
  },
  {
   "cell_type": "code",
   "execution_count": 15,
   "id": "bd5f5b5c-fda6-460e-9756-7a17f153246b",
   "metadata": {},
   "outputs": [
    {
     "data": {
      "text/plain": [
       "dict_keys"
      ]
     },
     "execution_count": 15,
     "metadata": {},
     "output_type": "execute_result"
    }
   ],
   "source": [
    "type(a.keys())"
   ]
  },
  {
   "cell_type": "code",
   "execution_count": 17,
   "id": "5348fc61-0da1-4912-8c7d-66f30ba2a5bf",
   "metadata": {},
   "outputs": [
    {
     "name": "stdout",
     "output_type": "stream",
     "text": [
      "sai\n",
      "chay\n",
      "petla\n"
     ]
    }
   ],
   "source": [
    "for i in a.values():\n",
    "    print(i)\n",
    "    "
   ]
  },
  {
   "cell_type": "code",
   "execution_count": 18,
   "id": "239305ed-7710-430b-8b73-d7d64755b6cf",
   "metadata": {},
   "outputs": [
    {
     "data": {
      "text/plain": [
       "dict_values"
      ]
     },
     "execution_count": 18,
     "metadata": {},
     "output_type": "execute_result"
    }
   ],
   "source": [
    "type(a.values())"
   ]
  },
  {
   "cell_type": "code",
   "execution_count": 20,
   "id": "f72e2e0b-0d6a-4369-9da8-92c68b236399",
   "metadata": {},
   "outputs": [
    {
     "name": "stdout",
     "output_type": "stream",
     "text": [
      "(1, 'sai')\n",
      "(2, 'chay')\n",
      "(3, 'petla')\n"
     ]
    }
   ],
   "source": [
    "for i in a.items():\n",
    "    print(i)"
   ]
  },
  {
   "cell_type": "code",
   "execution_count": 21,
   "id": "eb7323b3-d9e8-4509-b2d2-bef5d9964edc",
   "metadata": {},
   "outputs": [
    {
     "data": {
      "text/plain": [
       "dict_items"
      ]
     },
     "execution_count": 21,
     "metadata": {},
     "output_type": "execute_result"
    }
   ],
   "source": [
    "type(a.items())"
   ]
  },
  {
   "cell_type": "code",
   "execution_count": 22,
   "id": "c0241569-2652-4c64-bcc4-224faa0bc078",
   "metadata": {},
   "outputs": [
    {
     "data": {
      "text/plain": [
       "dict_values(['sai', 'chay', 'petla'])"
      ]
     },
     "execution_count": 22,
     "metadata": {},
     "output_type": "execute_result"
    }
   ],
   "source": [
    "a.values()"
   ]
  },
  {
   "cell_type": "code",
   "execution_count": 23,
   "id": "16400b0d-95d5-4550-b7b5-cb13e0e21004",
   "metadata": {},
   "outputs": [
    {
     "data": {
      "text/plain": [
       "dict_items([(1, 'sai'), (2, 'chay'), (3, 'petla')])"
      ]
     },
     "execution_count": 23,
     "metadata": {},
     "output_type": "execute_result"
    }
   ],
   "source": [
    "a.items()"
   ]
  },
  {
   "cell_type": "code",
   "execution_count": 24,
   "id": "479febc8-36ed-4071-8007-cd20a3eb6a20",
   "metadata": {},
   "outputs": [],
   "source": [
    "b={1:[2,3],2:[3,4],3:[4,5]}"
   ]
  },
  {
   "cell_type": "code",
   "execution_count": 31,
   "id": "9b9edf09-79ee-402b-9bf2-be9c51977f09",
   "metadata": {},
   "outputs": [
    {
     "name": "stdout",
     "output_type": "stream",
     "text": [
      "3\n"
     ]
    }
   ],
   "source": [
    "print(b[1][1])"
   ]
  },
  {
   "cell_type": "code",
   "execution_count": 32,
   "id": "b0f51e7d-9243-4ded-b72c-a510fcde8ef0",
   "metadata": {},
   "outputs": [],
   "source": [
    "## update()"
   ]
  },
  {
   "cell_type": "code",
   "execution_count": 34,
   "id": "f4d4c87f-2a78-4c9a-a8d3-47e8e1b58f3a",
   "metadata": {},
   "outputs": [],
   "source": [
    "b.update({4:[5,6]}) ## if key not present {key:value} will be inserted"
   ]
  },
  {
   "cell_type": "code",
   "execution_count": 35,
   "id": "a92dc985-3280-43bf-8943-4f492bb70447",
   "metadata": {},
   "outputs": [
    {
     "data": {
      "text/plain": [
       "{1: [2, 3], 2: [3, 4], 3: [4, 5], 4: [5, 6]}"
      ]
     },
     "execution_count": 35,
     "metadata": {},
     "output_type": "execute_result"
    }
   ],
   "source": [
    "b"
   ]
  },
  {
   "cell_type": "code",
   "execution_count": 37,
   "id": "c354223e-cca9-438d-a6cb-41f84dc23ea4",
   "metadata": {},
   "outputs": [],
   "source": [
    "b.update({1:['h','y']}) ## if key present value get updated"
   ]
  },
  {
   "cell_type": "code",
   "execution_count": 38,
   "id": "11ec4a02-4870-427d-90a6-159048cace68",
   "metadata": {},
   "outputs": [
    {
     "data": {
      "text/plain": [
       "{1: ['h', 'y'], 2: [3, 4], 3: [4, 5], 4: [5, 6]}"
      ]
     },
     "execution_count": 38,
     "metadata": {},
     "output_type": "execute_result"
    }
   ],
   "source": [
    "b"
   ]
  },
  {
   "cell_type": "code",
   "execution_count": 39,
   "id": "c6362a20-c373-41fe-9138-c492f86be6de",
   "metadata": {},
   "outputs": [],
   "source": [
    "b[5]='chay' ## we can sub_script operator to insert or update"
   ]
  },
  {
   "cell_type": "code",
   "execution_count": 40,
   "id": "9b95a35a-8794-4666-a3f3-4842d1173fcc",
   "metadata": {},
   "outputs": [
    {
     "data": {
      "text/plain": [
       "{1: ['h', 'y'], 2: [3, 4], 3: [4, 5], 4: [5, 6], 5: 'chay'}"
      ]
     },
     "execution_count": 40,
     "metadata": {},
     "output_type": "execute_result"
    }
   ],
   "source": [
    "b"
   ]
  },
  {
   "cell_type": "markdown",
   "id": "c5bd316a-aa3a-421b-9388-fff8ce5b8bd5",
   "metadata": {},
   "source": [
    "## functions in dict"
   ]
  },
  {
   "cell_type": "code",
   "execution_count": 41,
   "id": "38ea09a3-8b4e-49eb-922b-83f490065768",
   "metadata": {},
   "outputs": [],
   "source": [
    "## len(),max(),min(),dict(),any(),all(),sorted()"
   ]
  },
  {
   "cell_type": "code",
   "execution_count": 42,
   "id": "1ed65257-46c2-40b7-ba3e-da28d354f51c",
   "metadata": {},
   "outputs": [],
   "source": [
    "##all these methods takes keys() by default"
   ]
  },
  {
   "cell_type": "code",
   "execution_count": 44,
   "id": "49644c63-340b-46f9-b376-2fc6cf404b7a",
   "metadata": {},
   "outputs": [
    {
     "data": {
      "text/plain": [
       "3"
      ]
     },
     "execution_count": 44,
     "metadata": {},
     "output_type": "execute_result"
    }
   ],
   "source": [
    "max(a)"
   ]
  },
  {
   "cell_type": "code",
   "execution_count": 45,
   "id": "3580f3fb-f7f8-4423-9cf4-2ade0acc1ed9",
   "metadata": {},
   "outputs": [
    {
     "data": {
      "text/plain": [
       "5"
      ]
     },
     "execution_count": 45,
     "metadata": {},
     "output_type": "execute_result"
    }
   ],
   "source": [
    "max(b)"
   ]
  },
  {
   "cell_type": "code",
   "execution_count": 48,
   "id": "3f3dbd96-9345-443c-8976-572dac6c0c09",
   "metadata": {},
   "outputs": [
    {
     "ename": "TypeError",
     "evalue": "'<' not supported between instances of 'int' and 'str'",
     "output_type": "error",
     "traceback": [
      "\u001b[0;31m---------------------------------------------------------------------------\u001b[0m",
      "\u001b[0;31mTypeError\u001b[0m                                 Traceback (most recent call last)",
      "Cell \u001b[0;32mIn [48], line 1\u001b[0m\n\u001b[0;32m----> 1\u001b[0m \u001b[38;5;28;43msorted\u001b[39;49m\u001b[43m(\u001b[49m\u001b[43mb\u001b[49m\u001b[38;5;241;43m.\u001b[39;49m\u001b[43mvalues\u001b[49m\u001b[43m(\u001b[49m\u001b[43m)\u001b[49m\u001b[43m)\u001b[49m\n",
      "\u001b[0;31mTypeError\u001b[0m: '<' not supported between instances of 'int' and 'str'"
     ]
    }
   ],
   "source": [
    "sorted(b.values())"
   ]
  },
  {
   "cell_type": "code",
   "execution_count": 47,
   "id": "774f7d46-7481-4d0c-ab7e-6d154a37fb5b",
   "metadata": {},
   "outputs": [
    {
     "data": {
      "text/plain": [
       "list"
      ]
     },
     "execution_count": 47,
     "metadata": {},
     "output_type": "execute_result"
    }
   ],
   "source": [
    "type(sorted(b))"
   ]
  },
  {
   "cell_type": "code",
   "execution_count": 49,
   "id": "b3342cae-7663-4c2a-8a27-61ce204a0d56",
   "metadata": {},
   "outputs": [
    {
     "data": {
      "text/plain": [
       "[1, 2, 3, 4, 5]"
      ]
     },
     "execution_count": 49,
     "metadata": {},
     "output_type": "execute_result"
    }
   ],
   "source": [
    "sorted(b)"
   ]
  },
  {
   "cell_type": "code",
   "execution_count": 50,
   "id": "e8e67048-6813-4644-b6ae-719b22640f51",
   "metadata": {},
   "outputs": [
    {
     "data": {
      "text/plain": [
       "3"
      ]
     },
     "execution_count": 50,
     "metadata": {},
     "output_type": "execute_result"
    }
   ],
   "source": [
    "len(a)"
   ]
  },
  {
   "cell_type": "markdown",
   "id": "98fa0f3a-590e-41cc-a0c0-b6523ceb38fb",
   "metadata": {},
   "source": [
    "## methods"
   ]
  },
  {
   "cell_type": "code",
   "execution_count": 51,
   "id": "41e55d40-0492-4660-bcc6-621b9bc89485",
   "metadata": {},
   "outputs": [],
   "source": [
    "## get()"
   ]
  },
  {
   "cell_type": "code",
   "execution_count": 52,
   "id": "b997e29d-a7c4-42a2-b114-a2c34ec168f7",
   "metadata": {},
   "outputs": [
    {
     "data": {
      "text/plain": [
       "{1: ['h', 'y'], 2: [3, 4], 3: [4, 5], 4: [5, 6], 5: 'chay'}"
      ]
     },
     "execution_count": 52,
     "metadata": {},
     "output_type": "execute_result"
    }
   ],
   "source": [
    "b"
   ]
  },
  {
   "cell_type": "code",
   "execution_count": 53,
   "id": "a93309fd-3293-4ebf-b4ce-4f3c42879b95",
   "metadata": {},
   "outputs": [
    {
     "data": {
      "text/plain": [
       "['h', 'y']"
      ]
     },
     "execution_count": 53,
     "metadata": {},
     "output_type": "execute_result"
    }
   ],
   "source": [
    "b.get(1)"
   ]
  },
  {
   "cell_type": "code",
   "execution_count": 68,
   "id": "dedb0114-a77d-48f9-93d4-47396ffafbc0",
   "metadata": {},
   "outputs": [],
   "source": [
    "b.get(7)"
   ]
  },
  {
   "cell_type": "code",
   "execution_count": 54,
   "id": "2d5aa84b-52ef-48cd-a4d6-2527e31c97c0",
   "metadata": {},
   "outputs": [],
   "source": [
    "## pop() -- removes the key value pair of the given key arguement"
   ]
  },
  {
   "cell_type": "code",
   "execution_count": 55,
   "id": "486796fe-1b88-4efe-8fa7-364c2e4bdce8",
   "metadata": {},
   "outputs": [
    {
     "data": {
      "text/plain": [
       "'chay'"
      ]
     },
     "execution_count": 55,
     "metadata": {},
     "output_type": "execute_result"
    }
   ],
   "source": [
    "b.pop(5)"
   ]
  },
  {
   "cell_type": "code",
   "execution_count": 56,
   "id": "1699c56c-9ceb-4287-996a-264f5fe47c7d",
   "metadata": {},
   "outputs": [
    {
     "data": {
      "text/plain": [
       "{1: ['h', 'y'], 2: [3, 4], 3: [4, 5], 4: [5, 6]}"
      ]
     },
     "execution_count": 56,
     "metadata": {},
     "output_type": "execute_result"
    }
   ],
   "source": [
    "b"
   ]
  },
  {
   "cell_type": "code",
   "execution_count": 57,
   "id": "1e76da4b-df2e-4c13-8069-7d5972f609a3",
   "metadata": {},
   "outputs": [],
   "source": [
    "## popitem() -- removes the last key-value pair"
   ]
  },
  {
   "cell_type": "code",
   "execution_count": 58,
   "id": "f924a2e1-823e-486b-a086-8e74d09d548f",
   "metadata": {},
   "outputs": [
    {
     "data": {
      "text/plain": [
       "(4, [5, 6])"
      ]
     },
     "execution_count": 58,
     "metadata": {},
     "output_type": "execute_result"
    }
   ],
   "source": [
    "b.popitem()"
   ]
  },
  {
   "cell_type": "code",
   "execution_count": 59,
   "id": "dd76c47a-9934-4f2c-8639-ddfd100d211a",
   "metadata": {},
   "outputs": [
    {
     "data": {
      "text/plain": [
       "{1: ['h', 'y'], 2: [3, 4], 3: [4, 5]}"
      ]
     },
     "execution_count": 59,
     "metadata": {},
     "output_type": "execute_result"
    }
   ],
   "source": [
    "b"
   ]
  },
  {
   "cell_type": "code",
   "execution_count": 60,
   "id": "86b5873b-7077-40d9-adc5-48140e725a8b",
   "metadata": {},
   "outputs": [],
   "source": [
    "## setdefault() -- if key is present it gives the value,if not present it will insert the key with none value"
   ]
  },
  {
   "cell_type": "code",
   "execution_count": 61,
   "id": "19099a52-eb5c-4a1c-b61c-ebc55d8acb06",
   "metadata": {},
   "outputs": [],
   "source": [
    "## if default arguement is given it will set the value to defualt if key not present"
   ]
  },
  {
   "cell_type": "code",
   "execution_count": 62,
   "id": "fcb4244c-1ac2-4086-adf2-61fc3dedb891",
   "metadata": {},
   "outputs": [],
   "source": [
    "b.setdefault(4)"
   ]
  },
  {
   "cell_type": "code",
   "execution_count": 63,
   "id": "f56f991c-ed8c-44b2-9a6d-572b405f2e2f",
   "metadata": {},
   "outputs": [
    {
     "data": {
      "text/plain": [
       "{1: ['h', 'y'], 2: [3, 4], 3: [4, 5], 4: None}"
      ]
     },
     "execution_count": 63,
     "metadata": {},
     "output_type": "execute_result"
    }
   ],
   "source": [
    "b"
   ]
  },
  {
   "cell_type": "code",
   "execution_count": 64,
   "id": "27aec0c6-e047-4133-862f-6c1e5ad1b488",
   "metadata": {},
   "outputs": [
    {
     "data": {
      "text/plain": [
       "[4, 5]"
      ]
     },
     "execution_count": 64,
     "metadata": {},
     "output_type": "execute_result"
    }
   ],
   "source": [
    "b.setdefault(3)"
   ]
  },
  {
   "cell_type": "code",
   "execution_count": 65,
   "id": "511d6368-c991-42e0-bcf5-c92ca039b473",
   "metadata": {},
   "outputs": [
    {
     "data": {
      "text/plain": [
       "6789"
      ]
     },
     "execution_count": 65,
     "metadata": {},
     "output_type": "execute_result"
    }
   ],
   "source": [
    "b.setdefault(5,6789)"
   ]
  },
  {
   "cell_type": "code",
   "execution_count": 66,
   "id": "f4765f5c-0382-47d0-8e5c-4dc3792b464b",
   "metadata": {},
   "outputs": [
    {
     "data": {
      "text/plain": [
       "{1: ['h', 'y'], 2: [3, 4], 3: [4, 5], 4: None, 5: 6789}"
      ]
     },
     "execution_count": 66,
     "metadata": {},
     "output_type": "execute_result"
    }
   ],
   "source": [
    "b"
   ]
  },
  {
   "cell_type": "code",
   "execution_count": 69,
   "id": "f1329000-c71c-40ff-abd5-f03fdb504cf6",
   "metadata": {},
   "outputs": [
    {
     "data": {
      "text/plain": [
       "6789"
      ]
     },
     "execution_count": 69,
     "metadata": {},
     "output_type": "execute_result"
    }
   ],
   "source": [
    "b.get(5)"
   ]
  },
  {
   "cell_type": "code",
   "execution_count": 70,
   "id": "ed40f59d-3cf7-4a88-8efb-5ffaf94eee89",
   "metadata": {},
   "outputs": [],
   "source": [
    "b.get(8)"
   ]
  },
  {
   "cell_type": "code",
   "execution_count": 71,
   "id": "b6939ae3-5feb-4961-8661-051a90a05f7e",
   "metadata": {},
   "outputs": [
    {
     "data": {
      "text/plain": [
       "{1: 'sai', 2: 'chay', 3: 'petla'}"
      ]
     },
     "execution_count": 71,
     "metadata": {},
     "output_type": "execute_result"
    }
   ],
   "source": [
    "a"
   ]
  },
  {
   "cell_type": "code",
   "execution_count": 72,
   "id": "623a76a9-a4a1-491f-8110-d7bf7c6943b3",
   "metadata": {},
   "outputs": [],
   "source": [
    "## clear()"
   ]
  },
  {
   "cell_type": "code",
   "execution_count": 73,
   "id": "8ab9c73b-1ece-45fc-a503-bbf9d88a6848",
   "metadata": {},
   "outputs": [],
   "source": [
    "a.clear()"
   ]
  },
  {
   "cell_type": "code",
   "execution_count": 74,
   "id": "318034fa-2e81-4b6f-aacc-fad042f5b946",
   "metadata": {},
   "outputs": [
    {
     "data": {
      "text/plain": [
       "{}"
      ]
     },
     "execution_count": 74,
     "metadata": {},
     "output_type": "execute_result"
    }
   ],
   "source": [
    "a"
   ]
  },
  {
   "cell_type": "code",
   "execution_count": 75,
   "id": "38a8f4f8-463d-4a7e-b41c-2d8f0c700baa",
   "metadata": {},
   "outputs": [],
   "source": [
    "## copy()"
   ]
  },
  {
   "cell_type": "code",
   "execution_count": 76,
   "id": "d3896d79-f5e9-4137-aaa4-b610a663fd90",
   "metadata": {},
   "outputs": [
    {
     "data": {
      "text/plain": [
       "{1: ['h', 'y'], 2: [3, 4], 3: [4, 5], 4: None, 5: 6789}"
      ]
     },
     "execution_count": 76,
     "metadata": {},
     "output_type": "execute_result"
    }
   ],
   "source": [
    "b"
   ]
  },
  {
   "cell_type": "code",
   "execution_count": 77,
   "id": "62b2102c-8d70-4a42-9c5d-64e41b153ed8",
   "metadata": {},
   "outputs": [],
   "source": [
    "a=b.copy()"
   ]
  },
  {
   "cell_type": "code",
   "execution_count": 78,
   "id": "5af94ea2-e55e-44ec-ae23-c1d8d0bde32d",
   "metadata": {},
   "outputs": [
    {
     "data": {
      "text/plain": [
       "{1: ['h', 'y'], 2: [3, 4], 3: [4, 5], 4: None, 5: 6789}"
      ]
     },
     "execution_count": 78,
     "metadata": {},
     "output_type": "execute_result"
    }
   ],
   "source": [
    "a"
   ]
  },
  {
   "cell_type": "code",
   "execution_count": 79,
   "id": "3c2bb2f8-8a64-4c71-8532-4c167598a24f",
   "metadata": {},
   "outputs": [
    {
     "data": {
      "text/plain": [
       "6789"
      ]
     },
     "execution_count": 79,
     "metadata": {},
     "output_type": "execute_result"
    }
   ],
   "source": [
    "a.pop(5)"
   ]
  },
  {
   "cell_type": "code",
   "execution_count": 80,
   "id": "2da51dea-0f11-4abd-8170-6b2f8e62d1f1",
   "metadata": {},
   "outputs": [
    {
     "ename": "KeyError",
     "evalue": "5",
     "output_type": "error",
     "traceback": [
      "\u001b[0;31m---------------------------------------------------------------------------\u001b[0m",
      "\u001b[0;31mKeyError\u001b[0m                                  Traceback (most recent call last)",
      "Cell \u001b[0;32mIn [80], line 1\u001b[0m\n\u001b[0;32m----> 1\u001b[0m \u001b[43ma\u001b[49m\u001b[38;5;241;43m.\u001b[39;49m\u001b[43mpop\u001b[49m\u001b[43m(\u001b[49m\u001b[38;5;241;43m5\u001b[39;49m\u001b[43m)\u001b[49m\n",
      "\u001b[0;31mKeyError\u001b[0m: 5"
     ]
    }
   ],
   "source": [
    "a.pop(5)"
   ]
  },
  {
   "cell_type": "code",
   "execution_count": 81,
   "id": "928c2fa6-046d-463c-afbc-0095b49fa149",
   "metadata": {},
   "outputs": [
    {
     "data": {
      "text/plain": [
       "'key not present'"
      ]
     },
     "execution_count": 81,
     "metadata": {},
     "output_type": "execute_result"
    }
   ],
   "source": [
    "a.pop(5,\"key not present\") ## handles the exception through arguement"
   ]
  },
  {
   "cell_type": "code",
   "execution_count": null,
   "id": "b65b5a96-03c9-4acc-a4a4-0a13ac1be9d4",
   "metadata": {},
   "outputs": [],
   "source": []
  }
 ],
 "metadata": {
  "kernelspec": {
   "display_name": "Python 3 (ipykernel)",
   "language": "python",
   "name": "python3"
  },
  "language_info": {
   "codemirror_mode": {
    "name": "ipython",
    "version": 3
   },
   "file_extension": ".py",
   "mimetype": "text/x-python",
   "name": "python",
   "nbconvert_exporter": "python",
   "pygments_lexer": "ipython3",
   "version": "3.10.6"
  }
 },
 "nbformat": 4,
 "nbformat_minor": 5
}
