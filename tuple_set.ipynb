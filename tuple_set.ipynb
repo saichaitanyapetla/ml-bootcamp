{
 "cells": [
  {
   "cell_type": "markdown",
   "id": "af747112-0343-4b58-9e94-0776965473a0",
   "metadata": {},
   "source": [
    "# list comprehension"
   ]
  },
  {
   "cell_type": "code",
   "execution_count": 1,
   "id": "31808035-1cba-4027-9c26-22e258a0706b",
   "metadata": {},
   "outputs": [],
   "source": [
    "# syntax - [x for x in iterable<test_condition>]"
   ]
  },
  {
   "cell_type": "code",
   "execution_count": 3,
   "id": "1c41c325-89b5-4ccc-8d5e-cf1505c20266",
   "metadata": {},
   "outputs": [],
   "source": [
    "l1=[1,2,3,4,5]\n",
    "lComp=[x for x in l1]"
   ]
  },
  {
   "cell_type": "code",
   "execution_count": 5,
   "id": "1d6a4a6e-001c-4128-bad8-5632df43984a",
   "metadata": {},
   "outputs": [
    {
     "data": {
      "text/plain": [
       "[1, 2, 3, 4, 5]"
      ]
     },
     "execution_count": 5,
     "metadata": {},
     "output_type": "execute_result"
    }
   ],
   "source": [
    "lComp"
   ]
  },
  {
   "cell_type": "code",
   "execution_count": 6,
   "id": "455bf94a-a799-4041-9e08-9960d3111772",
   "metadata": {},
   "outputs": [
    {
     "data": {
      "text/plain": [
       "['c', 'h', 'a', 'y']"
      ]
     },
     "execution_count": 6,
     "metadata": {},
     "output_type": "execute_result"
    }
   ],
   "source": [
    "a='chay'\n",
    "b=[x for x in a]\n",
    "b"
   ]
  },
  {
   "cell_type": "code",
   "execution_count": 7,
   "id": "7ec5d51c-8bae-41e0-9c85-cf1ad85e31c0",
   "metadata": {},
   "outputs": [],
   "source": [
    "## wap to print squares of 5 numbers which are stored in list"
   ]
  },
  {
   "cell_type": "code",
   "execution_count": 8,
   "id": "a4772e73-e71c-448f-881e-08b1167eac35",
   "metadata": {},
   "outputs": [],
   "source": [
    "a=range(1,5)"
   ]
  },
  {
   "cell_type": "code",
   "execution_count": 9,
   "id": "f650ed05-d6bd-4478-b949-0beae278f3e6",
   "metadata": {},
   "outputs": [
    {
     "data": {
      "text/plain": [
       "range(1, 5)"
      ]
     },
     "execution_count": 9,
     "metadata": {},
     "output_type": "execute_result"
    }
   ],
   "source": [
    "a"
   ]
  },
  {
   "cell_type": "code",
   "execution_count": 12,
   "id": "1a7dc9e2-8802-4f84-b5ad-148f8d3a2044",
   "metadata": {},
   "outputs": [],
   "source": [
    "a=[x*x for x in [1,2,3,4,5]]"
   ]
  },
  {
   "cell_type": "code",
   "execution_count": 13,
   "id": "045b58f8-2fbe-4550-aeb6-8890f71da4d4",
   "metadata": {},
   "outputs": [
    {
     "data": {
      "text/plain": [
       "[1, 4, 9, 16, 25]"
      ]
     },
     "execution_count": 13,
     "metadata": {},
     "output_type": "execute_result"
    }
   ],
   "source": [
    "a"
   ]
  },
  {
   "cell_type": "code",
   "execution_count": 15,
   "id": "4332bf53-803c-45a0-988c-83f70b634401",
   "metadata": {},
   "outputs": [
    {
     "data": {
      "text/plain": [
       "[1, 4, 9, 16, 25]"
      ]
     },
     "execution_count": 15,
     "metadata": {},
     "output_type": "execute_result"
    }
   ],
   "source": [
    "a=[x**2 for x in range(1,6)]\n",
    "a"
   ]
  },
  {
   "cell_type": "code",
   "execution_count": 16,
   "id": "7d7deac8-e736-47f6-90ec-aef30f09c792",
   "metadata": {},
   "outputs": [],
   "source": [
    "## wap to accept string from user and convert it to upper case and store it in a list"
   ]
  },
  {
   "cell_type": "code",
   "execution_count": 21,
   "id": "f8a1d884-411b-453d-9594-bb0aa4298124",
   "metadata": {},
   "outputs": [
    {
     "name": "stdin",
     "output_type": "stream",
     "text": [
      "enter a string hy hwr uu\n"
     ]
    }
   ],
   "source": [
    "a=input('enter a string')\n",
    "l1=[x.upper() for x in a.split()]"
   ]
  },
  {
   "cell_type": "code",
   "execution_count": 22,
   "id": "ffa4ff9b-1056-4f42-8600-3af3f1b72a82",
   "metadata": {},
   "outputs": [
    {
     "data": {
      "text/plain": [
       "['HY', 'HWR', 'UU']"
      ]
     },
     "execution_count": 22,
     "metadata": {},
     "output_type": "execute_result"
    }
   ],
   "source": [
    "l1\n"
   ]
  },
  {
   "cell_type": "code",
   "execution_count": 23,
   "id": "d8d886a1-0c49-4a4a-9827-f4101df33352",
   "metadata": {},
   "outputs": [],
   "source": [
    "b=a.split()"
   ]
  },
  {
   "cell_type": "code",
   "execution_count": 25,
   "id": "c3f39ca2-d9b1-4402-a267-8f760b9ffffa",
   "metadata": {},
   "outputs": [
    {
     "data": {
      "text/plain": [
       "list"
      ]
     },
     "execution_count": 25,
     "metadata": {},
     "output_type": "execute_result"
    }
   ],
   "source": [
    "type(b)"
   ]
  },
  {
   "cell_type": "code",
   "execution_count": 26,
   "id": "fa267c5a-58e4-4aa9-95b4-2b45a6e85ef2",
   "metadata": {},
   "outputs": [],
   "source": [
    "## wap to accept 5 integers from user and store it in a list. Display the list elements and list sum"
   ]
  },
  {
   "cell_type": "code",
   "execution_count": 31,
   "id": "77f42ffb-736b-4163-9e86-182aecaa0769",
   "metadata": {},
   "outputs": [
    {
     "name": "stdin",
     "output_type": "stream",
     "text": [
      "enter 5 numbers  12 4 58 67 4\n"
     ]
    },
    {
     "data": {
      "text/plain": [
       "(145, [12, 4, 58, 67, 4])"
      ]
     },
     "execution_count": 31,
     "metadata": {},
     "output_type": "execute_result"
    }
   ],
   "source": [
    "a=input('enter 5 numbers')\n",
    "b=[int(x) for x in a.split()]\n",
    "\n",
    "sum(b), b"
   ]
  },
  {
   "cell_type": "code",
   "execution_count": 30,
   "id": "f78a394b-7ac0-4171-9c02-aa663fc2e835",
   "metadata": {},
   "outputs": [
    {
     "data": {
      "text/plain": [
       "[1, 2, 3, 4, 6]"
      ]
     },
     "execution_count": 30,
     "metadata": {},
     "output_type": "execute_result"
    }
   ],
   "source": [
    "b"
   ]
  },
  {
   "cell_type": "code",
   "execution_count": 32,
   "id": "75e06a26-e43f-4d16-bc17-a2a1c3b106aa",
   "metadata": {},
   "outputs": [],
   "source": [
    "## wap to produce squares of odd numbers from 1 to 20\n"
   ]
  },
  {
   "cell_type": "code",
   "execution_count": 38,
   "id": "8349943d-c63c-4b52-a345-7e2faf4ebd69",
   "metadata": {},
   "outputs": [],
   "source": [
    "a=[x*x for x in range(1,11) if x%2!=0]"
   ]
  },
  {
   "cell_type": "code",
   "execution_count": 39,
   "id": "36f3c6a2-8c9b-4e1b-b878-e055313ce3ff",
   "metadata": {},
   "outputs": [
    {
     "data": {
      "text/plain": [
       "[1, 9, 25, 49, 81]"
      ]
     },
     "execution_count": 39,
     "metadata": {},
     "output_type": "execute_result"
    }
   ],
   "source": [
    "a"
   ]
  },
  {
   "cell_type": "code",
   "execution_count": 40,
   "id": "cd263ba7-4666-4843-8373-4c424aa9245f",
   "metadata": {},
   "outputs": [],
   "source": [
    "## wap to create a fun to remove vowels and return the list with removed vowels"
   ]
  },
  {
   "cell_type": "code",
   "execution_count": 56,
   "id": "d0ec07de-c487-4fbf-b3ca-02ae8a04deac",
   "metadata": {},
   "outputs": [],
   "source": [
    "def removevowels(a):\n",
    "    b=[x for x in a if x in ['a','e','i','o','u']]\n",
    "    \n",
    "    return b\n",
    "    \n",
    "    "
   ]
  },
  {
   "cell_type": "code",
   "execution_count": 58,
   "id": "275cd803-cf07-4706-a1d4-d8e8868ba234",
   "metadata": {},
   "outputs": [
    {
     "data": {
      "text/plain": [
       "['u', 'e', 'a']"
      ]
     },
     "execution_count": 58,
     "metadata": {},
     "output_type": "execute_result"
    }
   ],
   "source": [
    "removevowels(\" hy hw r u dear\")"
   ]
  },
  {
   "cell_type": "code",
   "execution_count": 59,
   "id": "193fdfa7-92fd-40c6-87e4-59857136670d",
   "metadata": {},
   "outputs": [
    {
     "data": {
      "text/plain": [
       "[12, 4, 58, 67, 4]"
      ]
     },
     "execution_count": 59,
     "metadata": {},
     "output_type": "execute_result"
    }
   ],
   "source": [
    "b"
   ]
  },
  {
   "cell_type": "markdown",
   "id": "6e168ae2-f198-4601-be33-a04a8c0d658b",
   "metadata": {},
   "source": [
    "# tuple"
   ]
  },
  {
   "cell_type": "code",
   "execution_count": 1,
   "id": "68e67d24-94ff-46e1-b359-7c9abb1af906",
   "metadata": {},
   "outputs": [],
   "source": [
    "a=(1,3,4)"
   ]
  },
  {
   "cell_type": "code",
   "execution_count": 2,
   "id": "5a505e8d-a983-4d19-befc-e6056e9fbd4e",
   "metadata": {},
   "outputs": [
    {
     "data": {
      "text/plain": [
       "(1, 3, 4)"
      ]
     },
     "execution_count": 2,
     "metadata": {},
     "output_type": "execute_result"
    }
   ],
   "source": [
    "a\n"
   ]
  },
  {
   "cell_type": "code",
   "execution_count": 3,
   "id": "1ca52833-bbda-495a-8d5b-87cc50d6c706",
   "metadata": {},
   "outputs": [
    {
     "data": {
      "text/plain": [
       "tuple"
      ]
     },
     "execution_count": 3,
     "metadata": {},
     "output_type": "execute_result"
    }
   ],
   "source": [
    "type(a)"
   ]
  },
  {
   "cell_type": "code",
   "execution_count": 4,
   "id": "f97c7636-01a1-4198-b69b-5c0394f52c0d",
   "metadata": {},
   "outputs": [],
   "source": [
    "# list - mutable,slow\n",
    "# tuple - immutable,fast"
   ]
  },
  {
   "cell_type": "code",
   "execution_count": 5,
   "id": "36ae405e-4e5e-4785-ac5c-a473bb6c2b74",
   "metadata": {},
   "outputs": [
    {
     "data": {
      "text/plain": [
       "int"
      ]
     },
     "execution_count": 5,
     "metadata": {},
     "output_type": "execute_result"
    }
   ],
   "source": [
    "a=(1)# tuple with ine vairable is treated as variable\n",
    "type(a)"
   ]
  },
  {
   "cell_type": "code",
   "execution_count": 7,
   "id": "73236157-4fe9-4f6d-9b63-7d9640196b3a",
   "metadata": {},
   "outputs": [
    {
     "data": {
      "text/plain": [
       "tuple"
      ]
     },
     "execution_count": 7,
     "metadata": {},
     "output_type": "execute_result"
    }
   ],
   "source": [
    "a=(1,) # specify , for one variable tuple\n",
    "type(a)"
   ]
  },
  {
   "cell_type": "code",
   "execution_count": 8,
   "id": "4c844065-bf12-4f38-82f8-c5ba493704ea",
   "metadata": {},
   "outputs": [],
   "source": [
    "## packing and unpacking"
   ]
  },
  {
   "cell_type": "code",
   "execution_count": 9,
   "id": "3f4564a6-61bc-4754-b50f-9e6526a32bda",
   "metadata": {},
   "outputs": [
    {
     "data": {
      "text/plain": [
       "tuple"
      ]
     },
     "execution_count": 9,
     "metadata": {},
     "output_type": "execute_result"
    }
   ],
   "source": [
    "a=1,2,3,4,5 # packing\n",
    "type(a)"
   ]
  },
  {
   "cell_type": "code",
   "execution_count": 10,
   "id": "b0914654-272e-4f7a-98d3-eb33d698f33d",
   "metadata": {},
   "outputs": [
    {
     "data": {
      "text/plain": [
       "1"
      ]
     },
     "execution_count": 10,
     "metadata": {},
     "output_type": "execute_result"
    }
   ],
   "source": [
    "x,y,z,g,h=a # unpacking\n",
    "x"
   ]
  },
  {
   "cell_type": "code",
   "execution_count": 11,
   "id": "75bb9682-4987-4af5-a42f-6a0068f663b7",
   "metadata": {},
   "outputs": [],
   "source": [
    "# unpacking is allowed for lists too"
   ]
  },
  {
   "cell_type": "code",
   "execution_count": 12,
   "id": "9ee5a1f3-4cbe-4a2c-835c-6de8c1a3cd79",
   "metadata": {},
   "outputs": [],
   "source": [
    "a=[1,3,5,6]\n",
    "x,y,c,v=a"
   ]
  },
  {
   "cell_type": "code",
   "execution_count": 13,
   "id": "c4bb7dbc-2f21-484c-b745-59db98203918",
   "metadata": {},
   "outputs": [
    {
     "data": {
      "text/plain": [
       "(1, 3)"
      ]
     },
     "execution_count": 13,
     "metadata": {},
     "output_type": "execute_result"
    }
   ],
   "source": [
    "x,y"
   ]
  },
  {
   "cell_type": "code",
   "execution_count": 14,
   "id": "cd6534ca-5095-4a47-8d1f-27720bfe8fcb",
   "metadata": {},
   "outputs": [],
   "source": [
    "## accessing tuple elements similar to list"
   ]
  },
  {
   "cell_type": "code",
   "execution_count": 15,
   "id": "1b447fe0-5dea-4fd3-9741-8e6c38202dcb",
   "metadata": {},
   "outputs": [
    {
     "data": {
      "text/plain": [
       "6"
      ]
     },
     "execution_count": 15,
     "metadata": {},
     "output_type": "execute_result"
    }
   ],
   "source": [
    "a=(1,2,46,6)\n",
    "a[3]"
   ]
  },
  {
   "cell_type": "code",
   "execution_count": 16,
   "id": "9c3507fb-5c08-4c3c-bfef-cf328a4d20f1",
   "metadata": {},
   "outputs": [],
   "source": [
    "## assignment opeartor in tuple returns error"
   ]
  },
  {
   "cell_type": "code",
   "execution_count": 18,
   "id": "ee4a1a1f-b397-4aff-8432-117cd5642a4d",
   "metadata": {},
   "outputs": [
    {
     "data": {
      "text/plain": [
       "46"
      ]
     },
     "execution_count": 18,
     "metadata": {},
     "output_type": "execute_result"
    }
   ],
   "source": [
    "a[2]"
   ]
  },
  {
   "cell_type": "code",
   "execution_count": 19,
   "id": "8f5e07ce-63f8-4f3d-8a46-44cdd1726579",
   "metadata": {},
   "outputs": [
    {
     "ename": "TypeError",
     "evalue": "'tuple' object does not support item assignment",
     "output_type": "error",
     "traceback": [
      "\u001b[0;31m---------------------------------------------------------------------------\u001b[0m",
      "\u001b[0;31mTypeError\u001b[0m                                 Traceback (most recent call last)",
      "Cell \u001b[0;32mIn [19], line 1\u001b[0m\n\u001b[0;32m----> 1\u001b[0m \u001b[43ma\u001b[49m\u001b[43m[\u001b[49m\u001b[38;5;241;43m2\u001b[39;49m\u001b[43m]\u001b[49m\u001b[38;5;241m=\u001b[39m\u001b[38;5;241m56\u001b[39m\n",
      "\u001b[0;31mTypeError\u001b[0m: 'tuple' object does not support item assignment"
     ]
    }
   ],
   "source": [
    "a[2]=56"
   ]
  },
  {
   "cell_type": "code",
   "execution_count": 21,
   "id": "402f97ae-0024-4cd1-a073-8b72397320f3",
   "metadata": {},
   "outputs": [],
   "source": [
    "a=([1,2],5,[7,8,9])"
   ]
  },
  {
   "cell_type": "code",
   "execution_count": 22,
   "id": "55ba1d14-7bcc-49e4-98d8-38af5e2adfd2",
   "metadata": {},
   "outputs": [
    {
     "data": {
      "text/plain": [
       "2"
      ]
     },
     "execution_count": 22,
     "metadata": {},
     "output_type": "execute_result"
    }
   ],
   "source": [
    "a[0][1]"
   ]
  },
  {
   "cell_type": "code",
   "execution_count": 23,
   "id": "3fe63234-df04-463a-8209-e31f195205fc",
   "metadata": {},
   "outputs": [],
   "source": [
    "a[0][1]=78 # list are mutable"
   ]
  },
  {
   "cell_type": "code",
   "execution_count": 24,
   "id": "a2e502a4-5779-410a-bc27-9c4f1c260975",
   "metadata": {},
   "outputs": [
    {
     "data": {
      "text/plain": [
       "([1, 78], 5, [7, 8, 9])"
      ]
     },
     "execution_count": 24,
     "metadata": {},
     "output_type": "execute_result"
    }
   ],
   "source": [
    "a"
   ]
  },
  {
   "cell_type": "code",
   "execution_count": 25,
   "id": "79060f37-48d5-4718-a35f-d5666288d771",
   "metadata": {},
   "outputs": [],
   "source": [
    "del(a) # deletes the object"
   ]
  },
  {
   "cell_type": "code",
   "execution_count": 26,
   "id": "e70e44b5-875b-4bf2-8e16-097b0ac7c0ea",
   "metadata": {},
   "outputs": [
    {
     "ename": "NameError",
     "evalue": "name 'a' is not defined",
     "output_type": "error",
     "traceback": [
      "\u001b[0;31m---------------------------------------------------------------------------\u001b[0m",
      "\u001b[0;31mNameError\u001b[0m                                 Traceback (most recent call last)",
      "Cell \u001b[0;32mIn [26], line 1\u001b[0m\n\u001b[0;32m----> 1\u001b[0m \u001b[43ma\u001b[49m\n",
      "\u001b[0;31mNameError\u001b[0m: name 'a' is not defined"
     ]
    }
   ],
   "source": [
    "a"
   ]
  },
  {
   "cell_type": "code",
   "execution_count": 27,
   "id": "50c4ced5-445f-4d51-a98c-d040c7c95bd7",
   "metadata": {},
   "outputs": [],
   "source": [
    "## functions in tuple are similar to list\n",
    "## methods in tuple dont work as list ,only count() and index() works\n"
   ]
  },
  {
   "cell_type": "code",
   "execution_count": 29,
   "id": "15e97332-4bab-4348-9e22-4239c551943d",
   "metadata": {},
   "outputs": [
    {
     "data": {
      "text/plain": [
       "5"
      ]
     },
     "execution_count": 29,
     "metadata": {},
     "output_type": "execute_result"
    }
   ],
   "source": [
    "a=(1,2,3,4,3)\n",
    "len(a)"
   ]
  },
  {
   "cell_type": "code",
   "execution_count": 30,
   "id": "97accec8-c00c-48cd-af76-039927c94b1f",
   "metadata": {},
   "outputs": [
    {
     "data": {
      "text/plain": [
       "[1, 2, 3, 3, 4]"
      ]
     },
     "execution_count": 30,
     "metadata": {},
     "output_type": "execute_result"
    }
   ],
   "source": [
    "sorted(a)"
   ]
  },
  {
   "cell_type": "code",
   "execution_count": 31,
   "id": "31d26e0e-28b1-4e23-8afc-cfa38665bad1",
   "metadata": {},
   "outputs": [],
   "source": [
    "a=tuple(\"chay\") # arguement takes only iterables"
   ]
  },
  {
   "cell_type": "code",
   "execution_count": 32,
   "id": "950e2994-c21e-4222-a23f-78e821a8dadb",
   "metadata": {},
   "outputs": [
    {
     "data": {
      "text/plain": [
       "('c', 'h', 'a', 'y')"
      ]
     },
     "execution_count": 32,
     "metadata": {},
     "output_type": "execute_result"
    }
   ],
   "source": [
    "a"
   ]
  },
  {
   "cell_type": "code",
   "execution_count": 33,
   "id": "9caa93ae-cfa0-41a1-af36-1c052dc45b48",
   "metadata": {},
   "outputs": [
    {
     "ename": "AttributeError",
     "evalue": "'tuple' object has no attribute 'sort'",
     "output_type": "error",
     "traceback": [
      "\u001b[0;31m---------------------------------------------------------------------------\u001b[0m",
      "\u001b[0;31mAttributeError\u001b[0m                            Traceback (most recent call last)",
      "Cell \u001b[0;32mIn [33], line 1\u001b[0m\n\u001b[0;32m----> 1\u001b[0m \u001b[43ma\u001b[49m\u001b[38;5;241;43m.\u001b[39;49m\u001b[43msort\u001b[49m()\n",
      "\u001b[0;31mAttributeError\u001b[0m: 'tuple' object has no attribute 'sort'"
     ]
    }
   ],
   "source": [
    "a.sort()"
   ]
  },
  {
   "cell_type": "code",
   "execution_count": 34,
   "id": "8b4f92a6-54cc-4560-b0b1-b262a33e93d0",
   "metadata": {},
   "outputs": [
    {
     "data": {
      "text/plain": [
       "1"
      ]
     },
     "execution_count": 34,
     "metadata": {},
     "output_type": "execute_result"
    }
   ],
   "source": [
    "a.count('c')"
   ]
  },
  {
   "cell_type": "code",
   "execution_count": 35,
   "id": "580145cd-7465-47d1-a781-db335f412848",
   "metadata": {},
   "outputs": [
    {
     "ename": "AttributeError",
     "evalue": "'tuple' object has no attribute 'remove'",
     "output_type": "error",
     "traceback": [
      "\u001b[0;31m---------------------------------------------------------------------------\u001b[0m",
      "\u001b[0;31mAttributeError\u001b[0m                            Traceback (most recent call last)",
      "Cell \u001b[0;32mIn [35], line 1\u001b[0m\n\u001b[0;32m----> 1\u001b[0m \u001b[43ma\u001b[49m\u001b[38;5;241;43m.\u001b[39;49m\u001b[43mremove\u001b[49m(\u001b[38;5;124m'\u001b[39m\u001b[38;5;124mc\u001b[39m\u001b[38;5;124m'\u001b[39m)\n",
      "\u001b[0;31mAttributeError\u001b[0m: 'tuple' object has no attribute 'remove'"
     ]
    }
   ],
   "source": [
    "a.remove('c')"
   ]
  },
  {
   "cell_type": "code",
   "execution_count": 36,
   "id": "250d3e19-330b-45ea-a246-9a42b3fe2be5",
   "metadata": {},
   "outputs": [
    {
     "ename": "AttributeError",
     "evalue": "'tuple' object has no attribute 'reverse'",
     "output_type": "error",
     "traceback": [
      "\u001b[0;31m---------------------------------------------------------------------------\u001b[0m",
      "\u001b[0;31mAttributeError\u001b[0m                            Traceback (most recent call last)",
      "Cell \u001b[0;32mIn [36], line 1\u001b[0m\n\u001b[0;32m----> 1\u001b[0m \u001b[43ma\u001b[49m\u001b[38;5;241;43m.\u001b[39;49m\u001b[43mreverse\u001b[49m()\n",
      "\u001b[0;31mAttributeError\u001b[0m: 'tuple' object has no attribute 'reverse'"
     ]
    }
   ],
   "source": [
    "a.reverse()"
   ]
  },
  {
   "cell_type": "code",
   "execution_count": 37,
   "id": "b629b666-8c11-4777-ac1e-9d6959024f48",
   "metadata": {},
   "outputs": [],
   "source": [
    "## membership operator and concatenation is allowed in tuple"
   ]
  },
  {
   "cell_type": "code",
   "execution_count": 38,
   "id": "aa18e644-a51d-4b16-a2fc-346456211343",
   "metadata": {},
   "outputs": [
    {
     "data": {
      "text/plain": [
       "True"
      ]
     },
     "execution_count": 38,
     "metadata": {},
     "output_type": "execute_result"
    }
   ],
   "source": [
    "a=(1,2,3,4)\n",
    "1 in a"
   ]
  },
  {
   "cell_type": "code",
   "execution_count": 39,
   "id": "88d8b497-6a31-4ca9-86f2-e1c9f760907f",
   "metadata": {},
   "outputs": [],
   "source": [
    "b=(1,2,3,5,6)"
   ]
  },
  {
   "cell_type": "code",
   "execution_count": 40,
   "id": "2be7fbfc-8c93-4b66-8478-72146614e495",
   "metadata": {},
   "outputs": [
    {
     "data": {
      "text/plain": [
       "(1, 2, 3, 4, 1, 2, 3, 5, 6)"
      ]
     },
     "execution_count": 40,
     "metadata": {},
     "output_type": "execute_result"
    }
   ],
   "source": [
    "a+b # creates new object"
   ]
  },
  {
   "cell_type": "code",
   "execution_count": 41,
   "id": "d9b7dbde-854c-40ac-8891-fb3655748c60",
   "metadata": {},
   "outputs": [
    {
     "data": {
      "text/plain": [
       "139909701702800"
      ]
     },
     "execution_count": 41,
     "metadata": {},
     "output_type": "execute_result"
    }
   ],
   "source": [
    "id(a)"
   ]
  },
  {
   "cell_type": "code",
   "execution_count": 42,
   "id": "08e68d68-5627-44b1-b3bf-1f51eee0f336",
   "metadata": {},
   "outputs": [
    {
     "data": {
      "text/plain": [
       "139909333262400"
      ]
     },
     "execution_count": 42,
     "metadata": {},
     "output_type": "execute_result"
    }
   ],
   "source": [
    "id(a+b)"
   ]
  },
  {
   "cell_type": "code",
   "execution_count": 43,
   "id": "35e5bab1-1caa-46a0-aa85-40476a450265",
   "metadata": {},
   "outputs": [],
   "source": [
    "## multipliaction is allowed"
   ]
  },
  {
   "cell_type": "code",
   "execution_count": 44,
   "id": "bef55ce9-cc76-4196-be48-7717cc2f1144",
   "metadata": {},
   "outputs": [
    {
     "data": {
      "text/plain": [
       "(1, 2, 3, 4, 1, 2, 3, 4, 1, 2, 3, 4)"
      ]
     },
     "execution_count": 44,
     "metadata": {},
     "output_type": "execute_result"
    }
   ],
   "source": [
    "a*3"
   ]
  },
  {
   "cell_type": "code",
   "execution_count": 46,
   "id": "0002e841-b0f7-426f-856a-dcf798d8cf2f",
   "metadata": {},
   "outputs": [
    {
     "data": {
      "text/plain": [
       "(139909775571856, 139909332527296)"
      ]
     },
     "execution_count": 46,
     "metadata": {},
     "output_type": "execute_result"
    }
   ],
   "source": [
    "id(a*5),id(a*3)"
   ]
  },
  {
   "cell_type": "code",
   "execution_count": 47,
   "id": "ec53111f-d94f-4b5d-879c-05dc4303cc13",
   "metadata": {},
   "outputs": [],
   "source": [
    "## relational operators can be used "
   ]
  },
  {
   "cell_type": "code",
   "execution_count": 48,
   "id": "76deef39-9d60-41d4-bda1-63e272b7454f",
   "metadata": {},
   "outputs": [
    {
     "data": {
      "text/plain": [
       "True"
      ]
     },
     "execution_count": 48,
     "metadata": {},
     "output_type": "execute_result"
    }
   ],
   "source": [
    "a=(1,2,3)\n",
    "b=(2,3,4)\n",
    "a<b"
   ]
  },
  {
   "cell_type": "markdown",
   "id": "5982b450-7d08-4529-b28d-5ea0f3310fb2",
   "metadata": {},
   "source": [
    "## set"
   ]
  },
  {
   "cell_type": "code",
   "execution_count": 49,
   "id": "47e4fe32-ca0a-4e63-9f4e-f66fd65b7a99",
   "metadata": {},
   "outputs": [],
   "source": [
    "## duplicates not allowed in set\n",
    "## indexing not allowed\n",
    "## set is unordered collection"
   ]
  },
  {
   "cell_type": "code",
   "execution_count": 50,
   "id": "dbddbfec-b21d-4e80-84be-12bdc6e4127b",
   "metadata": {},
   "outputs": [],
   "source": [
    "a={1,2,3,4}"
   ]
  },
  {
   "cell_type": "code",
   "execution_count": 51,
   "id": "12da8396-94a1-4abb-a163-a301a6c095e0",
   "metadata": {},
   "outputs": [
    {
     "data": {
      "text/plain": [
       "{1, 2, 3, 4}"
      ]
     },
     "execution_count": 51,
     "metadata": {},
     "output_type": "execute_result"
    }
   ],
   "source": [
    "a"
   ]
  },
  {
   "cell_type": "code",
   "execution_count": 52,
   "id": "c07cf618-28e3-491d-a707-a4466aac4965",
   "metadata": {},
   "outputs": [
    {
     "data": {
      "text/plain": [
       "set"
      ]
     },
     "execution_count": 52,
     "metadata": {},
     "output_type": "execute_result"
    }
   ],
   "source": [
    "type(a\n",
    "    )"
   ]
  },
  {
   "cell_type": "code",
   "execution_count": 53,
   "id": "0b02eafa-7962-4282-98ad-c812773be627",
   "metadata": {},
   "outputs": [],
   "source": [
    "a={1,1,1,2}"
   ]
  },
  {
   "cell_type": "code",
   "execution_count": 54,
   "id": "0323da75-9007-4cca-8d7d-134cb3ec9d2d",
   "metadata": {},
   "outputs": [
    {
     "data": {
      "text/plain": [
       "{1, 2}"
      ]
     },
     "execution_count": 54,
     "metadata": {},
     "output_type": "execute_result"
    }
   ],
   "source": [
    "a"
   ]
  },
  {
   "cell_type": "code",
   "execution_count": 55,
   "id": "3c6f5610-96d8-4f7b-a08f-2714fc97b382",
   "metadata": {},
   "outputs": [
    {
     "ename": "TypeError",
     "evalue": "'set' object is not subscriptable",
     "output_type": "error",
     "traceback": [
      "\u001b[0;31m---------------------------------------------------------------------------\u001b[0m",
      "\u001b[0;31mTypeError\u001b[0m                                 Traceback (most recent call last)",
      "Cell \u001b[0;32mIn [55], line 1\u001b[0m\n\u001b[0;32m----> 1\u001b[0m \u001b[43ma\u001b[49m\u001b[43m[\u001b[49m\u001b[38;5;241;43m1\u001b[39;49m\u001b[43m]\u001b[49m\n",
      "\u001b[0;31mTypeError\u001b[0m: 'set' object is not subscriptable"
     ]
    }
   ],
   "source": [
    "a[1]"
   ]
  },
  {
   "cell_type": "code",
   "execution_count": 58,
   "id": "4f55226c-6da8-44a3-b6c8-d3f84bb49514",
   "metadata": {},
   "outputs": [],
   "source": [
    "a={2,'hy',8.9,'er'}"
   ]
  },
  {
   "cell_type": "code",
   "execution_count": 59,
   "id": "3624c8f7-834a-46bb-bd78-fae73c42ee07",
   "metadata": {},
   "outputs": [
    {
     "data": {
      "text/plain": [
       "{2, 8.9, 'er', 'hy'}"
      ]
     },
     "execution_count": 59,
     "metadata": {},
     "output_type": "execute_result"
    }
   ],
   "source": [
    "a"
   ]
  },
  {
   "cell_type": "code",
   "execution_count": null,
   "id": "c1dcc21c-a3bc-4c51-bf31-8f8e88a54851",
   "metadata": {},
   "outputs": [],
   "source": [
    "#functions and methods similar to list"
   ]
  }
 ],
 "metadata": {
  "kernelspec": {
   "display_name": "Python 3 (ipykernel)",
   "language": "python",
   "name": "python3"
  },
  "language_info": {
   "codemirror_mode": {
    "name": "ipython",
    "version": 3
   },
   "file_extension": ".py",
   "mimetype": "text/x-python",
   "name": "python",
   "nbconvert_exporter": "python",
   "pygments_lexer": "ipython3",
   "version": "3.10.6"
  }
 },
 "nbformat": 4,
 "nbformat_minor": 5
}
