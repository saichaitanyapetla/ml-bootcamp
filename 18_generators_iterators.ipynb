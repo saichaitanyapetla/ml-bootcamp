{
 "cells": [
  {
   "cell_type": "code",
   "execution_count": 1,
   "id": "15b0ecde-83a0-4d59-b0d9-c3c6544ba73f",
   "metadata": {},
   "outputs": [],
   "source": [
    "## zip function"
   ]
  },
  {
   "cell_type": "code",
   "execution_count": 2,
   "id": "a6a428cb-1a19-428c-a60c-28a0984a302c",
   "metadata": {},
   "outputs": [],
   "source": [
    "l1=[1,2,3,4,5]"
   ]
  },
  {
   "cell_type": "code",
   "execution_count": 3,
   "id": "1e7ec7d8-23fc-4960-adbe-e03e227b9495",
   "metadata": {},
   "outputs": [],
   "source": [
    "l2=['a','b','c','d','e']"
   ]
  },
  {
   "cell_type": "code",
   "execution_count": 21,
   "id": "f1f67d22-f1ff-49cd-8bd9-3ca4bd49c691",
   "metadata": {},
   "outputs": [],
   "source": [
    "x=zip(l1,l2)"
   ]
  },
  {
   "cell_type": "code",
   "execution_count": 5,
   "id": "1ce1603e-3254-4305-9ecd-b5fa1c3ef922",
   "metadata": {},
   "outputs": [
    {
     "data": {
      "text/plain": [
       "<zip at 0x7f87d822b8c0>"
      ]
     },
     "execution_count": 5,
     "metadata": {},
     "output_type": "execute_result"
    }
   ],
   "source": [
    "x"
   ]
  },
  {
   "cell_type": "code",
   "execution_count": 12,
   "id": "8628f544-7474-4bf7-b3d3-164f6521963b",
   "metadata": {},
   "outputs": [
    {
     "data": {
      "text/plain": [
       "zip"
      ]
     },
     "execution_count": 12,
     "metadata": {},
     "output_type": "execute_result"
    }
   ],
   "source": [
    "type(x)"
   ]
  },
  {
   "cell_type": "code",
   "execution_count": 18,
   "id": "12aeeacf-fce6-4acf-b96d-063c3cfa708d",
   "metadata": {},
   "outputs": [
    {
     "name": "stdout",
     "output_type": "stream",
     "text": [
      "(1, 'a')\n",
      "(2, 'b')\n",
      "(3, 'c')\n",
      "(4, 'd')\n",
      "(5, 'e')\n"
     ]
    }
   ],
   "source": [
    "for i in x:\n",
    "    print(i)\n",
    "    "
   ]
  },
  {
   "cell_type": "code",
   "execution_count": 15,
   "id": "dac6014d-17f5-4026-ab0f-4dd795c1ab9a",
   "metadata": {},
   "outputs": [
    {
     "data": {
      "text/plain": [
       "[1, 2, 3, 4, 5]"
      ]
     },
     "execution_count": 15,
     "metadata": {},
     "output_type": "execute_result"
    }
   ],
   "source": [
    "l1"
   ]
  },
  {
   "cell_type": "code",
   "execution_count": 22,
   "id": "a557f255-7977-4985-b430-45116cf8d787",
   "metadata": {},
   "outputs": [
    {
     "name": "stdout",
     "output_type": "stream",
     "text": [
      "1 a\n",
      "2 b\n",
      "3 c\n",
      "4 d\n",
      "5 e\n"
     ]
    }
   ],
   "source": [
    "for a,b in x:\n",
    "    print(a,b)"
   ]
  },
  {
   "cell_type": "code",
   "execution_count": 23,
   "id": "87ab4b1b-3bf1-41f2-8590-d66546012735",
   "metadata": {},
   "outputs": [],
   "source": [
    "## reduce function"
   ]
  },
  {
   "cell_type": "code",
   "execution_count": 24,
   "id": "7674baca-0784-429a-9745-762b09fcf9d2",
   "metadata": {},
   "outputs": [],
   "source": [
    "## import functools where reduce() present"
   ]
  },
  {
   "cell_type": "code",
   "execution_count": 25,
   "id": "d2000919-833f-4b2a-abfc-4356e6b8bbaf",
   "metadata": {},
   "outputs": [],
   "source": [
    "## reduce(fun,iterable) --> gives single value"
   ]
  },
  {
   "cell_type": "code",
   "execution_count": 26,
   "id": "5d06adb8-207f-4a4c-b089-e5974a261682",
   "metadata": {},
   "outputs": [],
   "source": [
    "l=[1,2,3,4,5]"
   ]
  },
  {
   "cell_type": "code",
   "execution_count": 27,
   "id": "2c8c97cd-3bd3-4c1f-8bd8-89eb3fc60479",
   "metadata": {},
   "outputs": [
    {
     "ename": "NameError",
     "evalue": "name 'reduce' is not defined",
     "output_type": "error",
     "traceback": [
      "\u001b[0;31m---------------------------------------------------------------------------\u001b[0m",
      "\u001b[0;31mNameError\u001b[0m                                 Traceback (most recent call last)",
      "Cell \u001b[0;32mIn [27], line 1\u001b[0m\n\u001b[0;32m----> 1\u001b[0m \u001b[43mreduce\u001b[49m(\u001b[38;5;28;01mlambda\u001b[39;00m x,y:x\u001b[38;5;241m+\u001b[39my,l)\n",
      "\u001b[0;31mNameError\u001b[0m: name 'reduce' is not defined"
     ]
    }
   ],
   "source": [
    "reduce(lambda x,y:x+y,l)"
   ]
  },
  {
   "cell_type": "code",
   "execution_count": 28,
   "id": "f8140f3f-3a42-424c-8730-4373c25fb549",
   "metadata": {},
   "outputs": [],
   "source": [
    "import functools"
   ]
  },
  {
   "cell_type": "code",
   "execution_count": 30,
   "id": "286b0ad8-2248-4323-a315-8dad8e714c00",
   "metadata": {},
   "outputs": [
    {
     "data": {
      "text/plain": [
       "15"
      ]
     },
     "execution_count": 30,
     "metadata": {},
     "output_type": "execute_result"
    }
   ],
   "source": [
    "functools.reduce(lambda x,y:x+y,l)"
   ]
  },
  {
   "cell_type": "code",
   "execution_count": 31,
   "id": "84a546d4-a1df-4dcd-8600-ddbc01eafad1",
   "metadata": {},
   "outputs": [
    {
     "data": {
      "text/plain": [
       "5"
      ]
     },
     "execution_count": 31,
     "metadata": {},
     "output_type": "execute_result"
    }
   ],
   "source": [
    "functools.reduce(lambda x,y:x if x>y else y,l)"
   ]
  },
  {
   "cell_type": "code",
   "execution_count": 32,
   "id": "c0eaa8d8-48ba-47af-b964-e3eede630f3c",
   "metadata": {},
   "outputs": [],
   "source": [
    "## generator"
   ]
  },
  {
   "cell_type": "code",
   "execution_count": 33,
   "id": "cc1bb7e7-7fcd-4ee1-aebd-630fe0799c94",
   "metadata": {},
   "outputs": [],
   "source": [
    "## helps in reducing memory while executing by yielding vaules one at a time and they behaves like an iterator"
   ]
  },
  {
   "cell_type": "code",
   "execution_count": 34,
   "id": "d098495e-ddec-4473-8e01-45610cbc2b0f",
   "metadata": {},
   "outputs": [],
   "source": [
    "## if we want print 1000000 numbers ,we can go for generators"
   ]
  },
  {
   "cell_type": "code",
   "execution_count": 35,
   "id": "1f4b9356-81eb-4b0e-b4bd-0749876b0345",
   "metadata": {},
   "outputs": [],
   "source": [
    "def gen(n):\n",
    "    for i in range(n):\n",
    "        yield i"
   ]
  },
  {
   "cell_type": "code",
   "execution_count": 38,
   "id": "4d96235e-336a-427c-922f-27680f344431",
   "metadata": {},
   "outputs": [],
   "source": [
    "x=gen(5) ## similar to iterator but more efficient"
   ]
  },
  {
   "cell_type": "code",
   "execution_count": 37,
   "id": "9b015a38-8f62-4f9e-bccd-21c739122774",
   "metadata": {},
   "outputs": [
    {
     "name": "stdout",
     "output_type": "stream",
     "text": [
      "0\n",
      "1\n",
      "2\n",
      "3\n",
      "4\n"
     ]
    }
   ],
   "source": [
    "for i in x:\n",
    "    print(i)"
   ]
  },
  {
   "cell_type": "code",
   "execution_count": 43,
   "id": "9c57de93-fdb1-40c0-a122-e464fff6171e",
   "metadata": {},
   "outputs": [],
   "source": [
    "## iterator and iterable"
   ]
  },
  {
   "cell_type": "code",
   "execution_count": 44,
   "id": "5b6cf7c6-a57e-4cb8-a955-25b824a15995",
   "metadata": {},
   "outputs": [],
   "source": [
    "## iterable --> any sequence(list,tuple etc)"
   ]
  },
  {
   "cell_type": "code",
   "execution_count": 45,
   "id": "49eb53e8-78ef-4349-ae21-98a2b9d29d85",
   "metadata": {},
   "outputs": [],
   "source": [
    "## iterator - "
   ]
  },
  {
   "cell_type": "code",
   "execution_count": 56,
   "id": "dabc8271-8bbb-42be-9eb2-5bfd731b3052",
   "metadata": {},
   "outputs": [],
   "source": [
    "l1=[1,2,3,4]\n"
   ]
  },
  {
   "cell_type": "code",
   "execution_count": 57,
   "id": "32e0fbe1-3656-402e-9537-e981ece688b6",
   "metadata": {},
   "outputs": [],
   "source": [
    "x=iter(l1) ## converts list obj to list_iterator obj "
   ]
  },
  {
   "cell_type": "code",
   "execution_count": 58,
   "id": "319cb7c6-ed1b-4e8f-a717-2a43025d1ad0",
   "metadata": {},
   "outputs": [
    {
     "data": {
      "text/plain": [
       "1"
      ]
     },
     "execution_count": 58,
     "metadata": {},
     "output_type": "execute_result"
    }
   ],
   "source": [
    "next(x)"
   ]
  },
  {
   "cell_type": "code",
   "execution_count": 59,
   "id": "90d32d66-6701-4379-955f-b752ec9ff888",
   "metadata": {},
   "outputs": [
    {
     "name": "stdout",
     "output_type": "stream",
     "text": [
      "2\n",
      "3\n",
      "4\n"
     ]
    },
    {
     "ename": "StopIteration",
     "evalue": "",
     "output_type": "error",
     "traceback": [
      "\u001b[0;31m---------------------------------------------------------------------------\u001b[0m",
      "\u001b[0;31mStopIteration\u001b[0m                             Traceback (most recent call last)",
      "Cell \u001b[0;32mIn [59], line 2\u001b[0m\n\u001b[1;32m      1\u001b[0m \u001b[38;5;28;01mwhile\u001b[39;00m \u001b[38;5;28;01mTrue\u001b[39;00m:\n\u001b[0;32m----> 2\u001b[0m     \u001b[38;5;28mprint\u001b[39m(\u001b[38;5;28;43mnext\u001b[39;49m\u001b[43m(\u001b[49m\u001b[43mx\u001b[49m\u001b[43m)\u001b[49m)\n",
      "\u001b[0;31mStopIteration\u001b[0m: "
     ]
    }
   ],
   "source": [
    "while True:\n",
    "    print(next(x))"
   ]
  },
  {
   "cell_type": "code",
   "execution_count": null,
   "id": "3a66c207-ebc8-4cd6-9452-f5ea30aac0ec",
   "metadata": {},
   "outputs": [],
   "source": []
  }
 ],
 "metadata": {
  "kernelspec": {
   "display_name": "Python 3 (ipykernel)",
   "language": "python",
   "name": "python3"
  },
  "language_info": {
   "codemirror_mode": {
    "name": "ipython",
    "version": 3
   },
   "file_extension": ".py",
   "mimetype": "text/x-python",
   "name": "python",
   "nbconvert_exporter": "python",
   "pygments_lexer": "ipython3",
   "version": "3.10.6"
  }
 },
 "nbformat": 4,
 "nbformat_minor": 5
}
