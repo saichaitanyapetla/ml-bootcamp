{
 "cells": [
  {
   "cell_type": "markdown",
   "id": "14d0cff8-97ec-4885-8b59-9b1323b459c5",
   "metadata": {},
   "source": [
    "## statistics"
   ]
  },
  {
   "cell_type": "code",
   "execution_count": 2,
   "id": "2d038177-8e3f-46b1-b1c1-4461053a3a11",
   "metadata": {},
   "outputs": [],
   "source": [
    "## statistics --> branch of maths which collect, organize and analize data\n",
    "## data --> piece of info\n",
    "## eg -> height of students in a class"
   ]
  },
  {
   "cell_type": "markdown",
   "id": "ff9491af-689b-489e-9b7d-332a938fb269",
   "metadata": {},
   "source": [
    "## types of statistics"
   ]
  },
  {
   "cell_type": "code",
   "execution_count": 3,
   "id": "e4b9f77e-0acb-47d5-825a-0c3ea90995fa",
   "metadata": {},
   "outputs": [],
   "source": [
    "## 1 --> descriptive statistics \n",
    "##       (summarize the data to a single value)"
   ]
  },
  {
   "cell_type": "code",
   "execution_count": 5,
   "id": "e79de7e5-a99a-4161-b29d-de4ca28478f5",
   "metadata": {},
   "outputs": [],
   "source": [
    "## 2 --> inferential statistics\n",
    "##       (concludes the population based on the sample data)\n",
    "##       Eg --> age of the people in a city\n",
    "##              (take few people[sample] from the city[population] and finds the age)\n",
    "##       we use hypothesis testing here"
   ]
  },
  {
   "cell_type": "markdown",
   "id": "27bb6589-55dc-467e-ba1d-1bdf0b754c66",
   "metadata": {},
   "source": [
    "## types of data "
   ]
  },
  {
   "cell_type": "code",
   "execution_count": 6,
   "id": "5be3830a-80a3-407f-9059-21bf760de623",
   "metadata": {},
   "outputs": [],
   "source": [
    "## 1 --> unstructured data(cannot be defined in row-column format or table format)\n",
    "##       Eg -> text,images,videos,voice,JSON(semi-structured)\n",
    "##       learn more about this in deep learning "
   ]
  },
  {
   "cell_type": "code",
   "execution_count": 7,
   "id": "2632e2b6-35de-44e5-b6a0-ce07f677e712",
   "metadata": {},
   "outputs": [],
   "source": [
    "## 2 --> structured data(can be defined in row-column format or table format)"
   ]
  },
  {
   "cell_type": "markdown",
   "id": "972bdf07-ecd4-43c0-8362-f7823b505aed",
   "metadata": {},
   "source": [
    "## types of structured data"
   ]
  },
  {
   "cell_type": "code",
   "execution_count": 10,
   "id": "5622a7db-7933-4a25-be3a-e283ed3932c4",
   "metadata": {},
   "outputs": [],
   "source": [
    "##                                structured data\n",
    "##                                      |\n",
    "##                  -----------------------------------------\n",
    "##                 |                                        |\n",
    "##              numeric                                categorical\n",
    "##                 |                                        |\n",
    "##        ---------------------                 -------------------\n",
    "##       |                   |                |                   |\n",
    "##    continuous          discrete          nominal             ordinal\n",
    "##    eg ->              eg ->              eg ->               eg ->\n",
    "##    height,weight      number of          blood group,        rank,education\n",
    "##    which takes        students in        hair colour etc     which deals with\n",
    "##    integer values     class which        which doesnot       good,better,best\n",
    "##                      whole numbers       have any order\n"
   ]
  },
  {
   "cell_type": "code",
   "execution_count": 12,
   "id": "53934c3b-9c56-4bca-8887-604d0de32b80",
   "metadata": {},
   "outputs": [],
   "source": [
    " ## semi-structured data-> if data set has atleat one column that is unstructured data "
   ]
  },
  {
   "cell_type": "code",
   "execution_count": 14,
   "id": "985b8074-48ef-41f7-b29c-c09484ec21bb",
   "metadata": {},
   "outputs": [],
   "source": [
    "## text column in student data(roll_no,percentage.gender,description)\n",
    "## here description column takes text"
   ]
  },
  {
   "cell_type": "markdown",
   "id": "4f0cb5d5-3b94-4075-8b44-6597914ba3cd",
   "metadata": {},
   "source": [
    "## descriptive statistics "
   ]
  },
  {
   "cell_type": "markdown",
   "id": "5492498a-df7d-401a-a686-23357d86f96a",
   "metadata": {},
   "source": [
    "## 1 --> centeral tendency(mean,median,mode)"
   ]
  },
  {
   "cell_type": "code",
   "execution_count": 15,
   "id": "4466dcc9-700f-4f14-bde4-e3fae5ee5f20",
   "metadata": {},
   "outputs": [],
   "source": [
    "## notations\n",
    "##   parameters               population                 sample\n",
    "##     mean                       μ                         X̄ \n",
    "##  standard deviation            σ                         S\n",
    "##     variance                   σ**2                       S**2     "
   ]
  },
  {
   "cell_type": "code",
   "execution_count": 16,
   "id": "5d764b90-9d05-45e6-bc04-5c4f196bfca0",
   "metadata": {},
   "outputs": [],
   "source": [
    "##          n\n",
    "## mean --> ∑ xi / N\n",
    "##         i=1"
   ]
  },
  {
   "cell_type": "code",
   "execution_count": 17,
   "id": "6f0d0ef7-5ab1-4b80-80cc-2861a911ab11",
   "metadata": {},
   "outputs": [],
   "source": [
    "## meadian --> middle number of sorted data-set\n",
    "## median is preferred than mean when there is an outlier(far or detached from mainstream)"
   ]
  },
  {
   "cell_type": "code",
   "execution_count": 18,
   "id": "3adef806-e01d-447b-b4cf-0c1042127f13",
   "metadata": {},
   "outputs": [],
   "source": [
    "## eg -> [1,2,3,4,5]\n",
    "## mean=3\n",
    "## median=3"
   ]
  },
  {
   "cell_type": "code",
   "execution_count": 19,
   "id": "25562dac-02b6-4e1f-b522-c503dcb3b981",
   "metadata": {},
   "outputs": [],
   "source": [
    "## eg -> [1,2,3,4,100]\n",
    "## mean=22\n",
    "## median=3"
   ]
  },
  {
   "cell_type": "code",
   "execution_count": 20,
   "id": "6cbb9a26-f2cf-463b-820b-2c0384cf9403",
   "metadata": {},
   "outputs": [],
   "source": [
    "## mode --> most frequent value\n",
    "## we use mode mostly for categorical data"
   ]
  },
  {
   "cell_type": "markdown",
   "id": "941b0983-0f88-4a51-acb0-e9d4780f0fc9",
   "metadata": {},
   "source": [
    "## 2 --> dispersion(range,standard deviation,variance,percentile,quartile)"
   ]
  },
  {
   "cell_type": "code",
   "execution_count": 21,
   "id": "9e133ab5-35a3-4802-aad5-57cd1783ea5b",
   "metadata": {},
   "outputs": [],
   "source": [
    "## disperion --> data spread"
   ]
  },
  {
   "cell_type": "code",
   "execution_count": null,
   "id": "c7a25e5a-4627-44ff-b4f9-5b3c880a4b08",
   "metadata": {},
   "outputs": [],
   "source": []
  }
 ],
 "metadata": {
  "kernelspec": {
   "display_name": "Python 3 (ipykernel)",
   "language": "python",
   "name": "python3"
  },
  "language_info": {
   "codemirror_mode": {
    "name": "ipython",
    "version": 3
   },
   "file_extension": ".py",
   "mimetype": "text/x-python",
   "name": "python",
   "nbconvert_exporter": "python",
   "pygments_lexer": "ipython3",
   "version": "3.10.6"
  }
 },
 "nbformat": 4,
 "nbformat_minor": 5
}
