{
 "cells": [
  {
   "cell_type": "markdown",
   "id": "980491f5-6ef2-42db-85ac-2a70e8ef70a2",
   "metadata": {},
   "source": [
    "## Exception Handling"
   ]
  },
  {
   "cell_type": "code",
   "execution_count": 1,
   "id": "af1844f0-7ceb-4058-b21c-e52f0ffafa4b",
   "metadata": {},
   "outputs": [],
   "source": [
    "## exception -- runtime error"
   ]
  },
  {
   "cell_type": "code",
   "execution_count": 2,
   "id": "a7679e35-5e49-4a67-ac2d-40f6d1bb060b",
   "metadata": {},
   "outputs": [],
   "source": [
    "## why to handle the exception?"
   ]
  },
  {
   "cell_type": "code",
   "execution_count": 4,
   "id": "9d60882e-73d4-47c3-be42-cac66883c689",
   "metadata": {},
   "outputs": [],
   "source": [
    "## 1 --> smooth termination not affecting the other part of the code execution\n",
    "## 2 --> giving user friendly message rather system generated while exception"
   ]
  },
  {
   "cell_type": "code",
   "execution_count": 5,
   "id": "84ab1c9a-6ba4-4ab0-a563-46979d377cf1",
   "metadata": {},
   "outputs": [],
   "source": [
    "## how to handle exception??"
   ]
  },
  {
   "cell_type": "code",
   "execution_count": 6,
   "id": "875954d5-3b29-4606-ab07-a72d70777f5c",
   "metadata": {},
   "outputs": [],
   "source": [
    "## using try and except"
   ]
  },
  {
   "cell_type": "code",
   "execution_count": 9,
   "id": "b592c337-e97d-4e27-9d53-03f2760dc3dc",
   "metadata": {},
   "outputs": [],
   "source": [
    "## 5 keywords related to exception handling\n",
    "## 1 --> try\n",
    "## 2 --> except\n",
    "## 3 --> raise\n",
    "## 4 --> else\n",
    "## 5 --> finally"
   ]
  },
  {
   "cell_type": "code",
   "execution_count": 10,
   "id": "2f5538de-1527-4b17-9c8e-8176c980f4a6",
   "metadata": {},
   "outputs": [
    {
     "name": "stdin",
     "output_type": "stream",
     "text": [
      "enter a num 10\n",
      "enter a num 0\n"
     ]
    },
    {
     "ename": "ZeroDivisionError",
     "evalue": "division by zero",
     "output_type": "error",
     "traceback": [
      "\u001b[0;31m---------------------------------------------------------------------------\u001b[0m",
      "\u001b[0;31mZeroDivisionError\u001b[0m                         Traceback (most recent call last)",
      "Cell \u001b[0;32mIn [10], line 3\u001b[0m\n\u001b[1;32m      1\u001b[0m a\u001b[38;5;241m=\u001b[39m\u001b[38;5;28mint\u001b[39m(\u001b[38;5;28minput\u001b[39m(\u001b[38;5;124m'\u001b[39m\u001b[38;5;124menter a num\u001b[39m\u001b[38;5;124m'\u001b[39m))\n\u001b[1;32m      2\u001b[0m b\u001b[38;5;241m=\u001b[39m\u001b[38;5;28mint\u001b[39m(\u001b[38;5;28minput\u001b[39m(\u001b[38;5;124m'\u001b[39m\u001b[38;5;124menter a num\u001b[39m\u001b[38;5;124m'\u001b[39m))\n\u001b[0;32m----> 3\u001b[0m c \u001b[38;5;241m=\u001b[39m\u001b[43ma\u001b[49m\u001b[38;5;241;43m/\u001b[39;49m\u001b[43mb\u001b[49m\n",
      "\u001b[0;31mZeroDivisionError\u001b[0m: division by zero"
     ]
    }
   ],
   "source": [
    "a=int(input('enter a num'))\n",
    "b=int(input('enter a num'))\n",
    "c =a/b"
   ]
  },
  {
   "cell_type": "code",
   "execution_count": 11,
   "id": "2c185f84-6f6d-4355-a1dd-26b9d99cc386",
   "metadata": {},
   "outputs": [
    {
     "name": "stdin",
     "output_type": "stream",
     "text": [
      "enter a num 10\n",
      "enter a num 0\n"
     ]
    },
    {
     "name": "stdout",
     "output_type": "stream",
     "text": [
      "b value should nt be zero\n"
     ]
    }
   ],
   "source": [
    "try:\n",
    "    a=int(input('enter a num'))\n",
    "    b=int(input('enter a num'))\n",
    "    c =a/b\n",
    "    d=a+b\n",
    "except:\n",
    "    print('b value should nt be zero')\n",
    "    "
   ]
  },
  {
   "cell_type": "code",
   "execution_count": 13,
   "id": "10ffa585-b1b5-4053-b4cf-0994e38da2b3",
   "metadata": {},
   "outputs": [
    {
     "name": "stdin",
     "output_type": "stream",
     "text": [
      "enter a num 10\n",
      "enter a num 0\n"
     ]
    },
    {
     "name": "stdout",
     "output_type": "stream",
     "text": [
      "b value should nt be 0\n",
      "10\n"
     ]
    }
   ],
   "source": [
    "try:\n",
    "    a=int(input('enter a num'))\n",
    "    b=int(input('enter a num'))\n",
    "    c =a/b\n",
    "    print(c)\n",
    "except:\n",
    "    print('b value should nt be 0') ## user friendly message\n",
    "d=a+b\n",
    "print(d)  ## not affecting this part of code\n",
    "    "
   ]
  },
  {
   "cell_type": "code",
   "execution_count": 14,
   "id": "5ec4427c-7ca4-4040-afd2-74cbb3c36e79",
   "metadata": {},
   "outputs": [],
   "source": [
    "## try with multiple except blocks"
   ]
  },
  {
   "cell_type": "code",
   "execution_count": 19,
   "id": "aa008d3f-7efb-456a-8ecd-969a5aee5ef8",
   "metadata": {},
   "outputs": [
    {
     "name": "stdin",
     "output_type": "stream",
     "text": [
      "enter a num 10\n",
      "enter a num 2a\n"
     ]
    },
    {
     "name": "stdout",
     "output_type": "stream",
     "text": [
      "b value should be an integer\n"
     ]
    }
   ],
   "source": [
    "try:\n",
    "    a=int(input('enter a num'))\n",
    "    b=int(input('enter a num'))\n",
    "    c =a/b\n",
    "    print(c)\n",
    "except ZeroDivisionError:\n",
    "    print('b value should nt be 0')\n",
    "except ValueError:\n",
    "    print('b value should be an integer')"
   ]
  },
  {
   "cell_type": "code",
   "execution_count": 20,
   "id": "e651276b-674b-493a-a42a-e24bd4d5633f",
   "metadata": {},
   "outputs": [],
   "source": [
    "## exception class hierarchy"
   ]
  },
  {
   "cell_type": "code",
   "execution_count": 25,
   "id": "a3da8403-97a6-4d48-a1b1-4d4299ba1a5d",
   "metadata": {},
   "outputs": [
    {
     "ename": "IndentationError",
     "evalue": "unindent does not match any outer indentation level (<tokenize>, line 3)",
     "output_type": "error",
     "traceback": [
      "\u001b[0;36m  File \u001b[0;32m<tokenize>:3\u001b[0;36m\u001b[0m\n\u001b[0;31m    Exception\u001b[0m\n\u001b[0m    ^\u001b[0m\n\u001b[0;31mIndentationError\u001b[0m\u001b[0;31m:\u001b[0m unindent does not match any outer indentation level\n"
     ]
    }
   ],
   "source": [
    "                              BaseException\n",
    "                                       |\n",
    "                                    Exception\n",
    "                                       |\n",
    "                ------------------------------------------------------------------\n",
    "              |                   |              |                   |             |\n",
    "      AirthematicError         OSError       RunTimeError        LookupError     SyntaxError\n",
    "      \n"
   ]
  },
  {
   "cell_type": "code",
   "execution_count": 26,
   "id": "0c7a056a-d44a-4350-908c-cc352bc7a9e1",
   "metadata": {},
   "outputs": [
    {
     "name": "stdin",
     "output_type": "stream",
     "text": [
      "enter a num 10\n",
      "enter a num 0\n"
     ]
    },
    {
     "name": "stdout",
     "output_type": "stream",
     "text": [
      "b value should nt be 0\n"
     ]
    }
   ],
   "source": [
    "##  here both the exception classes are of same level\n",
    "try:\n",
    "    a=int(input('enter a num'))\n",
    "    b=int(input('enter a num'))\n",
    "    c =a/b\n",
    "    print(c)\n",
    "except ZeroDivisionError:\n",
    "    print('b value should nt be 0')\n",
    "except ValueError:\n",
    "    print('b value should be an integer')"
   ]
  },
  {
   "cell_type": "code",
   "execution_count": 30,
   "id": "57301818-efa7-4b6f-8604-da6e345ae963",
   "metadata": {},
   "outputs": [
    {
     "name": "stdin",
     "output_type": "stream",
     "text": [
      "enter a num 10\n",
      "enter a num 2s\n"
     ]
    },
    {
     "name": "stdout",
     "output_type": "stream",
     "text": [
      "b value should be an integer\n"
     ]
    }
   ],
   "source": [
    "## exception classes with child and parent\n",
    "try:\n",
    "    a=int(input('enter a num'))\n",
    "    b=int(input('enter a num'))\n",
    "    c =a/b\n",
    "    print(c)\n",
    "except ZeroDivisionError:\n",
    "    print('b value should nt be 0')\n",
    "except Exception:\n",
    "    print('b value should be an integer')"
   ]
  },
  {
   "cell_type": "code",
   "execution_count": 35,
   "id": "2f750c2e-8413-4d6a-aa94-848b98bbde2b",
   "metadata": {},
   "outputs": [
    {
     "name": "stdin",
     "output_type": "stream",
     "text": [
      "enter a num 10\n",
      "enter a num 4\n"
     ]
    },
    {
     "name": "stdout",
     "output_type": "stream",
     "text": [
      "2.5\n"
     ]
    }
   ],
   "source": [
    "try:\n",
    "    a=int(input('enter a num'))\n",
    "    b=int(input('enter a num'))\n",
    "    c =a/b\n",
    "    print(c)\n",
    "except (ZeroDivisionError,ValueError) as e:\n",
    "    print(e) ## default msg\n"
   ]
  },
  {
   "cell_type": "code",
   "execution_count": 36,
   "id": "46f7480f-1402-4c8d-b62d-f42c6d8bfda6",
   "metadata": {},
   "outputs": [],
   "source": [
    "## exception info method"
   ]
  },
  {
   "cell_type": "code",
   "execution_count": 37,
   "id": "1ebdd466-3ddc-47f0-bb0f-e647f2c4a697",
   "metadata": {},
   "outputs": [],
   "source": [
    "## sys.exc_info()"
   ]
  },
  {
   "cell_type": "code",
   "execution_count": 40,
   "id": "6946e0bb-b087-4d12-9e28-f0cdd5bd643e",
   "metadata": {},
   "outputs": [
    {
     "name": "stdin",
     "output_type": "stream",
     "text": [
      "enter a num 10\n",
      "enter a num 0\n"
     ]
    },
    {
     "name": "stdout",
     "output_type": "stream",
     "text": [
      "(<class 'ZeroDivisionError'>, ZeroDivisionError('division by zero'), <traceback object at 0x7f36c65011c0>)\n"
     ]
    }
   ],
   "source": [
    "import sys\n",
    "try:\n",
    "    a=int(input('enter a num'))\n",
    "    b=int(input('enter a num'))\n",
    "    c =a/b\n",
    "    print(c)\n",
    "except :\n",
    "    a=sys.exc_info() ## returns tuple(class_name,message,trace)\n",
    "    print(a)\n"
   ]
  },
  {
   "cell_type": "code",
   "execution_count": 41,
   "id": "0da5fd4d-350b-4708-911f-2a05bf993350",
   "metadata": {},
   "outputs": [
    {
     "name": "stdin",
     "output_type": "stream",
     "text": [
      "enter a num 10\n",
      "enter a num 0\n"
     ]
    },
    {
     "name": "stdout",
     "output_type": "stream",
     "text": [
      "<class 'ZeroDivisionError'>\n",
      "division by zero\n",
      "<traceback object at 0x7f36c65011c0>\n"
     ]
    }
   ],
   "source": [
    "import sys\n",
    "try:\n",
    "    a=int(input('enter a num'))\n",
    "    b=int(input('enter a num'))\n",
    "    c =a/b\n",
    "    print(c)\n",
    "except :\n",
    "    a,b,c=sys.exc_info() ## returns tuple(class_name,message,trace)\n",
    "    print(a)\n",
    "    print(b)\n",
    "    print(c)\n"
   ]
  },
  {
   "cell_type": "code",
   "execution_count": 42,
   "id": "4ba6a534-aa25-4a10-82b0-d94681c116fd",
   "metadata": {},
   "outputs": [
    {
     "name": "stdin",
     "output_type": "stream",
     "text": [
      "enter a num 10\n",
      "enter a num 0\n"
     ]
    },
    {
     "name": "stdout",
     "output_type": "stream",
     "text": [
      "<class 'ZeroDivisionError'>\n",
      "division by zero\n",
      "5\n"
     ]
    }
   ],
   "source": [
    "import sys\n",
    "try:\n",
    "    a=int(input('enter a num'))\n",
    "    b=int(input('enter a num'))\n",
    "    c =a/b\n",
    "    print(c)\n",
    "except :\n",
    "    a,b,c=sys.exc_info()\n",
    "    print(a)\n",
    "    print(b)\n",
    "    print(c.tb_lineno)\n"
   ]
  },
  {
   "cell_type": "code",
   "execution_count": 43,
   "id": "4f4e3cd3-0a35-4f2a-b5d0-c39afdc5a347",
   "metadata": {},
   "outputs": [],
   "source": [
    "## finally block"
   ]
  },
  {
   "cell_type": "code",
   "execution_count": 44,
   "id": "8aad798c-c11d-4ae6-8e25-a685077ae921",
   "metadata": {},
   "outputs": [],
   "source": [
    "## this block executes despiter exception occurs or not\n",
    "## used to close the resources"
   ]
  },
  {
   "cell_type": "code",
   "execution_count": 45,
   "id": "3c87888c-944e-4d41-b647-8a989663bc9c",
   "metadata": {},
   "outputs": [
    {
     "name": "stdin",
     "output_type": "stream",
     "text": [
      "enter a num 10\n",
      "enter a num 0\n"
     ]
    },
    {
     "name": "stdout",
     "output_type": "stream",
     "text": [
      "<class 'ZeroDivisionError'>\n",
      "division by zero\n",
      "<traceback object at 0x7f36c6550680>\n",
      "the end\n"
     ]
    }
   ],
   "source": [
    "import sys\n",
    "try:\n",
    "    a=int(input('enter a num'))\n",
    "    b=int(input('enter a num'))\n",
    "    c =a/b\n",
    "    print(c)\n",
    "except :\n",
    "    a,b,c=sys.exc_info() ## returns tuple(class_name,message,trace)\n",
    "    print(a)\n",
    "    print(b)\n",
    "    print(c)\n",
    "finally:\n",
    "    print('the end')\n"
   ]
  },
  {
   "cell_type": "code",
   "execution_count": 46,
   "id": "445aad70-3910-4422-a892-eac5b066fee8",
   "metadata": {},
   "outputs": [],
   "source": [
    "## raise --> we can throw the exception at some point in our own code (custom feature)"
   ]
  },
  {
   "cell_type": "code",
   "execution_count": 49,
   "id": "30f5a5d4-5d7b-44bf-9b8c-3d8a9eccd610",
   "metadata": {},
   "outputs": [
    {
     "name": "stdin",
     "output_type": "stream",
     "text": [
      "enter a num -8\n",
      "enter a num 6\n"
     ]
    },
    {
     "name": "stdout",
     "output_type": "stream",
     "text": [
      "-1.3333333333333333\n",
      "negative numbers not alowed\n"
     ]
    }
   ],
   "source": [
    "import sys\n",
    "try:\n",
    "    a=int(input('enter a num'))\n",
    "    b=int(input('enter a num'))\n",
    "    c =a/b\n",
    "    print(c)\n",
    "    if a<0:\n",
    "        raise Exception('negative numbers not alowed')\n",
    "\n",
    "except Exception as e:\n",
    "    print(e)\n"
   ]
  },
  {
   "cell_type": "code",
   "execution_count": 50,
   "id": "11e1f20c-9716-44e4-a69d-53d849123e7b",
   "metadata": {},
   "outputs": [],
   "source": [
    "## creating own exception class"
   ]
  },
  {
   "cell_type": "code",
   "execution_count": 51,
   "id": "d512b61c-3750-46b4-bf79-52f26083f42d",
   "metadata": {},
   "outputs": [],
   "source": [
    "## syntax \n",
    "class class_name(Exception):\n",
    "    pass"
   ]
  },
  {
   "cell_type": "code",
   "execution_count": 71,
   "id": "22eba6af-21ca-4d81-9bf9-839d8899641f",
   "metadata": {},
   "outputs": [
    {
     "name": "stdin",
     "output_type": "stream",
     "text": [
      "enter a num -8\n",
      "enter a num 9\n"
     ]
    },
    {
     "name": "stdout",
     "output_type": "stream",
     "text": [
      "-0.8888888888888888\n",
      "negative num not allowed\n"
     ]
    }
   ],
   "source": [
    "import sys\n",
    "try:\n",
    "    a=int(input('enter a num'))\n",
    "    b=int(input('enter a num'))\n",
    "    c =a/b\n",
    "    print(c)\n",
    "    if a<0:\n",
    "        raise NegativeNumException('negative num not allowed')\n",
    "\n",
    "except Exception as e:\n",
    "    print(e)\n",
    "    \n",
    "class NegativeNumException(Exception):\n",
    "    pass\n"
   ]
  },
  {
   "cell_type": "code",
   "execution_count": 54,
   "id": "00f06c12-b266-4d6d-8329-335cb821ed5d",
   "metadata": {},
   "outputs": [
    {
     "name": "stdin",
     "output_type": "stream",
     "text": [
      "enter a num -9\n",
      "enter a num 8\n"
     ]
    },
    {
     "name": "stdout",
     "output_type": "stream",
     "text": [
      "-1.125\n",
      "negative num not allowed\n"
     ]
    }
   ],
   "source": [
    "import sys\n",
    "try:\n",
    "    a=int(input('enter a num'))\n",
    "    b=int(input('enter a num'))\n",
    "    c =a/b\n",
    "    print(c)\n",
    "    if a<0:\n",
    "        raise NegativeNumException('negative num not allowed')\n",
    "\n",
    "except Exception as e:\n",
    "    print(e)\n",
    "    \n",
    "class NegativeNumException(Exception):\n",
    "    def __init__(self,msg):\n",
    "        self.msg=msg\n"
   ]
  },
  {
   "cell_type": "code",
   "execution_count": 55,
   "id": "0069d654-81d6-405c-b7db-d8a28698a740",
   "metadata": {},
   "outputs": [],
   "source": [
    "## if we dont write init() in our exception class , it will taken care by exception class"
   ]
  },
  {
   "cell_type": "code",
   "execution_count": 70,
   "id": "a16e6b94-bb8e-4a1a-a804-7a2d04f24a24",
   "metadata": {},
   "outputs": [
    {
     "name": "stdin",
     "output_type": "stream",
     "text": [
      "enter a num 10\n",
      "enter a num 0\n"
     ]
    },
    {
     "name": "stdout",
     "output_type": "stream",
     "text": [
      "b shouldnt be zero\n"
     ]
    }
   ],
   "source": [
    "\n",
    "try:\n",
    "    a=int(input('enter a num'))\n",
    "    b=int(input('enter a num'))\n",
    "    if b==0:\n",
    "        raise ZeroException('b shouldnt be zero')\n",
    "    c =a/b\n",
    "    print(c)\n",
    "except Exception as e:\n",
    "    print(e)\n",
    "class ZeroException(Exception):\n",
    "    pass"
   ]
  },
  {
   "cell_type": "code",
   "execution_count": null,
   "id": "dd2134aa-1184-48e9-9f03-054ac63f1b6d",
   "metadata": {},
   "outputs": [],
   "source": []
  }
 ],
 "metadata": {
  "kernelspec": {
   "display_name": "Python 3 (ipykernel)",
   "language": "python",
   "name": "python3"
  },
  "language_info": {
   "codemirror_mode": {
    "name": "ipython",
    "version": 3
   },
   "file_extension": ".py",
   "mimetype": "text/x-python",
   "name": "python",
   "nbconvert_exporter": "python",
   "pygments_lexer": "ipython3",
   "version": "3.10.6"
  }
 },
 "nbformat": 4,
 "nbformat_minor": 5
}
