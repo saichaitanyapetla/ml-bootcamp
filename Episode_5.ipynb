{
 "cells": [
  {
   "cell_type": "markdown",
   "id": "900ec11b-a4bb-46cd-977d-a32dc761db68",
   "metadata": {},
   "source": [
    "## split()"
   ]
  },
  {
   "cell_type": "code",
   "execution_count": 1,
   "id": "4074d600-9132-4204-bed8-cf89e49c5333",
   "metadata": {},
   "outputs": [],
   "source": [
    "#split(sep,maxsplit)  default values of sep=\" \", maxsplit=-1"
   ]
  },
  {
   "cell_type": "code",
   "execution_count": 2,
   "id": "0e4fb39e-741a-4701-8e57-240540a84e1d",
   "metadata": {},
   "outputs": [],
   "source": [
    "a=\"hey wassup\""
   ]
  },
  {
   "cell_type": "code",
   "execution_count": 3,
   "id": "145cc9f0-2ddc-4bc5-b302-d374d95ffc58",
   "metadata": {},
   "outputs": [
    {
     "name": "stdout",
     "output_type": "stream",
     "text": [
      "hey wassup\n"
     ]
    }
   ],
   "source": [
    "x,y=a.split()\n",
    "print(x,y)"
   ]
  },
  {
   "cell_type": "code",
   "execution_count": 5,
   "id": "e87a0bb4-a7cd-4065-9dec-c51b307c4b7f",
   "metadata": {},
   "outputs": [
    {
     "data": {
      "text/plain": [
       "['hey', 'wassup']"
      ]
     },
     "execution_count": 5,
     "metadata": {},
     "output_type": "execute_result"
    }
   ],
   "source": [
    "a.split() ## split() returns list"
   ]
  },
  {
   "cell_type": "code",
   "execution_count": 6,
   "id": "b74ce689-8fa1-4feb-b6f1-788beb205a75",
   "metadata": {},
   "outputs": [],
   "source": [
    "## wap to accept 2 integers and print those along with their sum"
   ]
  },
  {
   "cell_type": "code",
   "execution_count": 7,
   "id": "22fc5ac5-6f66-4058-ab29-55cf89d5a420",
   "metadata": {},
   "outputs": [
    {
     "name": "stdin",
     "output_type": "stream",
     "text": [
      "enter 2 num's 10 20\n"
     ]
    }
   ],
   "source": [
    "a=input(\"enter 2 num's\")"
   ]
  },
  {
   "cell_type": "code",
   "execution_count": 9,
   "id": "bec83117-edb0-48ac-beef-fd2ce6a79934",
   "metadata": {},
   "outputs": [
    {
     "name": "stdout",
     "output_type": "stream",
     "text": [
      "10 20 30\n"
     ]
    }
   ],
   "source": [
    "x,y=a.split()\n",
    "sum=int(x)+int(y)\n",
    "print(x,y,sum)\n"
   ]
  },
  {
   "cell_type": "code",
   "execution_count": 11,
   "id": "dce72635-da41-4edf-8702-df65602b37f9",
   "metadata": {},
   "outputs": [],
   "source": [
    "a=\"hey hi how r u\""
   ]
  },
  {
   "cell_type": "code",
   "execution_count": 20,
   "id": "8c14a00d-ab68-438b-bc21-22b515607d1f",
   "metadata": {},
   "outputs": [
    {
     "data": {
      "text/plain": [
       "['hey', 'hi', 'how', 'r', 'u']"
      ]
     },
     "execution_count": 20,
     "metadata": {},
     "output_type": "execute_result"
    }
   ],
   "source": [
    "a.split(\" \",89)"
   ]
  },
  {
   "cell_type": "markdown",
   "id": "73e1f093-d089-4225-883f-b2bf589892ae",
   "metadata": {},
   "source": [
    "## while - else"
   ]
  },
  {
   "cell_type": "code",
   "execution_count": 21,
   "id": "265a62b7-da31-4d7f-99d7-9132ef6a1b91",
   "metadata": {},
   "outputs": [
    {
     "name": "stdout",
     "output_type": "stream",
     "text": [
      "1\n",
      "2\n",
      "3\n",
      "4\n",
      "5\n",
      "6\n",
      "7\n",
      "8\n",
      "9\n",
      "10\n",
      "done\n"
     ]
    }
   ],
   "source": [
    "i=1\n",
    "while i<=10:\n",
    "    print(i)\n",
    "    i=i+1\n",
    "else:\n",
    "    print(\"done\")"
   ]
  },
  {
   "cell_type": "code",
   "execution_count": 22,
   "id": "e5b66e58-43a2-497e-8153-aaccad3626ad",
   "metadata": {},
   "outputs": [
    {
     "name": "stdout",
     "output_type": "stream",
     "text": [
      "1\n",
      "2\n",
      "3\n",
      "4\n"
     ]
    }
   ],
   "source": [
    "i=1\n",
    "while i<=10:\n",
    "    print(i)\n",
    "    i=i+1\n",
    "    if i==5:\n",
    "        break\n",
    "else:\n",
    "    print(\"done\")"
   ]
  },
  {
   "cell_type": "code",
   "execution_count": 23,
   "id": "015b8bd5-be1a-47d0-af02-4657a52f5826",
   "metadata": {},
   "outputs": [],
   "source": [
    "## else block wont be executed if loop terminates through break "
   ]
  },
  {
   "cell_type": "code",
   "execution_count": 24,
   "id": "8a3b19eb-642d-4dc5-bb0f-73bdad43ba74",
   "metadata": {},
   "outputs": [],
   "source": [
    "## wap to print odd numbers"
   ]
  },
  {
   "cell_type": "code",
   "execution_count": 25,
   "id": "b1cd459d-455d-44e8-a6bc-297a6ccf2615",
   "metadata": {},
   "outputs": [],
   "source": [
    "def printodd(a):\n",
    "    i=1\n",
    "    while i<=a:\n",
    "        print(i)\n",
    "        i=i+2\n",
    "        \n",
    "    "
   ]
  },
  {
   "cell_type": "code",
   "execution_count": 26,
   "id": "05f52108-3cbe-463a-8c6a-8aee71dbde98",
   "metadata": {},
   "outputs": [
    {
     "name": "stdout",
     "output_type": "stream",
     "text": [
      "1\n",
      "3\n",
      "5\n"
     ]
    }
   ],
   "source": [
    "printodd(5)\n"
   ]
  },
  {
   "cell_type": "code",
   "execution_count": 27,
   "id": "d276f7f0-5a0c-4086-bb26-766c27d23dc2",
   "metadata": {},
   "outputs": [],
   "source": [
    "## continue - skips the current iteration\n",
    "## break    - terminates the loop\n",
    "## pass     - no operation statement"
   ]
  },
  {
   "cell_type": "code",
   "execution_count": 31,
   "id": "00f9c366-84fd-4cd4-9df6-6ce971da9828",
   "metadata": {},
   "outputs": [
    {
     "name": "stdout",
     "output_type": "stream",
     "text": [
      "hy\n"
     ]
    }
   ],
   "source": [
    "a,b=182,20\n",
    "if a>b:\n",
    "    print(\"hy\")\n",
    "    pass#3 later we can add the statments."
   ]
  },
  {
   "cell_type": "code",
   "execution_count": 32,
   "id": "7bb2948f-7982-4de8-8efe-ff39cc72d247",
   "metadata": {},
   "outputs": [],
   "source": [
    "## searching program"
   ]
  },
  {
   "cell_type": "code",
   "execution_count": 3,
   "id": "c6c278c6-9abf-415c-a38b-a0c47e057798",
   "metadata": {},
   "outputs": [
    {
     "name": "stdout",
     "output_type": "stream",
     "text": [
      "num found\n"
     ]
    }
   ],
   "source": [
    "a=[1,2,3,4]\n",
    "i=0\n",
    "while i<len(a):\n",
    "    if a[i]==3:\n",
    "        print(\"num found\")\n",
    "        break\n",
    "    i=i+1\n",
    "else:\n",
    "    print('num not found')"
   ]
  },
  {
   "cell_type": "code",
   "execution_count": 1,
   "id": "3ef26de4-37bb-4734-889c-d09e0bf6295a",
   "metadata": {},
   "outputs": [],
   "source": [
    "a=0"
   ]
  },
  {
   "cell_type": "code",
   "execution_count": 2,
   "id": "0fa8bcd2-273a-45de-a36e-668eafabb2cb",
   "metadata": {},
   "outputs": [
    {
     "data": {
      "text/plain": [
       "0"
      ]
     },
     "execution_count": 2,
     "metadata": {},
     "output_type": "execute_result"
    }
   ],
   "source": [
    "a"
   ]
  },
  {
   "cell_type": "markdown",
   "id": "b8559251-bb55-4415-8c58-5e0b77c4fa30",
   "metadata": {},
   "source": [
    "## for loop"
   ]
  },
  {
   "cell_type": "code",
   "execution_count": 4,
   "id": "83a9368f-a1be-47cc-9d16-90a8b840de06",
   "metadata": {},
   "outputs": [],
   "source": [
    "## syntax - for variable in list:\n",
    "##                         loop body"
   ]
  },
  {
   "cell_type": "code",
   "execution_count": 5,
   "id": "3a5e0d37-6ff0-4d3a-b9dc-dff5d07d3f80",
   "metadata": {},
   "outputs": [
    {
     "name": "stdout",
     "output_type": "stream",
     "text": [
      "c\n",
      "h\n",
      "a\n",
      "i\n",
      "t\n",
      "a\n",
      "n\n",
      "y\n",
      "a\n"
     ]
    }
   ],
   "source": [
    "a=\"chaitanya\"\n",
    "for x in a:\n",
    "    print(x)"
   ]
  },
  {
   "cell_type": "code",
   "execution_count": 7,
   "id": "372c5b97-cc56-449f-ac59-6e9d56b69796",
   "metadata": {},
   "outputs": [
    {
     "name": "stdout",
     "output_type": "stream",
     "text": [
      "num not found\n"
     ]
    }
   ],
   "source": [
    "a=[1,2,3,4]\n",
    "x=False\n",
    "for i in a:\n",
    "    if i==8:\n",
    "        x=True\n",
    "        print(\"num found\")\n",
    "        break\n",
    "if x==False:\n",
    "    print(\"num not found\")\n",
    "        "
   ]
  },
  {
   "cell_type": "markdown",
   "id": "d16404f0-068c-4723-8194-e2dff7985c39",
   "metadata": {},
   "source": [
    "## range()"
   ]
  },
  {
   "cell_type": "code",
   "execution_count": 1,
   "id": "91b3e953-68cc-480d-98fc-28acf01acda1",
   "metadata": {},
   "outputs": [],
   "source": [
    "## syntax - range(start,end,step)\n",
    "## return value - range object contains sequence of numbers"
   ]
  },
  {
   "cell_type": "code",
   "execution_count": 2,
   "id": "8b970d05-9cef-4a42-ae67-7ddfbbfd8828",
   "metadata": {},
   "outputs": [],
   "source": [
    "a=range(10)"
   ]
  },
  {
   "cell_type": "code",
   "execution_count": 3,
   "id": "a3daf9ae-8108-4b11-b0b9-4f9d768ad8a2",
   "metadata": {},
   "outputs": [
    {
     "data": {
      "text/plain": [
       "range(0, 10)"
      ]
     },
     "execution_count": 3,
     "metadata": {},
     "output_type": "execute_result"
    }
   ],
   "source": [
    "a"
   ]
  },
  {
   "cell_type": "code",
   "execution_count": 4,
   "id": "5c5243cb-751d-47b3-891e-6cfb069933bf",
   "metadata": {},
   "outputs": [
    {
     "data": {
      "text/plain": [
       "range"
      ]
     },
     "execution_count": 4,
     "metadata": {},
     "output_type": "execute_result"
    }
   ],
   "source": [
    "type(a)"
   ]
  },
  {
   "cell_type": "code",
   "execution_count": 5,
   "id": "5df16968-adc6-47f6-aee5-53bd55f413a9",
   "metadata": {},
   "outputs": [
    {
     "data": {
      "text/plain": [
       "[0, 1, 2, 3, 4, 5, 6, 7, 8, 9]"
      ]
     },
     "execution_count": 5,
     "metadata": {},
     "output_type": "execute_result"
    }
   ],
   "source": [
    "list(a)"
   ]
  },
  {
   "cell_type": "code",
   "execution_count": 10,
   "id": "74a9ed0b-4316-4328-8c07-c81d05de6a6c",
   "metadata": {},
   "outputs": [],
   "source": [
    "b=range(1,10,2)"
   ]
  },
  {
   "cell_type": "code",
   "execution_count": 11,
   "id": "ce3a00e9-0dfb-400e-8c82-6b5e20bea06c",
   "metadata": {},
   "outputs": [
    {
     "data": {
      "text/plain": [
       "[1, 3, 5, 7, 9]"
      ]
     },
     "execution_count": 11,
     "metadata": {},
     "output_type": "execute_result"
    }
   ],
   "source": [
    "list(b)"
   ]
  },
  {
   "cell_type": "code",
   "execution_count": 12,
   "id": "90c5419c-5506-4444-b126-d735b99f4a0a",
   "metadata": {},
   "outputs": [
    {
     "name": "stdout",
     "output_type": "stream",
     "text": [
      "1 3 5 7 9 "
     ]
    }
   ],
   "source": [
    "for i in b:\n",
    "    print(i,end=\" \")"
   ]
  },
  {
   "cell_type": "code",
   "execution_count": 13,
   "id": "62ec26e4-515d-42d3-ae86-0a6010476f91",
   "metadata": {},
   "outputs": [],
   "source": [
    "## wap to print sum of n numbers"
   ]
  },
  {
   "cell_type": "code",
   "execution_count": 17,
   "id": "a356ec21-9e5d-44fc-a8c2-1d6ffb5f61db",
   "metadata": {},
   "outputs": [
    {
     "name": "stdin",
     "output_type": "stream",
     "text": [
      "enter number 10\n"
     ]
    },
    {
     "name": "stdout",
     "output_type": "stream",
     "text": [
      "10 55\n"
     ]
    }
   ],
   "source": [
    "a=int(input('enter number'))\n",
    "total=0\n",
    "for i in range(a+1):\n",
    "    total=total+i\n",
    "print(a,total)"
   ]
  },
  {
   "cell_type": "code",
   "execution_count": 18,
   "id": "11255c5c-5a67-4470-abac-8f892a0b885c",
   "metadata": {},
   "outputs": [],
   "source": [
    "## wap to print * as matrix\n"
   ]
  },
  {
   "cell_type": "code",
   "execution_count": 21,
   "id": "1569d275-b2ba-41fa-ba8d-a09eb70c2b09",
   "metadata": {},
   "outputs": [
    {
     "name": "stdin",
     "output_type": "stream",
     "text": [
      "enter matrix size 4\n"
     ]
    },
    {
     "name": "stdout",
     "output_type": "stream",
     "text": [
      "\n",
      "* \n",
      "* * \n",
      "* * * \n",
      "* * * * \n"
     ]
    }
   ],
   "source": [
    "for i in range(int(input('enter matrix size'))+1):\n",
    "    for j in range(i):\n",
    "        print('*',end=\" \")\n",
    "    print()"
   ]
  },
  {
   "cell_type": "code",
   "execution_count": 24,
   "id": "042748e5-522a-49e1-9fb8-e0249f239e87",
   "metadata": {},
   "outputs": [
    {
     "name": "stdout",
     "output_type": "stream",
     "text": [
      "* * * \n",
      "* * * \n",
      "* * * \n"
     ]
    }
   ],
   "source": [
    "for i in range(3):\n",
    "    for j in range(3):\n",
    "        print('*',end=' ')\n",
    "    print()"
   ]
  },
  {
   "cell_type": "code",
   "execution_count": 26,
   "id": "cdf3abce-c84b-42da-9e3f-bfb57136afc1",
   "metadata": {},
   "outputs": [
    {
     "name": "stdout",
     "output_type": "stream",
     "text": [
      "* * * \n",
      "* * * \n",
      "* * * \n"
     ]
    }
   ],
   "source": [
    "for i in range(1,10):\n",
    "    print('*',end=' ')\n",
    "    if i%3==0:\n",
    "        print()"
   ]
  },
  {
   "cell_type": "code",
   "execution_count": 28,
   "id": "b108f92e-468a-44ae-80a0-fae44be67926",
   "metadata": {},
   "outputs": [
    {
     "name": "stdout",
     "output_type": "stream",
     "text": [
      "* * * \n",
      "* * * \n",
      "* * * \n"
     ]
    }
   ],
   "source": [
    "for i in range(3):\n",
    "    print('* '*3)"
   ]
  },
  {
   "cell_type": "code",
   "execution_count": 29,
   "id": "c184fd94-0c81-4393-9ecd-0966a8c565e8",
   "metadata": {},
   "outputs": [],
   "source": [
    "# wap to accept the value from user and print from 0 to that num and stops still user enter 0"
   ]
  },
  {
   "cell_type": "code",
   "execution_count": 34,
   "id": "5c7aae96-c4e4-4b1d-8a34-cc2ccb37c14d",
   "metadata": {},
   "outputs": [
    {
     "name": "stdin",
     "output_type": "stream",
     "text": [
      "enter a number 3\n"
     ]
    },
    {
     "name": "stdout",
     "output_type": "stream",
     "text": [
      "0 1 2 3 "
     ]
    },
    {
     "name": "stdin",
     "output_type": "stream",
     "text": [
      "enter a number 5\n"
     ]
    },
    {
     "name": "stdout",
     "output_type": "stream",
     "text": [
      "0 1 2 3 4 5 "
     ]
    },
    {
     "name": "stdin",
     "output_type": "stream",
     "text": [
      "enter a number 8\n"
     ]
    },
    {
     "name": "stdout",
     "output_type": "stream",
     "text": [
      "0 1 2 3 4 5 6 7 8 "
     ]
    },
    {
     "name": "stdin",
     "output_type": "stream",
     "text": [
      "enter a number 0\n"
     ]
    },
    {
     "name": "stdout",
     "output_type": "stream",
     "text": [
      "stopped\n"
     ]
    }
   ],
   "source": [
    "a=int(input('enter a number'))\n",
    "while  a!=0:\n",
    "    for i in range(a+1):\n",
    "        print(i,end=' ')\n",
    "    a=int(input('enter a number'))\n",
    "else:\n",
    "    print('stopped')"
   ]
  },
  {
   "cell_type": "code",
   "execution_count": null,
   "id": "1ba183fd-1e39-4045-9b52-2b10d216eb1d",
   "metadata": {},
   "outputs": [],
   "source": []
  }
 ],
 "metadata": {
  "kernelspec": {
   "display_name": "Python 3 (ipykernel)",
   "language": "python",
   "name": "python3"
  },
  "language_info": {
   "codemirror_mode": {
    "name": "ipython",
    "version": 3
   },
   "file_extension": ".py",
   "mimetype": "text/x-python",
   "name": "python",
   "nbconvert_exporter": "python",
   "pygments_lexer": "ipython3",
   "version": "3.10.6"
  }
 },
 "nbformat": 4,
 "nbformat_minor": 5
}
