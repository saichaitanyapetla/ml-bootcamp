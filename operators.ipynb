{
 "cells": [
  {
   "cell_type": "markdown",
   "id": "8e25675c-0fbe-4ef1-9e0e-d699a20951d9",
   "metadata": {},
   "source": [
    "##                operators"
   ]
  },
  {
   "cell_type": "code",
   "execution_count": 2,
   "id": "dd4f303c-f2ed-46e7-b202-6d0331414a4a",
   "metadata": {},
   "outputs": [
    {
     "data": {
      "text/plain": [
       "13000.0"
      ]
     },
     "execution_count": 2,
     "metadata": {},
     "output_type": "execute_result"
    }
   ],
   "source": [
    "a"
   ]
  },
  {
   "cell_type": "code",
   "execution_count": 3,
   "id": "92c9be31-53be-43be-9fe5-640dcfb86037",
   "metadata": {},
   "outputs": [],
   "source": [
    "a=9.6778e9"
   ]
  },
  {
   "cell_type": "code",
   "execution_count": 4,
   "id": "04817b5d-bf39-4584-bb89-34804dd099bf",
   "metadata": {},
   "outputs": [
    {
     "data": {
      "text/plain": [
       "9677800000.0"
      ]
     },
     "execution_count": 4,
     "metadata": {},
     "output_type": "execute_result"
    }
   ],
   "source": [
    "a\n"
   ]
  },
  {
   "cell_type": "code",
   "execution_count": 5,
   "id": "67c80cc6-cae8-4c56-ba7d-a00b2251cafa",
   "metadata": {},
   "outputs": [
    {
     "ename": "NameError",
     "evalue": "name 'e1' is not defined",
     "output_type": "error",
     "traceback": [
      "\u001b[0;31m---------------------------------------------------------------------------\u001b[0m",
      "\u001b[0;31mNameError\u001b[0m                                 Traceback (most recent call last)",
      "Cell \u001b[0;32mIn [5], line 1\u001b[0m\n\u001b[0;32m----> 1\u001b[0m a\u001b[38;5;241m=\u001b[39m\u001b[43me1\u001b[49m\n",
      "\u001b[0;31mNameError\u001b[0m: name 'e1' is not defined"
     ]
    }
   ],
   "source": [
    "a=e1"
   ]
  },
  {
   "cell_type": "code",
   "execution_count": 6,
   "id": "8bacac44-2e37-4ec0-9d27-678fa2eedbae",
   "metadata": {},
   "outputs": [
    {
     "ename": "NameError",
     "evalue": "name 'e0' is not defined",
     "output_type": "error",
     "traceback": [
      "\u001b[0;31m---------------------------------------------------------------------------\u001b[0m",
      "\u001b[0;31mNameError\u001b[0m                                 Traceback (most recent call last)",
      "Cell \u001b[0;32mIn [6], line 1\u001b[0m\n\u001b[0;32m----> 1\u001b[0m a\u001b[38;5;241m=\u001b[39m\u001b[43me0\u001b[49m\n",
      "\u001b[0;31mNameError\u001b[0m: name 'e0' is not defined"
     ]
    }
   ],
   "source": [
    "a=e0\n"
   ]
  },
  {
   "cell_type": "code",
   "execution_count": 7,
   "id": "c3ba4cc1-519f-4004-a0b0-5ae16610a922",
   "metadata": {},
   "outputs": [
    {
     "ename": "NameError",
     "evalue": "name 'e' is not defined",
     "output_type": "error",
     "traceback": [
      "\u001b[0;31m---------------------------------------------------------------------------\u001b[0m",
      "\u001b[0;31mNameError\u001b[0m                                 Traceback (most recent call last)",
      "Cell \u001b[0;32mIn [7], line 1\u001b[0m\n\u001b[0;32m----> 1\u001b[0m a\u001b[38;5;241m=\u001b[39m\u001b[43me\u001b[49m\u001b[38;5;241m^\u001b[39m\u001b[38;5;241m0\u001b[39m\n",
      "\u001b[0;31mNameError\u001b[0m: name 'e' is not defined"
     ]
    }
   ],
   "source": [
    "a=e^0"
   ]
  },
  {
   "cell_type": "markdown",
   "id": "41ff610f-2fe5-4b41-b9a9-dacdb5de24bf",
   "metadata": {},
   "source": [
    "## forward and backward indexing in str(python)"
   ]
  },
  {
   "cell_type": "code",
   "execution_count": 8,
   "id": "db4a7b0d-5677-4581-a273-c69c888df55d",
   "metadata": {},
   "outputs": [],
   "source": [
    "a=\"chay\""
   ]
  },
  {
   "cell_type": "code",
   "execution_count": 9,
   "id": "1c2ec5d0-37c8-4b96-97c8-b112d01c3448",
   "metadata": {},
   "outputs": [
    {
     "data": {
      "text/plain": [
       "'a'"
      ]
     },
     "execution_count": 9,
     "metadata": {},
     "output_type": "execute_result"
    }
   ],
   "source": [
    "a[2]"
   ]
  },
  {
   "cell_type": "code",
   "execution_count": 10,
   "id": "a6f4d9e5-a0bf-403e-a02f-f3f1349918ab",
   "metadata": {},
   "outputs": [
    {
     "data": {
      "text/plain": [
       "'y'"
      ]
     },
     "execution_count": 10,
     "metadata": {},
     "output_type": "execute_result"
    }
   ],
   "source": [
    "a[-1]"
   ]
  },
  {
   "cell_type": "code",
   "execution_count": 11,
   "id": "d2de1d2b-6486-4754-ba0f-e2692615bbd9",
   "metadata": {},
   "outputs": [
    {
     "ename": "IndexError",
     "evalue": "string index out of range",
     "output_type": "error",
     "traceback": [
      "\u001b[0;31m---------------------------------------------------------------------------\u001b[0m",
      "\u001b[0;31mIndexError\u001b[0m                                Traceback (most recent call last)",
      "Cell \u001b[0;32mIn [11], line 1\u001b[0m\n\u001b[0;32m----> 1\u001b[0m \u001b[43ma\u001b[49m\u001b[43m[\u001b[49m\u001b[38;5;241;43m7\u001b[39;49m\u001b[43m]\u001b[49m\n",
      "\u001b[0;31mIndexError\u001b[0m: string index out of range"
     ]
    }
   ],
   "source": [
    "a[7]"
   ]
  },
  {
   "cell_type": "code",
   "execution_count": 12,
   "id": "bdb89228-e1cb-4285-9dc0-41079a5fdb48",
   "metadata": {},
   "outputs": [
    {
     "data": {
      "text/plain": [
       "str"
      ]
     },
     "execution_count": 12,
     "metadata": {},
     "output_type": "execute_result"
    }
   ],
   "source": [
    "type(a)"
   ]
  },
  {
   "cell_type": "code",
   "execution_count": 13,
   "id": "1d792946-45c5-4257-8451-2f83bda31dad",
   "metadata": {},
   "outputs": [
    {
     "data": {
      "text/plain": [
       "str"
      ]
     },
     "execution_count": 13,
     "metadata": {},
     "output_type": "execute_result"
    }
   ],
   "source": [
    "type(a[2])"
   ]
  },
  {
   "cell_type": "code",
   "execution_count": 14,
   "id": "93a74d7d-3a24-4c98-bb25-2046b03c5f3a",
   "metadata": {},
   "outputs": [
    {
     "data": {
      "text/plain": [
       "4"
      ]
     },
     "execution_count": 14,
     "metadata": {},
     "output_type": "execute_result"
    }
   ],
   "source": [
    "len(a)"
   ]
  },
  {
   "cell_type": "code",
   "execution_count": 15,
   "id": "bb23362c-8841-4be5-b06c-78466299f2ae",
   "metadata": {},
   "outputs": [
    {
     "data": {
      "text/plain": [
       "1"
      ]
     },
     "execution_count": 15,
     "metadata": {},
     "output_type": "execute_result"
    }
   ],
   "source": [
    "len(a[0])"
   ]
  },
  {
   "cell_type": "code",
   "execution_count": 16,
   "id": "536a90cb-b8f6-4346-b4b0-5988bb0c1401",
   "metadata": {},
   "outputs": [
    {
     "ename": "IndexError",
     "evalue": "string index out of range",
     "output_type": "error",
     "traceback": [
      "\u001b[0;31m---------------------------------------------------------------------------\u001b[0m",
      "\u001b[0;31mIndexError\u001b[0m                                Traceback (most recent call last)",
      "Cell \u001b[0;32mIn [16], line 1\u001b[0m\n\u001b[0;32m----> 1\u001b[0m \u001b[38;5;28mlen\u001b[39m(\u001b[43ma\u001b[49m\u001b[43m[\u001b[49m\u001b[38;5;241;43m7\u001b[39;49m\u001b[43m]\u001b[49m)\n",
      "\u001b[0;31mIndexError\u001b[0m: string index out of range"
     ]
    }
   ],
   "source": [
    "len(a[7])"
   ]
  },
  {
   "cell_type": "code",
   "execution_count": 17,
   "id": "c6295189-a4d9-4a7d-a6a5-a23f39ddb81e",
   "metadata": {},
   "outputs": [],
   "source": [
    "a=\"chay petla\""
   ]
  },
  {
   "cell_type": "code",
   "execution_count": 18,
   "id": "c8f76859-c4d3-42b2-98a0-9f5bd4c7548b",
   "metadata": {},
   "outputs": [
    {
     "data": {
      "text/plain": [
       "10"
      ]
     },
     "execution_count": 18,
     "metadata": {},
     "output_type": "execute_result"
    }
   ],
   "source": [
    "len(a)"
   ]
  },
  {
   "cell_type": "markdown",
   "id": "8582abac-a893-4074-8a7b-6425fb72cbef",
   "metadata": {},
   "source": [
    "## string concatenation"
   ]
  },
  {
   "cell_type": "code",
   "execution_count": 19,
   "id": "87bc4932-a6ee-4636-80f2-0a02bf91cc3b",
   "metadata": {},
   "outputs": [],
   "source": [
    "a=\"chay\""
   ]
  },
  {
   "cell_type": "code",
   "execution_count": 20,
   "id": "5a408634-035b-4a17-8ea4-0c20738dd68f",
   "metadata": {},
   "outputs": [],
   "source": [
    "b=\"petla\""
   ]
  },
  {
   "cell_type": "code",
   "execution_count": 21,
   "id": "7f5812fb-b5df-48e4-aeb6-a0aa8ebe50db",
   "metadata": {},
   "outputs": [
    {
     "data": {
      "text/plain": [
       "'chaypetla'"
      ]
     },
     "execution_count": 21,
     "metadata": {},
     "output_type": "execute_result"
    }
   ],
   "source": [
    "a+b"
   ]
  },
  {
   "cell_type": "code",
   "execution_count": 22,
   "id": "5baf3c89-576f-4f27-b050-5e5c2ac69855",
   "metadata": {},
   "outputs": [
    {
     "data": {
      "text/plain": [
       "'chay petla'"
      ]
     },
     "execution_count": 22,
     "metadata": {},
     "output_type": "execute_result"
    }
   ],
   "source": [
    "a+\" \"+b"
   ]
  },
  {
   "cell_type": "markdown",
   "id": "4fb410b4-d5eb-4d36-9ec6-570a7bc9caab",
   "metadata": {},
   "source": [
    "## slice operator in str"
   ]
  },
  {
   "cell_type": "code",
   "execution_count": 23,
   "id": "abdd96e8-f3f5-4dc9-a352-1dfe88c4d36f",
   "metadata": {},
   "outputs": [],
   "source": [
    "a=\"chay petla\""
   ]
  },
  {
   "cell_type": "code",
   "execution_count": 24,
   "id": "a06392ed-bfbd-49c7-929b-3d3e9c42c7b8",
   "metadata": {},
   "outputs": [
    {
     "data": {
      "text/plain": [
       "'hay p'"
      ]
     },
     "execution_count": 24,
     "metadata": {},
     "output_type": "execute_result"
    }
   ],
   "source": [
    "a[1:6]"
   ]
  },
  {
   "cell_type": "code",
   "execution_count": 25,
   "id": "82d6ef00-f76d-4b4a-9ca5-869cf5102748",
   "metadata": {},
   "outputs": [
    {
     "data": {
      "text/plain": [
       "'chay petla'"
      ]
     },
     "execution_count": 25,
     "metadata": {},
     "output_type": "execute_result"
    }
   ],
   "source": [
    "a[0:]"
   ]
  },
  {
   "cell_type": "code",
   "execution_count": 26,
   "id": "6ab1ef26-e34c-4377-aa25-e1eaa586f633",
   "metadata": {},
   "outputs": [
    {
     "data": {
      "text/plain": [
       "'chay petla'"
      ]
     },
     "execution_count": 26,
     "metadata": {},
     "output_type": "execute_result"
    }
   ],
   "source": [
    "a[:10]"
   ]
  },
  {
   "cell_type": "code",
   "execution_count": 27,
   "id": "4e44b177-d52b-4fea-a438-58058b6a3602",
   "metadata": {},
   "outputs": [
    {
     "data": {
      "text/plain": [
       "'chay petla'"
      ]
     },
     "execution_count": 27,
     "metadata": {},
     "output_type": "execute_result"
    }
   ],
   "source": [
    "a[:]"
   ]
  },
  {
   "cell_type": "code",
   "execution_count": 28,
   "id": "24562935-c593-4c89-8aa0-080a247e41a2",
   "metadata": {},
   "outputs": [
    {
     "data": {
      "text/plain": [
       "'tla'"
      ]
     },
     "execution_count": 28,
     "metadata": {},
     "output_type": "execute_result"
    }
   ],
   "source": [
    "a[7:12345]"
   ]
  },
  {
   "cell_type": "code",
   "execution_count": 29,
   "id": "24d1ecd4-b8e1-43ef-8a95-6b508bfe9494",
   "metadata": {},
   "outputs": [
    {
     "data": {
      "text/plain": [
       "''"
      ]
     },
     "execution_count": 29,
     "metadata": {},
     "output_type": "execute_result"
    }
   ],
   "source": [
    "a[2:2]"
   ]
  },
  {
   "cell_type": "code",
   "execution_count": 30,
   "id": "9491dfb6-348e-493c-b3be-f4315aadb742",
   "metadata": {},
   "outputs": [
    {
     "data": {
      "text/plain": [
       "''"
      ]
     },
     "execution_count": 30,
     "metadata": {},
     "output_type": "execute_result"
    }
   ],
   "source": [
    "a[90:95]"
   ]
  },
  {
   "cell_type": "code",
   "execution_count": 31,
   "id": "45a0b634-492d-4a2b-a06c-e571f48edef9",
   "metadata": {},
   "outputs": [
    {
     "data": {
      "text/plain": [
       "''"
      ]
     },
     "execution_count": 31,
     "metadata": {},
     "output_type": "execute_result"
    }
   ],
   "source": [
    "a[90:85]"
   ]
  },
  {
   "cell_type": "code",
   "execution_count": 32,
   "id": "089c5bf0-8f3d-48f2-a986-967f3a4e3bee",
   "metadata": {},
   "outputs": [
    {
     "data": {
      "text/plain": [
       "''"
      ]
     },
     "execution_count": 32,
     "metadata": {},
     "output_type": "execute_result"
    }
   ],
   "source": [
    "a[4:1]"
   ]
  },
  {
   "cell_type": "code",
   "execution_count": 33,
   "id": "dc5ddfd1-86f2-4a6f-8bbc-1d77d0dce672",
   "metadata": {},
   "outputs": [
    {
     "data": {
      "text/plain": [
       "''"
      ]
     },
     "execution_count": 33,
     "metadata": {},
     "output_type": "execute_result"
    }
   ],
   "source": [
    "a[2:0]"
   ]
  },
  {
   "cell_type": "code",
   "execution_count": 34,
   "id": "6d01c997-fba0-42b0-9157-0a7e9186a83a",
   "metadata": {},
   "outputs": [
    {
     "data": {
      "text/plain": [
       "'petl'"
      ]
     },
     "execution_count": 34,
     "metadata": {},
     "output_type": "execute_result"
    }
   ],
   "source": [
    "a[-5:-1]"
   ]
  },
  {
   "cell_type": "code",
   "execution_count": 35,
   "id": "72949121-7199-4b7f-b0df-af0073d5bdf8",
   "metadata": {},
   "outputs": [
    {
     "data": {
      "text/plain": [
       "'petla'"
      ]
     },
     "execution_count": 35,
     "metadata": {},
     "output_type": "execute_result"
    }
   ],
   "source": [
    "a[-5:]"
   ]
  },
  {
   "cell_type": "code",
   "execution_count": 36,
   "id": "8deda582-280d-4a05-9f8b-e5eadaf300bc",
   "metadata": {},
   "outputs": [
    {
     "data": {
      "text/plain": [
       "''"
      ]
     },
     "execution_count": 36,
     "metadata": {},
     "output_type": "execute_result"
    }
   ],
   "source": [
    "a[-1:-6]"
   ]
  },
  {
   "cell_type": "code",
   "execution_count": 37,
   "id": "bfac24b5-b876-4b74-b74c-57f45fe42de7",
   "metadata": {},
   "outputs": [],
   "source": [
    "## step value in slice operator"
   ]
  },
  {
   "cell_type": "code",
   "execution_count": 38,
   "id": "6a57591c-6f1f-49ed-8231-ea09172b461a",
   "metadata": {},
   "outputs": [],
   "source": [
    "a=\"chaitanya\""
   ]
  },
  {
   "cell_type": "code",
   "execution_count": 39,
   "id": "2a58c6d6-38d6-4875-a233-f2f8c543cfea",
   "metadata": {},
   "outputs": [
    {
     "data": {
      "text/plain": [
       "'chaitanya'"
      ]
     },
     "execution_count": 39,
     "metadata": {},
     "output_type": "execute_result"
    }
   ],
   "source": [
    "a[0::1]"
   ]
  },
  {
   "cell_type": "code",
   "execution_count": 40,
   "id": "dde15fec-17ec-4c79-ac50-0183cbc46d23",
   "metadata": {},
   "outputs": [
    {
     "data": {
      "text/plain": [
       "'catna'"
      ]
     },
     "execution_count": 40,
     "metadata": {},
     "output_type": "execute_result"
    }
   ],
   "source": [
    "a[0:9:2]"
   ]
  },
  {
   "cell_type": "code",
   "execution_count": 41,
   "id": "aecc931c-d781-43d6-a395-cdfac99dedc7",
   "metadata": {},
   "outputs": [
    {
     "data": {
      "text/plain": [
       "'catna'"
      ]
     },
     "execution_count": 41,
     "metadata": {},
     "output_type": "execute_result"
    }
   ],
   "source": [
    "a[0::2]"
   ]
  },
  {
   "cell_type": "code",
   "execution_count": 42,
   "id": "4c8b5ce4-2db1-4855-848d-364549d89167",
   "metadata": {},
   "outputs": [
    {
     "data": {
      "text/plain": [
       "'a'"
      ]
     },
     "execution_count": 42,
     "metadata": {},
     "output_type": "execute_result"
    }
   ],
   "source": [
    "a[-1:]"
   ]
  },
  {
   "cell_type": "code",
   "execution_count": 43,
   "id": "d56bed26-32d3-4d02-8e1e-03af974d9ebb",
   "metadata": {},
   "outputs": [
    {
     "data": {
      "text/plain": [
       "'chaitanya'"
      ]
     },
     "execution_count": 43,
     "metadata": {},
     "output_type": "execute_result"
    }
   ],
   "source": [
    "a[::]"
   ]
  },
  {
   "cell_type": "code",
   "execution_count": 44,
   "id": "54a4b3a5-3b94-4767-bf92-ef1cc70328a1",
   "metadata": {},
   "outputs": [
    {
     "data": {
      "text/plain": [
       "'aynatiahc'"
      ]
     },
     "execution_count": 44,
     "metadata": {},
     "output_type": "execute_result"
    }
   ],
   "source": [
    "a[::-1]"
   ]
  },
  {
   "cell_type": "code",
   "execution_count": 45,
   "id": "77fda7d9-ba91-4d5b-a040-5fa5a7c36d44",
   "metadata": {},
   "outputs": [
    {
     "data": {
      "text/plain": [
       "'tanya'"
      ]
     },
     "execution_count": 45,
     "metadata": {},
     "output_type": "execute_result"
    }
   ],
   "source": [
    "a[-5:]WW"
   ]
  },
  {
   "cell_type": "code",
   "execution_count": 46,
   "id": "ec893494-fbd5-499e-8f2f-c5c6bcced01b",
   "metadata": {},
   "outputs": [
    {
     "data": {
      "text/plain": [
       "'tna'"
      ]
     },
     "execution_count": 46,
     "metadata": {},
     "output_type": "execute_result"
    }
   ],
   "source": [
    "a[-5::2]"
   ]
  },
  {
   "cell_type": "code",
   "execution_count": 47,
   "id": "ddd344b1-9066-4eaf-8f5c-10c3f56686d9",
   "metadata": {},
   "outputs": [
    {
     "data": {
      "text/plain": [
       "'chaitanya'"
      ]
     },
     "execution_count": 47,
     "metadata": {},
     "output_type": "execute_result"
    }
   ],
   "source": [
    "a[::]"
   ]
  },
  {
   "cell_type": "code",
   "execution_count": 48,
   "id": "e27e0979-f046-4e19-a1ad-a475b71b4209",
   "metadata": {},
   "outputs": [
    {
     "data": {
      "text/plain": [
       "'aynatiahc'"
      ]
     },
     "execution_count": 48,
     "metadata": {},
     "output_type": "execute_result"
    }
   ],
   "source": [
    "a[::-1]"
   ]
  },
  {
   "cell_type": "code",
   "execution_count": 49,
   "id": "3c01e479-dbdc-41dc-bf05-b7db65ac6bd5",
   "metadata": {},
   "outputs": [],
   "source": [
    "a=\"we are here for learning data science\""
   ]
  },
  {
   "cell_type": "code",
   "execution_count": 51,
   "id": "6b477e03-bc82-4c17-9586-83506eb13697",
   "metadata": {},
   "outputs": [
    {
     "data": {
      "text/plain": [
       "'ecneics atad gninrael'"
      ]
     },
     "execution_count": 51,
     "metadata": {},
     "output_type": "execute_result"
    }
   ],
   "source": [
    "a[:-22:-1]"
   ]
  },
  {
   "cell_type": "markdown",
   "id": "c73054ab-96f1-4505-ba20-cc988b396e73",
   "metadata": {},
   "source": [
    "## airthematic operators"
   ]
  },
  {
   "cell_type": "code",
   "execution_count": 53,
   "id": "f17a0f2b-246b-4904-991a-352f73157e09",
   "metadata": {},
   "outputs": [],
   "source": [
    "a=5"
   ]
  },
  {
   "cell_type": "code",
   "execution_count": 54,
   "id": "ca117452-a2bc-4724-a64d-2240f6f15cda",
   "metadata": {},
   "outputs": [],
   "source": [
    "b=3"
   ]
  },
  {
   "cell_type": "code",
   "execution_count": 55,
   "id": "d99ce08d-a5a2-499c-9a0d-b5efa71e4864",
   "metadata": {},
   "outputs": [
    {
     "data": {
      "text/plain": [
       "8"
      ]
     },
     "execution_count": 55,
     "metadata": {},
     "output_type": "execute_result"
    }
   ],
   "source": [
    "a+b"
   ]
  },
  {
   "cell_type": "code",
   "execution_count": 56,
   "id": "f99f9b30-05eb-4a6c-b93c-1b863594768b",
   "metadata": {},
   "outputs": [
    {
     "data": {
      "text/plain": [
       "2"
      ]
     },
     "execution_count": 56,
     "metadata": {},
     "output_type": "execute_result"
    }
   ],
   "source": [
    "a-b"
   ]
  },
  {
   "cell_type": "code",
   "execution_count": 57,
   "id": "6dec005f-f9cb-4450-a11a-93a1fea3416a",
   "metadata": {},
   "outputs": [
    {
     "data": {
      "text/plain": [
       "15"
      ]
     },
     "execution_count": 57,
     "metadata": {},
     "output_type": "execute_result"
    }
   ],
   "source": [
    "a*b"
   ]
  },
  {
   "cell_type": "code",
   "execution_count": 58,
   "id": "d0f15318-c6a9-4be9-a058-97dfe763fd9c",
   "metadata": {},
   "outputs": [
    {
     "data": {
      "text/plain": [
       "1.6666666666666667"
      ]
     },
     "execution_count": 58,
     "metadata": {},
     "output_type": "execute_result"
    }
   ],
   "source": [
    "a/b"
   ]
  },
  {
   "cell_type": "code",
   "execution_count": 59,
   "id": "9ed595a6-9b0b-41fc-a25d-26180a50270a",
   "metadata": {},
   "outputs": [
    {
     "data": {
      "text/plain": [
       "2"
      ]
     },
     "execution_count": 59,
     "metadata": {},
     "output_type": "execute_result"
    }
   ],
   "source": [
    "a%b ## remainder"
   ]
  },
  {
   "cell_type": "code",
   "execution_count": 60,
   "id": "b300ef39-0e4b-4888-b035-dfc6dc079445",
   "metadata": {},
   "outputs": [
    {
     "data": {
      "text/plain": [
       "125"
      ]
     },
     "execution_count": 60,
     "metadata": {},
     "output_type": "execute_result"
    }
   ],
   "source": [
    "a**b ## power"
   ]
  },
  {
   "cell_type": "code",
   "execution_count": 61,
   "id": "4c4ee56c-152a-4e3e-878d-bc962ba4841c",
   "metadata": {},
   "outputs": [
    {
     "data": {
      "text/plain": [
       "1"
      ]
     },
     "execution_count": 61,
     "metadata": {},
     "output_type": "execute_result"
    }
   ],
   "source": [
    "a//b ##floor division(quotient)"
   ]
  },
  {
   "cell_type": "markdown",
   "id": "18f107cf-4702-43db-a591-ab3713a25ec5",
   "metadata": {},
   "source": [
    "## relational operators"
   ]
  },
  {
   "cell_type": "code",
   "execution_count": 62,
   "id": "9f04c88f-bfd5-418e-ae7a-44fa6b11381a",
   "metadata": {},
   "outputs": [],
   "source": [
    "a=5"
   ]
  },
  {
   "cell_type": "code",
   "execution_count": 63,
   "id": "fb3b358c-87c5-4faa-9979-c1357a02e22a",
   "metadata": {},
   "outputs": [],
   "source": [
    "b=3"
   ]
  },
  {
   "cell_type": "code",
   "execution_count": 66,
   "id": "7a9e06e1-d1ed-4f7b-b432-7a2574ee88f3",
   "metadata": {},
   "outputs": [
    {
     "data": {
      "text/plain": [
       "True"
      ]
     },
     "execution_count": 66,
     "metadata": {},
     "output_type": "execute_result"
    }
   ],
   "source": [
    "a>b\n"
   ]
  },
  {
   "cell_type": "code",
   "execution_count": 82,
   "id": "d53fb01a-3a47-4bb2-b12a-de50ade8ed8f",
   "metadata": {},
   "outputs": [],
   "source": [
    "a=\"ramesh\""
   ]
  },
  {
   "cell_type": "code",
   "execution_count": 83,
   "id": "30c9f4da-e0e5-4551-bcf0-372136e77e92",
   "metadata": {},
   "outputs": [],
   "source": [
    "b=\"rajesh\""
   ]
  },
  {
   "cell_type": "code",
   "execution_count": 90,
   "id": "6d6dfab4-0421-40bb-87cc-e234f5b9d6ff",
   "metadata": {},
   "outputs": [
    {
     "ename": "NameError",
     "evalue": "name 's' is not defined",
     "output_type": "error",
     "traceback": [
      "\u001b[0;31m---------------------------------------------------------------------------\u001b[0m",
      "\u001b[0;31mNameError\u001b[0m                                 Traceback (most recent call last)",
      "Cell \u001b[0;32mIn [90], line 1\u001b[0m\n\u001b[0;32m----> 1\u001b[0m \u001b[38;5;28mord\u001b[39m(\u001b[43ms\u001b[49m)\n",
      "\u001b[0;31mNameError\u001b[0m: name 's' is not defined"
     ]
    }
   ],
   "source": [
    "ord(s)"
   ]
  },
  {
   "cell_type": "code",
   "execution_count": 91,
   "id": "170ae04b-eed0-4a12-9a91-a1713589b41a",
   "metadata": {},
   "outputs": [
    {
     "data": {
      "text/plain": [
       "100"
      ]
     },
     "execution_count": 91,
     "metadata": {},
     "output_type": "execute_result"
    }
   ],
   "source": [
    "ord(\"d\")"
   ]
  },
  {
   "cell_type": "code",
   "execution_count": 92,
   "id": "5df8443a-2337-4e44-ab16-acb7a9e91b39",
   "metadata": {},
   "outputs": [
    {
     "ename": "TypeError",
     "evalue": "ord() expected a character, but string of length 6 found",
     "output_type": "error",
     "traceback": [
      "\u001b[0;31m---------------------------------------------------------------------------\u001b[0m",
      "\u001b[0;31mTypeError\u001b[0m                                 Traceback (most recent call last)",
      "Cell \u001b[0;32mIn [92], line 1\u001b[0m\n\u001b[0;32m----> 1\u001b[0m \u001b[38;5;28;43mord\u001b[39;49m\u001b[43m(\u001b[49m\u001b[43ma\u001b[49m\u001b[43m)\u001b[49m\n",
      "\u001b[0;31mTypeError\u001b[0m: ord() expected a character, but string of length 6 found"
     ]
    }
   ],
   "source": [
    "ord(a)"
   ]
  },
  {
   "cell_type": "code",
   "execution_count": 93,
   "id": "4cb11975-1ed3-46e8-b5e1-72f39977062f",
   "metadata": {},
   "outputs": [
    {
     "data": {
      "text/plain": [
       "True"
      ]
     },
     "execution_count": 93,
     "metadata": {},
     "output_type": "execute_result"
    }
   ],
   "source": [
    "True>False"
   ]
  },
  {
   "cell_type": "code",
   "execution_count": 94,
   "id": "0bc181c1-0ecb-4571-a290-c205b867f8f5",
   "metadata": {},
   "outputs": [
    {
     "data": {
      "text/plain": [
       "False"
      ]
     },
     "execution_count": 94,
     "metadata": {},
     "output_type": "execute_result"
    }
   ],
   "source": [
    "True==False"
   ]
  },
  {
   "cell_type": "code",
   "execution_count": 95,
   "id": "e1a80652-ccef-4567-87aa-a349cf541594",
   "metadata": {},
   "outputs": [],
   "source": [
    "x=\"sai\""
   ]
  },
  {
   "cell_type": "code",
   "execution_count": 96,
   "id": "21e37bf6-f524-4907-bd0e-b0c71ca3bece",
   "metadata": {},
   "outputs": [],
   "source": [
    "y=\"ias\""
   ]
  },
  {
   "cell_type": "code",
   "execution_count": 97,
   "id": "d6b76522-c6f0-4852-88c5-251412c4794b",
   "metadata": {},
   "outputs": [
    {
     "data": {
      "text/plain": [
       "False"
      ]
     },
     "execution_count": 97,
     "metadata": {},
     "output_type": "execute_result"
    }
   ],
   "source": [
    "x==y"
   ]
  },
  {
   "cell_type": "code",
   "execution_count": 98,
   "id": "74b10aec-d0bc-421d-9a54-cce54737fd07",
   "metadata": {},
   "outputs": [
    {
     "data": {
      "text/plain": [
       "True"
      ]
     },
     "execution_count": 98,
     "metadata": {},
     "output_type": "execute_result"
    }
   ],
   "source": [
    "x>y"
   ]
  },
  {
   "cell_type": "code",
   "execution_count": 99,
   "id": "622051e8-5560-4b18-a536-831b1443c518",
   "metadata": {},
   "outputs": [
    {
     "data": {
      "text/plain": [
       "True"
      ]
     },
     "execution_count": 99,
     "metadata": {},
     "output_type": "execute_result"
    }
   ],
   "source": [
    "x!=y"
   ]
  },
  {
   "cell_type": "code",
   "execution_count": 100,
   "id": "ff904740-e41e-4c86-8792-c3d509453359",
   "metadata": {},
   "outputs": [
    {
     "data": {
      "text/plain": [
       "False"
      ]
     },
     "execution_count": 100,
     "metadata": {},
     "output_type": "execute_result"
    }
   ],
   "source": [
    "x<y"
   ]
  },
  {
   "cell_type": "code",
   "execution_count": 101,
   "id": "f55a305c-e1f1-4084-9aee-60e7df1e4465",
   "metadata": {},
   "outputs": [],
   "source": [
    "x=\"BHOPAL\""
   ]
  },
  {
   "cell_type": "code",
   "execution_count": 102,
   "id": "ee02cbf1-227d-40ff-b722-24f78db7b6be",
   "metadata": {},
   "outputs": [],
   "source": [
    "y=\"bhopal\""
   ]
  },
  {
   "cell_type": "code",
   "execution_count": 103,
   "id": "300828c0-344a-4cb9-8fa9-4be2ba32c0a4",
   "metadata": {},
   "outputs": [
    {
     "data": {
      "text/plain": [
       "('BHOPAL', 'bhopal')"
      ]
     },
     "execution_count": 103,
     "metadata": {},
     "output_type": "execute_result"
    }
   ],
   "source": [
    "x,y"
   ]
  },
  {
   "cell_type": "code",
   "execution_count": 104,
   "id": "5f216235-cff6-4ab5-9e4c-5f3bc71e6d17",
   "metadata": {},
   "outputs": [
    {
     "data": {
      "text/plain": [
       "False"
      ]
     },
     "execution_count": 104,
     "metadata": {},
     "output_type": "execute_result"
    }
   ],
   "source": [
    "x>y"
   ]
  },
  {
   "cell_type": "code",
   "execution_count": 105,
   "id": "6eba9578-51c7-477c-9c12-a59ba47ab03a",
   "metadata": {},
   "outputs": [
    {
     "data": {
      "text/plain": [
       "False"
      ]
     },
     "execution_count": 105,
     "metadata": {},
     "output_type": "execute_result"
    }
   ],
   "source": [
    "x>y"
   ]
  },
  {
   "cell_type": "code",
   "execution_count": 106,
   "id": "61acf3ba-56f4-4b64-b345-7ea78d2e7dc6",
   "metadata": {},
   "outputs": [
    {
     "data": {
      "text/plain": [
       "True"
      ]
     },
     "execution_count": 106,
     "metadata": {},
     "output_type": "execute_result"
    }
   ],
   "source": [
    "x<y"
   ]
  },
  {
   "cell_type": "code",
   "execution_count": 107,
   "id": "1df95855-b866-4c0c-83de-613fed9f283c",
   "metadata": {},
   "outputs": [],
   "source": [
    "x=True"
   ]
  },
  {
   "cell_type": "code",
   "execution_count": 108,
   "id": "aab8e1e6-2031-49b9-a565-b523d0660558",
   "metadata": {},
   "outputs": [],
   "source": [
    "y=False"
   ]
  },
  {
   "cell_type": "code",
   "execution_count": 109,
   "id": "048054f7-39e6-48f0-81e6-f68df2d47065",
   "metadata": {},
   "outputs": [
    {
     "data": {
      "text/plain": [
       "(True, False)"
      ]
     },
     "execution_count": 109,
     "metadata": {},
     "output_type": "execute_result"
    }
   ],
   "source": [
    "x,y"
   ]
  },
  {
   "cell_type": "code",
   "execution_count": 110,
   "id": "065ad7e2-d5b2-46a7-800b-792344639a92",
   "metadata": {},
   "outputs": [
    {
     "data": {
      "text/plain": [
       "('ramesh', 'rajesh')"
      ]
     },
     "execution_count": 110,
     "metadata": {},
     "output_type": "execute_result"
    }
   ],
   "source": [
    "a,b"
   ]
  },
  {
   "cell_type": "code",
   "execution_count": 111,
   "id": "ac314d4f-8674-4711-928b-da3df8fbc5f2",
   "metadata": {},
   "outputs": [
    {
     "data": {
      "text/plain": [
       "True"
      ]
     },
     "execution_count": 111,
     "metadata": {},
     "output_type": "execute_result"
    }
   ],
   "source": [
    "a>b"
   ]
  },
  {
   "cell_type": "code",
   "execution_count": 112,
   "id": "d8763dc9-cbfb-4662-8d9f-668d270992e9",
   "metadata": {},
   "outputs": [],
   "source": [
    "a=4"
   ]
  },
  {
   "cell_type": "code",
   "execution_count": 113,
   "id": "5265ddf6-3385-47f2-af05-b9025ebb76fe",
   "metadata": {},
   "outputs": [],
   "source": [
    "b=7"
   ]
  },
  {
   "cell_type": "code",
   "execution_count": 114,
   "id": "4663a1ee-0520-4755-9df2-96d05484db88",
   "metadata": {},
   "outputs": [
    {
     "data": {
      "text/plain": [
       "(4, 7)"
      ]
     },
     "execution_count": 114,
     "metadata": {},
     "output_type": "execute_result"
    }
   ],
   "source": [
    "a,b"
   ]
  },
  {
   "cell_type": "code",
   "execution_count": 115,
   "id": "8a178ded-78c0-4e97-be17-35cc4577d6de",
   "metadata": {},
   "outputs": [],
   "source": [
    "## cascading"
   ]
  },
  {
   "cell_type": "code",
   "execution_count": 116,
   "id": "18b13f1d-8d5e-484e-b2d6-8aad6eae5169",
   "metadata": {},
   "outputs": [
    {
     "data": {
      "text/plain": [
       "False"
      ]
     },
     "execution_count": 116,
     "metadata": {},
     "output_type": "execute_result"
    }
   ],
   "source": [
    "5>6>7"
   ]
  },
  {
   "cell_type": "code",
   "execution_count": 117,
   "id": "5f47d5bd-089b-4592-8b15-c5ee0e753011",
   "metadata": {},
   "outputs": [
    {
     "data": {
      "text/plain": [
       "True"
      ]
     },
     "execution_count": 117,
     "metadata": {},
     "output_type": "execute_result"
    }
   ],
   "source": [
    "7>6>5"
   ]
  },
  {
   "cell_type": "code",
   "execution_count": 118,
   "id": "31a51098-06f8-4ae7-b8d6-8d57d46a187d",
   "metadata": {},
   "outputs": [
    {
     "data": {
      "text/plain": [
       "True"
      ]
     },
     "execution_count": 118,
     "metadata": {},
     "output_type": "execute_result"
    }
   ],
   "source": [
    "5<6<7"
   ]
  },
  {
   "cell_type": "code",
   "execution_count": 119,
   "id": "6eca112e-818d-4497-bd9e-eacea938853d",
   "metadata": {},
   "outputs": [
    {
     "data": {
      "text/plain": [
       "False"
      ]
     },
     "execution_count": 119,
     "metadata": {},
     "output_type": "execute_result"
    }
   ],
   "source": [
    "5<6>7"
   ]
  },
  {
   "cell_type": "code",
   "execution_count": 120,
   "id": "7028b2ba-eb15-4f97-a95f-aa4cdab4a3b9",
   "metadata": {},
   "outputs": [
    {
     "data": {
      "text/plain": [
       "True"
      ]
     },
     "execution_count": 120,
     "metadata": {},
     "output_type": "execute_result"
    }
   ],
   "source": [
    "10==10"
   ]
  },
  {
   "cell_type": "code",
   "execution_count": 121,
   "id": "ced88e54-59c5-473e-9cb8-25a1d585e35e",
   "metadata": {},
   "outputs": [
    {
     "data": {
      "text/plain": [
       "False"
      ]
     },
     "execution_count": 121,
     "metadata": {},
     "output_type": "execute_result"
    }
   ],
   "source": [
    "10==True"
   ]
  },
  {
   "cell_type": "code",
   "execution_count": 122,
   "id": "b9be8a61-5315-4f9b-8e2c-78a45a332018",
   "metadata": {},
   "outputs": [
    {
     "data": {
      "text/plain": [
       "True"
      ]
     },
     "execution_count": 122,
     "metadata": {},
     "output_type": "execute_result"
    }
   ],
   "source": [
    "1==True"
   ]
  },
  {
   "cell_type": "code",
   "execution_count": 129,
   "id": "27a45cc4-2988-4022-81e4-c21732343d02",
   "metadata": {},
   "outputs": [
    {
     "data": {
      "text/plain": [
       "False"
      ]
     },
     "execution_count": 129,
     "metadata": {},
     "output_type": "execute_result"
    }
   ],
   "source": [
    "10==\"10\""
   ]
  },
  {
   "cell_type": "code",
   "execution_count": 133,
   "id": "6fdd0d38-6c66-4fdc-bc7e-23067e2037ae",
   "metadata": {},
   "outputs": [
    {
     "data": {
      "text/plain": [
       "True"
      ]
     },
     "execution_count": 133,
     "metadata": {},
     "output_type": "execute_result"
    }
   ],
   "source": [
    "\"A\"!=\"65\""
   ]
  },
  {
   "cell_type": "code",
   "execution_count": 134,
   "id": "b27a9a09-a3e4-4022-9494-0914a1523bc6",
   "metadata": {},
   "outputs": [
    {
     "data": {
      "text/plain": [
       "False"
      ]
     },
     "execution_count": 134,
     "metadata": {},
     "output_type": "execute_result"
    }
   ],
   "source": [
    "\"A\"!=\"A\""
   ]
  },
  {
   "cell_type": "code",
   "execution_count": 132,
   "id": "f9d1ea38-5803-4b2e-8356-0e54490a5992",
   "metadata": {},
   "outputs": [
    {
     "data": {
      "text/plain": [
       "65"
      ]
     },
     "execution_count": 132,
     "metadata": {},
     "output_type": "execute_result"
    }
   ],
   "source": [
    "ord(\"A\")"
   ]
  },
  {
   "cell_type": "code",
   "execution_count": 137,
   "id": "7ddd0ab2-1c88-4b1e-ad90-4376ae2a2b2a",
   "metadata": {},
   "outputs": [
    {
     "data": {
      "text/plain": [
       "False"
      ]
     },
     "execution_count": 137,
     "metadata": {},
     "output_type": "execute_result"
    }
   ],
   "source": [
    "\"A\"==\"65\""
   ]
  },
  {
   "cell_type": "code",
   "execution_count": 138,
   "id": "481a76ce-30c0-417c-a985-2e89cfd6d80b",
   "metadata": {},
   "outputs": [
    {
     "data": {
      "text/plain": [
       "True"
      ]
     },
     "execution_count": 138,
     "metadata": {},
     "output_type": "execute_result"
    }
   ],
   "source": [
    "15==15.0"
   ]
  },
  {
   "cell_type": "code",
   "execution_count": 139,
   "id": "8ce8bee7-3c28-4709-8921-8cbc13785a4e",
   "metadata": {},
   "outputs": [
    {
     "data": {
      "text/plain": [
       "True"
      ]
     },
     "execution_count": 139,
     "metadata": {},
     "output_type": "execute_result"
    }
   ],
   "source": [
    "15!=\"15\""
   ]
  },
  {
   "cell_type": "code",
   "execution_count": 140,
   "id": "fb1f8c5d-a0f9-41f4-b1f1-43225d7cc239",
   "metadata": {},
   "outputs": [
    {
     "data": {
      "text/plain": [
       "False"
      ]
     },
     "execution_count": 140,
     "metadata": {},
     "output_type": "execute_result"
    }
   ],
   "source": [
    "0!=False"
   ]
  },
  {
   "cell_type": "code",
   "execution_count": 141,
   "id": "a26e0048-9bc9-4cc9-a849-5b1e54c61c0c",
   "metadata": {},
   "outputs": [
    {
     "data": {
      "text/plain": [
       "True"
      ]
     },
     "execution_count": 141,
     "metadata": {},
     "output_type": "execute_result"
    }
   ],
   "source": [
    "False!=True"
   ]
  },
  {
   "cell_type": "code",
   "execution_count": 142,
   "id": "71ec39e4-6183-4f46-a0c1-88fa195413ad",
   "metadata": {},
   "outputs": [
    {
     "data": {
      "text/plain": [
       "False"
      ]
     },
     "execution_count": 142,
     "metadata": {},
     "output_type": "execute_result"
    }
   ],
   "source": [
    "False!=0.0"
   ]
  },
  {
   "cell_type": "code",
   "execution_count": 143,
   "id": "7bd49aa8-a48e-4c72-9cc6-38d662e3c27a",
   "metadata": {},
   "outputs": [],
   "source": [
    "a=3+4j"
   ]
  },
  {
   "cell_type": "code",
   "execution_count": 144,
   "id": "560aa46f-3765-4b04-89cf-c33fa8c472a6",
   "metadata": {},
   "outputs": [
    {
     "ename": "NameError",
     "evalue": "name 'real' is not defined",
     "output_type": "error",
     "traceback": [
      "\u001b[0;31m---------------------------------------------------------------------------\u001b[0m",
      "\u001b[0;31mNameError\u001b[0m                                 Traceback (most recent call last)",
      "Cell \u001b[0;32mIn [144], line 1\u001b[0m\n\u001b[0;32m----> 1\u001b[0m \u001b[43mreal\u001b[49m(a)\n",
      "\u001b[0;31mNameError\u001b[0m: name 'real' is not defined"
     ]
    }
   ],
   "source": [
    "real(a)"
   ]
  },
  {
   "cell_type": "code",
   "execution_count": 145,
   "id": "30627f82-e0d1-466e-bf7f-1b99f1f89c8e",
   "metadata": {},
   "outputs": [
    {
     "ename": "NameError",
     "evalue": "name 're' is not defined",
     "output_type": "error",
     "traceback": [
      "\u001b[0;31m---------------------------------------------------------------------------\u001b[0m",
      "\u001b[0;31mNameError\u001b[0m                                 Traceback (most recent call last)",
      "Cell \u001b[0;32mIn [145], line 1\u001b[0m\n\u001b[0;32m----> 1\u001b[0m \u001b[43mre\u001b[49m(a)\n",
      "\u001b[0;31mNameError\u001b[0m: name 're' is not defined"
     ]
    }
   ],
   "source": [
    "re(a)"
   ]
  },
  {
   "cell_type": "code",
   "execution_count": 149,
   "id": "9af327eb-c78e-4fde-a3f9-5fc8aa870a03",
   "metadata": {},
   "outputs": [
    {
     "ename": "NameError",
     "evalue": "name 'imag' is not defined",
     "output_type": "error",
     "traceback": [
      "\u001b[0;31m---------------------------------------------------------------------------\u001b[0m",
      "\u001b[0;31mNameError\u001b[0m                                 Traceback (most recent call last)",
      "Cell \u001b[0;32mIn [149], line 1\u001b[0m\n\u001b[0;32m----> 1\u001b[0m \u001b[43mimag\u001b[49m(a)\n",
      "\u001b[0;31mNameError\u001b[0m: name 'imag' is not defined"
     ]
    }
   ],
   "source": [
    "imag(a)"
   ]
  },
  {
   "cell_type": "code",
   "execution_count": 150,
   "id": "8bb0077b-3cd3-4909-aacf-6c21b99024a3",
   "metadata": {},
   "outputs": [
    {
     "data": {
      "text/plain": [
       "3.0"
      ]
     },
     "execution_count": 150,
     "metadata": {},
     "output_type": "execute_result"
    }
   ],
   "source": [
    "a.real"
   ]
  },
  {
   "cell_type": "code",
   "execution_count": 151,
   "id": "71587326-a47c-4dd9-8050-732ac06bd248",
   "metadata": {},
   "outputs": [
    {
     "data": {
      "text/plain": [
       "float"
      ]
     },
     "execution_count": 151,
     "metadata": {},
     "output_type": "execute_result"
    }
   ],
   "source": [
    "type(a.imag)"
   ]
  },
  {
   "cell_type": "code",
   "execution_count": 152,
   "id": "f462b8ac-d83b-44f9-a3bc-c59b28e562b0",
   "metadata": {},
   "outputs": [
    {
     "data": {
      "text/plain": [
       "4.0"
      ]
     },
     "execution_count": 152,
     "metadata": {},
     "output_type": "execute_result"
    }
   ],
   "source": [
    "a.imag"
   ]
  },
  {
   "cell_type": "markdown",
   "id": "5083529d-0be3-48a9-aef3-d91a087b93df",
   "metadata": {},
   "source": [
    "## logical operator"
   ]
  },
  {
   "cell_type": "code",
   "execution_count": 153,
   "id": "113f9e6a-3b4c-4bcd-8f8d-f90badd9e8f9",
   "metadata": {},
   "outputs": [],
   "source": [
    "## boolean-type\n"
   ]
  },
  {
   "cell_type": "code",
   "execution_count": 154,
   "id": "988ed97d-15f7-4033-bfce-472308b39ddd",
   "metadata": {},
   "outputs": [
    {
     "data": {
      "text/plain": [
       "True"
      ]
     },
     "execution_count": 154,
     "metadata": {},
     "output_type": "execute_result"
    }
   ],
   "source": [
    "True and True"
   ]
  },
  {
   "cell_type": "code",
   "execution_count": 155,
   "id": "f9664efc-1680-42f3-9be5-84666a276552",
   "metadata": {},
   "outputs": [
    {
     "ename": "TypeError",
     "evalue": "'>' not supported between instances of 'complex' and 'int'",
     "output_type": "error",
     "traceback": [
      "\u001b[0;31m---------------------------------------------------------------------------\u001b[0m",
      "\u001b[0;31mTypeError\u001b[0m                                 Traceback (most recent call last)",
      "Cell \u001b[0;32mIn [155], line 1\u001b[0m\n\u001b[0;32m----> 1\u001b[0m \u001b[43ma\u001b[49m\u001b[38;5;241;43m>\u001b[39;49m\u001b[43mb\u001b[49m \u001b[38;5;129;01mand\u001b[39;00m x\u001b[38;5;241m>\u001b[39my\n",
      "\u001b[0;31mTypeError\u001b[0m: '>' not supported between instances of 'complex' and 'int'"
     ]
    }
   ],
   "source": [
    "a>b and x>y"
   ]
  },
  {
   "cell_type": "code",
   "execution_count": 156,
   "id": "49ecae3a-ab0c-45af-bfaf-1178f1b60ed0",
   "metadata": {},
   "outputs": [
    {
     "ename": "SyntaxError",
     "evalue": "invalid syntax. Maybe you meant '==' or ':=' instead of '='? (2195318140.py, line 1)",
     "output_type": "error",
     "traceback": [
      "\u001b[0;36m  Cell \u001b[0;32mIn [156], line 1\u001b[0;36m\u001b[0m\n\u001b[0;31m    a=1,b=2,x=3,y=4\u001b[0m\n\u001b[0m    ^\u001b[0m\n\u001b[0;31mSyntaxError\u001b[0m\u001b[0;31m:\u001b[0m invalid syntax. Maybe you meant '==' or ':=' instead of '='?\n"
     ]
    }
   ],
   "source": [
    "a=1,b=2,x=3,y=4"
   ]
  },
  {
   "cell_type": "code",
   "execution_count": 161,
   "id": "6f6fb47e-c6a0-41e5-aa0f-b13563f45d7f",
   "metadata": {},
   "outputs": [],
   "source": [
    "a=1\n",
    "y=4"
   ]
  },
  {
   "cell_type": "code",
   "execution_count": 158,
   "id": "908adc0e-51a7-4a37-8dd0-82a52b1ea59a",
   "metadata": {},
   "outputs": [],
   "source": [
    "b=2\n",
    "x=3"
   ]
  },
  {
   "cell_type": "code",
   "execution_count": 159,
   "id": "95a1d700-cb4b-48f9-b66f-fdc178115aa6",
   "metadata": {},
   "outputs": [
    {
     "data": {
      "text/plain": [
       "3"
      ]
     },
     "execution_count": 159,
     "metadata": {},
     "output_type": "execute_result"
    }
   ],
   "source": [
    "x"
   ]
  },
  {
   "cell_type": "code",
   "execution_count": 160,
   "id": "18c65a24-62b7-4a52-b991-bdf3f8d74dee",
   "metadata": {},
   "outputs": [
    {
     "data": {
      "text/plain": [
       "2"
      ]
     },
     "execution_count": 160,
     "metadata": {},
     "output_type": "execute_result"
    }
   ],
   "source": [
    "b"
   ]
  },
  {
   "cell_type": "code",
   "execution_count": 162,
   "id": "4641b1be-dc33-46c9-9333-b9b122895d33",
   "metadata": {},
   "outputs": [
    {
     "data": {
      "text/plain": [
       "False"
      ]
     },
     "execution_count": 162,
     "metadata": {},
     "output_type": "execute_result"
    }
   ],
   "source": [
    "a>b and x>y\n"
   ]
  },
  {
   "cell_type": "code",
   "execution_count": 163,
   "id": "4a06a34c-0475-4c80-985f-6fb9b6702b80",
   "metadata": {},
   "outputs": [],
   "source": [
    "## non - boolean types"
   ]
  },
  {
   "cell_type": "code",
   "execution_count": 164,
   "id": "39248ced-9f72-4d1e-9df5-4058a9f24148",
   "metadata": {},
   "outputs": [
    {
     "data": {
      "text/plain": [
       "6"
      ]
     },
     "execution_count": 164,
     "metadata": {},
     "output_type": "execute_result"
    }
   ],
   "source": [
    "5 and 6"
   ]
  },
  {
   "cell_type": "code",
   "execution_count": 165,
   "id": "33b8dd60-9167-47b5-becd-90f5b07e3937",
   "metadata": {},
   "outputs": [
    {
     "data": {
      "text/plain": [
       "0"
      ]
     },
     "execution_count": 165,
     "metadata": {},
     "output_type": "execute_result"
    }
   ],
   "source": [
    "5 and 0"
   ]
  },
  {
   "cell_type": "code",
   "execution_count": 166,
   "id": "bc9c84dd-a883-409d-82d0-dde190566c06",
   "metadata": {},
   "outputs": [
    {
     "data": {
      "text/plain": [
       "0"
      ]
     },
     "execution_count": 166,
     "metadata": {},
     "output_type": "execute_result"
    }
   ],
   "source": [
    "0 and 10"
   ]
  },
  {
   "cell_type": "code",
   "execution_count": 167,
   "id": "7320f58f-07b8-4d90-9bba-894f89a5b0f1",
   "metadata": {},
   "outputs": [
    {
     "data": {
      "text/plain": [
       "0"
      ]
     },
     "execution_count": 167,
     "metadata": {},
     "output_type": "execute_result"
    }
   ],
   "source": [
    "6 and 0"
   ]
  },
  {
   "cell_type": "code",
   "execution_count": 168,
   "id": "3e7eb280-c503-423b-9cfd-d756be1ae19e",
   "metadata": {},
   "outputs": [
    {
     "data": {
      "text/plain": [
       "10"
      ]
     },
     "execution_count": 168,
     "metadata": {},
     "output_type": "execute_result"
    }
   ],
   "source": [
    "\"sachin\" and 10"
   ]
  },
  {
   "cell_type": "code",
   "execution_count": 169,
   "id": "e0471e17-5941-4536-aff4-eed8ff652eb1",
   "metadata": {},
   "outputs": [
    {
     "data": {
      "text/plain": [
       "'bhopal'"
      ]
     },
     "execution_count": 169,
     "metadata": {},
     "output_type": "execute_result"
    }
   ],
   "source": [
    "\"indore\" and \"bhopal\""
   ]
  },
  {
   "cell_type": "code",
   "execution_count": 170,
   "id": "8139ce1c-1bdb-4074-a5e4-4298c125e9fd",
   "metadata": {},
   "outputs": [
    {
     "data": {
      "text/plain": [
       "0"
      ]
     },
     "execution_count": 170,
     "metadata": {},
     "output_type": "execute_result"
    }
   ],
   "source": [
    "0 and 10/0"
   ]
  },
  {
   "cell_type": "code",
   "execution_count": 171,
   "id": "8cf2339a-2520-46f9-b6e8-7564bdb4e890",
   "metadata": {},
   "outputs": [
    {
     "ename": "ZeroDivisionError",
     "evalue": "division by zero",
     "output_type": "error",
     "traceback": [
      "\u001b[0;31m---------------------------------------------------------------------------\u001b[0m",
      "\u001b[0;31mZeroDivisionError\u001b[0m                         Traceback (most recent call last)",
      "Cell \u001b[0;32mIn [171], line 1\u001b[0m\n\u001b[0;32m----> 1\u001b[0m \u001b[38;5;241;43m10\u001b[39;49m\u001b[38;5;241;43m/\u001b[39;49m\u001b[38;5;241;43m0\u001b[39;49m \u001b[38;5;129;01mand\u001b[39;00m \u001b[38;5;241m0\u001b[39m\n",
      "\u001b[0;31mZeroDivisionError\u001b[0m: division by zero"
     ]
    }
   ],
   "source": [
    "10/0 and 0"
   ]
  },
  {
   "cell_type": "code",
   "execution_count": 172,
   "id": "88b2ffa5-f199-4918-84cb-30ed9c7c88b2",
   "metadata": {},
   "outputs": [
    {
     "data": {
      "text/plain": [
       "5"
      ]
     },
     "execution_count": 172,
     "metadata": {},
     "output_type": "execute_result"
    }
   ],
   "source": [
    "5 or 6"
   ]
  },
  {
   "cell_type": "code",
   "execution_count": 173,
   "id": "0695b147-0a1d-4f6a-8ff0-efcdb7b0afdc",
   "metadata": {},
   "outputs": [
    {
     "data": {
      "text/plain": [
       "5"
      ]
     },
     "execution_count": 173,
     "metadata": {},
     "output_type": "execute_result"
    }
   ],
   "source": [
    "5 or 0"
   ]
  },
  {
   "cell_type": "code",
   "execution_count": 174,
   "id": "a3fe45dd-78dd-4a44-9937-39044be5261b",
   "metadata": {},
   "outputs": [
    {
     "data": {
      "text/plain": [
       "10"
      ]
     },
     "execution_count": 174,
     "metadata": {},
     "output_type": "execute_result"
    }
   ],
   "source": [
    "0 or 10"
   ]
  },
  {
   "cell_type": "code",
   "execution_count": 175,
   "id": "ee206b5b-8e7d-4af1-b0b7-83696571d780",
   "metadata": {},
   "outputs": [
    {
     "data": {
      "text/plain": [
       "'sunny'"
      ]
     },
     "execution_count": 175,
     "metadata": {},
     "output_type": "execute_result"
    }
   ],
   "source": [
    "\"sunny\" or 10"
   ]
  },
  {
   "cell_type": "code",
   "execution_count": 176,
   "id": "54071eb1-9c0c-47e4-a5b8-28d3130871af",
   "metadata": {},
   "outputs": [
    {
     "data": {
      "text/plain": [
       "'indore'"
      ]
     },
     "execution_count": 176,
     "metadata": {},
     "output_type": "execute_result"
    }
   ],
   "source": [
    "\"indore\" or \"\""
   ]
  },
  {
   "cell_type": "code",
   "execution_count": 177,
   "id": "954c76da-97af-457d-b326-1ee1c90d2de5",
   "metadata": {},
   "outputs": [
    {
     "data": {
      "text/plain": [
       "False"
      ]
     },
     "execution_count": 177,
     "metadata": {},
     "output_type": "execute_result"
    }
   ],
   "source": [
    "not 4"
   ]
  },
  {
   "cell_type": "code",
   "execution_count": 178,
   "id": "08a6ee1e-120c-4e46-bfe9-4b56dab4adb9",
   "metadata": {},
   "outputs": [
    {
     "data": {
      "text/plain": [
       "False"
      ]
     },
     "execution_count": 178,
     "metadata": {},
     "output_type": "execute_result"
    }
   ],
   "source": [
    "not \"sunny\""
   ]
  },
  {
   "cell_type": "code",
   "execution_count": 179,
   "id": "061f14c1-21ae-435d-adf9-226e2e44b404",
   "metadata": {},
   "outputs": [
    {
     "data": {
      "text/plain": [
       "True"
      ]
     },
     "execution_count": 179,
     "metadata": {},
     "output_type": "execute_result"
    }
   ],
   "source": [
    "not \"\""
   ]
  },
  {
   "cell_type": "code",
   "execution_count": 180,
   "id": "74819764-9635-4647-aa30-0af5e0b84c03",
   "metadata": {},
   "outputs": [
    {
     "ename": "SyntaxError",
     "evalue": "invalid syntax (291800978.py, line 1)",
     "output_type": "error",
     "traceback": [
      "\u001b[0;36m  Cell \u001b[0;32mIn [180], line 1\u001b[0;36m\u001b[0m\n\u001b[0;31m    not <>\u001b[0m\n\u001b[0m        ^\u001b[0m\n\u001b[0;31mSyntaxError\u001b[0m\u001b[0;31m:\u001b[0m invalid syntax\n"
     ]
    }
   ],
   "source": [
    "not <>"
   ]
  },
  {
   "cell_type": "code",
   "execution_count": 181,
   "id": "8f24d285-ed49-4fda-bb6b-cfd2d9b3f006",
   "metadata": {},
   "outputs": [
    {
     "data": {
      "text/plain": [
       "True"
      ]
     },
     "execution_count": 181,
     "metadata": {},
     "output_type": "execute_result"
    }
   ],
   "source": [
    "  not {}"
   ]
  },
  {
   "cell_type": "code",
   "execution_count": 182,
   "id": "ed96fc34-fbbf-4b6b-88c7-fa7fefcfc26c",
   "metadata": {},
   "outputs": [
    {
     "data": {
      "text/plain": [
       "True"
      ]
     },
     "execution_count": 182,
     "metadata": {},
     "output_type": "execute_result"
    }
   ],
   "source": [
    "not ()"
   ]
  },
  {
   "cell_type": "code",
   "execution_count": 183,
   "id": "6a513a3d-9727-44d5-9443-45a1a53d62c1",
   "metadata": {},
   "outputs": [
    {
     "data": {
      "text/plain": [
       "False"
      ]
     },
     "execution_count": 183,
     "metadata": {},
     "output_type": "execute_result"
    }
   ],
   "source": [
    "not \" \""
   ]
  },
  {
   "cell_type": "markdown",
   "id": "c87d90b0-9c78-4641-94ec-fccd3d37e67b",
   "metadata": {},
   "source": [
    "## assignment operator"
   ]
  },
  {
   "cell_type": "code",
   "execution_count": 185,
   "id": "cca05c2b-60b2-4c08-a409-ec779c7a614f",
   "metadata": {},
   "outputs": [],
   "source": [
    "a=10"
   ]
  },
  {
   "cell_type": "code",
   "execution_count": 186,
   "id": "582477c3-44d1-451e-a27d-be83e5698c52",
   "metadata": {},
   "outputs": [],
   "source": [
    "a=b=c=23"
   ]
  },
  {
   "cell_type": "code",
   "execution_count": 187,
   "id": "b4cc6685-8f1d-4110-8c0f-5c59c2099802",
   "metadata": {},
   "outputs": [
    {
     "data": {
      "text/plain": [
       "23"
      ]
     },
     "execution_count": 187,
     "metadata": {},
     "output_type": "execute_result"
    }
   ],
   "source": [
    "b"
   ]
  },
  {
   "cell_type": "code",
   "execution_count": 188,
   "id": "0b66d04e-1eff-496c-9066-5cd7ba708f68",
   "metadata": {},
   "outputs": [],
   "source": [
    "a,b,c=10,20,30"
   ]
  },
  {
   "cell_type": "code",
   "execution_count": 189,
   "id": "5b40ed45-705a-4d03-a4f1-e6a46d17d945",
   "metadata": {},
   "outputs": [
    {
     "data": {
      "text/plain": [
       "(10, 20)"
      ]
     },
     "execution_count": 189,
     "metadata": {},
     "output_type": "execute_result"
    }
   ],
   "source": [
    "a,b"
   ]
  },
  {
   "cell_type": "code",
   "execution_count": 190,
   "id": "18312abb-3ccd-421e-8027-64ce4b8bc9b7",
   "metadata": {},
   "outputs": [],
   "source": [
    "a+=10"
   ]
  },
  {
   "cell_type": "code",
   "execution_count": 191,
   "id": "49297a92-a1d4-4d82-8bac-42bd6539e64d",
   "metadata": {},
   "outputs": [
    {
     "data": {
      "text/plain": [
       "20"
      ]
     },
     "execution_count": 191,
     "metadata": {},
     "output_type": "execute_result"
    }
   ],
   "source": [
    "a"
   ]
  },
  {
   "cell_type": "code",
   "execution_count": 195,
   "id": "92939846-7faa-4f64-88f9-853845e27dec",
   "metadata": {},
   "outputs": [],
   "source": [
    "a=2"
   ]
  },
  {
   "cell_type": "code",
   "execution_count": 196,
   "id": "66c4a3e8-eb3a-4f20-9e49-77e5aca2ce65",
   "metadata": {},
   "outputs": [],
   "source": [
    "a&=5"
   ]
  },
  {
   "cell_type": "code",
   "execution_count": 197,
   "id": "32939802-7234-4b01-8924-0e5ae724cac6",
   "metadata": {},
   "outputs": [
    {
     "data": {
      "text/plain": [
       "0"
      ]
     },
     "execution_count": 197,
     "metadata": {},
     "output_type": "execute_result"
    }
   ],
   "source": [
    "a"
   ]
  },
  {
   "cell_type": "code",
   "execution_count": 198,
   "id": "a86905d9-3965-46c7-b1e7-070ed3e9c64f",
   "metadata": {},
   "outputs": [],
   "source": [
    "a=2"
   ]
  },
  {
   "cell_type": "code",
   "execution_count": 199,
   "id": "22647c50-42b6-43f0-9cda-166fb3b65c13",
   "metadata": {},
   "outputs": [
    {
     "data": {
      "text/plain": [
       "7"
      ]
     },
     "execution_count": 199,
     "metadata": {},
     "output_type": "execute_result"
    }
   ],
   "source": [
    "a^5"
   ]
  },
  {
   "cell_type": "code",
   "execution_count": 200,
   "id": "527f1367-af85-484b-bf96-563d1c432379",
   "metadata": {},
   "outputs": [
    {
     "ename": "SyntaxError",
     "evalue": "invalid syntax (2585532623.py, line 1)",
     "output_type": "error",
     "traceback": [
      "\u001b[0;36m  Cell \u001b[0;32mIn [200], line 1\u001b[0;36m\u001b[0m\n\u001b[0;31m    a!5\u001b[0m\n\u001b[0m     ^\u001b[0m\n\u001b[0;31mSyntaxError\u001b[0m\u001b[0;31m:\u001b[0m invalid syntax\n"
     ]
    }
   ],
   "source": [
    "a!5"
   ]
  },
  {
   "cell_type": "code",
   "execution_count": 201,
   "id": "80da4866-8d06-4972-a70e-355f88581da5",
   "metadata": {},
   "outputs": [],
   "source": [
    "a=2"
   ]
  },
  {
   "cell_type": "code",
   "execution_count": 203,
   "id": "a8a9b26a-40f9-445c-9fb8-a54e748a478f",
   "metadata": {},
   "outputs": [
    {
     "data": {
      "text/plain": [
       "1"
      ]
     },
     "execution_count": 203,
     "metadata": {},
     "output_type": "execute_result"
    }
   ],
   "source": [
    "a>>1"
   ]
  },
  {
   "cell_type": "code",
   "execution_count": 204,
   "id": "e32adbd3-fbbb-4689-a180-89856463ebfd",
   "metadata": {},
   "outputs": [
    {
     "data": {
      "text/plain": [
       "4"
      ]
     },
     "execution_count": 204,
     "metadata": {},
     "output_type": "execute_result"
    }
   ],
   "source": [
    "a<<1"
   ]
  },
  {
   "cell_type": "code",
   "execution_count": 205,
   "id": "86d050ea-e041-4d06-a822-2df487a0e878",
   "metadata": {},
   "outputs": [],
   "source": [
    "a=4\n"
   ]
  },
  {
   "cell_type": "code",
   "execution_count": 206,
   "id": "4cdbe87a-f1a0-49db-ba3b-867bd9299827",
   "metadata": {},
   "outputs": [
    {
     "data": {
      "text/plain": [
       "8"
      ]
     },
     "execution_count": 206,
     "metadata": {},
     "output_type": "execute_result"
    }
   ],
   "source": [
    "a<<1"
   ]
  },
  {
   "cell_type": "code",
   "execution_count": 207,
   "id": "9eb889c0-81f1-448a-871f-5e328114daf2",
   "metadata": {},
   "outputs": [],
   "source": [
    "a=2"
   ]
  },
  {
   "cell_type": "code",
   "execution_count": 208,
   "id": "c2b38340-9824-4248-a9a5-a681dd0bb7f0",
   "metadata": {},
   "outputs": [
    {
     "data": {
      "text/plain": [
       "8"
      ]
     },
     "execution_count": 208,
     "metadata": {},
     "output_type": "execute_result"
    }
   ],
   "source": [
    "a<<2"
   ]
  },
  {
   "cell_type": "markdown",
   "id": "86a12ee1-dbb4-493f-92f6-22f3e2bdfc5c",
   "metadata": {},
   "source": [
    "## post increment --> invalid syntax"
   ]
  },
  {
   "cell_type": "code",
   "execution_count": 209,
   "id": "77d0f502-f265-4128-9d0d-c3431f39ecd2",
   "metadata": {},
   "outputs": [],
   "source": [
    "a=4"
   ]
  },
  {
   "cell_type": "code",
   "execution_count": 210,
   "id": "98c85c62-e0f7-47e9-9993-6116ddb20ad2",
   "metadata": {},
   "outputs": [
    {
     "ename": "SyntaxError",
     "evalue": "invalid syntax (1277751513.py, line 1)",
     "output_type": "error",
     "traceback": [
      "\u001b[0;36m  Cell \u001b[0;32mIn [210], line 1\u001b[0;36m\u001b[0m\n\u001b[0;31m    a++\u001b[0m\n\u001b[0m       ^\u001b[0m\n\u001b[0;31mSyntaxError\u001b[0m\u001b[0;31m:\u001b[0m invalid syntax\n"
     ]
    }
   ],
   "source": [
    "a++"
   ]
  },
  {
   "cell_type": "code",
   "execution_count": 212,
   "id": "23c600f9-bf96-4ae9-8d70-0a7eb6c04a3e",
   "metadata": {},
   "outputs": [
    {
     "data": {
      "text/plain": [
       "4"
      ]
     },
     "execution_count": 212,
     "metadata": {},
     "output_type": "execute_result"
    }
   ],
   "source": [
    "++a ## treated as +(+a)"
   ]
  },
  {
   "cell_type": "code",
   "execution_count": 213,
   "id": "c95e4e57-aa3c-4b1c-bfe3-e7c1f02d8deb",
   "metadata": {},
   "outputs": [
    {
     "ename": "SyntaxError",
     "evalue": "invalid syntax (1562500846.py, line 1)",
     "output_type": "error",
     "traceback": [
      "\u001b[0;36m  Cell \u001b[0;32mIn [213], line 1\u001b[0;36m\u001b[0m\n\u001b[0;31m    a--\u001b[0m\n\u001b[0m       ^\u001b[0m\n\u001b[0;31mSyntaxError\u001b[0m\u001b[0;31m:\u001b[0m invalid syntax\n"
     ]
    }
   ],
   "source": [
    "a--"
   ]
  },
  {
   "cell_type": "code",
   "execution_count": 214,
   "id": "2e3cd424-a564-4db5-af5c-a6f1869b35c0",
   "metadata": {},
   "outputs": [
    {
     "data": {
      "text/plain": [
       "4"
      ]
     },
     "execution_count": 214,
     "metadata": {},
     "output_type": "execute_result"
    }
   ],
   "source": [
    "--a ## treated as -(-a)"
   ]
  },
  {
   "cell_type": "code",
   "execution_count": 216,
   "id": "dcf44e64-cddd-47af-b2cf-cf0168093a3e",
   "metadata": {},
   "outputs": [
    {
     "data": {
      "text/plain": [
       "-4"
      ]
     },
     "execution_count": 216,
     "metadata": {},
     "output_type": "execute_result"
    }
   ],
   "source": [
    "---a ## treated as -(-(-a))"
   ]
  },
  {
   "cell_type": "markdown",
   "id": "3aa42c1d-30dd-4360-8680-c3f8b690e3b5",
   "metadata": {},
   "source": [
    "## identity operators"
   ]
  },
  {
   "cell_type": "code",
   "execution_count": 217,
   "id": "07b21915-2fb7-46ca-9d6f-2ad456491878",
   "metadata": {},
   "outputs": [],
   "source": [
    "a,b=2,3"
   ]
  },
  {
   "cell_type": "code",
   "execution_count": 218,
   "id": "adbc6073-d593-405e-9f60-c4e4697bc94c",
   "metadata": {},
   "outputs": [
    {
     "data": {
      "text/plain": [
       "False"
      ]
     },
     "execution_count": 218,
     "metadata": {},
     "output_type": "execute_result"
    }
   ],
   "source": [
    "a is b"
   ]
  },
  {
   "cell_type": "code",
   "execution_count": 219,
   "id": "0a61a42d-7331-4155-b0b3-cffb6fdc12f2",
   "metadata": {},
   "outputs": [],
   "source": [
    "a=b=2"
   ]
  },
  {
   "cell_type": "code",
   "execution_count": 220,
   "id": "55765e05-e4bb-4912-a1ad-26af4f30c321",
   "metadata": {},
   "outputs": [
    {
     "data": {
      "text/plain": [
       "True"
      ]
     },
     "execution_count": 220,
     "metadata": {},
     "output_type": "execute_result"
    }
   ],
   "source": [
    "a is b"
   ]
  },
  {
   "cell_type": "code",
   "execution_count": 221,
   "id": "5df2f29b-23eb-4688-8454-1138325ffaa9",
   "metadata": {},
   "outputs": [],
   "source": [
    "c=type(b)"
   ]
  },
  {
   "cell_type": "code",
   "execution_count": 222,
   "id": "23af26b9-1563-48d9-b2f1-06ac04fc38c9",
   "metadata": {},
   "outputs": [
    {
     "data": {
      "text/plain": [
       "int"
      ]
     },
     "execution_count": 222,
     "metadata": {},
     "output_type": "execute_result"
    }
   ],
   "source": [
    "c"
   ]
  },
  {
   "cell_type": "code",
   "execution_count": 223,
   "id": "1f72249d-6c00-4893-8684-1dfc11577113",
   "metadata": {},
   "outputs": [
    {
     "data": {
      "text/plain": [
       "True"
      ]
     },
     "execution_count": 223,
     "metadata": {},
     "output_type": "execute_result"
    }
   ],
   "source": [
    "c is int"
   ]
  },
  {
   "cell_type": "code",
   "execution_count": 226,
   "id": "2beda4c2-7ae4-4516-8822-7ce531abb641",
   "metadata": {},
   "outputs": [],
   "source": [
    "c=type(a) is float"
   ]
  },
  {
   "cell_type": "code",
   "execution_count": 227,
   "id": "7ee15ee5-c5be-439c-a732-1fd87c92895f",
   "metadata": {},
   "outputs": [
    {
     "data": {
      "text/plain": [
       "False"
      ]
     },
     "execution_count": 227,
     "metadata": {},
     "output_type": "execute_result"
    }
   ],
   "source": [
    "c"
   ]
  },
  {
   "cell_type": "markdown",
   "id": "1e662531-effe-45fb-b201-fa3a7f9e9bb0",
   "metadata": {},
   "source": [
    "## membership operator"
   ]
  },
  {
   "cell_type": "code",
   "execution_count": 228,
   "id": "84486c3b-ce99-48de-b49b-1ee8e27d3b4e",
   "metadata": {},
   "outputs": [],
   "source": [
    "a=[1,2,3,4]"
   ]
  },
  {
   "cell_type": "code",
   "execution_count": 229,
   "id": "2c728166-bd6a-49bc-aa7b-f23b6b990284",
   "metadata": {},
   "outputs": [
    {
     "data": {
      "text/plain": [
       "list"
      ]
     },
     "execution_count": 229,
     "metadata": {},
     "output_type": "execute_result"
    }
   ],
   "source": [
    "type(a)"
   ]
  },
  {
   "cell_type": "code",
   "execution_count": 230,
   "id": "d53f9f6d-1446-4756-935f-1278b274b9b2",
   "metadata": {},
   "outputs": [
    {
     "data": {
      "text/plain": [
       "True"
      ]
     },
     "execution_count": 230,
     "metadata": {},
     "output_type": "execute_result"
    }
   ],
   "source": [
    "3 in a"
   ]
  },
  {
   "cell_type": "code",
   "execution_count": 231,
   "id": "7157de97-0d91-463d-b8a0-8390d8b34eae",
   "metadata": {},
   "outputs": [
    {
     "data": {
      "text/plain": [
       "False"
      ]
     },
     "execution_count": 231,
     "metadata": {},
     "output_type": "execute_result"
    }
   ],
   "source": [
    "7 in a"
   ]
  },
  {
   "cell_type": "code",
   "execution_count": 232,
   "id": "d849549a-08e6-4cc9-9cb5-1cae648def2a",
   "metadata": {},
   "outputs": [
    {
     "data": {
      "text/plain": [
       "True"
      ]
     },
     "execution_count": 232,
     "metadata": {},
     "output_type": "execute_result"
    }
   ],
   "source": [
    "7 not in a"
   ]
  },
  {
   "cell_type": "code",
   "execution_count": 233,
   "id": "70f46294-2ad4-45b0-b9e6-bf02963c4891",
   "metadata": {},
   "outputs": [],
   "source": [
    "a=\"qwertyuiop\""
   ]
  },
  {
   "cell_type": "code",
   "execution_count": 235,
   "id": "a74be32c-61bb-41c7-88d5-dd8cb4df476e",
   "metadata": {},
   "outputs": [
    {
     "data": {
      "text/plain": [
       "True"
      ]
     },
     "execution_count": 235,
     "metadata": {},
     "output_type": "execute_result"
    }
   ],
   "source": [
    "\"qwe\" in a"
   ]
  },
  {
   "cell_type": "code",
   "execution_count": 236,
   "id": "22ec419b-6478-4e40-8483-bf298cc560c8",
   "metadata": {},
   "outputs": [
    {
     "data": {
      "text/plain": [
       "False"
      ]
     },
     "execution_count": 236,
     "metadata": {},
     "output_type": "execute_result"
    }
   ],
   "source": [
    "\"wery\" in a"
   ]
  },
  {
   "cell_type": "code",
   "execution_count": 237,
   "id": "1414bf6b-6d2a-45e5-8bbe-d28babcbdaa2",
   "metadata": {},
   "outputs": [
    {
     "name": "stdout",
     "output_type": "stream",
     "text": [
      "/bin/bash: line 1: True: command not found\n"
     ]
    }
   ],
   "source": [
    "!True"
   ]
  },
  {
   "cell_type": "code",
   "execution_count": 238,
   "id": "43de8ee1-11df-43f3-8b4f-f69d42d4e184",
   "metadata": {},
   "outputs": [
    {
     "name": "stdout",
     "output_type": "stream",
     "text": [
      "/bin/bash: line 1: a: command not found\n"
     ]
    }
   ],
   "source": [
    "!a"
   ]
  },
  {
   "cell_type": "code",
   "execution_count": 239,
   "id": "ded610b2-c8e4-4e2f-890c-3ddab19e053f",
   "metadata": {},
   "outputs": [],
   "source": [
    "a=10"
   ]
  },
  {
   "cell_type": "code",
   "execution_count": 241,
   "id": "f15d5cea-646a-4734-babf-2f85239dfb44",
   "metadata": {},
   "outputs": [
    {
     "data": {
      "text/plain": [
       "True"
      ]
     },
     "execution_count": 241,
     "metadata": {},
     "output_type": "execute_result"
    }
   ],
   "source": [
    "a is a"
   ]
  },
  {
   "cell_type": "code",
   "execution_count": 242,
   "id": "29e6cd8c-6511-41d4-a60f-17a27a5aa7c4",
   "metadata": {},
   "outputs": [
    {
     "name": "stdout",
     "output_type": "stream",
     "text": [
      "/bin/bash: line 1: True: command not found\n"
     ]
    }
   ],
   "source": [
    "!True"
   ]
  },
  {
   "cell_type": "code",
   "execution_count": 243,
   "id": "97979ab3-197c-49c0-8ef5-a37a5d3e2710",
   "metadata": {},
   "outputs": [
    {
     "data": {
      "text/plain": [
       "139959909335568"
      ]
     },
     "execution_count": 243,
     "metadata": {},
     "output_type": "execute_result"
    }
   ],
   "source": [
    "id(a)"
   ]
  },
  {
   "cell_type": "code",
   "execution_count": null,
   "id": "a4f2126d-d4e0-4a59-a068-008e2765d3ae",
   "metadata": {},
   "outputs": [],
   "source": []
  }
 ],
 "metadata": {
  "kernelspec": {
   "display_name": "Python 3 (ipykernel)",
   "language": "python",
   "name": "python3"
  },
  "language_info": {
   "codemirror_mode": {
    "name": "ipython",
    "version": 3
   },
   "file_extension": ".py",
   "mimetype": "text/x-python",
   "name": "python",
   "nbconvert_exporter": "python",
   "pygments_lexer": "ipython3",
   "version": "3.10.6"
  }
 },
 "nbformat": 4,
 "nbformat_minor": 5
}
