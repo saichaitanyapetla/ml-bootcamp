{
 "cells": [
  {
   "cell_type": "code",
   "execution_count": 1,
   "id": "84e68037-4293-438a-b991-d6aee82e65d9",
   "metadata": {},
   "outputs": [],
   "source": [
    "# wap creating class circle by initializng r through constructor and find area and circumference defining methods"
   ]
  },
  {
   "cell_type": "code",
   "execution_count": 6,
   "id": "e878f3f5-4792-4175-bf31-69494208ef14",
   "metadata": {},
   "outputs": [],
   "source": [
    "class circle:\n",
    "    def __init__(self,r):\n",
    "        self.radius=r\n",
    "    def area(self,pi=3.14):\n",
    "        return pi*self.radius**2\n",
    "    def circumference(self,pi=3.14):\n",
    "        return 2*pi*self.radius\n",
    "        "
   ]
  },
  {
   "cell_type": "code",
   "execution_count": 7,
   "id": "d2a2a9b3-f975-45e2-9cdf-54a837c51aeb",
   "metadata": {},
   "outputs": [
    {
     "data": {
      "text/plain": [
       "78.5"
      ]
     },
     "execution_count": 7,
     "metadata": {},
     "output_type": "execute_result"
    }
   ],
   "source": [
    "c=circle(5)\n",
    "c.area()"
   ]
  },
  {
   "cell_type": "code",
   "execution_count": 8,
   "id": "c50690ab-3785-43b0-8e5a-2be037a5413a",
   "metadata": {},
   "outputs": [
    {
     "data": {
      "text/plain": [
       "31.400000000000002"
      ]
     },
     "execution_count": 8,
     "metadata": {},
     "output_type": "execute_result"
    }
   ],
   "source": [
    "c.circumference()"
   ]
  },
  {
   "cell_type": "code",
   "execution_count": 9,
   "id": "428314d6-7f1d-42df-9384-89c7e60f4e26",
   "metadata": {},
   "outputs": [],
   "source": [
    "## class variable,instance variable,local variable"
   ]
  },
  {
   "cell_type": "code",
   "execution_count": 10,
   "id": "83266c10-9a62-4bef-8b70-821dc26a09b5",
   "metadata": {},
   "outputs": [],
   "source": [
    "class student:\n",
    "    stream='cse' ## class variable\n",
    "    def __init__(self,a,b): ## a,b --> local variables\n",
    "        self.name=a         ## name,rollnum --> instance variables\n",
    "        self.rollnum=b\n",
    "  "
   ]
  },
  {
   "cell_type": "code",
   "execution_count": 12,
   "id": "3e944297-703c-4318-ba9b-7097a3dfb083",
   "metadata": {},
   "outputs": [
    {
     "name": "stdout",
     "output_type": "stream",
     "text": [
      "chay 1 cse cse\n"
     ]
    }
   ],
   "source": [
    "s=student('chay',1)\n",
    "print(s.name,s.rollnum,s.stream,student.stream)"
   ]
  },
  {
   "cell_type": "code",
   "execution_count": 18,
   "id": "dc50364d-8fb6-4e17-9425-0d41472cb345",
   "metadata": {},
   "outputs": [],
   "source": [
    "class circle:\n",
    "    pi=3.14\n",
    "    def __init__(self,r):\n",
    "        self.radius=r\n",
    "    def area(self):\n",
    "        return self.pi*self.radius**2\n",
    "    def circumference(self):\n",
    "        return 2*self.pi*self.radius\n",
    "        "
   ]
  },
  {
   "cell_type": "code",
   "execution_count": 19,
   "id": "e2f00816-5392-4e34-966c-e51ab0ba6c58",
   "metadata": {},
   "outputs": [
    {
     "data": {
      "text/plain": [
       "78.5"
      ]
     },
     "execution_count": 19,
     "metadata": {},
     "output_type": "execute_result"
    }
   ],
   "source": [
    "c=circle(5)\n",
    "c.area()"
   ]
  },
  {
   "cell_type": "code",
   "execution_count": 35,
   "id": "4b789223-169e-42f2-a4d3-35598bc51533",
   "metadata": {},
   "outputs": [
    {
     "name": "stdin",
     "output_type": "stream",
     "text": [
      "eneter num 100\n"
     ]
    }
   ],
   "source": [
    "class emp:\n",
    "    sal_increment=int(input('eneter num'))\n",
    "    def __init__(self,a,b):\n",
    "        self.name=a\n",
    "        self.salary=b\n",
    "    def salary_incr(self):\n",
    "        total_salary=self.salary*(1+emp.sal_increment/100)\n",
    "        print(total_salary)"
   ]
  },
  {
   "cell_type": "code",
   "execution_count": 36,
   "id": "17a444f5-3b37-4343-b980-5cdb31b922fc",
   "metadata": {},
   "outputs": [
    {
     "name": "stdout",
     "output_type": "stream",
     "text": [
      "2000.0\n"
     ]
    }
   ],
   "source": [
    "e=emp('chay',1000)\n",
    "e.salary_incr()\n"
   ]
  },
  {
   "cell_type": "code",
   "execution_count": 37,
   "id": "6d42d3bd-bf5d-4b06-9755-ecee82cad023",
   "metadata": {},
   "outputs": [],
   "source": [
    "## instance,class methods"
   ]
  },
  {
   "cell_type": "code",
   "execution_count": 44,
   "id": "820a4a71-15a3-42d9-8b2e-cd9b18d0e720",
   "metadata": {},
   "outputs": [],
   "source": [
    "class emp:\n",
    "    sal_increment=0\n",
    "    @classmethod\n",
    "    def cls_method(cls):\n",
    "        cls.sal_increment=int(input('eneter num'))\n",
    "    def __init__(self,a,b):\n",
    "        self.name=a\n",
    "        self.salary=b\n",
    "    def salary_incr(self):\n",
    "        total_salary=self.salary*(1+emp.sal_increment/100)\n",
    "        print(total_salary)"
   ]
  },
  {
   "cell_type": "code",
   "execution_count": 45,
   "id": "a4f87a7b-fcab-4cf5-a849-52dc1b187e07",
   "metadata": {},
   "outputs": [
    {
     "name": "stdin",
     "output_type": "stream",
     "text": [
      "eneter num 10\n"
     ]
    },
    {
     "name": "stdout",
     "output_type": "stream",
     "text": [
      "1100.0\n"
     ]
    }
   ],
   "source": [
    "e=emp('chay',1000)\n",
    "e.cls_method()\n",
    "e.salary_incr()\n"
   ]
  },
  {
   "cell_type": "code",
   "execution_count": 46,
   "id": "61964067-077d-425f-bea2-911ec9542dd5",
   "metadata": {},
   "outputs": [],
   "source": [
    "## static method"
   ]
  },
  {
   "cell_type": "code",
   "execution_count": 47,
   "id": "8e748d94-060d-44c3-916a-986cb261ed3a",
   "metadata": {},
   "outputs": [],
   "source": [
    "class math:\n",
    "    @staticmethod\n",
    "    def add(a,b):\n",
    "        return a+b\n",
    "    @staticmethod\n",
    "    def mul(a,b):\n",
    "        return a*b"
   ]
  },
  {
   "cell_type": "code",
   "execution_count": 50,
   "id": "7ad5faa5-470d-4fd2-bbdf-7a21cc5a3cd5",
   "metadata": {},
   "outputs": [
    {
     "data": {
      "text/plain": [
       "7"
      ]
     },
     "execution_count": 50,
     "metadata": {},
     "output_type": "execute_result"
    }
   ],
   "source": [
    "math.add(3,4) ## no need to create object for static methods"
   ]
  },
  {
   "cell_type": "code",
   "execution_count": 49,
   "id": "c5b12ff3-296e-4fa8-b89d-420196b8cec2",
   "metadata": {},
   "outputs": [
    {
     "data": {
      "text/plain": [
       "24"
      ]
     },
     "execution_count": 49,
     "metadata": {},
     "output_type": "execute_result"
    }
   ],
   "source": [
    "math.mul(4,6)"
   ]
  },
  {
   "cell_type": "code",
   "execution_count": 1,
   "id": "f6ceee72-949a-4b8c-ac48-824b3f38ae73",
   "metadata": {},
   "outputs": [],
   "source": [
    "class a:\n",
    "    def b():\n",
    "        print('considered as static method if we call with class name')"
   ]
  },
  {
   "cell_type": "code",
   "execution_count": 2,
   "id": "b62c1831-4d15-449a-96e4-dc90a6d7af8d",
   "metadata": {},
   "outputs": [
    {
     "name": "stdout",
     "output_type": "stream",
     "text": [
      "considered as static method if we call with class name\n"
     ]
    }
   ],
   "source": [
    "a.b()"
   ]
  },
  {
   "cell_type": "code",
   "execution_count": 5,
   "id": "ef1183a6-1b67-4fd9-bb90-df0e87dc4acd",
   "metadata": {},
   "outputs": [],
   "source": [
    "class a:\n",
    "    def b(self):\n",
    "        print('considered as static method if we call with class name and arguements match')"
   ]
  },
  {
   "cell_type": "code",
   "execution_count": 6,
   "id": "ffbe4bed-571e-47a4-a47f-83d094da43ee",
   "metadata": {},
   "outputs": [
    {
     "name": "stdout",
     "output_type": "stream",
     "text": [
      "considered as static method if we call with class name and arguements match\n"
     ]
    }
   ],
   "source": [
    "a.b(5)"
   ]
  },
  {
   "cell_type": "code",
   "execution_count": null,
   "id": "d0b88e9f-8ae6-46aa-8639-31395fbfa285",
   "metadata": {},
   "outputs": [],
   "source": []
  }
 ],
 "metadata": {
  "kernelspec": {
   "display_name": "Python 3 (ipykernel)",
   "language": "python",
   "name": "python3"
  },
  "language_info": {
   "codemirror_mode": {
    "name": "ipython",
    "version": 3
   },
   "file_extension": ".py",
   "mimetype": "text/x-python",
   "name": "python",
   "nbconvert_exporter": "python",
   "pygments_lexer": "ipython3",
   "version": "3.10.6"
  }
 },
 "nbformat": 4,
 "nbformat_minor": 5
}
